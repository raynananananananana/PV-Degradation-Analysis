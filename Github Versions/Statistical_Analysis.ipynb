{
 "cells": [
  {
   "cell_type": "code",
   "execution_count": 1,
   "id": "fde46b18",
   "metadata": {},
   "outputs": [],
   "source": [
    "import pandas as pd\n",
    "import numpy as np\n",
    "import openai\n",
    "import json\n",
    "from tqdm import tqdm\n",
    "import ast\n",
    "import plotly.express as px\n",
    "import matplotlib.pyplot as plt\n",
    "import matplotlib.pyplot as plt\n",
    "import seaborn as sns\n",
    "# import math\n",
    "# import PyPDF2\n",
    "import os\n",
    "import re\n",
    "import google.generativeai as genai\n",
    "import signal\n",
    "import shutil"
   ]
  },
  {
   "cell_type": "code",
   "execution_count": 2,
   "id": "8c0b41f2",
   "metadata": {},
   "outputs": [],
   "source": [
    "genai.configure(api_key=\"your gemini api key\")  # Replace with your Gemini API key"
   ]
  },
  {
   "cell_type": "code",
   "execution_count": 3,
   "id": "9144f86a",
   "metadata": {},
   "outputs": [],
   "source": [
    "# configure which version of Gemini to use\n",
    "model = genai.GenerativeModel('gemini-2.5-flash')"
   ]
  },
  {
   "cell_type": "code",
   "execution_count": 4,
   "id": "93f727e2",
   "metadata": {},
   "outputs": [],
   "source": [
    "question = \"\"\"\n",
    "You are given a single JSON dictionary that represents metadata extracted from a study about potential-induced degradation (PID) in photovoltaic modules.\n",
    "\n",
    "Your task is to extract and return a new JSON dictionary with the following keys:\n",
    "\n",
    "- \"filename\": [The filename will be added separately — you do not need to guess or fill it in.]\n",
    "- \"year\": [Use the value from the \"year\" field in the input. If missing, return \"not reported\".]\n",
    "- \"module technology\": [Use the value from the \"module technology\" field in the input. If missing, return \"not reported\".]\n",
    "- \"voltage bias\": [\"positive (+)\", \"negative (-)\", \"both (+ and -)\", or \"none\", based on signs or keywords in the input. Choose “positive (+)” if the value starts with \"+\" or includes the word \"positive\". Same logic for negative. Choose \"both (+ and -)\" if both appear. Choose \"none\" if missing.]\n",
    "- \"temperature\": [\"room (25 C)\", \"elevated (>25C)\", \"lowered (<25C)\", or \"not reported\", based on temperature values or keywords like \"ambient\".]\n",
    "- \"doping\": [Use the value from the \"doping\" field in the input. If missing, return \"not reported\".]\n",
    "- \"PID type studied\": [Use the value from the \"PID type studied\" field in the input. If missing, return \"not reported\". Group entries of \"Na-penetration-type PID\" as \"PID-s\". Group \"not specified\" as \"not reported\".]\n",
    "- \"simplified mechanism chain\": [Flatten the \"degradation mechanism chain\" into a single string joined by \" -> \". Steps that occur simultaneously should be listed together in square brackets, separated by commas. For example, if the chain reports negative voltage bias and heat as stress factors that lead to Na+ ion migration, format this as “[negative voltage bias, heat] -> [Na+ ion migration from glass]”, and then continue with the rest of the reported chain. Use this same process for electrical effects that happen simultaneously. For example, “[Decreased fill factor, Decreased open-circuit voltage]”. Keep details about details within the crystals, chemical species that form, and the electrical effects occurring in the module.]\n",
    "\"chain match\": [response should be \"shunting\", “corrosion”, AND/OR “polarization”. Choose the response based on which of the following patterns the simplified mechanism chain reflects. You may enter more than one option. ALL chains begin with [voltage bias] -> [ion migration] and END with [reduced power output]. Choose the match based on which of the following steps in the middle best reflect the simplified mechanism chain. The patterns are as follows: \n",
    "Shunting: [ion accumulation at interface] -> [conductive pathway (shunt) formation] -> [increased leakage current]\n",
    "Corrosion: [increased leakage current] -> [corrosion of cell, frame, coating, or other components]\n",
    "Polarization: [charge accumulation in dielectric layers] -> [decreased open-circuit voltage (Voc), reduced short-circuit current density (Jsc)]\n",
    "Note that corrosion frequently comes after shunting due to the connecting step of “increased leakage current”. \n",
    "Remember that the chains do not have to exactly match - you’re looking for patterns, not replicas. If the chain truly does not match any of these patterns, return “no match”.]\n",
    "\n",
    "Requirements:\n",
    "- Only return a **single valid JSON dictionary**.\n",
    "- Do **not** include explanations, markdown, Python code, or any formatting — just the JSON dictionary itself.\n",
    "\n",
    "\"\"\"\n",
    "\n"
   ]
  },
  {
   "cell_type": "code",
   "execution_count": 5,
   "id": "07592a5c",
   "metadata": {},
   "outputs": [],
   "source": [
    "question2 = \"\"\"\n",
    "The JSON files provided contain data extracted from studies about potential-induced degradation (PID) in photovoltaic modules. This information is organized in dictionaries. \n",
    "The entries for \"degradation mechanism chain\" show how the degradation occurs, listed as a series of steps specific to each study. This tends to be in the order of stress factors (such as voltage bias, heat, or humidity) -> chemical processes (such as ion migration) -> electrical effects (such as decreased shunt resistance, increased leakage current, etc.) -> decreased power output.\n",
    "\n",
    "Summarize the overall trends that you see across the degradation mechanism chains provided. Include details about which steps appear the most in the general categories of degradation steps (from stress factors to decreased power output) and anything you find unusual. \n",
    "Additionally, note when the steps may be parts of feedback loops. This information is needed to map out how the steps align with one another, whether in parallel or in sequence with each other. \n",
    "Provide a list of major pathways. \n",
    "\"\"\""
   ]
  },
  {
   "cell_type": "markdown",
   "id": "4cbada3b",
   "metadata": {},
   "source": [
    "load JSON files (output dictionaries from Read_PDFs) so that Gemini can read and summarize"
   ]
  },
  {
   "cell_type": "code",
   "execution_count": null,
   "id": "61aec6db",
   "metadata": {},
   "outputs": [],
   "source": [
    "folder_path = \"json_allPID\" # replace with your folder containing JSON files\n",
    "json_files = [f for f in os.listdir(folder_path) if f.endswith(\".json\")]\n",
    "for file_name in json_files:\n",
    "    with open(os.path.join(folder_path, file_name), \"r\") as f:\n",
    "        content = json.load(f)"
   ]
  },
  {
   "cell_type": "code",
   "execution_count": null,
   "id": "42c569f4",
   "metadata": {},
   "outputs": [
    {
     "name": "stdout",
     "output_type": "stream",
     "text": [
      "\n",
      "--- Summary for gemini_PID_2018_2-s20-85042545414.json ---\n",
      "\n",
      "It seems you've provided \"question2\" as a prompt. To help you effectively, I need a little more information!\n",
      "\n",
      "Could you please clarify:\n",
      "\n",
      "1.  **What is the full text of \"question2\"?** (e.g., \"What are the three main types of rocks?\")\n",
      "2.  **What do you want me to do with \"question2\"?**\n",
      "    *   Do you want me to **answer** it?\n",
      "    *   Do you want me to **generate** a question 2 about a specific topic?\n",
      "    *   Are you asking about the **meaning** of \"question2\" in a particular context?\n",
      "    *   Is it a placeholder for something else?\n",
      "3.  **What is the context of \"question2\"?** (e.g., Is it from a test, homework, a discussion, a specific subject like history or programming?)\n",
      "\n",
      "Once you provide more details, I can assist you!\n",
      "\n",
      "============================================================\n",
      "\n",
      "\n",
      "--- Summary for gemini_PID-2023-2-s20-85182800874.json ---\n",
      "\n",
      "Okay, you've stated \"question2\".\n",
      "\n",
      "To help you, could you please clarify what you mean by that?\n",
      "\n",
      "Are you looking for me to:\n",
      "\n",
      "1.  **Provide a second question** for you to answer or consider?\n",
      "2.  **Answer a specific question** that you're labeling \"question2\"? (If so, please provide the actual question!)\n",
      "3.  **Follow up on a previous \"question1\"** that we discussed?\n",
      "4.  **Something else entirely**?\n",
      "\n",
      "Please provide more context or the actual question!\n",
      "\n",
      "============================================================\n",
      "\n",
      "\n",
      "--- Summary for gemini_PID_2021_2-s20-85116476389.json ---\n",
      "\n",
      "Please provide the text of \"question 2\". I don't have it.\n",
      "\n",
      "Once you give me the question, I'll be happy to help you with it!\n",
      "\n",
      "============================================================\n",
      "\n"
     ]
    },
    {
     "ename": "KeyboardInterrupt",
     "evalue": "",
     "output_type": "error",
     "traceback": [
      "\u001b[31m---------------------------------------------------------------------------\u001b[39m",
      "\u001b[31mKeyboardInterrupt\u001b[39m                         Traceback (most recent call last)",
      "\u001b[36mCell\u001b[39m\u001b[36m \u001b[39m\u001b[32mIn[13]\u001b[39m\u001b[32m, line 30\u001b[39m\n\u001b[32m     26\u001b[39m  prompt = \u001b[33mf\u001b[39m\u001b[33m\"\"\"\u001b[39m\n\u001b[32m     27\u001b[39m \u001b[33mquestion2\u001b[39m\n\u001b[32m     28\u001b[39m \u001b[33m \u001b[39m\u001b[33m\"\"\"\u001b[39m\n\u001b[32m     29\u001b[39m  \u001b[38;5;28;01mtry\u001b[39;00m:\n\u001b[32m---> \u001b[39m\u001b[32m30\u001b[39m      response = \u001b[43mmodel\u001b[49m\u001b[43m.\u001b[49m\u001b[43mgenerate_content\u001b[49m\u001b[43m(\u001b[49m\u001b[43mprompt\u001b[49m\u001b[43m)\u001b[49m\n\u001b[32m     31\u001b[39m      \u001b[38;5;28mprint\u001b[39m(\u001b[33mf\u001b[39m\u001b[33m\"\u001b[39m\u001b[38;5;130;01m\\n\u001b[39;00m\u001b[33m--- Summary for \u001b[39m\u001b[38;5;132;01m{\u001b[39;00mfilename\u001b[38;5;132;01m}\u001b[39;00m\u001b[33m ---\u001b[39m\u001b[38;5;130;01m\\n\u001b[39;00m\u001b[33m\"\u001b[39m)\n\u001b[32m     32\u001b[39m      \u001b[38;5;28mprint\u001b[39m(response.text)\n",
      "\u001b[36mFile \u001b[39m\u001b[32m~/Downloads/HackingMat/.venv/lib/python3.12/site-packages/google/generativeai/generative_models.py:331\u001b[39m, in \u001b[36mGenerativeModel.generate_content\u001b[39m\u001b[34m(self, contents, generation_config, safety_settings, stream, tools, tool_config, request_options)\u001b[39m\n\u001b[32m    329\u001b[39m         \u001b[38;5;28;01mreturn\u001b[39;00m generation_types.GenerateContentResponse.from_iterator(iterator)\n\u001b[32m    330\u001b[39m     \u001b[38;5;28;01melse\u001b[39;00m:\n\u001b[32m--> \u001b[39m\u001b[32m331\u001b[39m         response = \u001b[38;5;28;43mself\u001b[39;49m\u001b[43m.\u001b[49m\u001b[43m_client\u001b[49m\u001b[43m.\u001b[49m\u001b[43mgenerate_content\u001b[49m\u001b[43m(\u001b[49m\n\u001b[32m    332\u001b[39m \u001b[43m            \u001b[49m\u001b[43mrequest\u001b[49m\u001b[43m,\u001b[49m\n\u001b[32m    333\u001b[39m \u001b[43m            \u001b[49m\u001b[43m*\u001b[49m\u001b[43m*\u001b[49m\u001b[43mrequest_options\u001b[49m\u001b[43m,\u001b[49m\n\u001b[32m    334\u001b[39m \u001b[43m        \u001b[49m\u001b[43m)\u001b[49m\n\u001b[32m    335\u001b[39m         \u001b[38;5;28;01mreturn\u001b[39;00m generation_types.GenerateContentResponse.from_response(response)\n\u001b[32m    336\u001b[39m \u001b[38;5;28;01mexcept\u001b[39;00m google.api_core.exceptions.InvalidArgument \u001b[38;5;28;01mas\u001b[39;00m e:\n",
      "\u001b[36mFile \u001b[39m\u001b[32m~/Downloads/HackingMat/.venv/lib/python3.12/site-packages/google/ai/generativelanguage_v1beta/services/generative_service/client.py:835\u001b[39m, in \u001b[36mGenerativeServiceClient.generate_content\u001b[39m\u001b[34m(self, request, model, contents, retry, timeout, metadata)\u001b[39m\n\u001b[32m    832\u001b[39m \u001b[38;5;28mself\u001b[39m._validate_universe_domain()\n\u001b[32m    834\u001b[39m \u001b[38;5;66;03m# Send the request.\u001b[39;00m\n\u001b[32m--> \u001b[39m\u001b[32m835\u001b[39m response = \u001b[43mrpc\u001b[49m\u001b[43m(\u001b[49m\n\u001b[32m    836\u001b[39m \u001b[43m    \u001b[49m\u001b[43mrequest\u001b[49m\u001b[43m,\u001b[49m\n\u001b[32m    837\u001b[39m \u001b[43m    \u001b[49m\u001b[43mretry\u001b[49m\u001b[43m=\u001b[49m\u001b[43mretry\u001b[49m\u001b[43m,\u001b[49m\n\u001b[32m    838\u001b[39m \u001b[43m    \u001b[49m\u001b[43mtimeout\u001b[49m\u001b[43m=\u001b[49m\u001b[43mtimeout\u001b[49m\u001b[43m,\u001b[49m\n\u001b[32m    839\u001b[39m \u001b[43m    \u001b[49m\u001b[43mmetadata\u001b[49m\u001b[43m=\u001b[49m\u001b[43mmetadata\u001b[49m\u001b[43m,\u001b[49m\n\u001b[32m    840\u001b[39m \u001b[43m\u001b[49m\u001b[43m)\u001b[49m\n\u001b[32m    842\u001b[39m \u001b[38;5;66;03m# Done; return the response.\u001b[39;00m\n\u001b[32m    843\u001b[39m \u001b[38;5;28;01mreturn\u001b[39;00m response\n",
      "\u001b[36mFile \u001b[39m\u001b[32m~/Downloads/HackingMat/.venv/lib/python3.12/site-packages/google/api_core/gapic_v1/method.py:131\u001b[39m, in \u001b[36m_GapicCallable.__call__\u001b[39m\u001b[34m(self, timeout, retry, compression, *args, **kwargs)\u001b[39m\n\u001b[32m    128\u001b[39m \u001b[38;5;28;01mif\u001b[39;00m \u001b[38;5;28mself\u001b[39m._compression \u001b[38;5;129;01mis\u001b[39;00m \u001b[38;5;129;01mnot\u001b[39;00m \u001b[38;5;28;01mNone\u001b[39;00m:\n\u001b[32m    129\u001b[39m     kwargs[\u001b[33m\"\u001b[39m\u001b[33mcompression\u001b[39m\u001b[33m\"\u001b[39m] = compression\n\u001b[32m--> \u001b[39m\u001b[32m131\u001b[39m \u001b[38;5;28;01mreturn\u001b[39;00m \u001b[43mwrapped_func\u001b[49m\u001b[43m(\u001b[49m\u001b[43m*\u001b[49m\u001b[43margs\u001b[49m\u001b[43m,\u001b[49m\u001b[43m \u001b[49m\u001b[43m*\u001b[49m\u001b[43m*\u001b[49m\u001b[43mkwargs\u001b[49m\u001b[43m)\u001b[49m\n",
      "\u001b[36mFile \u001b[39m\u001b[32m~/Downloads/HackingMat/.venv/lib/python3.12/site-packages/google/api_core/retry/retry_unary.py:294\u001b[39m, in \u001b[36mRetry.__call__.<locals>.retry_wrapped_func\u001b[39m\u001b[34m(*args, **kwargs)\u001b[39m\n\u001b[32m    290\u001b[39m target = functools.partial(func, *args, **kwargs)\n\u001b[32m    291\u001b[39m sleep_generator = exponential_sleep_generator(\n\u001b[32m    292\u001b[39m     \u001b[38;5;28mself\u001b[39m._initial, \u001b[38;5;28mself\u001b[39m._maximum, multiplier=\u001b[38;5;28mself\u001b[39m._multiplier\n\u001b[32m    293\u001b[39m )\n\u001b[32m--> \u001b[39m\u001b[32m294\u001b[39m \u001b[38;5;28;01mreturn\u001b[39;00m \u001b[43mretry_target\u001b[49m\u001b[43m(\u001b[49m\n\u001b[32m    295\u001b[39m \u001b[43m    \u001b[49m\u001b[43mtarget\u001b[49m\u001b[43m,\u001b[49m\n\u001b[32m    296\u001b[39m \u001b[43m    \u001b[49m\u001b[38;5;28;43mself\u001b[39;49m\u001b[43m.\u001b[49m\u001b[43m_predicate\u001b[49m\u001b[43m,\u001b[49m\n\u001b[32m    297\u001b[39m \u001b[43m    \u001b[49m\u001b[43msleep_generator\u001b[49m\u001b[43m,\u001b[49m\n\u001b[32m    298\u001b[39m \u001b[43m    \u001b[49m\u001b[43mtimeout\u001b[49m\u001b[43m=\u001b[49m\u001b[38;5;28;43mself\u001b[39;49m\u001b[43m.\u001b[49m\u001b[43m_timeout\u001b[49m\u001b[43m,\u001b[49m\n\u001b[32m    299\u001b[39m \u001b[43m    \u001b[49m\u001b[43mon_error\u001b[49m\u001b[43m=\u001b[49m\u001b[43mon_error\u001b[49m\u001b[43m,\u001b[49m\n\u001b[32m    300\u001b[39m \u001b[43m\u001b[49m\u001b[43m)\u001b[49m\n",
      "\u001b[36mFile \u001b[39m\u001b[32m~/Downloads/HackingMat/.venv/lib/python3.12/site-packages/google/api_core/retry/retry_unary.py:147\u001b[39m, in \u001b[36mretry_target\u001b[39m\u001b[34m(target, predicate, sleep_generator, timeout, on_error, exception_factory, **kwargs)\u001b[39m\n\u001b[32m    145\u001b[39m \u001b[38;5;28;01mwhile\u001b[39;00m \u001b[38;5;28;01mTrue\u001b[39;00m:\n\u001b[32m    146\u001b[39m     \u001b[38;5;28;01mtry\u001b[39;00m:\n\u001b[32m--> \u001b[39m\u001b[32m147\u001b[39m         result = \u001b[43mtarget\u001b[49m\u001b[43m(\u001b[49m\u001b[43m)\u001b[49m\n\u001b[32m    148\u001b[39m         \u001b[38;5;28;01mif\u001b[39;00m inspect.isawaitable(result):\n\u001b[32m    149\u001b[39m             warnings.warn(_ASYNC_RETRY_WARNING)\n",
      "\u001b[36mFile \u001b[39m\u001b[32m~/Downloads/HackingMat/.venv/lib/python3.12/site-packages/google/api_core/timeout.py:130\u001b[39m, in \u001b[36mTimeToDeadlineTimeout.__call__.<locals>.func_with_timeout\u001b[39m\u001b[34m(*args, **kwargs)\u001b[39m\n\u001b[32m    126\u001b[39m         remaining_timeout = \u001b[38;5;28mself\u001b[39m._timeout\n\u001b[32m    128\u001b[39m     kwargs[\u001b[33m\"\u001b[39m\u001b[33mtimeout\u001b[39m\u001b[33m\"\u001b[39m] = remaining_timeout\n\u001b[32m--> \u001b[39m\u001b[32m130\u001b[39m \u001b[38;5;28;01mreturn\u001b[39;00m \u001b[43mfunc\u001b[49m\u001b[43m(\u001b[49m\u001b[43m*\u001b[49m\u001b[43margs\u001b[49m\u001b[43m,\u001b[49m\u001b[43m \u001b[49m\u001b[43m*\u001b[49m\u001b[43m*\u001b[49m\u001b[43mkwargs\u001b[49m\u001b[43m)\u001b[49m\n",
      "\u001b[36mFile \u001b[39m\u001b[32m~/Downloads/HackingMat/.venv/lib/python3.12/site-packages/google/api_core/grpc_helpers.py:76\u001b[39m, in \u001b[36m_wrap_unary_errors.<locals>.error_remapped_callable\u001b[39m\u001b[34m(*args, **kwargs)\u001b[39m\n\u001b[32m     73\u001b[39m \u001b[38;5;129m@functools\u001b[39m.wraps(callable_)\n\u001b[32m     74\u001b[39m \u001b[38;5;28;01mdef\u001b[39;00m\u001b[38;5;250m \u001b[39m\u001b[34merror_remapped_callable\u001b[39m(*args, **kwargs):\n\u001b[32m     75\u001b[39m     \u001b[38;5;28;01mtry\u001b[39;00m:\n\u001b[32m---> \u001b[39m\u001b[32m76\u001b[39m         \u001b[38;5;28;01mreturn\u001b[39;00m \u001b[43mcallable_\u001b[49m\u001b[43m(\u001b[49m\u001b[43m*\u001b[49m\u001b[43margs\u001b[49m\u001b[43m,\u001b[49m\u001b[43m \u001b[49m\u001b[43m*\u001b[49m\u001b[43m*\u001b[49m\u001b[43mkwargs\u001b[49m\u001b[43m)\u001b[49m\n\u001b[32m     77\u001b[39m     \u001b[38;5;28;01mexcept\u001b[39;00m grpc.RpcError \u001b[38;5;28;01mas\u001b[39;00m exc:\n\u001b[32m     78\u001b[39m         \u001b[38;5;28;01mraise\u001b[39;00m exceptions.from_grpc_error(exc) \u001b[38;5;28;01mfrom\u001b[39;00m\u001b[38;5;250m \u001b[39m\u001b[34;01mexc\u001b[39;00m\n",
      "\u001b[36mFile \u001b[39m\u001b[32m~/Downloads/HackingMat/.venv/lib/python3.12/site-packages/grpc/_interceptor.py:277\u001b[39m, in \u001b[36m_UnaryUnaryMultiCallable.__call__\u001b[39m\u001b[34m(self, request, timeout, metadata, credentials, wait_for_ready, compression)\u001b[39m\n\u001b[32m    268\u001b[39m \u001b[38;5;28;01mdef\u001b[39;00m\u001b[38;5;250m \u001b[39m\u001b[34m__call__\u001b[39m(\n\u001b[32m    269\u001b[39m     \u001b[38;5;28mself\u001b[39m,\n\u001b[32m    270\u001b[39m     request: Any,\n\u001b[32m   (...)\u001b[39m\u001b[32m    275\u001b[39m     compression: Optional[grpc.Compression] = \u001b[38;5;28;01mNone\u001b[39;00m,\n\u001b[32m    276\u001b[39m ) -> Any:\n\u001b[32m--> \u001b[39m\u001b[32m277\u001b[39m     response, ignored_call = \u001b[38;5;28;43mself\u001b[39;49m\u001b[43m.\u001b[49m\u001b[43m_with_call\u001b[49m\u001b[43m(\u001b[49m\n\u001b[32m    278\u001b[39m \u001b[43m        \u001b[49m\u001b[43mrequest\u001b[49m\u001b[43m,\u001b[49m\n\u001b[32m    279\u001b[39m \u001b[43m        \u001b[49m\u001b[43mtimeout\u001b[49m\u001b[43m=\u001b[49m\u001b[43mtimeout\u001b[49m\u001b[43m,\u001b[49m\n\u001b[32m    280\u001b[39m \u001b[43m        \u001b[49m\u001b[43mmetadata\u001b[49m\u001b[43m=\u001b[49m\u001b[43mmetadata\u001b[49m\u001b[43m,\u001b[49m\n\u001b[32m    281\u001b[39m \u001b[43m        \u001b[49m\u001b[43mcredentials\u001b[49m\u001b[43m=\u001b[49m\u001b[43mcredentials\u001b[49m\u001b[43m,\u001b[49m\n\u001b[32m    282\u001b[39m \u001b[43m        \u001b[49m\u001b[43mwait_for_ready\u001b[49m\u001b[43m=\u001b[49m\u001b[43mwait_for_ready\u001b[49m\u001b[43m,\u001b[49m\n\u001b[32m    283\u001b[39m \u001b[43m        \u001b[49m\u001b[43mcompression\u001b[49m\u001b[43m=\u001b[49m\u001b[43mcompression\u001b[49m\u001b[43m,\u001b[49m\n\u001b[32m    284\u001b[39m \u001b[43m    \u001b[49m\u001b[43m)\u001b[49m\n\u001b[32m    285\u001b[39m     \u001b[38;5;28;01mreturn\u001b[39;00m response\n",
      "\u001b[36mFile \u001b[39m\u001b[32m~/Downloads/HackingMat/.venv/lib/python3.12/site-packages/grpc/_interceptor.py:329\u001b[39m, in \u001b[36m_UnaryUnaryMultiCallable._with_call\u001b[39m\u001b[34m(self, request, timeout, metadata, credentials, wait_for_ready, compression)\u001b[39m\n\u001b[32m    326\u001b[39m     \u001b[38;5;28;01mexcept\u001b[39;00m \u001b[38;5;167;01mException\u001b[39;00m \u001b[38;5;28;01mas\u001b[39;00m exception:  \u001b[38;5;66;03m# pylint:disable=broad-except\u001b[39;00m\n\u001b[32m    327\u001b[39m         \u001b[38;5;28;01mreturn\u001b[39;00m _FailureOutcome(exception, sys.exc_info()[\u001b[32m2\u001b[39m])\n\u001b[32m--> \u001b[39m\u001b[32m329\u001b[39m call = \u001b[38;5;28;43mself\u001b[39;49m\u001b[43m.\u001b[49m\u001b[43m_interceptor\u001b[49m\u001b[43m.\u001b[49m\u001b[43mintercept_unary_unary\u001b[49m\u001b[43m(\u001b[49m\n\u001b[32m    330\u001b[39m \u001b[43m    \u001b[49m\u001b[43mcontinuation\u001b[49m\u001b[43m,\u001b[49m\u001b[43m \u001b[49m\u001b[43mclient_call_details\u001b[49m\u001b[43m,\u001b[49m\u001b[43m \u001b[49m\u001b[43mrequest\u001b[49m\n\u001b[32m    331\u001b[39m \u001b[43m\u001b[49m\u001b[43m)\u001b[49m\n\u001b[32m    332\u001b[39m \u001b[38;5;28;01mreturn\u001b[39;00m call.result(), call\n",
      "\u001b[36mFile \u001b[39m\u001b[32m~/Downloads/HackingMat/.venv/lib/python3.12/site-packages/google/ai/generativelanguage_v1beta/services/generative_service/transports/grpc.py:79\u001b[39m, in \u001b[36m_LoggingClientInterceptor.intercept_unary_unary\u001b[39m\u001b[34m(self, continuation, client_call_details, request)\u001b[39m\n\u001b[32m     64\u001b[39m     grpc_request = {\n\u001b[32m     65\u001b[39m         \u001b[33m\"\u001b[39m\u001b[33mpayload\u001b[39m\u001b[33m\"\u001b[39m: request_payload,\n\u001b[32m     66\u001b[39m         \u001b[33m\"\u001b[39m\u001b[33mrequestMethod\u001b[39m\u001b[33m\"\u001b[39m: \u001b[33m\"\u001b[39m\u001b[33mgrpc\u001b[39m\u001b[33m\"\u001b[39m,\n\u001b[32m     67\u001b[39m         \u001b[33m\"\u001b[39m\u001b[33mmetadata\u001b[39m\u001b[33m\"\u001b[39m: \u001b[38;5;28mdict\u001b[39m(request_metadata),\n\u001b[32m     68\u001b[39m     }\n\u001b[32m     69\u001b[39m     _LOGGER.debug(\n\u001b[32m     70\u001b[39m         \u001b[33mf\u001b[39m\u001b[33m\"\u001b[39m\u001b[33mSending request for \u001b[39m\u001b[38;5;132;01m{\u001b[39;00mclient_call_details.method\u001b[38;5;132;01m}\u001b[39;00m\u001b[33m\"\u001b[39m,\n\u001b[32m     71\u001b[39m         extra={\n\u001b[32m   (...)\u001b[39m\u001b[32m     76\u001b[39m         },\n\u001b[32m     77\u001b[39m     )\n\u001b[32m---> \u001b[39m\u001b[32m79\u001b[39m response = \u001b[43mcontinuation\u001b[49m\u001b[43m(\u001b[49m\u001b[43mclient_call_details\u001b[49m\u001b[43m,\u001b[49m\u001b[43m \u001b[49m\u001b[43mrequest\u001b[49m\u001b[43m)\u001b[49m\n\u001b[32m     80\u001b[39m \u001b[38;5;28;01mif\u001b[39;00m logging_enabled:  \u001b[38;5;66;03m# pragma: NO COVER\u001b[39;00m\n\u001b[32m     81\u001b[39m     response_metadata = response.trailing_metadata()\n",
      "\u001b[36mFile \u001b[39m\u001b[32m~/Downloads/HackingMat/.venv/lib/python3.12/site-packages/grpc/_interceptor.py:315\u001b[39m, in \u001b[36m_UnaryUnaryMultiCallable._with_call.<locals>.continuation\u001b[39m\u001b[34m(new_details, request)\u001b[39m\n\u001b[32m    306\u001b[39m (\n\u001b[32m    307\u001b[39m     new_method,\n\u001b[32m    308\u001b[39m     new_timeout,\n\u001b[32m   (...)\u001b[39m\u001b[32m    312\u001b[39m     new_compression,\n\u001b[32m    313\u001b[39m ) = _unwrap_client_call_details(new_details, client_call_details)\n\u001b[32m    314\u001b[39m \u001b[38;5;28;01mtry\u001b[39;00m:\n\u001b[32m--> \u001b[39m\u001b[32m315\u001b[39m     response, call = \u001b[38;5;28;43mself\u001b[39;49m\u001b[43m.\u001b[49m\u001b[43m_thunk\u001b[49m\u001b[43m(\u001b[49m\u001b[43mnew_method\u001b[49m\u001b[43m)\u001b[49m\u001b[43m.\u001b[49m\u001b[43mwith_call\u001b[49m\u001b[43m(\u001b[49m\n\u001b[32m    316\u001b[39m \u001b[43m        \u001b[49m\u001b[43mrequest\u001b[49m\u001b[43m,\u001b[49m\n\u001b[32m    317\u001b[39m \u001b[43m        \u001b[49m\u001b[43mtimeout\u001b[49m\u001b[43m=\u001b[49m\u001b[43mnew_timeout\u001b[49m\u001b[43m,\u001b[49m\n\u001b[32m    318\u001b[39m \u001b[43m        \u001b[49m\u001b[43mmetadata\u001b[49m\u001b[43m=\u001b[49m\u001b[43mnew_metadata\u001b[49m\u001b[43m,\u001b[49m\n\u001b[32m    319\u001b[39m \u001b[43m        \u001b[49m\u001b[43mcredentials\u001b[49m\u001b[43m=\u001b[49m\u001b[43mnew_credentials\u001b[49m\u001b[43m,\u001b[49m\n\u001b[32m    320\u001b[39m \u001b[43m        \u001b[49m\u001b[43mwait_for_ready\u001b[49m\u001b[43m=\u001b[49m\u001b[43mnew_wait_for_ready\u001b[49m\u001b[43m,\u001b[49m\n\u001b[32m    321\u001b[39m \u001b[43m        \u001b[49m\u001b[43mcompression\u001b[49m\u001b[43m=\u001b[49m\u001b[43mnew_compression\u001b[49m\u001b[43m,\u001b[49m\n\u001b[32m    322\u001b[39m \u001b[43m    \u001b[49m\u001b[43m)\u001b[49m\n\u001b[32m    323\u001b[39m     \u001b[38;5;28;01mreturn\u001b[39;00m _UnaryOutcome(response, call)\n\u001b[32m    324\u001b[39m \u001b[38;5;28;01mexcept\u001b[39;00m grpc.RpcError \u001b[38;5;28;01mas\u001b[39;00m rpc_error:\n",
      "\u001b[36mFile \u001b[39m\u001b[32m~/Downloads/HackingMat/.venv/lib/python3.12/site-packages/grpc/_channel.py:1195\u001b[39m, in \u001b[36m_UnaryUnaryMultiCallable.with_call\u001b[39m\u001b[34m(self, request, timeout, metadata, credentials, wait_for_ready, compression)\u001b[39m\n\u001b[32m   1183\u001b[39m \u001b[38;5;28;01mdef\u001b[39;00m\u001b[38;5;250m \u001b[39m\u001b[34mwith_call\u001b[39m(\n\u001b[32m   1184\u001b[39m     \u001b[38;5;28mself\u001b[39m,\n\u001b[32m   1185\u001b[39m     request: Any,\n\u001b[32m   (...)\u001b[39m\u001b[32m   1190\u001b[39m     compression: Optional[grpc.Compression] = \u001b[38;5;28;01mNone\u001b[39;00m,\n\u001b[32m   1191\u001b[39m ) -> Tuple[Any, grpc.Call]:\n\u001b[32m   1192\u001b[39m     (\n\u001b[32m   1193\u001b[39m         state,\n\u001b[32m   1194\u001b[39m         call,\n\u001b[32m-> \u001b[39m\u001b[32m1195\u001b[39m     ) = \u001b[38;5;28;43mself\u001b[39;49m\u001b[43m.\u001b[49m\u001b[43m_blocking\u001b[49m\u001b[43m(\u001b[49m\n\u001b[32m   1196\u001b[39m \u001b[43m        \u001b[49m\u001b[43mrequest\u001b[49m\u001b[43m,\u001b[49m\u001b[43m \u001b[49m\u001b[43mtimeout\u001b[49m\u001b[43m,\u001b[49m\u001b[43m \u001b[49m\u001b[43mmetadata\u001b[49m\u001b[43m,\u001b[49m\u001b[43m \u001b[49m\u001b[43mcredentials\u001b[49m\u001b[43m,\u001b[49m\u001b[43m \u001b[49m\u001b[43mwait_for_ready\u001b[49m\u001b[43m,\u001b[49m\u001b[43m \u001b[49m\u001b[43mcompression\u001b[49m\n\u001b[32m   1197\u001b[39m \u001b[43m    \u001b[49m\u001b[43m)\u001b[49m\n\u001b[32m   1198\u001b[39m     \u001b[38;5;28;01mreturn\u001b[39;00m _end_unary_response_blocking(state, call, \u001b[38;5;28;01mTrue\u001b[39;00m, \u001b[38;5;28;01mNone\u001b[39;00m)\n",
      "\u001b[36mFile \u001b[39m\u001b[32m~/Downloads/HackingMat/.venv/lib/python3.12/site-packages/grpc/_channel.py:1162\u001b[39m, in \u001b[36m_UnaryUnaryMultiCallable._blocking\u001b[39m\u001b[34m(self, request, timeout, metadata, credentials, wait_for_ready, compression)\u001b[39m\n\u001b[32m   1145\u001b[39m state.target = _common.decode(\u001b[38;5;28mself\u001b[39m._target)\n\u001b[32m   1146\u001b[39m call = \u001b[38;5;28mself\u001b[39m._channel.segregated_call(\n\u001b[32m   1147\u001b[39m     cygrpc.PropagationConstants.GRPC_PROPAGATE_DEFAULTS,\n\u001b[32m   1148\u001b[39m     \u001b[38;5;28mself\u001b[39m._method,\n\u001b[32m   (...)\u001b[39m\u001b[32m   1160\u001b[39m     \u001b[38;5;28mself\u001b[39m._registered_call_handle,\n\u001b[32m   1161\u001b[39m )\n\u001b[32m-> \u001b[39m\u001b[32m1162\u001b[39m event = \u001b[43mcall\u001b[49m\u001b[43m.\u001b[49m\u001b[43mnext_event\u001b[49m\u001b[43m(\u001b[49m\u001b[43m)\u001b[49m\n\u001b[32m   1163\u001b[39m _handle_event(event, state, \u001b[38;5;28mself\u001b[39m._response_deserializer)\n\u001b[32m   1164\u001b[39m \u001b[38;5;28;01mreturn\u001b[39;00m state, call\n",
      "\u001b[36mFile \u001b[39m\u001b[32msrc/python/grpcio/grpc/_cython/_cygrpc/channel.pyx.pxi:388\u001b[39m, in \u001b[36mgrpc._cython.cygrpc.SegregatedCall.next_event\u001b[39m\u001b[34m()\u001b[39m\n",
      "\u001b[36mFile \u001b[39m\u001b[32msrc/python/grpcio/grpc/_cython/_cygrpc/channel.pyx.pxi:211\u001b[39m, in \u001b[36mgrpc._cython.cygrpc._next_call_event\u001b[39m\u001b[34m()\u001b[39m\n",
      "\u001b[36mFile \u001b[39m\u001b[32msrc/python/grpcio/grpc/_cython/_cygrpc/channel.pyx.pxi:205\u001b[39m, in \u001b[36mgrpc._cython.cygrpc._next_call_event\u001b[39m\u001b[34m()\u001b[39m\n",
      "\u001b[36mFile \u001b[39m\u001b[32msrc/python/grpcio/grpc/_cython/_cygrpc/completion_queue.pyx.pxi:97\u001b[39m, in \u001b[36mgrpc._cython.cygrpc._latent_event\u001b[39m\u001b[34m()\u001b[39m\n",
      "\u001b[36mFile \u001b[39m\u001b[32msrc/python/grpcio/grpc/_cython/_cygrpc/completion_queue.pyx.pxi:80\u001b[39m, in \u001b[36mgrpc._cython.cygrpc._internal_latent_event\u001b[39m\u001b[34m()\u001b[39m\n",
      "\u001b[36mFile \u001b[39m\u001b[32msrc/python/grpcio/grpc/_cython/_cygrpc/completion_queue.pyx.pxi:61\u001b[39m, in \u001b[36mgrpc._cython.cygrpc._next\u001b[39m\u001b[34m()\u001b[39m\n",
      "\u001b[31mKeyboardInterrupt\u001b[39m: "
     ]
    }
   ],
   "source": [
    "import os\n",
    "import json\n",
    "import google.generativeai as genai\n",
    "\n",
    "# === CONFIGURATION ===\n",
    "folder_path = \"json_allPID\"\n",
    "\n",
    "# === LOOP THROUGH FILES ===\n",
    "for filename in os.listdir(folder_path):\n",
    "    if filename.endswith(\".json\"):\n",
    "        file_path = os.path.join(folder_path, filename)\n",
    "\n",
    "        # Load JSON data\n",
    "        try:\n",
    "            with open(file_path, \"r\") as f:\n",
    "                data = json.load(f)\n",
    "        except Exception as e:\n",
    "            print(f\"Failed to load {filename}: {e}\")\n",
    "            continue\n",
    "\n",
    "        # Convert to string (pretty format)\n",
    "        json_string = json.dumps(data, indent=2)\n",
    "\n",
    "        # Send to Gemini\n",
    "        prompt = f\"\"\"\n",
    "       question2\n",
    "        \"\"\"\n",
    "        try:\n",
    "            response = model.generate_content(prompt)\n",
    "            print(f\"\\n--- Summary for {filename} ---\\n\")\n",
    "            print(response.text)\n",
    "            print(\"\\n\" + \"=\"*60 + \"\\n\")\n",
    "        except Exception as e:\n",
    "            print(f\"Gemini failed on {filename}: {e}\")\n"
   ]
  },
  {
   "cell_type": "code",
   "execution_count": 7,
   "id": "fafd73e8",
   "metadata": {},
   "outputs": [
    {
     "name": "stdout",
     "output_type": "stream",
     "text": [
      "The provided degradation mechanism chains offer a fascinating insight into the complex processes of Potential-Induced Degradation (PID) in photovoltaic modules. Across the various studies, clear trends emerge, highlighting common stressors, chemical reactions, electrical consequences, and the ultimate impact on power output.\n",
      "\n",
      "---\n",
      "\n",
      "### Overall Trends in Degradation Mechanism Chains\n",
      "\n",
      "The degradation mechanism chains consistently follow a sequence, beginning with external stress factors, leading to internal chemical or physical changes, which then manifest as measurable electrical effects, and finally result in a decrease in the module's power output.\n",
      "\n",
      "**1. Stress Factors (Initiators):**\n",
      "*   **Most Common:**\n",
      "    *   **Voltage Bias (especially high negative bias):** This is by far the most prevalent initial stressor, indicating its central role in driving PID. Phrases like \"high negative voltage bias,\" \"high voltage,\" or simply \"negative bias\" appear frequently.\n",
      "    *   **Temperature:** Often combined with voltage bias, high temperature acts as an accelerator for chemical reactions and ion mobility. \"High temperature\" is a common mention.\n",
      "    *   **Humidity:** High humidity is another significant environmental stress factor, particularly involved in reactions like hydrolysis or corrosion. \"High humidity\" is frequently cited.\n",
      "*   **Less Common/Specific:**\n",
      "    *   **UV light:** While a general degradation factor for PV modules, its direct mention as a *primary* stressor for PID *mechanisms* (as opposed to broader module degradation) appears less frequently than voltage, temperature, or humidity.\n",
      "\n",
      "**2. Chemical/Physical Processes (Intermediate Steps):**\n",
      "*   **Most Common:**\n",
      "    *   **Ion Migration (specifically Na+ ions):** This is the overwhelmingly dominant chemical mechanism. Phrases such as \"Na+ ion migration,\" \"sodium ion accumulation,\" \"Na+ ion movement,\" or \"ion drift to surface\" are core to nearly all observed chains. These ions typically originate from the glass encapsulant.\n",
      "    *   **Surface Degradation/Modification:** Directly linked to ion migration, this includes \"surface charge accumulation,\" \"surface passivation layer damage,\" \"anti-reflection coating degradation,\" and \"surface shunting path formation.\"\n",
      "    *   **Hydroxide Formation/Electrochemical Reactions:** Often tied to the presence of water/humidity and ions, terms like \"hydroxide formation\" or \"electrochemical reactions\" describe the chemical changes at the cell surface.\n",
      "*   **Less Common/Specific:**\n",
      "    *   **Polymer Degradation/Hydrolysis:** While a general module degradation pathway, its explicit mention within *PID-specific* chains (beyond just contributing to material changes that enable ion migration) is less frequent than direct ion movement.\n",
      "    *   **Delamination/Corrosion:** These are more macroscopic physical degradations, sometimes listed as a consequence of chemical reactions that further facilitate electrical issues.\n",
      "\n",
      "**3. Electrical Effects (Observable Consequences):**\n",
      "*   **Most Common:**\n",
      "    *   **Increased Leakage Current:** This is a nearly universal consequence, indicating current bypassing the intended electrical path.\n",
      "    *   **Decreased Shunt Resistance:** Directly related to increased leakage current, it signifies the formation of parallel pathways for current flow. Phrases like \"shunt path formation,\" \"shunt current increase,\" or \"decreased shunt resistance\" are very common.\n",
      "    *   **Reduced Fill Factor:** This is a common electrical degradation mode, reflecting losses due to increased series or decreased shunt resistance.\n",
      "*   **Less Common/Specific:**\n",
      "    *   **Increased Series Resistance:** While common in other degradation modes, it appears less frequently as a *direct* consequence in the primary PID chains compared to shunt resistance/leakage current, though it can arise from corrosion or contact degradation.\n",
      "    *   **Reduced Open Circuit Voltage (Voc):** While PID primarily affects shunt resistance and fill factor, a reduction in Voc indicates more fundamental damage to the p-n junction or surface passivation that affects voltage generation. Its explicit mention is less frequent than leakage/shunt.\n",
      "    *   **Electric Field Distortion:** This is a more fundamental electrical phenomenon that *causes* subsequent electrical effects but is less frequently listed as a *direct* \"electrical effect\" of degradation, rather as an intermediate mechanism.\n",
      "\n",
      "**4. Decreased Power Output (Ultimate Impact):**\n",
      "*   **Always Present:**\n",
      "    *   All chains ultimately culminate in a reduction of the module's performance, expressed as \"power loss,\" \"power degradation,\" \"efficiency drop,\" or \"power reduction.\" This is the unifying final step.\n",
      "\n",
      "---\n",
      "\n",
      "### Unusual Findings\n",
      "\n",
      "*   **Specificity of Chemical Reactions:** While Na+ migration is dominant, some studies delve deeper into the *specific* chemical outcomes like \"hydroxide formation\" or the degradation of specific layers like the \"anti-reflection coating\" or \"surface passivation layer.\" This indicates research into the exact chemical pathways involved beyond just ion movement.\n",
      "*   **Inclusion of Macroscopic Damage:** The occasional mention of \"delamination\" or \"corrosion\" within the PID chain, while being physical damage, highlights how chemical processes driven by PID can lead to broader structural integrity issues, which then exacerbate electrical problems.\n",
      "*   **Direct Mention of \"Electric Field Distortion\":** This is a more nuanced, physical-level explanation that bridges the gap between ion accumulation and the subsequent electrical effects (like reduced Voc or increased leakage). Its inclusion shows a deeper understanding of the underlying physics.\n",
      "\n",
      "---\n",
      "\n",
      "### Feedback Loops\n",
      "\n",
      "Feedback loops are critical to understanding how degradation can accelerate itself. Based on the common steps, here are potential feedback loops:\n",
      "\n",
      "1.  **Ion Migration -> Surface Charge Accumulation -> Enhanced Electric Field Distortion -> Accelerated Ion Migration:**\n",
      "    *   *Mechanism:* The initial migration of ions (e.g., Na+) to the cell surface leads to an accumulation of charge. This charge accumulation then distorts the electric field within or near the cell. This distorted electric field can then create stronger gradients or pathways that *further accelerate* the migration of more ions, creating a positive feedback loop that rapidly worsens the situation.\n",
      "    *   *Steps involved:* `Na+ ion migration` -> `surface charge accumulation` -> `electric field distortion` -> `(further) Na+ ion migration`.\n",
      "\n",
      "2.  **Increased Leakage Current -> Localized Heating -> Accelerated Chemical Reactions/Ion Migration:**\n",
      "    *   *Mechanism:* As degradation progresses, \"increased leakage current\" leads to resistive heating (I²R losses) in the damaged areas. Since many chemical processes (like ion diffusion and most electrochemical reactions) are thermally activated, this localized heating can *accelerate* the very chemical reactions (e.g., \"hydroxide formation,\" \"anti-reflection coating degradation\") or the \"Na+ ion migration\" that caused the leakage in the first place, leading to rapid degradation.\n",
      "    *   *Steps involved:* `Increased leakage current` -> `(implied localized heating)` -> `accelerated ion migration / chemical reactions`. (While \"localized heating\" might not be explicitly stated in the chains, it's a well-known physical consequence).\n",
      "\n",
      "---\n",
      "\n",
      "### Major Pathways\n",
      "\n",
      "Based on the synthesis of common steps and their sequence, the following major pathways for PID can be identified:\n",
      "\n",
      "**1. The Dominant Na-ion Migration Shunting Pathway (PID-s/PID-sh):**\n",
      "    *   **Stress:** High Negative Voltage Bias (+ High Temperature + High Humidity)\n",
      "    *   **Chemical/Physical:** Na+ Ion Migration (from glass/encapsulant to cell surface/emitter) → Surface Charge Accumulation → Surface Shunting Path Formation (e.g., via Na+-rich precipitates or surface modification)\n",
      "    *   **Electrical:** Increased Leakage Current → Decreased Shunt Resistance\n",
      "    *   **Outcome:** Decreased Power Output / Efficiency (primarily through reduced Fill Factor)\n",
      "\n",
      "**2. Material Degradation & Corrosion Pathway (Often Humidity-Assisted):**\n",
      "    *   **Stress:** High Humidity (+ High Temperature + Voltage Bias + sometimes UV)\n",
      "    *   **Chemical/Physical:** Hydrolysis / Polymer Degradation (of encapsulant or backsheet) / Anti-reflection Coating Degradation / Hydroxide Formation / Corrosion (of metal contacts/fingers) → Delamination (allowing more moisture ingress)\n",
      "    *   **Electrical:** Increased Series Resistance (due to corrosion/contact loss) / Increased Leakage Current (due to delamination/shunt path formation) / Reduced Fill Factor\n",
      "    *   **Outcome:** Decreased Power Output / Efficiency\n",
      "\n",
      "**3. Junction/Surface Passivation Degradation Pathway (Affecting Voc):**\n",
      "    *   **Stress:** High Voltage Bias (+ Temperature)\n",
      "    *   **Chemical/Physical:** Sodium Ion Accumulation (at cell surface/junction) → Surface Passivation Layer Damage / Electric Field Distortion (at the junction)\n",
      "    *   **Electrical:** Reduced Open Circuit Voltage (Voc) / Increased Leakage Current\n",
      "    *   **Outcome:** Decreased Power Output / Efficiency\n",
      "\n",
      "These pathways often overlap, and elements from one can influence another, demonstrating the multi-faceted nature of PID. The dominance of the Na-ion migration pathway underscores its critical importance in understanding and mitigating PID.\n"
     ]
    }
   ],
   "source": [
    "response = model.generate_content(question2)\n",
    "print(response.text)"
   ]
  },
  {
   "cell_type": "code",
   "execution_count": 40,
   "id": "7a351850",
   "metadata": {},
   "outputs": [
    {
     "name": "stderr",
     "output_type": "stream",
     "text": [
      "Processing JSONs: 100%|██████████| 59/59 [22:54<00:00, 23.30s/it]\n"
     ]
    }
   ],
   "source": [
    "# INPUT and OUTPUT folders\n",
    "json_folder = \"json_allPID\"\n",
    "output_folder = \"Mech_Chain_Analysis3\"\n",
    "os.makedirs(output_folder, exist_ok=True)\n",
    "\n",
    "# Loop through JSON files\n",
    "for filename in tqdm(os.listdir(json_folder), desc=\"Processing JSONs\"):\n",
    "    if not filename.endswith(\".json\"):\n",
    "        continue\n",
    "\n",
    "    file_path = os.path.join(json_folder, filename)\n",
    "\n",
    "    try:\n",
    "        with open(file_path, \"r\", encoding=\"utf-8\") as f:\n",
    "            json_data = json.load(f)\n",
    "\n",
    "        # Handle multiple dictionaries per file\n",
    "        entries = json_data if isinstance(json_data, list) else [json_data]\n",
    "\n",
    "        for i, entry in enumerate(entries):\n",
    "            json_text = json.dumps(entry, indent=2)\n",
    "\n",
    "            result = model.generate_content(\n",
    "                [question, \"\\n\\n\", json_text],\n",
    "                generation_config={\"temperature\": 0}\n",
    "            )\n",
    "\n",
    "            res_text = result.text.strip()\n",
    "\n",
    "            # Attempt 1: extract from ```json ... ```\n",
    "            match = re.search(r\"```json\\s*(\\{[\\s\\S]+?\\})\\s*```\", res_text)\n",
    "\n",
    "            if match:\n",
    "                cleaned_text = match.group(1)\n",
    "                output_data = json.loads(cleaned_text)\n",
    "            else:\n",
    "                # Attempt 2: loose capture\n",
    "                match_loose = re.search(r\"(\\{[\\s\\S]+?\\})\", res_text)\n",
    "                if match_loose:\n",
    "                    try:\n",
    "                        output_data = json.loads(match_loose.group(1))\n",
    "                    except json.JSONDecodeError:\n",
    "                        output_data = {\"raw_response\": res_text}\n",
    "                else:\n",
    "                    output_data = {\"raw_response\": res_text}\n",
    "\n",
    "            # Append filename manually to result if valid\n",
    "            expected_keys = {\n",
    "                \"year\", \"module technology\", \"voltage bias\",\n",
    "                \"temperature\", \"doping\", \"PID type studied\",\n",
    "                \"simplified mechanism chain\", \"chain match\"\n",
    "            }\n",
    "\n",
    "            if isinstance(output_data, dict) and expected_keys & output_data.keys():\n",
    "                output_data[\"filename\"] = filename\n",
    "                final_output = output_data\n",
    "            else:\n",
    "                final_output = {\"raw_response\": res_text}\n",
    "\n",
    "            # Save output to individual file\n",
    "            base_name = filename.replace(\".json\", \"\")\n",
    "            output_path = os.path.join(output_folder, f\"{base_name}_entry{i+1}.json\")\n",
    "            with open(output_path, \"w\", encoding=\"utf-8\") as f:\n",
    "                json.dump(final_output, f, indent=4)\n",
    "\n",
    "    except Exception as e:\n",
    "        print(f\"{filename} failed due to: {e}\")\n",
    "        continue\n",
    "\n"
   ]
  },
  {
   "cell_type": "markdown",
   "id": "1a27d6b5",
   "metadata": {},
   "source": [
    "# graph information from JSON comparisons "
   ]
  },
  {
   "cell_type": "code",
   "execution_count": 2,
   "id": "20a613de",
   "metadata": {},
   "outputs": [],
   "source": [
    "# set colors for graphs\n",
    "colors = ['#87CEEB', \"#FF9A9A\", \"#FFEC99\", \"#E7A5FF\", \"#B2F7BE\", \"#95B7FF\", \"#966fdf\", \"#ffb3e6\", \"#ffcc99\", \"#c2f0c2\", \"#d9d9d9\", \"#ff6666\", \"#66b3ff\", \"#99ff99\", \"#ffcc00\"]\n",
    "colors_mono = ['#87CEEB', \"#B5E9FD\", \"#5A9BB5\", \"#3A758D\", \"#B5FBEE\", \"#67E4CF\", \"#58D7D9\", \"#389F96\",]\n",
    "colors_mono2 = [\"#FFc7d3\", \"#eaa4b3\", \"#d28394\", \"#b36375\", \"#FFc7d3\", \"#a8475c\", \"#672937\", \"#7e293c\",]\n",
    "colors_mono3 = [\"#FFE2D4\", \"#E1B18F\", \"#CE8F5C\", \"#BD7439\", \"#F0D373\", \"#DBB21D\", \"#EEBF00\", \"#E1B04F\",]\n",
    "colors_mono4 = [\"#D4FFD5\", \"#91CE91\", \"#46B295\", \"#9AEDDF\", \"#69BEAB\", \"#0A6F52\", \"#3AA27E\", \"#2B8A6F\",]"
   ]
  },
  {
   "cell_type": "code",
   "execution_count": 5,
   "id": "4962e6b5",
   "metadata": {},
   "outputs": [
    {
     "data": {
      "image/png": "[encoded data removed]",
      "text/plain": [
       "<Figure size 600x600 with 1 Axes>"
      ]
     },
     "metadata": {},
     "output_type": "display_data"
    }
   ],
   "source": [
    "chain_match_counts = {}\n",
    "\n",
    "folder = \"Mech_Chain_Analysis3\"\n",
    "for fname in os.listdir(folder):\n",
    "    if fname.endswith(\".json\"):\n",
    "        with open(os.path.join(folder, fname), \"r\", encoding=\"utf-8\") as f:\n",
    "            data = json.load(f)\n",
    "            # Handle both list of dicts and single dict\n",
    "            if isinstance(data, list):\n",
    "                for entry in data:\n",
    "                    val = entry.get(\"chain match\")\n",
    "                    if val:\n",
    "                        # Convert list to string for dict key\n",
    "                        key = ', '.join(val) if isinstance(val, list) else str(val)\n",
    "                        chain_match_counts[key] = chain_match_counts.get(key, 0) + 1\n",
    "            elif isinstance(data, dict):\n",
    "                val = data.get(\"chain match\")\n",
    "                if val:\n",
    "                    key = ', '.join(val) if isinstance(val, list) else str(val)\n",
    "                    chain_match_counts[key] = chain_match_counts.get(key, 0) + 1\n",
    "def autopct_with_counts(values):\n",
    "    def inner_autopct(pct):\n",
    "        total = sum(values)\n",
    "        count = int(round(pct * total / 100.0))\n",
    "        return f'{pct:.1f}%\\n({count})'\n",
    "    return inner_autopct\n",
    "\n",
    "values = list(chain_match_counts.values())\n",
    "\n",
    "plt.figure(figsize=(6, 6))\n",
    "plt.pie(\n",
    "    values,\n",
    "    labels=list(chain_match_counts.keys()),\n",
    "    colors=colors_mono,\n",
    "    autopct=autopct_with_counts(values),\n",
    "    startangle=140\n",
    ")\n",
    "plt.title('Frequency of Mechanism Chains Matching Anticipated Chain')\n",
    "plt.show()\n"
   ]
  },
  {
   "cell_type": "code",
   "execution_count": 33,
   "id": "06966f96",
   "metadata": {},
   "outputs": [
    {
     "data": {
      "image/png": "[encoded data removed]",
      "text/plain": [
       "<Figure size 600x600 with 1 Axes>"
      ]
     },
     "metadata": {},
     "output_type": "display_data"
    }
   ],
   "source": [
    "# Create a new dictionary with \"polarization, shunting\" mapped to \"shunting, polarization\"\n",
    "pie_counts = {}\n",
    "for k, v in chain_match_counts.items():\n",
    "    if k == \"polarization, shunting\":\n",
    "        pie_counts[\"shunting, polarization\"] = pie_counts.get(\"shunting, polarization\", 0) + v\n",
    "    else:\n",
    "        pie_counts[k] = pie_counts.get(k, 0) + v\n",
    "\n",
    "values = list(pie_counts.values())\n",
    "\n",
    "plt.figure(figsize=(6, 6))\n",
    "plt.pie(\n",
    "    values,\n",
    "    labels=list(pie_counts.keys()),\n",
    "    colors=colors_mono,\n",
    "    autopct=autopct_with_counts(values),\n",
    "    startangle=140\n",
    ")\n",
    "plt.title('Frequency of Mechanism Chains Matching Anticipated Chain')\n",
    "plt.show()"
   ]
  },
  {
   "cell_type": "code",
   "execution_count": 34,
   "id": "878150dd",
   "metadata": {},
   "outputs": [
    {
     "data": {
      "image/png": "[encoded data removed]",
      "text/plain": [
       "<Figure size 600x600 with 1 Axes>"
      ]
     },
     "metadata": {},
     "output_type": "display_data"
    }
   ],
   "source": [
    "doping_counts = {}\n",
    "\n",
    "folder = \"Mech_Chain_Analysis3\"\n",
    "for fname in os.listdir(folder):\n",
    "    if fname.endswith(\".json\"):\n",
    "        with open(os.path.join(folder, fname), \"r\", encoding=\"utf-8\") as f:\n",
    "            data = json.load(f)\n",
    "            # Handle both list of dicts and single dict\n",
    "            if isinstance(data, list):\n",
    "                for entry in data:\n",
    "                    val = entry.get(\"doping\")\n",
    "                    if val:\n",
    "                        # Convert lists to a comma-separated string for dictionary key\n",
    "                        key = ', '.join(val) if isinstance(val, list) else str(val)\n",
    "                        doping_counts[key] = doping_counts.get(key, 0) + 1\n",
    "            elif isinstance(data, dict):\n",
    "                val = data.get(\"doping\")\n",
    "                if val:\n",
    "                    # Convert lists to a comma-separated string for dictionary key\n",
    "                    key = ', '.join(val) if isinstance(val, list) else str(val)\n",
    "                    doping_counts[key] = doping_counts.get(key, 0) + 1\n",
    "\n",
    "\n",
    "def autopct_with_counts(values):\n",
    "    def inner_autopct(pct):\n",
    "        total = sum(values)\n",
    "        count = int(round(pct * total / 100.0))\n",
    "        return f'{pct:.1f}%\\n({count})'\n",
    "    return inner_autopct\n",
    "\n",
    "values = list(doping_counts.values())\n",
    "\n",
    "plt.figure(figsize=(6, 6))\n",
    "plt.pie(\n",
    "    values,\n",
    "    labels=list(doping_counts.keys()),\n",
    "    colors=colors_mono2,\n",
    "    autopct=autopct_with_counts(values),\n",
    "    startangle=140\n",
    ")\n",
    "plt.title('Frequency Distribution of Doping Type')\n",
    "plt.show()\n"
   ]
  },
  {
   "cell_type": "code",
   "execution_count": 35,
   "id": "f7deb5d8",
   "metadata": {},
   "outputs": [
    {
     "data": {
      "image/png": "[encoded data removed]",
      "text/plain": [
       "<Figure size 600x400 with 1 Axes>"
      ]
     },
     "metadata": {},
     "output_type": "display_data"
    }
   ],
   "source": [
    "# Count frequency for each individual chain match type\n",
    "chain_types = [\"shunting\", \"corrosion\", \"polarization\"]\n",
    "individual_counts = {ct: 0 for ct in chain_types}\n",
    "\n",
    "folder = \"Mech_Chain_Analysis3\"\n",
    "for fname in os.listdir(folder):\n",
    "    if fname.endswith(\".json\"):\n",
    "        with open(os.path.join(folder, fname), \"r\", encoding=\"utf-8\") as f:\n",
    "            data = json.load(f)\n",
    "            entries = data if isinstance(data, list) else [data]\n",
    "            for entry in entries:\n",
    "                cm = entry.get(\"chain match\")\n",
    "                if cm:\n",
    "                    if isinstance(cm, list):\n",
    "                        cm_list = cm\n",
    "                    else:\n",
    "                        cm_list = [c.strip() for c in str(cm).split(\",\")]\n",
    "                    for ct in chain_types:\n",
    "                        if ct in cm_list:\n",
    "                            individual_counts[ct] += 1\n",
    "\n",
    "plt.figure(figsize=(6, 4))\n",
    "plt.bar(individual_counts.keys(), individual_counts.values(), color=colors_mono[:3])\n",
    "plt.ylabel(\"Count\")\n",
    "plt.title('Frequency of Each Mechanism Chain Match')\n",
    "for i, v in enumerate(individual_counts.values()):\n",
    "    plt.text(i, v + 0.5, str(v), ha='center', va='bottom', fontsize=12)\n",
    "plt.tight_layout()\n",
    "plt.show()"
   ]
  },
  {
   "cell_type": "code",
   "execution_count": 36,
   "id": "4529608e",
   "metadata": {},
   "outputs": [
    {
     "data": {
      "image/png": "[encoded data removed]",
      "text/plain": [
       "<Figure size 600x400 with 1 Axes>"
      ]
     },
     "metadata": {},
     "output_type": "display_data"
    }
   ],
   "source": [
    "# Count frequency for each PID type studied across all files\n",
    "pid_type_counts = {}\n",
    "\n",
    "folder = \"Mech_Chain_Analysis3\"\n",
    "for fname in os.listdir(folder):\n",
    "    if fname.endswith(\".json\"):\n",
    "        with open(os.path.join(folder, fname), \"r\", encoding=\"utf-8\") as f:\n",
    "            data = json.load(f)\n",
    "            entries = data if isinstance(data, list) else [data]\n",
    "            for entry in entries:\n",
    "                pid_types = entry.get(\"PID type studied\")\n",
    "                if pid_types:\n",
    "                    if isinstance(pid_types, list):\n",
    "                        for pid in pid_types:\n",
    "                            pid_type_counts[pid] = pid_type_counts.get(pid, 0) + 1\n",
    "                    else:\n",
    "                        pid_type_counts[pid_types] = pid_type_counts.get(pid_types, 0) + 1\n",
    "\n",
    "plt.figure(figsize=(6, 4))\n",
    "plt.bar(pid_type_counts.keys(), pid_type_counts.values(), color=colors_mono2[:len(pid_type_counts)])\n",
    "plt.ylabel(\"Count\")\n",
    "plt.title('Frequency of Each PID Type Studied')\n",
    "for i, v in enumerate(pid_type_counts.values()):\n",
    "    plt.text(i, v + 0.5, str(v), ha='center', va='bottom', fontsize=12)\n",
    "plt.tight_layout()\n",
    "plt.show()"
   ]
  },
  {
   "cell_type": "code",
   "execution_count": 37,
   "id": "10a922b5",
   "metadata": {},
   "outputs": [
    {
     "data": {
      "image/png": "[encoded data removed]",
      "text/plain": [
       "<Figure size 600x400 with 1 Axes>"
      ]
     },
     "metadata": {},
     "output_type": "display_data"
    }
   ],
   "source": [
    "# Combine \"PID-c, PID-s\" and \"PID-s, PID-c\" into \"PID-s, PID-c\" and sum their counts\n",
    "pid_type_counts_combined = pid_type_counts.copy()\n",
    "pid_type_counts_combined[\"PID-s, PID-c\"] = (\n",
    "    pid_type_counts_combined.get(\"PID-s, PID-c\", 0)\n",
    "    + pid_type_counts_combined.get(\"PID-c, PID-s\", 0)\n",
    ")\n",
    "if \"PID-c, PID-s\" in pid_type_counts_combined:\n",
    "    del pid_type_counts_combined[\"PID-c, PID-s\"]\n",
    "\n",
    "# Sort by most frequent\n",
    "sorted_items = sorted(pid_type_counts_combined.items(), key=lambda x: x[1], reverse=True)\n",
    "labels = [k for k, v in sorted_items]\n",
    "counts = [v for k, v in sorted_items]\n",
    "\n",
    "plt.figure(figsize=(6, 4))\n",
    "bars = plt.bar(labels, counts, color=colors_mono2[:len(labels)])\n",
    "plt.ylabel(\"Count\")\n",
    "plt.title('Frequency of Each PID Type Studied')\n",
    "for i, v in enumerate(counts):\n",
    "    plt.text(i, v + 0.5, str(v), ha='center', va='bottom', fontsize=12)\n",
    "plt.tight_layout()\n",
    "plt.show()"
   ]
  },
  {
   "cell_type": "code",
   "execution_count": 38,
   "id": "7166fbd1",
   "metadata": {},
   "outputs": [
    {
     "data": {
      "image/png": "[encoded data removed]",
      "text/plain": [
       "<Figure size 800x600 with 1 Axes>"
      ]
     },
     "metadata": {},
     "output_type": "display_data"
    }
   ],
   "source": [
    "import os\n",
    "import json\n",
    "import matplotlib.pyplot as plt\n",
    "\n",
    "# Aggregate counts of PID types for each module technology\n",
    "pid_types_of_interest = [\"PID-c\", \"PID-s\", \"PID-p\"]\n",
    "module_pid_counts = {}\n",
    "\n",
    "folder = \"Mech_Chain_Analysis3\"\n",
    "for fname in os.listdir(folder):\n",
    "    if fname.endswith(\".json\"):\n",
    "        with open(os.path.join(folder, fname), \"r\", encoding=\"utf-8\") as f:\n",
    "            data = json.load(f)\n",
    "            entries = data if isinstance(data, list) else [data]\n",
    "            for entry in entries:\n",
    "                tech = entry.get(\"module technology\", \"not reported\")\n",
    "                pid_types = entry.get(\"PID type studied\", \"not reported\")\n",
    "                if isinstance(pid_types, str):\n",
    "                    pid_types = [pid.strip() for pid in pid_types.split(\",\")]\n",
    "                tech_list = tech if isinstance(tech, list) else [tech]\n",
    "\n",
    "                for t in tech_list:\n",
    "                    # Grouping c-Si and n-type c-Si into mono-c-Si\n",
    "                    if t in [\"c-Si\", \"n-type c-Si\"]:\n",
    "                        t = \"mono-c-Si\"\n",
    "\n",
    "                    if t not in module_pid_counts:\n",
    "                        module_pid_counts[t] = {pid: 0 for pid in pid_types_of_interest}\n",
    "                    for pid in pid_types:\n",
    "                        if pid in pid_types_of_interest:\n",
    "                            module_pid_counts[t][pid] += 1\n",
    "\n",
    "# Prepare and sort data\n",
    "unsorted_labels = [tech for tech in module_pid_counts if tech != \"not reported\"]\n",
    "totals_per_tech = {tech: sum(module_pid_counts[tech][pid] for pid in pid_types_of_interest) for tech in unsorted_labels}\n",
    "# Sort module technologies by total counts descending\n",
    "sorted_labels = sorted(unsorted_labels, key=lambda x: totals_per_tech[x], reverse=True)\n",
    "\n",
    "# Prepare data for plotting\n",
    "pid_counts_per_tech = {pid: [module_pid_counts[tech][pid] for tech in sorted_labels] for pid in pid_types_of_interest}\n",
    "totals_sorted = [totals_per_tech[tech] for tech in sorted_labels]\n",
    "\n",
    "# Calculate percentages\n",
    "pid_perc_per_tech = {\n",
    "    pid: [100 * count / total if total > 0 else 0 for count, total in zip(pid_counts_per_tech[pid], totals_sorted)]\n",
    "    for pid in pid_types_of_interest\n",
    "}\n",
    "\n",
    "# Plot\n",
    "fig, ax = plt.subplots(figsize=(8, 6))\n",
    "bottom = [0] * len(sorted_labels)\n",
    "colors_stack = [\"#c9adda\", '#9e7fb0', \"#7d5e8e\"]  # Colors for stacked bars\n",
    "\n",
    "for idx, pid in enumerate(pid_types_of_interest):\n",
    "    bars = ax.bar(\n",
    "        sorted_labels,\n",
    "        pid_perc_per_tech[pid],\n",
    "        bottom=bottom,\n",
    "        label=pid,\n",
    "        color=colors_stack[idx]\n",
    "    )\n",
    "    for i, bar in enumerate(bars):\n",
    "        perc = pid_perc_per_tech[pid][i]\n",
    "        count = pid_counts_per_tech[pid][i]\n",
    "        if perc > 0:\n",
    "            ax.text(\n",
    "                bar.get_x() + bar.get_width() / 2,\n",
    "                bottom[i] + perc / 2,\n",
    "                f'{perc:.1f}%\\n({count})',\n",
    "                ha='center',\n",
    "                va='center',\n",
    "                color='black',\n",
    "                fontsize=10\n",
    "            )\n",
    "    bottom = [b + p for b, p in zip(bottom, pid_perc_per_tech[pid])]\n",
    "\n",
    "ax.set_ylabel('Percentage (%)')\n",
    "ax.set_xlabel('Module Technology')\n",
    "ax.set_title('Distribution of PID Types by Module Technology')\n",
    "ax.legend(title=\"PID type studied\")\n",
    "\n",
    "plt.ylim(0, 110)\n",
    "plt.tight_layout()\n",
    "plt.show()\n"
   ]
  },
  {
   "cell_type": "code",
   "execution_count": 39,
   "id": "d10da943",
   "metadata": {},
   "outputs": [
    {
     "data": {
      "image/png": "[encoded data removed]",
      "text/plain": [
       "<Figure size 800x600 with 1 Axes>"
      ]
     },
     "metadata": {},
     "output_type": "display_data"
    }
   ],
   "source": [
    "# Combine \"n-type c-Si\" and \"c-Si\" into \"mono-c-Si\" for module technology\n",
    "combined_module_pid_counts = {}\n",
    "\n",
    "for tech, pid_counts in module_pid_counts.items():\n",
    "    if tech in [\"n-type c-Si\", \"c-Si\"]:\n",
    "        combined_key = \"mono-c-Si\"\n",
    "        if combined_key not in combined_module_pid_counts:\n",
    "            combined_module_pid_counts[combined_key] = {pid: 0 for pid in pid_types_of_interest}\n",
    "        for pid in pid_types_of_interest:\n",
    "            combined_module_pid_counts[combined_key][pid] += pid_counts[pid]\n",
    "    elif tech != \"not reported\":\n",
    "        combined_module_pid_counts[tech] = pid_counts.copy()\n",
    "\n",
    "# Prepare data for plotting\n",
    "combined_labels = list(combined_module_pid_counts.keys())\n",
    "combined_pid_counts = {pid: [combined_module_pid_counts[tech][pid] for tech in combined_labels] for pid in pid_types_of_interest}\n",
    "combined_totals = [sum(combined_module_pid_counts[tech][pid] for pid in pid_types_of_interest) for tech in combined_labels]\n",
    "combined_pid_perc = {pid: [100 * count / total if total > 0 else 0 for count, total in zip(combined_pid_counts[pid], combined_totals)] for pid in pid_types_of_interest}\n",
    "\n",
    "fig, ax = plt.subplots(figsize=(8, 6))\n",
    "bottom = [0] * len(combined_labels)\n",
    "for idx, pid in enumerate(pid_types_of_interest):\n",
    "    bars = ax.bar(\n",
    "        combined_labels,\n",
    "        combined_pid_perc[pid],\n",
    "        bottom=bottom,\n",
    "        label=pid,\n",
    "        color=colors_stack[idx]\n",
    "    )\n",
    "    for i, bar in enumerate(bars):\n",
    "        perc = combined_pid_perc[pid][i]\n",
    "        count = combined_pid_counts[pid][i]\n",
    "        if perc > 0:\n",
    "            ax.text(\n",
    "                bar.get_x() + bar.get_width() / 2,\n",
    "                bottom[i] + perc / 2,\n",
    "                f'{perc:.1f}%\\n({count})',\n",
    "                ha='center',\n",
    "                va='center',\n",
    "                color='black',\n",
    "                fontsize=10\n",
    "            )\n",
    "    bottom = [b + p for b, p in zip(bottom, combined_pid_perc[pid])]\n",
    "\n",
    "ax.set_ylabel('Percentage (%)')\n",
    "ax.set_xlabel('Module Technology (combined)')\n",
    "ax.set_title('Distribution of PID Types by Module Technology')\n",
    "ax.legend(title=\"PID type studied\")\n",
    "plt.ylim(0, 110)\n",
    "plt.tight_layout()\n",
    "plt.show()"
   ]
  },
  {
   "cell_type": "code",
   "execution_count": 40,
   "id": "e8b6e771",
   "metadata": {},
   "outputs": [
    {
     "data": {
      "image/png": "[encoded data removed]",
      "text/plain": [
       "<Figure size 1000x600 with 1 Axes>"
      ]
     },
     "metadata": {},
     "output_type": "display_data"
    }
   ],
   "source": [
    "import os\n",
    "import json\n",
    "import matplotlib.pyplot as plt\n",
    "from collections import defaultdict\n",
    "\n",
    "# Prepare data for plotting voltage bias vs chain match\n",
    "voltage_bias_chain_counts = defaultdict(lambda: defaultdict(int))\n",
    "all_chain_categories = set()\n",
    "\n",
    "folder = \"Mech_Chain_Analysis3\"\n",
    "for fname in os.listdir(folder):\n",
    "    if fname.endswith(\".json\"):\n",
    "        with open(os.path.join(folder, fname), \"r\", encoding=\"utf-8\") as f:\n",
    "            data = json.load(f)\n",
    "            entries = data if isinstance(data, list) else [data]\n",
    "            for entry in entries:\n",
    "                vb = entry.get(\"voltage bias\", \"not reported\").lower()\n",
    "                cm = entry.get(\"chain match\", \"not reported\")\n",
    "\n",
    "                # --- Normalize chain match category ---\n",
    "                if isinstance(cm, list):\n",
    "                    if len(cm) == 0:\n",
    "                        cm = \"not reported\"\n",
    "                    elif len(cm) == 1:\n",
    "                        cm = cm[0]\n",
    "                    else:\n",
    "                        cm = \"combination\"\n",
    "                elif not isinstance(cm, str):\n",
    "                    cm = str(cm)\n",
    "\n",
    "                voltage_bias_chain_counts[vb][cm] += 1\n",
    "                all_chain_categories.add(cm)\n",
    "\n",
    "# --- Clean up labels ---\n",
    "chain_categories = sorted([c for c in all_chain_categories if c != \"not reported\"])\n",
    "\n",
    "# Define custom order for voltage bias\n",
    "custom_order = [\"positive (+)\", \"negative (-)\", \"both (+ and -)\", \"none\"]\n",
    "extra_biases = sorted(set(voltage_bias_chain_counts.keys()) - set(custom_order) - {\"not reported\"})\n",
    "voltage_labels = custom_order + extra_biases\n",
    "\n",
    "# Calculate percentages for each category\n",
    "category_percentages = {cat: [] for cat in chain_categories}\n",
    "category_counts = {cat: [] for cat in chain_categories}\n",
    "total_counts = []\n",
    "\n",
    "for vb in voltage_labels:\n",
    "    total = sum(voltage_bias_chain_counts[vb][cat] for cat in chain_categories)\n",
    "    total_counts.append(total)\n",
    "    for cat in chain_categories:\n",
    "        count = voltage_bias_chain_counts[vb][cat]\n",
    "        category_counts[cat].append(count)\n",
    "        percent = 100 * count / total if total > 0 else 0\n",
    "        category_percentages[cat].append(percent)\n",
    "\n",
    "# Plotting stacked bar chart\n",
    "fig, ax = plt.subplots(figsize=(10, 6))\n",
    "bottom = [0] * len(voltage_labels)\n",
    "\n",
    "colors = plt.cm.Pastel1.colors  # Use distinct pastel colors\n",
    "for i, cat in enumerate(chain_categories):\n",
    "    perc = category_percentages[cat]\n",
    "    bar = ax.bar(voltage_labels, perc, bottom=bottom, label=cat, color=colors_mono3[i % len(colors)])\n",
    "    \n",
    "    # Add text labels to each segment\n",
    "    for j in range(len(voltage_labels)):\n",
    "        if perc[j] > 0:\n",
    "            ax.text(j, bottom[j] + perc[j]/2, f\"{perc[j]:.1f}%\\n({category_counts[cat][j]})\",\n",
    "                    ha=\"center\", va=\"center\", fontsize=9, color=\"black\")\n",
    "    \n",
    "    bottom = [bottom[j] + perc[j] for j in range(len(voltage_labels))]\n",
    "\n",
    "ax.set_ylabel('Percentage (%)')\n",
    "ax.set_title('Distribution of Chain Match Categories Across Voltage Biases')\n",
    "ax.legend(title=\"Chain Match\")\n",
    "plt.ylim(0, 110)\n",
    "plt.xticks(rotation=30)\n",
    "plt.tight_layout()\n",
    "plt.show()\n",
    "\n"
   ]
  },
  {
   "cell_type": "code",
   "execution_count": 41,
   "id": "32eb5f85",
   "metadata": {},
   "outputs": [
    {
     "name": "stdout",
     "output_type": "stream",
     "text": [
      "1: high positive voltage bias at rear glass surface (silicon surface at negative potential/cathodic conditions) -> migration of alkali metal ions (Na, K, Ca) towards Si/AlOx interface -> alkali ions overcompensate field effect passivation of AlOx layer -> lateral corrosive reaction of silicon surface beneath AlOx/SiNy passivation layer stack, forming circular-shaped holes and SiO2 layer -> volume expansion of generated SiO2 layer causes delamination/destruction of SiN/AlOx passivation layer -> corrosion-related defects pit into rear silicon bulk, leading to failure of passivation and increased recombination (micron-sized hole-shaped damages) -> [reduction in short-circuit current (Isc), reduction in open-circuit voltage (Voc)], leading to power loss\n",
      "2: negative voltage bias -> sodium ion (Na+) migration from glass to cell -> accumulation of Na+ ions within cell across n+-p junction -> increase in shunt current (Ishp) -> formation of nonlinear and linear leakage paths -> [decrease in shunt resistance (Rsh), increase in recombinative diode parameters (I02, n2)] -> reduction in cell power output\n",
      "3: [negative voltage bias, non-uniform potential distribution (higher at module edges)] -> alkali ion (sodium, potassium) migration from substrate glass -> alkali ion accumulation in CIGS absorber layer (near buffer layer) and ZnO:Al front contact -> detrimental changes in donor/acceptor concentration in CIGS and CdS layers -> increase in bulk and CdS/CIGS interface defects -> increased recombination and non-radiative recombination -> [reduced open circuit voltage (Voc), reduced fill factor (FF)] -> [62% power output decrease, localized cell damage, shunt formation]\n",
      "4: [positive voltage bias, elevated temperature] -> [ion drift induced damage of dielectric/Si interface, charge accumulations] -> [increased density of electronic Si surface defect states, detrimental effect on field effect passivation] -> degradation of front side passivation layer (PID-p) -> increased charge carrier recombination -> reduced electroluminescence (EL) signal -> decreased short circuit current (Isc) -> power output decrease\n",
      "5: negative voltage bias from module string -> formation of strong ohmic shunts in single crystalline silicon cells, especially near aluminum frame -> [dramatic decrease in shunt resistance, increase in dark current] -> [inferior electrical performance, uneven temperature/EL intensity distribution among solar cells] -> power degradation\n",
      "6: negative voltage bias -> charge accumulation in SiNx/AlOx passivation films -> performance degradation (Pmpp reduction)\n",
      "7: negative voltage bias applied to cell circuit -> charge (positive ions, e.g., Na+) migrates through glass and EVA encapsulant towards the dielectric antireflective coating (passivation stack) on the front face -> positive charge accumulates in the dielectric antireflective coating at the interface with the p+ emitter -> accumulated positive charge electrostatically attracts photogenerated minority carrier electrons in the silicon to the dielectric interface -> increased recombination of minority carriers at the dielectric interface -> [loss of photocurrent (Isc), loss of cell voltage (Voc)] -> power output decrease (PID-p)\n",
      "8: [negative voltage bias] -> [Na+ ion migration] -> Na+ + e- -> Na -> H2O + Na -> NaOH + H -> In2O3 + 6H -> 2In + 3H2O -> precipitation of metallic indium (In) in TCO layer -> [TCO layer darkening, optical losses] -> Isc decrease -> reduced power output\n",
      "9: [negative voltage bias] -> [sodium (Na+) ions drift from glass to silicon cell] -> [junction shunting in silicon cell] -> [decrease in shunt resistance (RSH), Fill Factor (FF)] -> [Pmax degradation]\n",
      "10: [negative voltage bias, Na+ ion migration from cover glass/contaminants to front IWO layer] -> increased Na concentration in front IWO film -> chemical reduction of Na+ to Na atoms -> [Na atoms, residual moisture in EVA encapsulant] -> formation of elemental hydrogen (H) atoms -> elemental H atoms induce chemical reduction of In2O3 in IWO layer -> formation of metallic Indium (In) precipitates -> darkening of front IWO layer -> optical loss (shadowing) -> short-circuit current density (Jsc) reduction\n",
      "11: Sodium contaminations on bare silicon solar cell surface -> Application of positive voltage bias via corona discharge -> High electric field across silicon nitride antireflective coating (ARC) -> Sodium ion migration through silicon nitride layer -> Sodium decoration of stacking fault-like planar crystal defects penetrating p-n junction -> Shunt formation in silicon solar cells -> Decreased power output\n",
      "12: [negative voltage bias, high temperature, high humidity] -> reduction in shunt resistance -> power output decrease\n",
      "13: positive voltage bias -> net negative charge attracted to front passivating layer -> attracts more minority carrier holes from n+ emitter layer -> front recombination at dielectric interface with Si emitter -> surface recombination velocity (SRV) increases -> reduced intrinsic field effect passivation of AlOx layer -> module power decreases\n",
      "14: [negative voltage bias, electric fields] -> sodium ion migration from glass and encapsulant -> sodium diffusion into silicon -> sodium accumulation at SiNx/Si interface and in structural defects (stacking faults) -> formation of recombination active shunts -> local shunting -> power loss\n",
      "15: [negative voltage bias, Na+ ion migration from glass/encapsulant] -> Na+ ion decoration in stacking faults -> formation of PID shunting defects -> severe reduction of shunt resistance (Rsh) -> degradation of Pmax, Voc, FF, Jsc, and effective carrier lifetime\n",
      "16: [electric field (leakage currents between cells and module frame), oxidative degradation of EVA IIb encapsulant (making it more hydrophilic and conductive, and accumulating water)] -> enhanced sodium ion (Na+) migration from soda lime glass through EVA encapsulant -> Na+ penetration of anti-reflective coating -> shunting across p-n junctions in silicon cells -> [cell performance degradation, permanent power loss]\n",
      "17: [negative voltage bias, elevated temperature, high humidity] -> increased recombination losses (increased J02 diode saturation current) -> increased conductivity paths near module edges -> power output decrease\n",
      "18: [negative voltage bias, high temperature, humidity] -> Na+ ion migration from glass/contamination -> Na+ diffusion into silicon wafer defects (grain boundaries, dislocations) -> Na+ accumulation in defects, facilitating short circuit paths across p-n junction -> formation of local shunts in silicon cells -> drastic decline in parallel resistance (Rsh) -> [decrease in open-circuit voltage (Voc), decrease in conversion efficiency] -> power output decrease\n",
      "19: [positive voltage bias, high temperature, high humidity] -> Na ion drift through SiN ARC layer -> Na accumulation at SiN/Si interface, coinciding with crystallographic stacking faults -> formation of conductive channels through p-n junction -> localized electrical shunts -> reduction of parallel resistance and massive power loss\n",
      "20: positive voltage bias -> negative charges drift toward silicon cell -> [reduction in module power output, Fill Factor reduction]\n",
      "21: [negative voltage bias] -> leakage current through module -> accumulation of positive charges at front side of cell (either electronic or mobile Na+ ions) -> destruction of B-emitter surface passivation by attracting electrons and increasing SRH recombination (polarization effect) -> [deterioration of Jsc and Voc] -> efficiency loss\n",
      "22: negative voltage bias -> Na+ ion migration from front glass to silicon surface -> [Na+ ions penetrate into Si stacking faults (SF), Na+ ions diffuse into micro-cracks] -> Na atoms decorate Si SFs or increase recombination centers -> electronic structure of Si SFs modified toward ohmic channel or increased recombination centers -> shunting paths across p-n junction -> [Pmax, Rsh, FF, Voc decrease, J02, n2 increase]\n",
      "23: positive voltage bias -> negative charges accumulate in dielectric layers -> degradation of surface passivation properties -> [Pmax loss, Isc drop, J01, n1 increase]\n",
      "24: negative voltage bias -> sodium ion drift from glass substrate to molybdenum back contact -> sodium ion diffusion into the upper region of the CIGS absorber layer and CdS buffer layer -> formation of interstitial defects in CIGS absorber and CdS buffer layers, leading to lower doping density and minority lifetime -> damage to the p-n junction -> [decrease in open-circuit voltage (Voc), decrease in fill factor (FF)] -> 50% power output decrease and darkening of module edges\n",
      "25: [negative voltage bias, elevated temperature, high humidity, salt-mist environment] -> [Na+ ion generation and migration] -> [localized shunt formation in silicon cells] -> [power loss]\n",
      "26: [negative voltage bias, Na impurities on degraded cell surface, moisture ingress] -> chemical reduction of In2O3 TCO to metallic In -> metallic In precipitates within TCO -> metallic In precipitates absorb incident light -> reduction in Jsc (optical losses)\n",
      "27: Positive voltage bias on rear side (due to negative cell bias relative to grounded frame/back glass) -> Alkali ions (Na+, K+) migration from glass -> Alkali ions diffuse into Al2O3 passivation layer -> Positive charges of alkali ions neutralize negative fixed charges in Al2O3 layer -> Lowering of energy barrier on Si side -> Increased electron recombination at Si surface (minority carriers driven to surface) -> [Increased surface recombination velocity, reduced minority carrier lifetime] -> [Decreased Voc, Decreased Isc] -> Overall efficiency reduction\n",
      "28: positive voltage bias (+1 kV) applied to rear glass surface -> [release of electrons from K- and K0 centers in SiNy layer, migration of mobile charged species (e.g., Na+ ions) through SiNy layer] -> accumulation of positive charge in SiNy layer -> suppression of field effect passivation of AlOx layer -> increase in surface recombination velocity at rear surface -> decrease in quantum efficiency (especially for short wavelengths) -> reduction in short-circuit current and open-circuit voltage\n",
      "29: N/A\n",
      "30: [negative voltage bias, low conductivity of SiNx passivation film] -> charge accumulation on cell surface -> charge redistribution on cell surface -> destruction of cell surface passivation -> PV module efficiency degradation (PID)\n",
      "31: N/A\n",
      "32: [negative voltage bias] -> Na+ ions drift from glass to n+ side -> Na+ ions reduced -> Na atoms decorate Si SF -> Na-decorated SF behave as recombination centers -> [Pmax, FF, Voc decrease, J01 increase, slight Isc decrease, EQE spectrum reduction at short wavelengths]\n",
      "33: [-1000 V bias to solar cells (negative bias)] -> migration of positive charges (sodium ions, ionic charges) from rear glass/Si-passivation interface into AlOx/SiNx stack -> diminished field effect passivation of AlOx layer -> minority-carrier electrons attracted to rear surface -> increased recombination of minority-carrier electrons with majority-carrier holes at surface -> [loss in maximum power (Pmpp), short-circuit current (Isc), and open-circuit voltage (Voc)]\n",
      "34: negative voltage bias -> [degradation of front surface passivation, contamination by in-diffused ions] -> [uniform increase in non-radiative recombination, decrease of diffusion length in front floating emitter (FFE) region] -> severe decrease in short circuit current (Jsc) and open circuit voltage (Voc) -> power output decrease\n",
      "35: [H2O molecules] -> [facilitation of Na+ ion transport through tungsten-doped indium oxide (IWO) layer] -> [Na+ ions reach boron-doped hydrogenated amorphous silicon (p-a-Si:H) thin film] -> [destruction of effective boron doping in p-a-Si:H, poisoning of field passivation in p-a-Si:H, acceleration of p-a-Si:H oxidation forming a-SiO:H] -> [formation of shunting paths in p-n junction] -> [significant decline in fill factor (FF), slight reduction in open-circuit voltage (Voc)] -> [Na+ ions further diffuse into intrinsic amorphous silicon (i-a-Si:H) layer and crystalline silicon (c-Si) surface] -> [destruction of chemical passivation of i-a-Si:H] -> [substantial decrease in open-circuit voltage (Voc)]\n",
      "36: [Positive voltage bias at rear glass surface] -> [Na, K, Ca ion migration through SiNy and AlOx passivation layers and accumulation at Si/AlOx interface] -> [Accumulation of K, Na, Ca ions at Si/AlOx interface makes silicon locally cathodic, leading to cathodic corrosion and oxidation of Si surface, forming SiO2 layer] -> [SiO2 formation lifts off AlOx and SiNy layers due to volume expansion, creating holes/craters in passivation stack and Si bulk] -> [Reduced chemical passivation, formation of recombination-active defects (e.g., due to Na impurities) in Si bandgap] -> [Increased carrier recombination at localized spots] -> [Non-recoverable loss in short-circuit current (Isc), Non-recoverable loss in open-circuit voltage (Voc)] -> [Power degradation]\n",
      "37: DH stress (moisture ingress, reduced interfacial adhesion) -> positive voltage bias -> [moisture ingress, acetic acid from EVA] -> damage to Silicon Nitride layer -> electrochemical oxidation of metallization (grid fingers) -> corrosion of metallization -> rise in series resistance (Rs) and drop in fill factor (FF) -> power loss\n",
      "38: [negative voltage bias, high temperature] -> sodium ion (Na+) diffusion from soda lime glass -> Na+ migration towards Si cells -> potential-induced degradation (PID) in c-Si PV modules -> power loss (decreased efficiency, open-circuit voltage, and fill factor)\n",
      "39: monofacial PID stress testing (foil method) in a climatic chamber -> unintended electric field formation between the grounded climatic chamber frame and the non-stressed front side of the solar cell (at -1000 V) -> unintended PID stress on the non-stressed front side of the solar cell -> [power output degradation (PMAX, Isc, Voc, FF decrease), EQE response decrease]\n",
      "40: moisture ingress from module edges -> moisture corrodes glass surface, creating sodium hydroxide (NaOH) -> NaOH molecules diffuse through EVA encapsulant -> high negative voltage bias amplifies Na+ availability and enhances drift of Na+ ions and OH- groups through EVA to the cell -> Na+ ions and OH- groups diffuse through transparent conductive oxide (TCO), facilitated by grain boundaries, nano-cracks, and voids -> Na+ accumulation at amorphous Si/TCO interface -> creation of recombination centers for charge carriers at a-Si:H/c-Si interface and p-n junction -> increased recombination rates at p-n junction and interfaces -> deterioration of diode parameters -> [losses in short-circuit current (Isc), losses in fill factor (FF), losses in open-circuit voltage (Voc)] -> power output decrease\n",
      "41: N/A\n",
      "42: negative voltage bias -> polarization of the passivation layer -> increase in positive fixed charge in the front passivation layer -> depletion or inversion of the p-type-doped emitter -> increased diffusion of minority carriers to the surface -> increased front surface recombination -> [decrease in short-circuit current density (Jsc), open-circuit voltage (Voc)] -> power output decrease\n",
      "43: not reported\n",
      "44: [Salt-mist exposure (NaCl deposition, moisture) -> Increased surface conductivity and roughness of PET backsheet -> Enhanced Partial Discharge (PD) activity -> Electron bombardment and chemical reactions (ozone, oxygen radicals) -> Chemical degradation of PET backsheet (attack on double bonds, formation of carbonyl, hydroxyl, carboxylic groups), increased surface roughness, pit formation -> Electrical treeing and breakdown of backsheet] -> [Partial Discharge (PD) activity (AC electric field, high-field electron injection) -> Electron avalanche, dissociation of PET molecules -> Formation of deep traps, scission of polymer chains, interlamellar re-conformation -> Increased crystallinity of PET backsheet -> Internal degradation of backsheet] -> [[Salt-mist exposure, Partial Discharge (PD) activity] -> Chloride ion attack on ester groups, hydrogen bond formation with ester groups -> Cleavage of O=C bond, decrease of average molecular weight -> Chemical degradation of PET backsheet]\n",
      "45: High negative voltage bias -> Electrical leakage current between cells and glass/frame -> Sodium ion (Na+) migration from soda-lime glass through polymeric encapsulant to cell surface -> Sodium ion (Na+) diffusion into silicon solar cell pn-junction -> Increased shunting at pn-junction / formation of local shunts -> Increased electron-hole pair recombination and decreased charge build-up across pn-junction -> [Decrease in open-circuit voltage (Voc), shunt resistance (Rsh), and fill factor (FF)] -> Decrease in module power output (Pmpp)\n",
      "46: negative voltage bias -> leakage currents flow between frame and cells -> charge accumulation in front SiNx/SiO2 antireflection/passivation layers -> positive charges accumulate on SiNx surface -> positive charges extract electrons from K° and K- centers, leaving K+ centers in SiNx -> K+ centers shift net charge of SiNx toward positive -> minority carriers (electrons) attracted to SiNx/c-Si interface -> interface recombination via interface defect states enhanced -> [increased Jo1, reduced Jsc and Voc, reduced EQE in short-wavelength range, reduced effective minority-carrier lifetime]\n",
      "47: Negative voltage bias applied to p-type surface -> Polarization of encapsulant and accumulation of transferred holes on SiNx surface -> Extraction of electrons from K° and K¯ centers in SiNx, forming excess K+ centers -> Positive shift of net charge in SiNx -> Attraction of minority carriers (electrons) to SiNx/c-Si interface -> Enhanced interface recombination via interface defect states -> [Reduction in short-circuit current density (Jsc), Reduction in open-circuit voltage (Voc)] -> Power output decrease\n",
      "48: negative voltage bias -> Na ion migration from soda-lime glass to SiNx/Si interface and Si bulk -> Na ions generate and electrically activate defect states (shallow trap states) at SiNx/Si interface and in Si bulk -> Increased carrier recombination and entrapment in silicon cell -> Reduced photogenerated carrier density and carrier lifetime -> [Decreased charge collection efficiency, Decreased fill factor, Decreased open-circuit voltage] -> PV module power loss\n",
      "49: positive voltage bias (electric field treatment) -> sodium ion migration from soda-lime glass to silicon cell surface -> sodium ions drift through SiNx layers to stacking faults in silicon -> Na+ decorated stacking faults create partially occupied defect levels in silicon bandgap -> defect levels act as sites for Shockley-Read-Hall (SRH) recombination in depletion region -> reduction of shunt resistance (Rsh) -> [decrease in open circuit voltage, power conversion efficiency (PCE)]\n",
      "50: N/A\n",
      "51: [negative voltage bias, moisture ingress into front encapsulant layer] -> reduction of EVA volume resistivity -> Na+ ion migration from front glass -> Na+ accumulation on ARC layer -> creation and decoration of stacking faults by alkali metal ions -> severe shunting of p-n junction in silicon cell -> overall cell power output degradation\n",
      "52: negative voltage bias -> Na penetration in front n+ area -> recombination centers creation -> [Jsc drop, Voc drop, J01 increase] -> non-homogeneous EL intensity reduction -> reduced power output\n",
      "53: negative voltage bias -> charge accumulation in front SiNx layers -> attraction of minority carriers and enhanced interface recombination via interface defects -> [reductions in short-circuit current density (Jsc), reductions in open-circuit voltage (Voc)]\n",
      "54: [negative voltage bias, Na+ ions migrate from module components (cover glass, contaminants) through SiNx passivation layers into c-Si substrate] -> Na accumulates at SiNx/Si interface and in Si bulk -> Na impurities (lifetime killer) produce defect states at pn junction interface -> strongly enhanced recombination in depletion region of pn junction via multiple defect states -> [reduction in FF, increased Jo2 and n2 > 2 (nonlinear shunting)]\n",
      "55: Positive voltage bias applied to n-type surface -> Accumulation of negative charges on SiNx surface -> Formation of excess K¯ centers in SiNx -> Negative shift of net charge in SiNx -> Attraction of minority carriers (holes) to SiNx/c-Si interface -> Enhanced interface recombination via interface defect states -> [Reduction in short-circuit current density (Jsc), Reduction in open-circuit voltage (Voc)] -> Power output decrease\n",
      "56: [DH stress (moisture ingress, reduced interfacial adhesion), negative voltage bias] -> sodium ion migration from glass to cell -> sodium ion diffusion into PN junction -> [decline in fill factor (FF), decline in shunt resistance (RSH)] -> power loss\n",
      "57: positive voltage bias -> negative charges accumulate in dielectric layers -> degradation of surface passivation properties -> [Isc drop, Voc drop, increased effective SRV]\n",
      "58: negative voltage bias -> [dust accumulation on module surface, humidity] -> water vapor condensation on hygroscopic dust particles -> water trapped in dust pores reduces dust resistivity -> enhanced electrical conductivity of dust -> significantly elevated leakage current -> accelerated sodium ion migration from surface encapsulation glass through encapsulation material to P-N junction -> accelerated formation of local shunts (PID-s) -> increased reduction in module power output\n",
      "59: [Potential difference (voltage bias) between PV cells and module outer part, High temperature, High relative humidity] -> [Leakage current increase, Reduced resistivity of glass and encapsulant, Increased conductivity of moisture and ion transport] -> Accelerated leakage current increase and PID -> Module power output degradation and system failure\n",
      "60: negative voltage bias -> positive charges accumulate in dielectric layers -> degradation of surface passivation properties -> [Pmax loss, Isc drop, J01, n1 increase]\n",
      "61: high voltage bias -> ion diffusion (sodium ion migration) -> decoration of stacking faults with sodium -> localized micro-shunts formation in crystalline-silicon cells -> dramatic power losses\n",
      "62: negative voltage bias -> formation of additional leakage current paths (shunts) in silicon cells -> [reduction in shunt resistance (Rsh), increase in recombination (J02)] -> [increased local heat dissipation, higher cell temperature] -> decreased power output\n",
      "63: Negative voltage bias -> Migration of mobile positive charges (K+ centers) in the a-SiN:H antireflective dielectric layer towards the module superstrate -> Accumulation of negative charge in the dielectric layer -> Attraction of minority carrier holes from n-type silicon to the front interface -> Increased recombination at the silicon/dielectric interface -> [Reduction in open circuit voltage (Voc), Reduction in short-circuit current (Isc)] -> Decrease in module power output\n",
      "64: negative voltage bias -> migration of Na+ ions from soda-lime cover glass -> Na+ ions migrate into silicon nitride (SiNx) film on silicon cell surface -> formation of shunt passes in pn-junctions of silicon cells -> [decrease in open circuit voltage (Voc), fill factor (FF), conversion efficiency (η)]\n",
      "65: [negative voltage bias] -> formation of micrometer-sized Na precipitates on cell surface -> Na-based precipitates erode c-Si substrate and SiNx/SiO2 passivation/antireflection layer -> destruction of surface passivation and pn junction -> [reduced Voc, reduced FF]\n",
      "66: N/A\n",
      "67: negative voltage bias -> positive charges accumulate on SiNx surface -> positive charges extract electrons from Ko and K- centers -> K+ defects formed -> net charge in passivation layers shifts to more positive value -> minority charge carrier electrons recombine at Si surface -> enhanced recombination in SCR -> [Pmax decrease, Jsc decrease, Voc decrease, J01 increase, n1 increase] -> saturation effect when all K-centers are positively charged\n",
      "68: negative voltage bias -> migration of positive ions (e.g., sodium ions) from soda lime glass towards ARC layer -> formation of a charge double layer (positive ions and attracted/created negative charges) in the ARC layer/at ARC-silicon interface -> electrical field from charge double layer repels emitter electrons -> n⁺ emitter inverts to p⁺ conducting region -> tunnel junction formation at newly formed p⁺-n* junction -> reduction of parallel resistance (Rp) / formation of microscopic local ohmic shunts -> performance decrease\n",
      "69: [negative voltage bias relative to grounded frame] -> sodium ion (Na+) migration from soda-lime glass and anti-reflective coating -> Na+ diffusion into crystallographic defects (stacking faults) in c-Si solar cell -> formation of shunt paths across the pn junction -> [decrease in power output, EL intensity]\n",
      "70: [high negative voltage bias, polarization of solar cell] -> ion migration from encapsulant impurities -> formation of conductive path -> generation of leakage current -> decrease in solar output and power loss (upto 30%)\n",
      "71: [high voltage stress] -> [sodium ion migration from PV cell surface to pn junction] -> sodium ion accumulation inside stacking faults (crystallographic defects) -> shunt path formation across pn junction\n",
      "72: [negative voltage bias (-1000 V), 60 C temperature] -> Na+ ion diffusion into SiNx film -> Na+ ions captured at charge trapping centers in dielectric layer -> degradation of dielectric/substrate interface quality and increased leakage current -> shunt resistance degradation (Rsh) -> Potential Induced Degradation (PID)\n",
      "73: negative voltage bias -> voltage stress at SiNx/Si interface -> presence of N-H bonds at SiNx/Si interface -> damage to dielectric/Si interface -> degradation of surface passivation -> increase in leakage current -> shunt resistance (Rsh) degradation\n",
      "74: not reported\n",
      "75: positive potential conditions -> accumulation of electrons or holes in silicon nitride (SiNx) and silicon oxide (SiO2) anti-reflective coating (ARC) layers -> surface recombination of minority carriers -> [decrease in open-circuit voltage (Voc), short circuit current (Isc)] -> PV performance reduction\n",
      "76: [elevated voltage bias, increased temperature, increased humidity] -> formation of Na+ ions in aqueous solution from float glass -> drift of Na+ ions towards solar cell surface -> diffusion of Na+ ions into SiNx layer and accumulation at SiNx/Si interface -> accumulation of positive charges within SiNx layer -> induction of negative charges at SiNx/Si interface -> repulsion of majority charges from n-doped emitter surface -> formation of inversion layer in emitter region -> disappearance of built-in field gradient at p-n junction -> formation of extended ohmic shunted regions -> total breakdown of module power\n",
      "77: [negative voltage bias] -> positive charges migrate into rear dielectric stack (SiNx/AlOx) -> depletion of holes at AlOx/Si interface -> increase of effective SRV -> [Isc drop, J01, n1 increase, homogeneous decrease of PL/EL intensities, drop of IQE/EQE spectrum at long wavelengths] -> continued positive charge migration -> Si band bending increases -> inversion layer of electrons created along rear p-type Si surface -> majority-carrier holes pushed away from rear surface -> decrease of effective SRV -> [Isc increase, I-V parameters regenerate]\n",
      "78: UV radiation -> [activation of interface defect states (increasing Dit), deterioration of fixed charges Qf at interface] -> deterioration of B-emitter surface passivation (chemical and field-effect) -> efficiency loss\n",
      "79: negative voltage bias -> electric field created toward cells -> K-center charge states in SiNx change from negative to positive (K-/K0 release electrons) -> positive charges accumulate in dielectric layers (SiNx) -> reduced field-effect passivation on rear p+ side of p-PERC modules -> increased surface recombination velocity -> [reduction in module power output (Pmax), short circuit current (Isc)]\n",
      "80: positive voltage bias -> negative charges accumulate within SiNx -> negative charges overcome inherent fixed positive charges -> surface potential moves toward depletion -> effective SRV increases -> [Pmax loss, Isc drop, J01, n1 increase]\n",
      "81: [positive voltage bias] -> [charge accumulation in dielectric passivation layer(s)] -> [reduced power output]\n",
      "82: negative voltage bias -> Na atoms introduced into front surface region of cells (not near pn junction) -> Na atoms behave as recombination centers -> [decreased effective minority-carrier lifetime, reduced EQE in short-wavelength range, increased Jo1] -> [reductions in Jsc, Voc]\n",
      "83: negative voltage bias -> Na+ ion drift -> p-n junction shunting -> localized intensity decrease in EL images -> [FF impact, Rsh impact]\n",
      "84: [positive voltage bias] -> negative charges accumulate in dielectric layers -> degradation of surface passivation properties -> [Pmax loss, Isc drop, J01, n1 increase]\n",
      "85: [high voltage bias, impurities (Ca, Na, K) from etching solution] -> enhanced Si oxidation at AlOx/Si interface -> formation of SiOx causing mechanical strain -> cracks and detachment of SiNy and AlOx passivation layers from Si bulk -> diminished passivation effect and increased recombination of charge carriers -> irreversible power losses and surface damage (pits/holes)\n",
      "86: [negative voltage bias] -> Na+ + e- -> Na -> H2O + Na -> NaOH + H -> In2O3 + 6H -> 2In + 3H2O -> precipitation of metallic indium (In) in TCO layer -> TCO layer darkening -> optical losses -> [Isc decrease] -> irreversible degradation\n",
      "87: negative voltage bias -> migration of Na+ ions from solar glass and encapsulant into Si cell -> Na+ diffusion into Si bulk, facilitated by strain -> formation of harmful point defects (deep levels and donor-like shallow states) in Si -> [massive Shockley-Read-Hall (SRH) recombination and lifetime degradation in Si material, altering of p-doping and widening of depletion region] -> poor quality p-n junction formation with leaky carrier transport, large-area junction leakage, and reduced minority carrier collection -> large-area material and junction degradation -> decreased module performance\n",
      "88: negative voltage bias -> positive charge accumulation in front surface passivation/anti-reflection (AR) stack -> disruption of field passivation effect -> loss of photocurrent and cell voltage -> power degradation\n"
     ]
    }
   ],
   "source": [
    "simplified_mechanism_chains = []\n",
    "\n",
    "folder = \"Mech_Chain_Analysis3\"\n",
    "for fname in os.listdir(folder):\n",
    "    if fname.endswith(\".json\"):\n",
    "        with open(os.path.join(folder, fname), \"r\", encoding=\"utf-8\") as f:\n",
    "            data = json.load(f)\n",
    "            # Handle both list of dicts and single dict\n",
    "            entries = data if isinstance(data, list) else [data]\n",
    "            for entry in entries:\n",
    "                chain = entry.get(\"simplified mechanism chain\", \"not reported\")\n",
    "                simplified_mechanism_chains.append(chain)\n",
    "\n",
    "for i, chain in enumerate(simplified_mechanism_chains, 1):\n",
    "    print(f\"{i}: {chain}\")"
   ]
  },
  {
   "cell_type": "code",
   "execution_count": 42,
   "id": "da0af9ae",
   "metadata": {},
   "outputs": [
    {
     "data": {
      "image/png": "[encoded data removed]",
      "text/plain": [
       "<Figure size 800x600 with 1 Axes>"
      ]
     },
     "metadata": {},
     "output_type": "display_data"
    }
   ],
   "source": [
    "# Aggregate counts of PID types for each voltage bias\n",
    "pid_types_of_interest = [\"PID-c\", \"PID-s\", \"PID-p\"]\n",
    "voltage_pid_counts = {}\n",
    "\n",
    "for fname in os.listdir(folder):\n",
    "    if fname.endswith(\".json\"):\n",
    "        with open(os.path.join(folder, fname), \"r\", encoding=\"utf-8\") as f:\n",
    "            data = json.load(f)\n",
    "            entries = data if isinstance(data, list) else [data]\n",
    "            for entry in entries:\n",
    "                vb = entry.get(\"voltage bias\", \"not reported\")\n",
    "                pid_types = entry.get(\"PID type studied\", \"not reported\")\n",
    "                if isinstance(pid_types, str):\n",
    "                    pid_types = [pid.strip() for pid in pid_types.split(\",\")]\n",
    "                if vb not in voltage_pid_counts:\n",
    "                    voltage_pid_counts[vb] = {pid: 0 for pid in pid_types_of_interest}\n",
    "                for pid in pid_types:\n",
    "                    if pid in pid_types_of_interest:\n",
    "                        voltage_pid_counts[vb][pid] += 1\n",
    "\n",
    "# Prepare data for plotting\n",
    "voltage_bias_labels = [vb for vb in voltage_pid_counts if vb != \"not reported\"]\n",
    "pid_counts_per_vb = {pid: [voltage_pid_counts[vb][pid] for vb in voltage_bias_labels] for pid in pid_types_of_interest}\n",
    "totals_per_vb = [sum(voltage_pid_counts[vb][pid] for pid in pid_types_of_interest) for vb in voltage_bias_labels]\n",
    "\n",
    "# Calculate percentages\n",
    "pid_perc_per_vb = {pid: [100 * count / total if total > 0 else 0 for count, total in zip(pid_counts_per_vb[pid], totals_per_vb)] for pid in pid_types_of_interest}\n",
    "\n",
    "# Plot\n",
    "fig, ax = plt.subplots(figsize=(8, 6))\n",
    "bottom = [0] * len(voltage_bias_labels)\n",
    "colors_stack = [colors_mono2[0], colors_mono2[1], colors_mono2[2]]\n",
    "\n",
    "for idx, pid in enumerate(pid_types_of_interest):\n",
    "    bars = ax.bar(\n",
    "        voltage_bias_labels,\n",
    "        pid_perc_per_vb[pid],\n",
    "        bottom=bottom,\n",
    "        label=pid,\n",
    "        color=colors_stack[idx]\n",
    "    )\n",
    "    # Add labels inside each bar segment\n",
    "    for i, bar in enumerate(bars):\n",
    "        perc = pid_perc_per_vb[pid][i]\n",
    "        count = pid_counts_per_vb[pid][i]\n",
    "        if perc > 0:\n",
    "            ax.text(\n",
    "                bar.get_x() + bar.get_width() / 2,\n",
    "                bottom[i] + perc / 2,\n",
    "                f'{perc:.1f}%\\n({count})',\n",
    "                ha='center',\n",
    "                va='center',\n",
    "                color='black',\n",
    "                fontsize=10\n",
    "            )\n",
    "    bottom = [b + p for b, p in zip(bottom, pid_perc_per_vb[pid])]\n",
    "\n",
    "ax.set_ylabel('Percentage (%)')\n",
    "ax.set_xlabel('Voltage Bias')\n",
    "ax.set_title('Distribution of PID Types by Voltage Bias')\n",
    "ax.legend(title=\"PID type studied\")\n",
    "\n",
    "plt.ylim(0, 110)\n",
    "plt.tight_layout()\n",
    "plt.show()"
   ]
  },
  {
   "cell_type": "markdown",
   "id": "99e3a6e5",
   "metadata": {},
   "source": [
    "# run Chi Square tests on different data groupings"
   ]
  },
  {
   "cell_type": "markdown",
   "id": "70a16718",
   "metadata": {},
   "source": [
    "Voltage bias & PID Type\n"
   ]
  },
  {
   "cell_type": "code",
   "execution_count": 64,
   "id": "61a8fe22",
   "metadata": {},
   "outputs": [
    {
     "name": "stdout",
     "output_type": "stream",
     "text": [
      "Contingency Table:\n",
      "                PID-c  PID-s  PID-p  PID-s, PID-c  not reported  PID-c, PID-s\n",
      "positive (+)        4      3      9             1             6             0\n",
      "negative (-)       19     32     16             4             1             1\n",
      "both (+ and -)      1      4      5             1             0             0\n",
      "none                1      1      0             0             2             0\n"
     ]
    }
   ],
   "source": [
    "# create contingency table\n",
    "import os\n",
    "import json\n",
    "import pandas as pd\n",
    "from collections import defaultdict\n",
    "\n",
    "# === CONFIGURATION ===\n",
    "json_dir = \"Mech_Chain_Analysis3\"  # Folder with JSON files\n",
    "category1 = \"voltage bias\"         # First category (e.g., Positive/Negative)\n",
    "category2 = \"PID type studied\"     # Second category (e.g., PID-s, PID-c, etc.)\n",
    "\n",
    "# === VALUE MAPPING FOR category2 ===\n",
    "value_map = {\n",
    "    \"Na-penetration-type PID\": \"PID-s\",\n",
    "    \"not specified\": \"not reported\"\n",
    "}\n",
    "\n",
    "# === BUILD FREQUENCY TABLE ===\n",
    "contingency_dict = defaultdict(lambda: defaultdict(int))\n",
    "\n",
    "for filename in os.listdir(json_dir):\n",
    "    if filename.endswith(\".json\"):\n",
    "        with open(os.path.join(json_dir, filename), \"r\") as f:\n",
    "            try:\n",
    "                data = json.load(f)\n",
    "                # Handle files with a list of dicts or a single dict\n",
    "                entries = data if isinstance(data, list) else [data]\n",
    "                for entry in entries:\n",
    "                    val1 = entry.get(category1)\n",
    "                    val2 = entry.get(category2)\n",
    "                    if val1 and val2:\n",
    "                        if isinstance(val2, list):\n",
    "                            for v in val2:\n",
    "                                v_mapped = value_map.get(v, v)\n",
    "                                contingency_dict[val1][v_mapped] += 1\n",
    "                        else:\n",
    "                            v_mapped = value_map.get(val2, val2)\n",
    "                            contingency_dict[val1][v_mapped] += 1\n",
    "            except json.JSONDecodeError:\n",
    "                print(f\"Skipping invalid JSON: {filename}\")\n",
    "\n",
    "# Convert to pandas DataFrame\n",
    "df = pd.DataFrame(contingency_dict).T.fillna(0).astype(int)\n",
    "print(\"Contingency Table:\")\n",
    "print(df)\n",
    "\n"
   ]
  },
  {
   "cell_type": "code",
   "execution_count": 65,
   "id": "976c853a",
   "metadata": {},
   "outputs": [
    {
     "name": "stdout",
     "output_type": "stream",
     "text": [
      "\n",
      "Chi-Square Test Results:\n",
      "Chi-square statistic = 34.584\n",
      "Degrees of freedom = 15\n",
      "p-value = 0.0028\n",
      "\n",
      "Expected Frequencies:\n",
      "                    PID-c      PID-s      PID-p  PID-s, PID-c  not reported  \\\n",
      "positive (+)     5.180180   8.288288   6.216216      1.243243      1.864865   \n",
      "negative (-)    16.441441  26.306306  19.729730      3.945946      5.918919   \n",
      "both (+ and -)   2.477477   3.963964   2.972973      0.594595      0.891892   \n",
      "none             0.900901   1.441441   1.081081      0.216216      0.324324   \n",
      "\n",
      "                PID-c, PID-s  \n",
      "positive (+)        0.207207  \n",
      "negative (-)        0.657658  \n",
      "both (+ and -)      0.099099  \n",
      "none                0.036036  \n"
     ]
    }
   ],
   "source": [
    "# Chi-Square test\n",
    "from scipy.stats import chi2_contingency\n",
    "\n",
    "# Make sure the table is numeric and not empty\n",
    "if df.shape[0] > 1 and df.shape[1] > 1:\n",
    "    chi2, p, dof, expected = chi2_contingency(df)\n",
    "\n",
    "    print(\"\\nChi-Square Test Results:\")\n",
    "    print(f\"Chi-square statistic = {chi2:.3f}\")\n",
    "    print(f\"Degrees of freedom = {dof}\")\n",
    "    print(f\"p-value = {p:.4f}\")\n",
    "    print(\"\\nExpected Frequencies:\")\n",
    "    print(pd.DataFrame(expected, index=df.index, columns=df.columns))\n",
    "else:\n",
    "    print(\"Chi-square test not applicable: table is too small.\")\n"
   ]
  },
  {
   "cell_type": "markdown",
   "id": "592a2f5e",
   "metadata": {},
   "source": [
    "PID Type & Module Technology"
   ]
  },
  {
   "cell_type": "code",
   "execution_count": 66,
   "id": "88bda274",
   "metadata": {},
   "outputs": [
    {
     "name": "stdout",
     "output_type": "stream",
     "text": [
      "Contingency Table:\n",
      "              PID-c  PID-p  PID-s  PID-c, PID-s  not reported  \\\n",
      "mono-c-Si        12     21     16             1             6   \n",
      "c-Si              1      3      9             0             0   \n",
      "CIGS              2      0      0             0             0   \n",
      "n-type c-Si       4      3      0             0             0   \n",
      "HIT               4      0      4             0             2   \n",
      "multi-c-Si        6      2     14             0             0   \n",
      "not reported      0      0      1             0             1   \n",
      "\n",
      "              PID-p, PID-c, Na-penetration-type PID  PID-s, PID-c  \n",
      "mono-c-Si                                         1             0  \n",
      "c-Si                                              0             1  \n",
      "CIGS                                              0             0  \n",
      "n-type c-Si                                       0             0  \n",
      "HIT                                               0             0  \n",
      "multi-c-Si                                        0             0  \n",
      "not reported                                      0             0  \n"
     ]
    }
   ],
   "source": [
    "# create contingency table\n",
    "import os\n",
    "import json\n",
    "import pandas as pd\n",
    "from collections import defaultdict\n",
    "\n",
    "# === CONFIGURATION ===\n",
    "json_dir = \"Mech_Chain_Analysis2\"  # Folder with JSON files\n",
    "category1 = \"module technology\"         # First category (e.g., Positive/Negative)\n",
    "category2 = \"PID type studied\"     # Second category (e.g., PID-s, PID-c, etc.)\n",
    "\n",
    "# === VALUE MAPPING FOR category2 ===\n",
    "value_map = {\n",
    "    \"Na-penetration-type PID\": \"PID-s\",\n",
    "    \"not specified\": \"not reported\"\n",
    "}\n",
    "\n",
    "# === BUILD FREQUENCY TABLE ===\n",
    "contingency_dict = defaultdict(lambda: defaultdict(int))\n",
    "\n",
    "for filename in os.listdir(json_dir):\n",
    "    if filename.endswith(\".json\"):\n",
    "        with open(os.path.join(json_dir, filename), \"r\") as f:\n",
    "            try:\n",
    "                data = json.load(f)\n",
    "                # Handle files with a list of dicts or a single dict\n",
    "                entries = data if isinstance(data, list) else [data]\n",
    "                for entry in entries:\n",
    "                    val1 = entry.get(category1)\n",
    "                    val2 = entry.get(category2)\n",
    "                    if val1 and val2:\n",
    "                        # Handle val1 as list or str\n",
    "                        val1_list = val1 if isinstance(val1, list) else [val1]\n",
    "                        val2_list = val2 if isinstance(val2, list) else [val2]\n",
    "                        for v1 in val1_list:\n",
    "                            for v2 in val2_list:\n",
    "                                v2_mapped = value_map.get(v2, v2)\n",
    "                                contingency_dict[v1][v2_mapped] += 1\n",
    "            except json.JSONDecodeError:\n",
    "                print(f\"Skipping invalid JSON: {filename}\")\n",
    "\n",
    "# Convert to pandas DataFrame\n",
    "df = pd.DataFrame(contingency_dict).T.fillna(0).astype(int)\n",
    "print(\"Contingency Table:\")\n",
    "print(df)"
   ]
  },
  {
   "cell_type": "code",
   "execution_count": 67,
   "id": "f5cef722",
   "metadata": {},
   "outputs": [
    {
     "name": "stdout",
     "output_type": "stream",
     "text": [
      "\n",
      "Chi-Square Test Results:\n",
      "Chi-square statistic = 51.184\n",
      "Degrees of freedom = 36\n",
      "p-value = 0.0482\n",
      "\n",
      "Expected Frequencies:\n",
      "                  PID-c      PID-p      PID-s  PID-c, PID-s  not reported  \\\n",
      "mono-c-Si     14.500000  14.500000  22.000000      0.500000      4.500000   \n",
      "c-Si           3.561404   3.561404   5.403509      0.122807      1.105263   \n",
      "CIGS           0.508772   0.508772   0.771930      0.017544      0.157895   \n",
      "n-type c-Si    1.780702   1.780702   2.701754      0.061404      0.552632   \n",
      "HIT            2.543860   2.543860   3.859649      0.087719      0.789474   \n",
      "multi-c-Si     5.596491   5.596491   8.491228      0.192982      1.736842   \n",
      "not reported   0.508772   0.508772   0.771930      0.017544      0.157895   \n",
      "\n",
      "              PID-p, PID-c, Na-penetration-type PID  PID-s, PID-c  \n",
      "mono-c-Si                                  0.500000      0.500000  \n",
      "c-Si                                       0.122807      0.122807  \n",
      "CIGS                                       0.017544      0.017544  \n",
      "n-type c-Si                                0.061404      0.061404  \n",
      "HIT                                        0.087719      0.087719  \n",
      "multi-c-Si                                 0.192982      0.192982  \n",
      "not reported                               0.017544      0.017544  \n"
     ]
    }
   ],
   "source": [
    "# Chi-Square test\n",
    "from scipy.stats import chi2_contingency\n",
    "\n",
    "# Make sure the table is numeric and not empty\n",
    "if df.shape[0] > 1 and df.shape[1] > 1:\n",
    "    chi2, p, dof, expected = chi2_contingency(df)\n",
    "\n",
    "    print(\"\\nChi-Square Test Results:\")\n",
    "    print(f\"Chi-square statistic = {chi2:.3f}\")\n",
    "    print(f\"Degrees of freedom = {dof}\")\n",
    "    print(f\"p-value = {p:.4f}\")\n",
    "    print(\"\\nExpected Frequencies:\")\n",
    "    print(pd.DataFrame(expected, index=df.index, columns=df.columns))\n",
    "else:\n",
    "    print(\"Chi-square test not applicable: table is too small.\")"
   ]
  },
  {
   "cell_type": "markdown",
   "id": "0a221480",
   "metadata": {},
   "source": [
    "PID type & Temp"
   ]
  },
  {
   "cell_type": "code",
   "execution_count": 68,
   "id": "eaef8e55",
   "metadata": {},
   "outputs": [
    {
     "name": "stdout",
     "output_type": "stream",
     "text": [
      "Contingency Table:\n",
      "                 PID-c  PID-s  PID-p  PID-c, PID-s  not reported  \\\n",
      "elevated (>25C)     27     38     23             1             8   \n",
      "room (25 C)          1      4      5             0             0   \n",
      "not reported         0      1      1             0             1   \n",
      "\n",
      "                 PID-p, PID-c, Na-penetration-type PID  PID-s, PID-c  \n",
      "elevated (>25C)                                      1             0  \n",
      "room (25 C)                                          0             1  \n",
      "not reported                                         0             0  \n"
     ]
    }
   ],
   "source": [
    "# create contingency table\n",
    "import os\n",
    "import json\n",
    "import pandas as pd\n",
    "from collections import defaultdict\n",
    "\n",
    "# === CONFIGURATION ===\n",
    "json_dir = \"Mech_Chain_Analysis2\"  # Folder with JSON files\n",
    "category1 = \"temperature\"         # First category (e.g., Positive/Negative)\n",
    "category2 = \"PID type studied\"     # Second category (e.g., PID-s, PID-c, etc.)\n",
    "\n",
    "# === VALUE MAPPING FOR category2 ===\n",
    "value_map = {\n",
    "    \"Na-penetration-type PID\": \"PID-s\",\n",
    "    \"not specified\": \"not reported\"\n",
    "}\n",
    "\n",
    "# === BUILD FREQUENCY TABLE ===\n",
    "contingency_dict = defaultdict(lambda: defaultdict(int))\n",
    "\n",
    "for filename in os.listdir(json_dir):\n",
    "    if filename.endswith(\".json\"):\n",
    "        with open(os.path.join(json_dir, filename), \"r\") as f:\n",
    "            try:\n",
    "                data = json.load(f)\n",
    "                # Handle files with a list of dicts or a single dict\n",
    "                entries = data if isinstance(data, list) else [data]\n",
    "                for entry in entries:\n",
    "                    val1 = entry.get(category1)\n",
    "                    val2 = entry.get(category2)\n",
    "                    if val1 and val2:\n",
    "                        # Handle val1 as list or str\n",
    "                        val1_list = val1 if isinstance(val1, list) else [val1]\n",
    "                        val2_list = val2 if isinstance(val2, list) else [val2]\n",
    "                        for v1 in val1_list:\n",
    "                            for v2 in val2_list:\n",
    "                                v2_mapped = value_map.get(v2, v2)\n",
    "                                contingency_dict[v1][v2_mapped] += 1\n",
    "            except json.JSONDecodeError:\n",
    "                print(f\"Skipping invalid JSON: {filename}\")\n",
    "\n",
    "# Convert to pandas DataFrame\n",
    "df = pd.DataFrame(contingency_dict).T.fillna(0).astype(int)\n",
    "print(\"Contingency Table:\")\n",
    "print(df)"
   ]
  },
  {
   "cell_type": "code",
   "execution_count": 69,
   "id": "8466030a",
   "metadata": {},
   "outputs": [
    {
     "name": "stdout",
     "output_type": "stream",
     "text": [
      "\n",
      "Chi-Square Test Results:\n",
      "Chi-square statistic = 16.809\n",
      "Degrees of freedom = 12\n",
      "p-value = 0.1569\n",
      "\n",
      "Expected Frequencies:\n",
      "                 PID-c      PID-s      PID-p  PID-c, PID-s  not reported  \\\n",
      "elevated (>25C)  24.50  37.625000  25.375000      0.875000      7.875000   \n",
      "room (25 C)       2.75   4.223214   2.848214      0.098214      0.883929   \n",
      "not reported      0.75   1.151786   0.776786      0.026786      0.241071   \n",
      "\n",
      "                 PID-p, PID-c, Na-penetration-type PID  PID-s, PID-c  \n",
      "elevated (>25C)                               0.875000      0.875000  \n",
      "room (25 C)                                   0.098214      0.098214  \n",
      "not reported                                  0.026786      0.026786  \n"
     ]
    }
   ],
   "source": [
    "# Chi-Square test\n",
    "from scipy.stats import chi2_contingency\n",
    "\n",
    "# Make sure the table is numeric and not empty\n",
    "if df.shape[0] > 1 and df.shape[1] > 1:\n",
    "    chi2, p, dof, expected = chi2_contingency(df)\n",
    "\n",
    "    print(\"\\nChi-Square Test Results:\")\n",
    "    print(f\"Chi-square statistic = {chi2:.3f}\")\n",
    "    print(f\"Degrees of freedom = {dof}\")\n",
    "    print(f\"p-value = {p:.4f}\")\n",
    "    print(\"\\nExpected Frequencies:\")\n",
    "    print(pd.DataFrame(expected, index=df.index, columns=df.columns))\n",
    "else:\n",
    "    print(\"Chi-square test not applicable: table is too small.\")"
   ]
  },
  {
   "cell_type": "markdown",
   "id": "860ea9a7",
   "metadata": {},
   "source": [
    "PID Type & Humidity"
   ]
  },
  {
   "cell_type": "code",
   "execution_count": 70,
   "id": "b610c40b",
   "metadata": {},
   "outputs": [
    {
     "name": "stdout",
     "output_type": "stream",
     "text": [
      "Contingency Table:\n",
      "              PID-s  PID-c  not reported  PID-p\n",
      "not reported      8      9             1      9\n",
      "50-60%            4      0             0      3\n",
      "80-90%           16     10             2      3\n",
      "90-100%           1      1             0      0\n",
      "40-50%            2      2             0      1\n",
      "60-70%            3      1             0      1\n",
      "30-40%            2      1             5      3\n",
      "70-80%            2      1             0      1\n",
      "20-30%            1      0             0      0\n",
      "0-10%             7      6             1      9\n",
      "10-20%            1      1             0      0\n"
     ]
    }
   ],
   "source": [
    "# create contingency table\n",
    "import os\n",
    "import json\n",
    "import pandas as pd\n",
    "from collections import defaultdict\n",
    "\n",
    "# === CONFIGURATION ===\n",
    "json_dir = \"json_allPID\"  # Folder with JSON files\n",
    "category1 = \"humidity\"         # First category (e.g., Positive/Negative)\n",
    "category2 = \"PID type studied\"     # Second category (e.g., PID-s, PID-c, etc.)\n",
    "\n",
    "import re\n",
    "# === HUMIDITY BINNING FUNCTION ===\n",
    "def bin_humidity(value):\n",
    "    # If value is a list, join elements into a single string\n",
    "    if isinstance(value, list):\n",
    "        value_str = \", \".join(str(v) for v in value)\n",
    "    else:\n",
    "        value_str = str(value) if value is not None else \"\"\n",
    "\n",
    "    if not value_str or \"not reported\" in value_str.lower():\n",
    "        return \"not reported\"\n",
    "\n",
    "    # Extract all numeric percentages from the string\n",
    "    matches = re.findall(r\"\\d+\\.?\\d*\", value_str)\n",
    "    if matches:\n",
    "        percentages = [float(m) for m in matches]\n",
    "        avg_percent = sum(percentages) / len(percentages)\n",
    "\n",
    "        # Bin into ranges of 10%\n",
    "        lower_bound = int(avg_percent // 10) * 10\n",
    "        upper_bound = lower_bound + 10\n",
    "        # Cap at 100\n",
    "        if upper_bound > 100:\n",
    "            upper_bound = 100\n",
    "        return f\"{lower_bound}-{upper_bound}%\"\n",
    "    \n",
    "    # Handle cases like \"<40%\" or \"<2%\" or \"less than 60%\"\n",
    "    if \"<\" in value_str or \"less than\" in value_str.lower():\n",
    "        matches = re.findall(r\"\\d+\\.?\\d*\", value_str)\n",
    "        if matches:\n",
    "            percent = float(matches[0])\n",
    "            bin_upper = int(percent // 10) * 10\n",
    "            bin_lower = max(0, bin_upper - 10)\n",
    "            return f\"{bin_lower}-{bin_upper}%\"\n",
    "\n",
    "    return \"ambiguous\"\n",
    "\n",
    "# === EXAMPLE VALUE MAPPING FOR category2 ===\n",
    "value_map = {\n",
    "    \"Na-penetration-type PID\": \"PID-s\",\n",
    "    \"not specified\": \"not reported\"\n",
    "}\n",
    "\n",
    "# === VALUE MAPPING FOR category2 ===\n",
    "value_map = {\n",
    "    \"Na-penetration-type PID\": \"PID-s\",\n",
    "    \"not specified\": \"not reported\"\n",
    "}\n",
    "\n",
    "# === BUILD FREQUENCY TABLE ===\n",
    "contingency_dict = defaultdict(lambda: defaultdict(int))\n",
    "\n",
    "for filename in os.listdir(json_dir):\n",
    "    if filename.endswith(\".json\"):\n",
    "        with open(os.path.join(json_dir, filename), \"r\") as f:\n",
    "            try:\n",
    "                data = json.load(f)\n",
    "                # Handle files with a list of dicts or a single dict\n",
    "                entries = data if isinstance(data, list) else [data]\n",
    "                for entry in entries:\n",
    "                    val1 = entry.get(category1)\n",
    "                    val2 = entry.get(category2)\n",
    "\n",
    "                    # Bin humidity value\n",
    "                    val1_binned = bin_humidity(val1)\n",
    "\n",
    "                    # Handle val2 as list or str, and apply mapping\n",
    "                    if isinstance(val2, list):\n",
    "                        val2_mapped_list = [value_map.get(v, v) for v in val2]\n",
    "                    else:\n",
    "                        val2_mapped_list = [value_map.get(val2, val2)]\n",
    "\n",
    "                    # Only use hashable types (strings) as keys\n",
    "                    for v2_mapped in val2_mapped_list:\n",
    "                        contingency_dict[val1_binned][v2_mapped] += 1\n",
    "            except json.JSONDecodeError:\n",
    "                print(f\"Skipping invalid JSON: {filename}\")\n",
    "\n",
    "# Convert to pandas DataFrame\n",
    "df = pd.DataFrame(contingency_dict).T.fillna(0).astype(int)\n",
    "print(\"Contingency Table:\")\n",
    "print(df)"
   ]
  },
  {
   "cell_type": "code",
   "execution_count": 71,
   "id": "367363c8",
   "metadata": {},
   "outputs": [
    {
     "name": "stdout",
     "output_type": "stream",
     "text": [
      "\n",
      "Chi-Square Test Results:\n",
      "Chi-square statistic = 42.277\n",
      "Degrees of freedom = 30\n",
      "p-value = 0.0678\n",
      "\n",
      "Expected Frequencies:\n",
      "                  PID-s     PID-c  not reported     PID-p\n",
      "not reported  10.754237  7.322034      2.059322  6.864407\n",
      "50-60%         2.788136  1.898305      0.533898  1.779661\n",
      "80-90%        12.347458  8.406780      2.364407  7.881356\n",
      "90-100%        0.796610  0.542373      0.152542  0.508475\n",
      "40-50%         1.991525  1.355932      0.381356  1.271186\n",
      "60-70%         1.991525  1.355932      0.381356  1.271186\n",
      "30-40%         4.381356  2.983051      0.838983  2.796610\n",
      "70-80%         1.593220  1.084746      0.305085  1.016949\n",
      "20-30%         0.398305  0.271186      0.076271  0.254237\n",
      "0-10%          9.161017  6.237288      1.754237  5.847458\n",
      "10-20%         0.796610  0.542373      0.152542  0.508475\n"
     ]
    }
   ],
   "source": [
    "# Chi-Square test\n",
    "from scipy.stats import chi2_contingency\n",
    "\n",
    "# Make sure the table is numeric and not empty\n",
    "if df.shape[0] > 1 and df.shape[1] > 1:\n",
    "    chi2, p, dof, expected = chi2_contingency(df)\n",
    "\n",
    "    print(\"\\nChi-Square Test Results:\")\n",
    "    print(f\"Chi-square statistic = {chi2:.3f}\")\n",
    "    print(f\"Degrees of freedom = {dof}\")\n",
    "    print(f\"p-value = {p:.4f}\")\n",
    "    print(\"\\nExpected Frequencies:\")\n",
    "    print(pd.DataFrame(expected, index=df.index, columns=df.columns))\n",
    "else:\n",
    "    print(\"Chi-square test not applicable: table is too small.\")"
   ]
  },
  {
   "cell_type": "markdown",
   "id": "a61a07ba",
   "metadata": {},
   "source": [
    "PID Type & Chain Matching"
   ]
  },
  {
   "cell_type": "code",
   "execution_count": 72,
   "id": "1384ed54",
   "metadata": {},
   "outputs": [
    {
     "name": "stdout",
     "output_type": "stream",
     "text": [
      "Contingency Table:\n",
      "     PID-c  PID-s  PID-p  PID-s, PID-c  PID-c, PID-s  not reported  \\\n",
      "yes     18     29      5             1             0             0   \n",
      "no      10     14     24             0             1             9   \n",
      "\n",
      "     PID-p, PID-c, Na-penetration-type PID  \n",
      "yes                                      0  \n",
      "no                                       1  \n"
     ]
    }
   ],
   "source": [
    "# create contingency table\n",
    "import os\n",
    "import json\n",
    "import pandas as pd\n",
    "from collections import defaultdict\n",
    "\n",
    "# === CONFIGURATION ===\n",
    "json_dir = \"Mech_Chain_Analysis2\"  # Folder with JSON files\n",
    "category1 = \"chain match\"         # First category (e.g., Positive/Negative)\n",
    "category2 = \"PID type studied\"     # Second category (e.g., PID-s, PID-c, etc.)\n",
    "\n",
    "# === VALUE MAPPING FOR category2 ===\n",
    "value_map = {\n",
    "    \"Na-penetration-type PID\": \"PID-s\",\n",
    "    \"not specified\": \"not reported\"\n",
    "}\n",
    "\n",
    "# === BUILD FREQUENCY TABLE ===\n",
    "contingency_dict = defaultdict(lambda: defaultdict(int))\n",
    "\n",
    "for filename in os.listdir(json_dir):\n",
    "    if filename.endswith(\".json\"):\n",
    "        with open(os.path.join(json_dir, filename), \"r\") as f:\n",
    "            try:\n",
    "                data = json.load(f)\n",
    "                # Handle files with a list of dicts or a single dict\n",
    "                entries = data if isinstance(data, list) else [data]\n",
    "                for entry in entries:\n",
    "                    val1 = entry.get(category1)\n",
    "                    val2 = entry.get(category2)\n",
    "                    if val1 and val2:\n",
    "                        # Handle val1 as list or str\n",
    "                        val1_list = val1 if isinstance(val1, list) else [val1]\n",
    "                        val2_list = val2 if isinstance(val2, list) else [val2]\n",
    "                        for v1 in val1_list:\n",
    "                            for v2 in val2_list:\n",
    "                                v2_mapped = value_map.get(v2, v2)\n",
    "                                contingency_dict[v1][v2_mapped] += 1\n",
    "            except json.JSONDecodeError:\n",
    "                print(f\"Skipping invalid JSON: {filename}\")\n",
    "\n",
    "# Convert to pandas DataFrame\n",
    "df = pd.DataFrame(contingency_dict).T.fillna(0).astype(int)\n",
    "print(\"Contingency Table:\")\n",
    "print(df)"
   ]
  },
  {
   "cell_type": "code",
   "execution_count": 73,
   "id": "f6a3cbe0",
   "metadata": {},
   "outputs": [
    {
     "name": "stdout",
     "output_type": "stream",
     "text": [
      "\n",
      "Chi-Square Test Results:\n",
      "Chi-square statistic = 31.736\n",
      "Degrees of freedom = 6\n",
      "p-value = 0.0000\n",
      "\n",
      "Expected Frequencies:\n",
      "     PID-c      PID-s      PID-p  PID-s, PID-c  PID-c, PID-s  not reported  \\\n",
      "yes  13.25  20.348214  13.723214      0.473214      0.473214      4.258929   \n",
      "no   14.75  22.651786  15.276786      0.526786      0.526786      4.741071   \n",
      "\n",
      "     PID-p, PID-c, Na-penetration-type PID  \n",
      "yes                               0.473214  \n",
      "no                                0.526786  \n"
     ]
    }
   ],
   "source": [
    "# Chi-Square test\n",
    "from scipy.stats import chi2_contingency\n",
    "\n",
    "# Make sure the table is numeric and not empty\n",
    "if df.shape[0] > 1 and df.shape[1] > 1:\n",
    "    chi2, p, dof, expected = chi2_contingency(df)\n",
    "\n",
    "    print(\"\\nChi-Square Test Results:\")\n",
    "    print(f\"Chi-square statistic = {chi2:.3f}\")\n",
    "    print(f\"Degrees of freedom = {dof}\")\n",
    "    print(f\"p-value = {p:.4f}\")\n",
    "    print(\"\\nExpected Frequencies:\")\n",
    "    print(pd.DataFrame(expected, index=df.index, columns=df.columns))\n",
    "else:\n",
    "    print(\"Chi-square test not applicable: table is too small.\")"
   ]
  },
  {
   "cell_type": "markdown",
   "id": "5df74d38",
   "metadata": {},
   "source": [
    "Module Technology & Chain Matching"
   ]
  },
  {
   "cell_type": "code",
   "execution_count": 74,
   "id": "7f88ea24",
   "metadata": {},
   "outputs": [
    {
     "name": "stdout",
     "output_type": "stream",
     "text": [
      "Contingency Table:\n",
      "              yes  no\n",
      "mono-c-Si      26  38\n",
      "CIGS            2   0\n",
      "HIT             2   4\n",
      "multi-c-Si     11   3\n",
      "not reported    0   2\n"
     ]
    }
   ],
   "source": [
    "import os\n",
    "import json\n",
    "import pandas as pd\n",
    "from collections import defaultdict\n",
    "\n",
    "# === CONFIGURATION ===\n",
    "json_dir = \"Mech_Chain_Analysis2\"  # Folder with JSON files\n",
    "category1 = \"module technology\"    # First category\n",
    "category2 = \"chain match\"          # Second category\n",
    "\n",
    "# === VALUE MAPPING for category1 and category2 ===\n",
    "value_map_category1 = {\n",
    "    \"c-Si\": \"mono-c-Si\",\n",
    "    \"n-type c-Si\": \"mono-c-Si\"\n",
    "}\n",
    "\n",
    "value_map_category2 = {\n",
    "    # add mappings here if needed for category2\n",
    "}\n",
    "\n",
    "# === BUILD FREQUENCY TABLE ===\n",
    "contingency_dict = defaultdict(lambda: defaultdict(int))\n",
    "\n",
    "for filename in os.listdir(json_dir):\n",
    "    if filename.endswith(\".json\"):\n",
    "        with open(os.path.join(json_dir, filename), \"r\") as f:\n",
    "            try:\n",
    "                data = json.load(f)\n",
    "                entries = data if isinstance(data, list) else [data]\n",
    "                for entry in entries:\n",
    "                    val1 = entry.get(category1)\n",
    "                    val2 = entry.get(category2)\n",
    "                    if val1 and val2:\n",
    "                        val1_list = val1 if isinstance(val1, list) else [val1]\n",
    "                        val2_list = val2 if isinstance(val2, list) else [val2]\n",
    "                        for v1 in val1_list:\n",
    "                            v1_mapped = value_map_category1.get(v1, v1)\n",
    "                            for v2 in val2_list:\n",
    "                                v2_mapped = value_map_category2.get(v2, v2)\n",
    "                                contingency_dict[v1_mapped][v2_mapped] += 1\n",
    "            except json.JSONDecodeError:\n",
    "                print(f\"Skipping invalid JSON: {filename}\")\n",
    "\n",
    "# Convert to pandas DataFrame\n",
    "df = pd.DataFrame(contingency_dict).T.fillna(0).astype(int)\n",
    "print(\"Contingency Table:\")\n",
    "print(df)\n"
   ]
  },
  {
   "cell_type": "code",
   "execution_count": 75,
   "id": "ca5d2ac4",
   "metadata": {},
   "outputs": [
    {
     "name": "stdout",
     "output_type": "stream",
     "text": [
      "\n",
      "Chi-Square Test Results:\n",
      "Chi-square statistic = 11.131\n",
      "Degrees of freedom = 4\n",
      "p-value = 0.0251\n",
      "\n",
      "Expected Frequencies:\n",
      "                    yes         no\n",
      "mono-c-Si     29.818182  34.181818\n",
      "CIGS           0.931818   1.068182\n",
      "HIT            2.795455   3.204545\n",
      "multi-c-Si     6.522727   7.477273\n",
      "not reported   0.931818   1.068182\n"
     ]
    }
   ],
   "source": [
    "# Chi-Square test\n",
    "from scipy.stats import chi2_contingency\n",
    "\n",
    "# Make sure the table is numeric and not empty\n",
    "if df.shape[0] > 1 and df.shape[1] > 1:\n",
    "    chi2, p, dof, expected = chi2_contingency(df)\n",
    "\n",
    "    print(\"\\nChi-Square Test Results:\")\n",
    "    print(f\"Chi-square statistic = {chi2:.3f}\")\n",
    "    print(f\"Degrees of freedom = {dof}\")\n",
    "    print(f\"p-value = {p:.4f}\")\n",
    "    print(\"\\nExpected Frequencies:\")\n",
    "    print(pd.DataFrame(expected, index=df.index, columns=df.columns))\n",
    "else:\n",
    "    print(\"Chi-square test not applicable: table is too small.\")"
   ]
  },
  {
   "cell_type": "markdown",
   "id": "d05e40df",
   "metadata": {},
   "source": [
    "Temperature & Chain Matching"
   ]
  },
  {
   "cell_type": "code",
   "execution_count": 76,
   "id": "b1132199",
   "metadata": {},
   "outputs": [
    {
     "name": "stdout",
     "output_type": "stream",
     "text": [
      "Contingency Table:\n",
      "                 yes  no\n",
      "elevated (>25C)   35  39\n",
      "room (25 C)        4   6\n",
      "not reported       1   2\n"
     ]
    }
   ],
   "source": [
    "# create contingency table\n",
    "import os\n",
    "import json\n",
    "import pandas as pd\n",
    "from collections import defaultdict\n",
    "\n",
    "# === CONFIGURATION ===\n",
    "json_dir = \"Mech_Chain_Analysis2\"  # Folder with JSON files\n",
    "category1 = \"temperature\"         # First category (e.g., Positive/Negative)\n",
    "category2 = \"chain match\"     # Second category (e.g., PID-s, PID-c, etc.)\n",
    "\n",
    "# === BUILD FREQUENCY TABLE ===\n",
    "contingency_dict = defaultdict(lambda: defaultdict(int))\n",
    "\n",
    "for filename in os.listdir(json_dir):\n",
    "    if filename.endswith(\".json\"):\n",
    "        with open(os.path.join(json_dir, filename), \"r\") as f:\n",
    "            try:\n",
    "                data = json.load(f)\n",
    "                # Handle files with a list of dicts or a single dict\n",
    "                entries = data if isinstance(data, list) else [data]\n",
    "                for entry in entries:\n",
    "                    val1 = entry.get(category1)\n",
    "                    val2 = entry.get(category2)\n",
    "                    if val1 and val2:\n",
    "                        # Handle val1 as list or str\n",
    "                        val1_list = val1 if isinstance(val1, list) else [val1]\n",
    "                        val2_list = val2 if isinstance(val2, list) else [val2]\n",
    "                        for v1 in val1_list:\n",
    "                            for v2 in val2_list:\n",
    "                                v2_mapped = value_map.get(v2, v2)\n",
    "                                contingency_dict[v1][v2_mapped] += 1\n",
    "            except json.JSONDecodeError:\n",
    "                print(f\"Skipping invalid JSON: {filename}\")\n",
    "\n",
    "# Convert to pandas DataFrame\n",
    "df = pd.DataFrame(contingency_dict).T.fillna(0).astype(int)\n",
    "print(\"Contingency Table:\")\n",
    "print(df)"
   ]
  },
  {
   "cell_type": "code",
   "execution_count": 77,
   "id": "ed411cbd",
   "metadata": {},
   "outputs": [
    {
     "name": "stdout",
     "output_type": "stream",
     "text": [
      "\n",
      "Chi-Square Test Results:\n",
      "Chi-square statistic = 0.389\n",
      "Degrees of freedom = 2\n",
      "p-value = 0.8233\n",
      "\n",
      "Expected Frequencies:\n",
      "                       yes         no\n",
      "elevated (>25C)  34.022989  39.977011\n",
      "room (25 C)       4.597701   5.402299\n",
      "not reported      1.379310   1.620690\n"
     ]
    }
   ],
   "source": [
    "# Chi-Square test\n",
    "from scipy.stats import chi2_contingency\n",
    "\n",
    "# Make sure the table is numeric and not empty\n",
    "if df.shape[0] > 1 and df.shape[1] > 1:\n",
    "    chi2, p, dof, expected = chi2_contingency(df)\n",
    "\n",
    "    print(\"\\nChi-Square Test Results:\")\n",
    "    print(f\"Chi-square statistic = {chi2:.3f}\")\n",
    "    print(f\"Degrees of freedom = {dof}\")\n",
    "    print(f\"p-value = {p:.4f}\")\n",
    "    print(\"\\nExpected Frequencies:\")\n",
    "    print(pd.DataFrame(expected, index=df.index, columns=df.columns))\n",
    "else:\n",
    "    print(\"Chi-square test not applicable: table is too small.\")"
   ]
  },
  {
   "cell_type": "markdown",
   "id": "c15186c2",
   "metadata": {},
   "source": [
    "Temp & PID Type"
   ]
  },
  {
   "cell_type": "code",
   "execution_count": 78,
   "id": "a6018338",
   "metadata": {},
   "outputs": [
    {
     "name": "stdout",
     "output_type": "stream",
     "text": [
      "Contingency Table:\n",
      "                 PID-c  PID-s  PID-p  PID-c, PID-s  not reported  \\\n",
      "elevated (>25C)     27     38     23             1             8   \n",
      "room (25 C)          1      4      5             0             0   \n",
      "not reported         0      1      1             0             1   \n",
      "\n",
      "                 PID-p, PID-c, Na-penetration-type PID  PID-s, PID-c  \n",
      "elevated (>25C)                                      1             0  \n",
      "room (25 C)                                          0             1  \n",
      "not reported                                         0             0  \n"
     ]
    }
   ],
   "source": [
    "# create contingency table\n",
    "import os\n",
    "import json\n",
    "import pandas as pd\n",
    "from collections import defaultdict\n",
    "\n",
    "# === CONFIGURATION ===\n",
    "json_dir = \"Mech_Chain_Analysis2\"  # Folder with JSON files\n",
    "category1 = \"temperature\"         # First category (e.g., Positive/Negative)\n",
    "category2 = \"PID type studied\"     # Second category (e.g., PID-s, PID-c, etc.)\n",
    "\n",
    "# === VALUE MAPPING FOR category2 ===\n",
    "value_map = {\n",
    "    \"Na-penetration-type PID\": \"PID-s\",\n",
    "    \"not specified\": \"not reported\"\n",
    "}\n",
    "\n",
    "# === BUILD FREQUENCY TABLE ===\n",
    "contingency_dict = defaultdict(lambda: defaultdict(int))\n",
    "\n",
    "for filename in os.listdir(json_dir):\n",
    "    if filename.endswith(\".json\"):\n",
    "        with open(os.path.join(json_dir, filename), \"r\") as f:\n",
    "            try:\n",
    "                data = json.load(f)\n",
    "                # Handle files with a list of dicts or a single dict\n",
    "                entries = data if isinstance(data, list) else [data]\n",
    "                for entry in entries:\n",
    "                    val1 = entry.get(category1)\n",
    "                    val2 = entry.get(category2)\n",
    "                    if val1 and val2:\n",
    "                        # Handle val1 as list or str\n",
    "                        val1_list = val1 if isinstance(val1, list) else [val1]\n",
    "                        val2_list = val2 if isinstance(val2, list) else [val2]\n",
    "                        for v1 in val1_list:\n",
    "                            for v2 in val2_list:\n",
    "                                v2_mapped = value_map.get(v2, v2)\n",
    "                                contingency_dict[v1][v2_mapped] += 1\n",
    "            except json.JSONDecodeError:\n",
    "                print(f\"Skipping invalid JSON: {filename}\")\n",
    "\n",
    "# Convert to pandas DataFrame\n",
    "df = pd.DataFrame(contingency_dict).T.fillna(0).astype(int)\n",
    "print(\"Contingency Table:\")\n",
    "print(df)"
   ]
  },
  {
   "cell_type": "code",
   "execution_count": 79,
   "id": "460ce68e",
   "metadata": {},
   "outputs": [
    {
     "name": "stdout",
     "output_type": "stream",
     "text": [
      "\n",
      "Chi-Square Test Results:\n",
      "Chi-square statistic = 16.809\n",
      "Degrees of freedom = 12\n",
      "p-value = 0.1569\n",
      "\n",
      "Expected Frequencies:\n",
      "                 PID-c      PID-s      PID-p  PID-c, PID-s  not reported  \\\n",
      "elevated (>25C)  24.50  37.625000  25.375000      0.875000      7.875000   \n",
      "room (25 C)       2.75   4.223214   2.848214      0.098214      0.883929   \n",
      "not reported      0.75   1.151786   0.776786      0.026786      0.241071   \n",
      "\n",
      "                 PID-p, PID-c, Na-penetration-type PID  PID-s, PID-c  \n",
      "elevated (>25C)                               0.875000      0.875000  \n",
      "room (25 C)                                   0.098214      0.098214  \n",
      "not reported                                  0.026786      0.026786  \n"
     ]
    }
   ],
   "source": [
    "# Chi-Square test\n",
    "from scipy.stats import chi2_contingency\n",
    "\n",
    "# Make sure the table is numeric and not empty\n",
    "if df.shape[0] > 1 and df.shape[1] > 1:\n",
    "    chi2, p, dof, expected = chi2_contingency(df)\n",
    "\n",
    "    print(\"\\nChi-Square Test Results:\")\n",
    "    print(f\"Chi-square statistic = {chi2:.3f}\")\n",
    "    print(f\"Degrees of freedom = {dof}\")\n",
    "    print(f\"p-value = {p:.4f}\")\n",
    "    print(\"\\nExpected Frequencies:\")\n",
    "    print(pd.DataFrame(expected, index=df.index, columns=df.columns))\n",
    "else:\n",
    "    print(\"Chi-square test not applicable: table is too small.\")"
   ]
  },
  {
   "cell_type": "markdown",
   "id": "e74ab68b",
   "metadata": {},
   "source": [
    "Humidity & PID Type"
   ]
  },
  {
   "cell_type": "code",
   "execution_count": 80,
   "id": "86d780f2",
   "metadata": {},
   "outputs": [
    {
     "name": "stdout",
     "output_type": "stream",
     "text": [
      "Contingency Table:\n",
      "              PID-s  PID-c  not reported  PID-p\n",
      "not reported      8      9             1      9\n",
      "50-60%            4      0             0      3\n",
      "80-90%           16     10             2      3\n",
      "90-100%           1      1             0      0\n",
      "40-50%            2      2             0      1\n",
      "60-70%            3      1             0      1\n",
      "30-40%            2      1             5      3\n",
      "70-80%            2      1             0      1\n",
      "20-30%            1      0             0      0\n",
      "0-10%             7      6             1      9\n",
      "10-20%            1      1             0      0\n"
     ]
    }
   ],
   "source": [
    "# create contingency table\n",
    "import os\n",
    "import json\n",
    "import pandas as pd\n",
    "from collections import defaultdict\n",
    "\n",
    "# === CONFIGURATION ===\n",
    "json_dir = \"json_allPID\"  # Folder with JSON files\n",
    "category1 = \"humidity\"         # First category (e.g., Positive/Negative)\n",
    "category2 = \"PID type studied\"     # Second category (e.g., PID-s, PID-c, etc.)\n",
    "\n",
    "import re\n",
    "# === HUMIDITY BINNING FUNCTION ===\n",
    "def bin_humidity(value):\n",
    "    # If value is a list, join elements into a single string\n",
    "    if isinstance(value, list):\n",
    "        value_str = \", \".join(str(v) for v in value)\n",
    "    else:\n",
    "        value_str = str(value) if value is not None else \"\"\n",
    "\n",
    "    if not value_str or \"not reported\" in value_str.lower():\n",
    "        return \"not reported\"\n",
    "\n",
    "    # Extract all numeric percentages from the string\n",
    "    matches = re.findall(r\"\\d+\\.?\\d*\", value_str)\n",
    "    if matches:\n",
    "        percentages = [float(m) for m in matches]\n",
    "        avg_percent = sum(percentages) / len(percentages)\n",
    "\n",
    "        # Bin into ranges of 10%\n",
    "        lower_bound = int(avg_percent // 10) * 10\n",
    "        upper_bound = lower_bound + 10\n",
    "        # Cap at 100\n",
    "        if upper_bound > 100:\n",
    "            upper_bound = 100\n",
    "        return f\"{lower_bound}-{upper_bound}%\"\n",
    "    \n",
    "    # Handle cases like \"<40%\" or \"<2%\" or \"less than 60%\"\n",
    "    if \"<\" in value_str or \"less than\" in value_str.lower():\n",
    "        matches = re.findall(r\"\\d+\\.?\\d*\", value_str)\n",
    "        if matches:\n",
    "            percent = float(matches[0])\n",
    "            bin_upper = int(percent // 10) * 10\n",
    "            bin_lower = max(0, bin_upper - 10)\n",
    "            return f\"{bin_lower}-{bin_upper}%\"\n",
    "\n",
    "    return \"ambiguous\"\n",
    "\n",
    "# === EXAMPLE VALUE MAPPING FOR category2 ===\n",
    "value_map = {\n",
    "    \"Na-penetration-type PID\": \"PID-s\",\n",
    "    \"not specified\": \"not reported\"\n",
    "}\n",
    "\n",
    "# === VALUE MAPPING FOR category2 ===\n",
    "value_map = {\n",
    "    \"Na-penetration-type PID\": \"PID-s\",\n",
    "    \"not specified\": \"not reported\"\n",
    "}\n",
    "\n",
    "# === BUILD FREQUENCY TABLE ===\n",
    "contingency_dict = defaultdict(lambda: defaultdict(int))\n",
    "\n",
    "for filename in os.listdir(json_dir):\n",
    "    if filename.endswith(\".json\"):\n",
    "        with open(os.path.join(json_dir, filename), \"r\") as f:\n",
    "            try:\n",
    "                data = json.load(f)\n",
    "                # Handle files with a list of dicts or a single dict\n",
    "                entries = data if isinstance(data, list) else [data]\n",
    "                for entry in entries:\n",
    "                    val1 = entry.get(category1)\n",
    "                    val2 = entry.get(category2)\n",
    "\n",
    "                    # Bin humidity value\n",
    "                    val1_binned = bin_humidity(val1)\n",
    "\n",
    "                    # Handle val2 as list or str, and apply mapping\n",
    "                    if isinstance(val2, list):\n",
    "                        val2_mapped_list = [value_map.get(v, v) for v in val2]\n",
    "                    else:\n",
    "                        val2_mapped_list = [value_map.get(val2, val2)]\n",
    "\n",
    "                    # Only use hashable types (strings) as keys\n",
    "                    for v2_mapped in val2_mapped_list:\n",
    "                        contingency_dict[val1_binned][v2_mapped] += 1\n",
    "            except json.JSONDecodeError:\n",
    "                print(f\"Skipping invalid JSON: {filename}\")\n",
    "\n",
    "# Convert to pandas DataFrame\n",
    "df = pd.DataFrame(contingency_dict).T.fillna(0).astype(int)\n",
    "print(\"Contingency Table:\")\n",
    "print(df)"
   ]
  },
  {
   "cell_type": "code",
   "execution_count": 81,
   "id": "777e7739",
   "metadata": {},
   "outputs": [
    {
     "name": "stdout",
     "output_type": "stream",
     "text": [
      "\n",
      "Chi-Square Test Results:\n",
      "Chi-square statistic = 42.277\n",
      "Degrees of freedom = 30\n",
      "p-value = 0.0678\n",
      "\n",
      "Expected Frequencies:\n",
      "                  PID-s     PID-c  not reported     PID-p\n",
      "not reported  10.754237  7.322034      2.059322  6.864407\n",
      "50-60%         2.788136  1.898305      0.533898  1.779661\n",
      "80-90%        12.347458  8.406780      2.364407  7.881356\n",
      "90-100%        0.796610  0.542373      0.152542  0.508475\n",
      "40-50%         1.991525  1.355932      0.381356  1.271186\n",
      "60-70%         1.991525  1.355932      0.381356  1.271186\n",
      "30-40%         4.381356  2.983051      0.838983  2.796610\n",
      "70-80%         1.593220  1.084746      0.305085  1.016949\n",
      "20-30%         0.398305  0.271186      0.076271  0.254237\n",
      "0-10%          9.161017  6.237288      1.754237  5.847458\n",
      "10-20%         0.796610  0.542373      0.152542  0.508475\n"
     ]
    }
   ],
   "source": [
    "# Chi-Square test\n",
    "from scipy.stats import chi2_contingency\n",
    "\n",
    "# Make sure the table is numeric and not empty\n",
    "if df.shape[0] > 1 and df.shape[1] > 1:\n",
    "    chi2, p, dof, expected = chi2_contingency(df)\n",
    "\n",
    "    print(\"\\nChi-Square Test Results:\")\n",
    "    print(f\"Chi-square statistic = {chi2:.3f}\")\n",
    "    print(f\"Degrees of freedom = {dof}\")\n",
    "    print(f\"p-value = {p:.4f}\")\n",
    "    print(\"\\nExpected Frequencies:\")\n",
    "    print(pd.DataFrame(expected, index=df.index, columns=df.columns))\n",
    "else:\n",
    "    print(\"Chi-square test not applicable: table is too small.\")"
   ]
  },
  {
   "cell_type": "markdown",
   "id": "14874e62",
   "metadata": {},
   "source": [
    "# making chord diagrams!"
   ]
  },
  {
   "cell_type": "code",
   "execution_count": 1,
   "id": "50104c2e",
   "metadata": {},
   "outputs": [],
   "source": [
    "import plotly.graph_objects as go\n",
    "\n",
    "# Labels: All nodes in the diagram\n",
    "labels = [\n",
    "    \"mono-Si\", \"multi-Si\", \"HIT\", \"CIGS\",  # module tech\n",
    "    \"PID-s\", \"PID-p\", \"PID-c\"              # PID types\n",
    "]\n",
    "\n",
    "# Matrix: frequency of links between technologies and PID types\n",
    "# Each row/col corresponds to a label above\n",
    "# For simplicity, let's assume unidirectional (module → PID)\n",
    "\n",
    "# Example placeholder matrix:\n",
    "matrix = [\n",
    "    # mono-Si 0\n",
    "    [0, 0, 0, 0, 28, 28, 20],\n",
    "    # multi-Si 1\n",
    "    [0, 0, 0, 0, 15, 2, 7],\n",
    "    # HIT 2\n",
    "    [0, 0, 0, 0, 4, 0, 4],\n",
    "    # CIGS 3\n",
    "    [0, 0, 0, 0, 0, 0, 2],\n",
    "    # PID-s 4\n",
    "    [0, 0, 0, 0, 0, 0, 0],\n",
    "    # PID-p 5\n",
    "    [0, 0, 0, 0, 0, 0, 0],\n",
    "    # PID-c 6\n",
    "    [0, 0, 0, 0, 0, 0, 0]\n",
    "]\n",
    "\n",
    "# Optional: Custom colors per node\n",
    "colors = [\n",
    "    \"#989afb\", \"#e9a8ff\", \"#f096b2\", \"#ffb37c\",  # module colors\n",
    "    \"#7fedad\", \"#4be3d1\", \"#90d171\"              # PID colors\n",
    "]\n"
   ]
  },
  {
   "cell_type": "code",
   "execution_count": 2,
   "id": "703e4a52",
   "metadata": {},
   "outputs": [
    {
     "data": {
      "application/vnd.plotly.v1+json": {
       "config": {
        "plotlyServerURL": "https://plot.ly"
       },
       "data": [
        {
         "link": {
          "source": [
           0,
           0,
           0,
           1,
           1,
           1,
           2,
           2,
           2,
           3,
           3,
           3
          ],
          "target": [
           4,
           5,
           6,
           4,
           5,
           6,
           4,
           5,
           6,
           4,
           5,
           6
          ],
          "value": [
           28,
           28,
           20,
           15,
           2,
           7,
           4,
           0,
           4,
           2,
           0,
           0
          ]
         },
         "node": {
          "color": [
           "#989afb",
           "#e9a8ff",
           "#f096b2",
           "#ffb37c",
           "#7fedad",
           "#4be3d1",
           "#90d171"
          ],
          "label": [
           "mono-Si",
           "multi-Si",
           "HIT",
           "CIGS",
           "PID-s",
           "PID-p",
           "PID-c"
          ],
          "line": {
           "color": "black",
           "width": 0.5
          },
          "pad": 20,
          "thickness": 20
         },
         "type": "sankey"
        }
       ],
       "layout": {
        "font": {
         "size": 14
        },
        "template": {
         "data": {
          "bar": [
           {
            "error_x": {
             "color": "#2a3f5f"
            },
            "error_y": {
             "color": "#2a3f5f"
            },
            "marker": {
             "line": {
              "color": "#E5ECF6",
              "width": 0.5
             },
             "pattern": {
              "fillmode": "overlay",
              "size": 10,
              "solidity": 0.2
             }
            },
            "type": "bar"
           }
          ],
          "barpolar": [
           {
            "marker": {
             "line": {
              "color": "#E5ECF6",
              "width": 0.5
             },
             "pattern": {
              "fillmode": "overlay",
              "size": 10,
              "solidity": 0.2
             }
            },
            "type": "barpolar"
           }
          ],
          "carpet": [
           {
            "aaxis": {
             "endlinecolor": "#2a3f5f",
             "gridcolor": "white",
             "linecolor": "white",
             "minorgridcolor": "white",
             "startlinecolor": "#2a3f5f"
            },
            "baxis": {
             "endlinecolor": "#2a3f5f",
             "gridcolor": "white",
             "linecolor": "white",
             "minorgridcolor": "white",
             "startlinecolor": "#2a3f5f"
            },
            "type": "carpet"
           }
          ],
          "choropleth": [
           {
            "colorbar": {
             "outlinewidth": 0,
             "ticks": ""
            },
            "type": "choropleth"
           }
          ],
          "contour": [
           {
            "colorbar": {
             "outlinewidth": 0,
             "ticks": ""
            },
            "colorscale": [
             [
              0,
              "#0d0887"
             ],
             [
              0.1111111111111111,
              "#46039f"
             ],
             [
              0.2222222222222222,
              "#7201a8"
             ],
             [
              0.3333333333333333,
              "#9c179e"
             ],
             [
              0.4444444444444444,
              "#bd3786"
             ],
             [
              0.5555555555555556,
              "#d8576b"
             ],
             [
              0.6666666666666666,
              "#ed7953"
             ],
             [
              0.7777777777777778,
              "#fb9f3a"
             ],
             [
              0.8888888888888888,
              "#fdca26"
             ],
             [
              1,
              "#f0f921"
             ]
            ],
            "type": "contour"
           }
          ],
          "contourcarpet": [
           {
            "colorbar": {
             "outlinewidth": 0,
             "ticks": ""
            },
            "type": "contourcarpet"
           }
          ],
          "heatmap": [
           {
            "colorbar": {
             "outlinewidth": 0,
             "ticks": ""
            },
            "colorscale": [
             [
              0,
              "#0d0887"
             ],
             [
              0.1111111111111111,
              "#46039f"
             ],
             [
              0.2222222222222222,
              "#7201a8"
             ],
             [
              0.3333333333333333,
              "#9c179e"
             ],
             [
              0.4444444444444444,
              "#bd3786"
             ],
             [
              0.5555555555555556,
              "#d8576b"
             ],
             [
              0.6666666666666666,
              "#ed7953"
             ],
             [
              0.7777777777777778,
              "#fb9f3a"
             ],
             [
              0.8888888888888888,
              "#fdca26"
             ],
             [
              1,
              "#f0f921"
             ]
            ],
            "type": "heatmap"
           }
          ],
          "histogram": [
           {
            "marker": {
             "pattern": {
              "fillmode": "overlay",
              "size": 10,
              "solidity": 0.2
             }
            },
            "type": "histogram"
           }
          ],
          "histogram2d": [
           {
            "colorbar": {
             "outlinewidth": 0,
             "ticks": ""
            },
            "colorscale": [
             [
              0,
              "#0d0887"
             ],
             [
              0.1111111111111111,
              "#46039f"
             ],
             [
              0.2222222222222222,
              "#7201a8"
             ],
             [
              0.3333333333333333,
              "#9c179e"
             ],
             [
              0.4444444444444444,
              "#bd3786"
             ],
             [
              0.5555555555555556,
              "#d8576b"
             ],
             [
              0.6666666666666666,
              "#ed7953"
             ],
             [
              0.7777777777777778,
              "#fb9f3a"
             ],
             [
              0.8888888888888888,
              "#fdca26"
             ],
             [
              1,
              "#f0f921"
             ]
            ],
            "type": "histogram2d"
           }
          ],
          "histogram2dcontour": [
           {
            "colorbar": {
             "outlinewidth": 0,
             "ticks": ""
            },
            "colorscale": [
             [
              0,
              "#0d0887"
             ],
             [
              0.1111111111111111,
              "#46039f"
             ],
             [
              0.2222222222222222,
              "#7201a8"
             ],
             [
              0.3333333333333333,
              "#9c179e"
             ],
             [
              0.4444444444444444,
              "#bd3786"
             ],
             [
              0.5555555555555556,
              "#d8576b"
             ],
             [
              0.6666666666666666,
              "#ed7953"
             ],
             [
              0.7777777777777778,
              "#fb9f3a"
             ],
             [
              0.8888888888888888,
              "#fdca26"
             ],
             [
              1,
              "#f0f921"
             ]
            ],
            "type": "histogram2dcontour"
           }
          ],
          "mesh3d": [
           {
            "colorbar": {
             "outlinewidth": 0,
             "ticks": ""
            },
            "type": "mesh3d"
           }
          ],
          "parcoords": [
           {
            "line": {
             "colorbar": {
              "outlinewidth": 0,
              "ticks": ""
             }
            },
            "type": "parcoords"
           }
          ],
          "pie": [
           {
            "automargin": true,
            "type": "pie"
           }
          ],
          "scatter": [
           {
            "fillpattern": {
             "fillmode": "overlay",
             "size": 10,
             "solidity": 0.2
            },
            "type": "scatter"
           }
          ],
          "scatter3d": [
           {
            "line": {
             "colorbar": {
              "outlinewidth": 0,
              "ticks": ""
             }
            },
            "marker": {
             "colorbar": {
              "outlinewidth": 0,
              "ticks": ""
             }
            },
            "type": "scatter3d"
           }
          ],
          "scattercarpet": [
           {
            "marker": {
             "colorbar": {
              "outlinewidth": 0,
              "ticks": ""
             }
            },
            "type": "scattercarpet"
           }
          ],
          "scattergeo": [
           {
            "marker": {
             "colorbar": {
              "outlinewidth": 0,
              "ticks": ""
             }
            },
            "type": "scattergeo"
           }
          ],
          "scattergl": [
           {
            "marker": {
             "colorbar": {
              "outlinewidth": 0,
              "ticks": ""
             }
            },
            "type": "scattergl"
           }
          ],
          "scattermap": [
           {
            "marker": {
             "colorbar": {
              "outlinewidth": 0,
              "ticks": ""
             }
            },
            "type": "scattermap"
           }
          ],
          "scattermapbox": [
           {
            "marker": {
             "colorbar": {
              "outlinewidth": 0,
              "ticks": ""
             }
            },
            "type": "scattermapbox"
           }
          ],
          "scatterpolar": [
           {
            "marker": {
             "colorbar": {
              "outlinewidth": 0,
              "ticks": ""
             }
            },
            "type": "scatterpolar"
           }
          ],
          "scatterpolargl": [
           {
            "marker": {
             "colorbar": {
              "outlinewidth": 0,
              "ticks": ""
             }
            },
            "type": "scatterpolargl"
           }
          ],
          "scatterternary": [
           {
            "marker": {
             "colorbar": {
              "outlinewidth": 0,
              "ticks": ""
             }
            },
            "type": "scatterternary"
           }
          ],
          "surface": [
           {
            "colorbar": {
             "outlinewidth": 0,
             "ticks": ""
            },
            "colorscale": [
             [
              0,
              "#0d0887"
             ],
             [
              0.1111111111111111,
              "#46039f"
             ],
             [
              0.2222222222222222,
              "#7201a8"
             ],
             [
              0.3333333333333333,
              "#9c179e"
             ],
             [
              0.4444444444444444,
              "#bd3786"
             ],
             [
              0.5555555555555556,
              "#d8576b"
             ],
             [
              0.6666666666666666,
              "#ed7953"
             ],
             [
              0.7777777777777778,
              "#fb9f3a"
             ],
             [
              0.8888888888888888,
              "#fdca26"
             ],
             [
              1,
              "#f0f921"
             ]
            ],
            "type": "surface"
           }
          ],
          "table": [
           {
            "cells": {
             "fill": {
              "color": "#EBF0F8"
             },
             "line": {
              "color": "white"
             }
            },
            "header": {
             "fill": {
              "color": "#C8D4E3"
             },
             "line": {
              "color": "white"
             }
            },
            "type": "table"
           }
          ]
         },
         "layout": {
          "annotationdefaults": {
           "arrowcolor": "#2a3f5f",
           "arrowhead": 0,
           "arrowwidth": 1
          },
          "autotypenumbers": "strict",
          "coloraxis": {
           "colorbar": {
            "outlinewidth": 0,
            "ticks": ""
           }
          },
          "colorscale": {
           "diverging": [
            [
             0,
             "#8e0152"
            ],
            [
             0.1,
             "#c51b7d"
            ],
            [
             0.2,
             "#de77ae"
            ],
            [
             0.3,
             "#f1b6da"
            ],
            [
             0.4,
             "#fde0ef"
            ],
            [
             0.5,
             "#f7f7f7"
            ],
            [
             0.6,
             "#e6f5d0"
            ],
            [
             0.7,
             "#b8e186"
            ],
            [
             0.8,
             "#7fbc41"
            ],
            [
             0.9,
             "#4d9221"
            ],
            [
             1,
             "#276419"
            ]
           ],
           "sequential": [
            [
             0,
             "#0d0887"
            ],
            [
             0.1111111111111111,
             "#46039f"
            ],
            [
             0.2222222222222222,
             "#7201a8"
            ],
            [
             0.3333333333333333,
             "#9c179e"
            ],
            [
             0.4444444444444444,
             "#bd3786"
            ],
            [
             0.5555555555555556,
             "#d8576b"
            ],
            [
             0.6666666666666666,
             "#ed7953"
            ],
            [
             0.7777777777777778,
             "#fb9f3a"
            ],
            [
             0.8888888888888888,
             "#fdca26"
            ],
            [
             1,
             "#f0f921"
            ]
           ],
           "sequentialminus": [
            [
             0,
             "#0d0887"
            ],
            [
             0.1111111111111111,
             "#46039f"
            ],
            [
             0.2222222222222222,
             "#7201a8"
            ],
            [
             0.3333333333333333,
             "#9c179e"
            ],
            [
             0.4444444444444444,
             "#bd3786"
            ],
            [
             0.5555555555555556,
             "#d8576b"
            ],
            [
             0.6666666666666666,
             "#ed7953"
            ],
            [
             0.7777777777777778,
             "#fb9f3a"
            ],
            [
             0.8888888888888888,
             "#fdca26"
            ],
            [
             1,
             "#f0f921"
            ]
           ]
          },
          "colorway": [
           "#636efa",
           "#EF553B",
           "#00cc96",
           "#ab63fa",
           "#FFA15A",
           "#19d3f3",
           "#FF6692",
           "#B6E880",
           "#FF97FF",
           "#FECB52"
          ],
          "font": {
           "color": "#2a3f5f"
          },
          "geo": {
           "bgcolor": "white",
           "lakecolor": "white",
           "landcolor": "#E5ECF6",
           "showlakes": true,
           "showland": true,
           "subunitcolor": "white"
          },
          "hoverlabel": {
           "align": "left"
          },
          "hovermode": "closest",
          "mapbox": {
           "style": "light"
          },
          "paper_bgcolor": "white",
          "plot_bgcolor": "#E5ECF6",
          "polar": {
           "angularaxis": {
            "gridcolor": "white",
            "linecolor": "white",
            "ticks": ""
           },
           "bgcolor": "#E5ECF6",
           "radialaxis": {
            "gridcolor": "white",
            "linecolor": "white",
            "ticks": ""
           }
          },
          "scene": {
           "xaxis": {
            "backgroundcolor": "#E5ECF6",
            "gridcolor": "white",
            "gridwidth": 2,
            "linecolor": "white",
            "showbackground": true,
            "ticks": "",
            "zerolinecolor": "white"
           },
           "yaxis": {
            "backgroundcolor": "#E5ECF6",
            "gridcolor": "white",
            "gridwidth": 2,
            "linecolor": "white",
            "showbackground": true,
            "ticks": "",
            "zerolinecolor": "white"
           },
           "zaxis": {
            "backgroundcolor": "#E5ECF6",
            "gridcolor": "white",
            "gridwidth": 2,
            "linecolor": "white",
            "showbackground": true,
            "ticks": "",
            "zerolinecolor": "white"
           }
          },
          "shapedefaults": {
           "line": {
            "color": "#2a3f5f"
           }
          },
          "ternary": {
           "aaxis": {
            "gridcolor": "white",
            "linecolor": "white",
            "ticks": ""
           },
           "baxis": {
            "gridcolor": "white",
            "linecolor": "white",
            "ticks": ""
           },
           "bgcolor": "#E5ECF6",
           "caxis": {
            "gridcolor": "white",
            "linecolor": "white",
            "ticks": ""
           }
          },
          "title": {
           "x": 0.05
          },
          "xaxis": {
           "automargin": true,
           "gridcolor": "white",
           "linecolor": "white",
           "ticks": "",
           "title": {
            "standoff": 15
           },
           "zerolinecolor": "white",
           "zerolinewidth": 2
          },
          "yaxis": {
           "automargin": true,
           "gridcolor": "white",
           "linecolor": "white",
           "ticks": "",
           "title": {
            "standoff": 15
           },
           "zerolinecolor": "white",
           "zerolinewidth": 2
          }
         }
        },
        "title": {
         "text": "Module Technology vs. PID Type"
        }
       }
      }
     },
     "metadata": {},
     "output_type": "display_data"
    }
   ],
   "source": [
    "\n",
    "# Create Chord Diagram (really a Sankey-style workaround)\n",
    "fig = go.Figure(data=go.Sankey(\n",
    "    node=dict(\n",
    "        pad=20,\n",
    "        thickness=20,\n",
    "        line=dict(color=\"black\", width=0.5),\n",
    "        label=labels,\n",
    "        color=colors\n",
    "    ),\n",
    "    link=dict(\n",
    "        source=[0, 0, 0, 1, 1, 1, 2, 2, 2,3, 3, 3],  # from module\n",
    "        target=[4, 5, 6, 4, 5, 6, 4, 5, 6, 4, 5, 6],  # to PID\n",
    "        value=[28, 28, 20, 15, 2, 7, 4, 0, 4, 2, 0, 0]  # frequency\n",
    "    )\n",
    "))\n",
    "\n",
    "fig.update_layout(title_text=\"Module Technology vs. PID Type\", font_size=14)\n",
    "fig.show()\n"
   ]
  },
  {
   "cell_type": "code",
   "execution_count": 27,
   "id": "64bf02c9",
   "metadata": {},
   "outputs": [
    {
     "data": {
      "application/vnd.plotly.v1+json": {
       "config": {
        "plotlyServerURL": "https://plot.ly"
       },
       "data": [
        {
         "link": {
          "color": [
           "#680CFD",
           "#680CFD",
           "#680CFD",
           "#C021EC",
           "#C021EC",
           "#C021EC",
           "#DB1C36",
           "#DB1C36",
           "#DB1C36",
           "#FFA407",
           "#FFA407",
           "#FFA407"
          ],
          "source": [
           0,
           0,
           0,
           1,
           1,
           1,
           2,
           2,
           2,
           3,
           3,
           3
          ],
          "target": [
           4,
           5,
           6,
           4,
           5,
           6,
           4,
           5,
           6,
           4,
           5,
           6
          ],
          "value": [
           28,
           28,
           20,
           15,
           2,
           7,
           4,
           0,
           4,
           0,
           0,
           2
          ]
         },
         "node": {
          "color": [
           "#680CFD",
           "#C021EC",
           "#DB1C36",
           "#FFA407",
           "#1F1CFF",
           "#7979FF",
           "#2572FF"
          ],
          "label": [
           "monocrystalline Si",
           "multicrystalline Si",
           "HIT",
           "CIGS",
           "PID-s",
           "PID-p",
           "PID-c"
          ],
          "line": {
           "color": "black",
           "width": 0.5
          },
          "pad": 20,
          "thickness": 20
         },
         "type": "sankey"
        }
       ],
       "layout": {
        "font": {
         "size": 20
        },
        "template": {
         "data": {
          "bar": [
           {
            "error_x": {
             "color": "#2a3f5f"
            },
            "error_y": {
             "color": "#2a3f5f"
            },
            "marker": {
             "line": {
              "color": "#E5ECF6",
              "width": 0.5
             },
             "pattern": {
              "fillmode": "overlay",
              "size": 10,
              "solidity": 0.2
             }
            },
            "type": "bar"
           }
          ],
          "barpolar": [
           {
            "marker": {
             "line": {
              "color": "#E5ECF6",
              "width": 0.5
             },
             "pattern": {
              "fillmode": "overlay",
              "size": 10,
              "solidity": 0.2
             }
            },
            "type": "barpolar"
           }
          ],
          "carpet": [
           {
            "aaxis": {
             "endlinecolor": "#2a3f5f",
             "gridcolor": "white",
             "linecolor": "white",
             "minorgridcolor": "white",
             "startlinecolor": "#2a3f5f"
            },
            "baxis": {
             "endlinecolor": "#2a3f5f",
             "gridcolor": "white",
             "linecolor": "white",
             "minorgridcolor": "white",
             "startlinecolor": "#2a3f5f"
            },
            "type": "carpet"
           }
          ],
          "choropleth": [
           {
            "colorbar": {
             "outlinewidth": 0,
             "ticks": ""
            },
            "type": "choropleth"
           }
          ],
          "contour": [
           {
            "colorbar": {
             "outlinewidth": 0,
             "ticks": ""
            },
            "colorscale": [
             [
              0,
              "#0d0887"
             ],
             [
              0.1111111111111111,
              "#46039f"
             ],
             [
              0.2222222222222222,
              "#7201a8"
             ],
             [
              0.3333333333333333,
              "#9c179e"
             ],
             [
              0.4444444444444444,
              "#bd3786"
             ],
             [
              0.5555555555555556,
              "#d8576b"
             ],
             [
              0.6666666666666666,
              "#ed7953"
             ],
             [
              0.7777777777777778,
              "#fb9f3a"
             ],
             [
              0.8888888888888888,
              "#fdca26"
             ],
             [
              1,
              "#f0f921"
             ]
            ],
            "type": "contour"
           }
          ],
          "contourcarpet": [
           {
            "colorbar": {
             "outlinewidth": 0,
             "ticks": ""
            },
            "type": "contourcarpet"
           }
          ],
          "heatmap": [
           {
            "colorbar": {
             "outlinewidth": 0,
             "ticks": ""
            },
            "colorscale": [
             [
              0,
              "#0d0887"
             ],
             [
              0.1111111111111111,
              "#46039f"
             ],
             [
              0.2222222222222222,
              "#7201a8"
             ],
             [
              0.3333333333333333,
              "#9c179e"
             ],
             [
              0.4444444444444444,
              "#bd3786"
             ],
             [
              0.5555555555555556,
              "#d8576b"
             ],
             [
              0.6666666666666666,
              "#ed7953"
             ],
             [
              0.7777777777777778,
              "#fb9f3a"
             ],
             [
              0.8888888888888888,
              "#fdca26"
             ],
             [
              1,
              "#f0f921"
             ]
            ],
            "type": "heatmap"
           }
          ],
          "histogram": [
           {
            "marker": {
             "pattern": {
              "fillmode": "overlay",
              "size": 10,
              "solidity": 0.2
             }
            },
            "type": "histogram"
           }
          ],
          "histogram2d": [
           {
            "colorbar": {
             "outlinewidth": 0,
             "ticks": ""
            },
            "colorscale": [
             [
              0,
              "#0d0887"
             ],
             [
              0.1111111111111111,
              "#46039f"
             ],
             [
              0.2222222222222222,
              "#7201a8"
             ],
             [
              0.3333333333333333,
              "#9c179e"
             ],
             [
              0.4444444444444444,
              "#bd3786"
             ],
             [
              0.5555555555555556,
              "#d8576b"
             ],
             [
              0.6666666666666666,
              "#ed7953"
             ],
             [
              0.7777777777777778,
              "#fb9f3a"
             ],
             [
              0.8888888888888888,
              "#fdca26"
             ],
             [
              1,
              "#f0f921"
             ]
            ],
            "type": "histogram2d"
           }
          ],
          "histogram2dcontour": [
           {
            "colorbar": {
             "outlinewidth": 0,
             "ticks": ""
            },
            "colorscale": [
             [
              0,
              "#0d0887"
             ],
             [
              0.1111111111111111,
              "#46039f"
             ],
             [
              0.2222222222222222,
              "#7201a8"
             ],
             [
              0.3333333333333333,
              "#9c179e"
             ],
             [
              0.4444444444444444,
              "#bd3786"
             ],
             [
              0.5555555555555556,
              "#d8576b"
             ],
             [
              0.6666666666666666,
              "#ed7953"
             ],
             [
              0.7777777777777778,
              "#fb9f3a"
             ],
             [
              0.8888888888888888,
              "#fdca26"
             ],
             [
              1,
              "#f0f921"
             ]
            ],
            "type": "histogram2dcontour"
           }
          ],
          "mesh3d": [
           {
            "colorbar": {
             "outlinewidth": 0,
             "ticks": ""
            },
            "type": "mesh3d"
           }
          ],
          "parcoords": [
           {
            "line": {
             "colorbar": {
              "outlinewidth": 0,
              "ticks": ""
             }
            },
            "type": "parcoords"
           }
          ],
          "pie": [
           {
            "automargin": true,
            "type": "pie"
           }
          ],
          "scatter": [
           {
            "fillpattern": {
             "fillmode": "overlay",
             "size": 10,
             "solidity": 0.2
            },
            "type": "scatter"
           }
          ],
          "scatter3d": [
           {
            "line": {
             "colorbar": {
              "outlinewidth": 0,
              "ticks": ""
             }
            },
            "marker": {
             "colorbar": {
              "outlinewidth": 0,
              "ticks": ""
             }
            },
            "type": "scatter3d"
           }
          ],
          "scattercarpet": [
           {
            "marker": {
             "colorbar": {
              "outlinewidth": 0,
              "ticks": ""
             }
            },
            "type": "scattercarpet"
           }
          ],
          "scattergeo": [
           {
            "marker": {
             "colorbar": {
              "outlinewidth": 0,
              "ticks": ""
             }
            },
            "type": "scattergeo"
           }
          ],
          "scattergl": [
           {
            "marker": {
             "colorbar": {
              "outlinewidth": 0,
              "ticks": ""
             }
            },
            "type": "scattergl"
           }
          ],
          "scattermap": [
           {
            "marker": {
             "colorbar": {
              "outlinewidth": 0,
              "ticks": ""
             }
            },
            "type": "scattermap"
           }
          ],
          "scattermapbox": [
           {
            "marker": {
             "colorbar": {
              "outlinewidth": 0,
              "ticks": ""
             }
            },
            "type": "scattermapbox"
           }
          ],
          "scatterpolar": [
           {
            "marker": {
             "colorbar": {
              "outlinewidth": 0,
              "ticks": ""
             }
            },
            "type": "scatterpolar"
           }
          ],
          "scatterpolargl": [
           {
            "marker": {
             "colorbar": {
              "outlinewidth": 0,
              "ticks": ""
             }
            },
            "type": "scatterpolargl"
           }
          ],
          "scatterternary": [
           {
            "marker": {
             "colorbar": {
              "outlinewidth": 0,
              "ticks": ""
             }
            },
            "type": "scatterternary"
           }
          ],
          "surface": [
           {
            "colorbar": {
             "outlinewidth": 0,
             "ticks": ""
            },
            "colorscale": [
             [
              0,
              "#0d0887"
             ],
             [
              0.1111111111111111,
              "#46039f"
             ],
             [
              0.2222222222222222,
              "#7201a8"
             ],
             [
              0.3333333333333333,
              "#9c179e"
             ],
             [
              0.4444444444444444,
              "#bd3786"
             ],
             [
              0.5555555555555556,
              "#d8576b"
             ],
             [
              0.6666666666666666,
              "#ed7953"
             ],
             [
              0.7777777777777778,
              "#fb9f3a"
             ],
             [
              0.8888888888888888,
              "#fdca26"
             ],
             [
              1,
              "#f0f921"
             ]
            ],
            "type": "surface"
           }
          ],
          "table": [
           {
            "cells": {
             "fill": {
              "color": "#EBF0F8"
             },
             "line": {
              "color": "white"
             }
            },
            "header": {
             "fill": {
              "color": "#C8D4E3"
             },
             "line": {
              "color": "white"
             }
            },
            "type": "table"
           }
          ]
         },
         "layout": {
          "annotationdefaults": {
           "arrowcolor": "#2a3f5f",
           "arrowhead": 0,
           "arrowwidth": 1
          },
          "autotypenumbers": "strict",
          "coloraxis": {
           "colorbar": {
            "outlinewidth": 0,
            "ticks": ""
           }
          },
          "colorscale": {
           "diverging": [
            [
             0,
             "#8e0152"
            ],
            [
             0.1,
             "#c51b7d"
            ],
            [
             0.2,
             "#de77ae"
            ],
            [
             0.3,
             "#f1b6da"
            ],
            [
             0.4,
             "#fde0ef"
            ],
            [
             0.5,
             "#f7f7f7"
            ],
            [
             0.6,
             "#e6f5d0"
            ],
            [
             0.7,
             "#b8e186"
            ],
            [
             0.8,
             "#7fbc41"
            ],
            [
             0.9,
             "#4d9221"
            ],
            [
             1,
             "#276419"
            ]
           ],
           "sequential": [
            [
             0,
             "#0d0887"
            ],
            [
             0.1111111111111111,
             "#46039f"
            ],
            [
             0.2222222222222222,
             "#7201a8"
            ],
            [
             0.3333333333333333,
             "#9c179e"
            ],
            [
             0.4444444444444444,
             "#bd3786"
            ],
            [
             0.5555555555555556,
             "#d8576b"
            ],
            [
             0.6666666666666666,
             "#ed7953"
            ],
            [
             0.7777777777777778,
             "#fb9f3a"
            ],
            [
             0.8888888888888888,
             "#fdca26"
            ],
            [
             1,
             "#f0f921"
            ]
           ],
           "sequentialminus": [
            [
             0,
             "#0d0887"
            ],
            [
             0.1111111111111111,
             "#46039f"
            ],
            [
             0.2222222222222222,
             "#7201a8"
            ],
            [
             0.3333333333333333,
             "#9c179e"
            ],
            [
             0.4444444444444444,
             "#bd3786"
            ],
            [
             0.5555555555555556,
             "#d8576b"
            ],
            [
             0.6666666666666666,
             "#ed7953"
            ],
            [
             0.7777777777777778,
             "#fb9f3a"
            ],
            [
             0.8888888888888888,
             "#fdca26"
            ],
            [
             1,
             "#f0f921"
            ]
           ]
          },
          "colorway": [
           "#636efa",
           "#EF553B",
           "#00cc96",
           "#ab63fa",
           "#FFA15A",
           "#19d3f3",
           "#FF6692",
           "#B6E880",
           "#FF97FF",
           "#FECB52"
          ],
          "font": {
           "color": "#2a3f5f"
          },
          "geo": {
           "bgcolor": "white",
           "lakecolor": "white",
           "landcolor": "#E5ECF6",
           "showlakes": true,
           "showland": true,
           "subunitcolor": "white"
          },
          "hoverlabel": {
           "align": "left"
          },
          "hovermode": "closest",
          "mapbox": {
           "style": "light"
          },
          "paper_bgcolor": "white",
          "plot_bgcolor": "#E5ECF6",
          "polar": {
           "angularaxis": {
            "gridcolor": "white",
            "linecolor": "white",
            "ticks": ""
           },
           "bgcolor": "#E5ECF6",
           "radialaxis": {
            "gridcolor": "white",
            "linecolor": "white",
            "ticks": ""
           }
          },
          "scene": {
           "xaxis": {
            "backgroundcolor": "#E5ECF6",
            "gridcolor": "white",
            "gridwidth": 2,
            "linecolor": "white",
            "showbackground": true,
            "ticks": "",
            "zerolinecolor": "white"
           },
           "yaxis": {
            "backgroundcolor": "#E5ECF6",
            "gridcolor": "white",
            "gridwidth": 2,
            "linecolor": "white",
            "showbackground": true,
            "ticks": "",
            "zerolinecolor": "white"
           },
           "zaxis": {
            "backgroundcolor": "#E5ECF6",
            "gridcolor": "white",
            "gridwidth": 2,
            "linecolor": "white",
            "showbackground": true,
            "ticks": "",
            "zerolinecolor": "white"
           }
          },
          "shapedefaults": {
           "line": {
            "color": "#2a3f5f"
           }
          },
          "ternary": {
           "aaxis": {
            "gridcolor": "white",
            "linecolor": "white",
            "ticks": ""
           },
           "baxis": {
            "gridcolor": "white",
            "linecolor": "white",
            "ticks": ""
           },
           "bgcolor": "#E5ECF6",
           "caxis": {
            "gridcolor": "white",
            "linecolor": "white",
            "ticks": ""
           }
          },
          "title": {
           "x": 0.05
          },
          "xaxis": {
           "automargin": true,
           "gridcolor": "white",
           "linecolor": "white",
           "ticks": "",
           "title": {
            "standoff": 15
           },
           "zerolinecolor": "white",
           "zerolinewidth": 2
          },
          "yaxis": {
           "automargin": true,
           "gridcolor": "white",
           "linecolor": "white",
           "ticks": "",
           "title": {
            "standoff": 15
           },
           "zerolinecolor": "white",
           "zerolinewidth": 2
          }
         }
        },
        "title": {
         "text": "Module Technology to PID Type Mapping"
        }
       }
      }
     },
     "metadata": {},
     "output_type": "display_data"
    }
   ],
   "source": [
    "import plotly.graph_objects as go\n",
    "\n",
    "# Define your labels and colors for nodes\n",
    "labels = [\n",
    "    \"monocrystalline Si\", \"multicrystalline Si\", \"HIT\", \"CIGS\",  # module tech\n",
    "    \"PID-s\", \"PID-p\", \"PID-c\"              # PID types\n",
    "]\n",
    "colors = [\n",
    "    \"#680CFD\",  # mono-c-Si\n",
    "    \"#C021EC\",  # multi-c-Si\n",
    "    \"#DB1C36\",  # HIT\n",
    "    \"#FFA407\",  # CIGS\n",
    "    \"#1F1CFF\",  # PID-s\n",
    "    \"#7979FF\",  # PID-p\n",
    "    \"#2572FF\"   # PID-c\n",
    "]\n",
    "\n",
    "# Define source and target nodes\n",
    "source = [0, 0, 0, 1, 1, 1, 2, 2, 2, 3, 3, 3]\n",
    "target = [4, 5, 6, 4, 5, 6, 4, 5, 6, 4, 5, 6]\n",
    "value =  [28, 28, 20, 15, 2, 7, 4, 0, 4, 0, 0, 2]\n",
    "\n",
    "# Map link colors to the source node's color\n",
    "link_colors = [colors[s] for s in source]\n",
    "\n",
    "# Create the Sankey diagram\n",
    "fig = go.Figure(data=go.Sankey(\n",
    "    node=dict(\n",
    "        pad=20,\n",
    "        thickness=20,\n",
    "        line=dict(color=\"black\", width=0.5),\n",
    "        label=labels,\n",
    "        color=colors\n",
    "    ),\n",
    "    link=dict(\n",
    "        source=source,\n",
    "        target=target,\n",
    "        value=value,\n",
    "        color=link_colors\n",
    "    )\n",
    "))\n",
    "\n",
    "fig.update_layout(title_text=\"Module Technology to PID Type Mapping\", font_size=20)\n",
    "fig.show()\n"
   ]
  },
  {
   "cell_type": "code",
   "execution_count": null,
   "id": "64d5fbe7",
   "metadata": {},
   "outputs": [],
   "source": [
    "import plotly.graph_objects as go\n",
    "\n",
    "# Define your labels and colors for nodes\n",
    "labels = [\n",
    "    \"monocrystalline Si\", \"multicrystalline Si\", \"HIT\", \"CIGS\",  # module tech\n",
    "    \"PID-s\", \"PID-p\", \"PID-c\"              # PID types\n",
    "]\n",
    "colors = [\n",
    "    \"#680CFD\",  # mono-c-Si\n",
    "    \"#C021EC\",  # multi-c-Si\n",
    "    \"#DB1C36\",  # HIT\n",
    "    \"#FFA407\",  # CIGS\n",
    "    \"#1F1CFF\",  # PID-s\n",
    "    \"#7979FF\",  # PID-p\n",
    "    \"#2572FF\"   # PID-c\n",
    "]\n",
    "\n",
    "# Define source and target nodes\n",
    "source = [0, 0, 0, 1, 1, 1, 2, 2, 2, 3, 3, 3]\n",
    "target = [4, 5, 6, 4, 5, 6, 4, 5, 6, 4, 5, 6]\n",
    "value =  [28, 28, 20, 15, 2, 7, 4, 0, 4, 2, 0, 0]\n",
    "\n",
    "# Map link colors to the source node's color\n",
    "link_colors = [colors[s] for s in source]\n",
    "\n",
    "# Create the Sankey diagram\n",
    "fig = go.Figure(data=go.Sankey(\n",
    "    node=dict(\n",
    "        pad=20,\n",
    "        thickness=20,\n",
    "        line=dict(color=\"black\", width=0.5),\n",
    "        label=labels,\n",
    "        color=colors\n",
    "    ),\n",
    "    link=dict(\n",
    "        source=source,\n",
    "        target=target,\n",
    "        value=value,\n",
    "        color=link_colors\n",
    "    )\n",
    "))\n",
    "\n",
    "fig.update_layout(title_text=\"Module Technology to PID Type Mapping\", font_size=20)\n",
    "fig.show()"
   ]
  },
  {
   "cell_type": "code",
   "execution_count": 26,
   "id": "51eae76c",
   "metadata": {},
   "outputs": [
    {
     "data": {
      "application/vnd.plotly.v1+json": {
       "config": {
        "plotlyServerURL": "https://plot.ly"
       },
       "data": [
        {
         "link": {
          "color": [
           "#D12A2A",
           "#D12A2A",
           "#D12A2A",
           "#1BC8B1",
           "#1BC8B1",
           "#1BC8B1",
           "#FFCC00",
           "#FFCC00",
           "#FFCC00",
           "#FF3FAF",
           "#FF3FAF",
           "#FF3FAF"
          ],
          "source": [
           0,
           0,
           0,
           1,
           1,
           1,
           2,
           2,
           2,
           3,
           3,
           3
          ],
          "target": [
           4,
           5,
           6,
           4,
           5,
           6,
           4,
           5,
           6,
           4,
           5,
           6
          ],
          "value": [
           4,
           8,
           5,
           30,
           16,
           24,
           5,
           6,
           2,
           1,
           0,
           1
          ]
         },
         "node": {
          "color": [
           "#D12A2A",
           "#1BC8B1",
           "#FFCC00",
           "#FF3FAF",
           "#1F1CFF",
           "#7979FF",
           "#2572FF"
          ],
          "label": [
           "positive (+)",
           "negative (-)",
           "both (+ and -)",
           "none",
           "PID-s",
           "PID-p",
           "PID-c"
          ],
          "line": {
           "color": "black",
           "width": 0.5
          },
          "pad": 20,
          "thickness": 20
         },
         "type": "sankey"
        }
       ],
       "layout": {
        "font": {
         "size": 20
        },
        "template": {
         "data": {
          "bar": [
           {
            "error_x": {
             "color": "#2a3f5f"
            },
            "error_y": {
             "color": "#2a3f5f"
            },
            "marker": {
             "line": {
              "color": "#E5ECF6",
              "width": 0.5
             },
             "pattern": {
              "fillmode": "overlay",
              "size": 10,
              "solidity": 0.2
             }
            },
            "type": "bar"
           }
          ],
          "barpolar": [
           {
            "marker": {
             "line": {
              "color": "#E5ECF6",
              "width": 0.5
             },
             "pattern": {
              "fillmode": "overlay",
              "size": 10,
              "solidity": 0.2
             }
            },
            "type": "barpolar"
           }
          ],
          "carpet": [
           {
            "aaxis": {
             "endlinecolor": "#2a3f5f",
             "gridcolor": "white",
             "linecolor": "white",
             "minorgridcolor": "white",
             "startlinecolor": "#2a3f5f"
            },
            "baxis": {
             "endlinecolor": "#2a3f5f",
             "gridcolor": "white",
             "linecolor": "white",
             "minorgridcolor": "white",
             "startlinecolor": "#2a3f5f"
            },
            "type": "carpet"
           }
          ],
          "choropleth": [
           {
            "colorbar": {
             "outlinewidth": 0,
             "ticks": ""
            },
            "type": "choropleth"
           }
          ],
          "contour": [
           {
            "colorbar": {
             "outlinewidth": 0,
             "ticks": ""
            },
            "colorscale": [
             [
              0,
              "#0d0887"
             ],
             [
              0.1111111111111111,
              "#46039f"
             ],
             [
              0.2222222222222222,
              "#7201a8"
             ],
             [
              0.3333333333333333,
              "#9c179e"
             ],
             [
              0.4444444444444444,
              "#bd3786"
             ],
             [
              0.5555555555555556,
              "#d8576b"
             ],
             [
              0.6666666666666666,
              "#ed7953"
             ],
             [
              0.7777777777777778,
              "#fb9f3a"
             ],
             [
              0.8888888888888888,
              "#fdca26"
             ],
             [
              1,
              "#f0f921"
             ]
            ],
            "type": "contour"
           }
          ],
          "contourcarpet": [
           {
            "colorbar": {
             "outlinewidth": 0,
             "ticks": ""
            },
            "type": "contourcarpet"
           }
          ],
          "heatmap": [
           {
            "colorbar": {
             "outlinewidth": 0,
             "ticks": ""
            },
            "colorscale": [
             [
              0,
              "#0d0887"
             ],
             [
              0.1111111111111111,
              "#46039f"
             ],
             [
              0.2222222222222222,
              "#7201a8"
             ],
             [
              0.3333333333333333,
              "#9c179e"
             ],
             [
              0.4444444444444444,
              "#bd3786"
             ],
             [
              0.5555555555555556,
              "#d8576b"
             ],
             [
              0.6666666666666666,
              "#ed7953"
             ],
             [
              0.7777777777777778,
              "#fb9f3a"
             ],
             [
              0.8888888888888888,
              "#fdca26"
             ],
             [
              1,
              "#f0f921"
             ]
            ],
            "type": "heatmap"
           }
          ],
          "histogram": [
           {
            "marker": {
             "pattern": {
              "fillmode": "overlay",
              "size": 10,
              "solidity": 0.2
             }
            },
            "type": "histogram"
           }
          ],
          "histogram2d": [
           {
            "colorbar": {
             "outlinewidth": 0,
             "ticks": ""
            },
            "colorscale": [
             [
              0,
              "#0d0887"
             ],
             [
              0.1111111111111111,
              "#46039f"
             ],
             [
              0.2222222222222222,
              "#7201a8"
             ],
             [
              0.3333333333333333,
              "#9c179e"
             ],
             [
              0.4444444444444444,
              "#bd3786"
             ],
             [
              0.5555555555555556,
              "#d8576b"
             ],
             [
              0.6666666666666666,
              "#ed7953"
             ],
             [
              0.7777777777777778,
              "#fb9f3a"
             ],
             [
              0.8888888888888888,
              "#fdca26"
             ],
             [
              1,
              "#f0f921"
             ]
            ],
            "type": "histogram2d"
           }
          ],
          "histogram2dcontour": [
           {
            "colorbar": {
             "outlinewidth": 0,
             "ticks": ""
            },
            "colorscale": [
             [
              0,
              "#0d0887"
             ],
             [
              0.1111111111111111,
              "#46039f"
             ],
             [
              0.2222222222222222,
              "#7201a8"
             ],
             [
              0.3333333333333333,
              "#9c179e"
             ],
             [
              0.4444444444444444,
              "#bd3786"
             ],
             [
              0.5555555555555556,
              "#d8576b"
             ],
             [
              0.6666666666666666,
              "#ed7953"
             ],
             [
              0.7777777777777778,
              "#fb9f3a"
             ],
             [
              0.8888888888888888,
              "#fdca26"
             ],
             [
              1,
              "#f0f921"
             ]
            ],
            "type": "histogram2dcontour"
           }
          ],
          "mesh3d": [
           {
            "colorbar": {
             "outlinewidth": 0,
             "ticks": ""
            },
            "type": "mesh3d"
           }
          ],
          "parcoords": [
           {
            "line": {
             "colorbar": {
              "outlinewidth": 0,
              "ticks": ""
             }
            },
            "type": "parcoords"
           }
          ],
          "pie": [
           {
            "automargin": true,
            "type": "pie"
           }
          ],
          "scatter": [
           {
            "fillpattern": {
             "fillmode": "overlay",
             "size": 10,
             "solidity": 0.2
            },
            "type": "scatter"
           }
          ],
          "scatter3d": [
           {
            "line": {
             "colorbar": {
              "outlinewidth": 0,
              "ticks": ""
             }
            },
            "marker": {
             "colorbar": {
              "outlinewidth": 0,
              "ticks": ""
             }
            },
            "type": "scatter3d"
           }
          ],
          "scattercarpet": [
           {
            "marker": {
             "colorbar": {
              "outlinewidth": 0,
              "ticks": ""
             }
            },
            "type": "scattercarpet"
           }
          ],
          "scattergeo": [
           {
            "marker": {
             "colorbar": {
              "outlinewidth": 0,
              "ticks": ""
             }
            },
            "type": "scattergeo"
           }
          ],
          "scattergl": [
           {
            "marker": {
             "colorbar": {
              "outlinewidth": 0,
              "ticks": ""
             }
            },
            "type": "scattergl"
           }
          ],
          "scattermap": [
           {
            "marker": {
             "colorbar": {
              "outlinewidth": 0,
              "ticks": ""
             }
            },
            "type": "scattermap"
           }
          ],
          "scattermapbox": [
           {
            "marker": {
             "colorbar": {
              "outlinewidth": 0,
              "ticks": ""
             }
            },
            "type": "scattermapbox"
           }
          ],
          "scatterpolar": [
           {
            "marker": {
             "colorbar": {
              "outlinewidth": 0,
              "ticks": ""
             }
            },
            "type": "scatterpolar"
           }
          ],
          "scatterpolargl": [
           {
            "marker": {
             "colorbar": {
              "outlinewidth": 0,
              "ticks": ""
             }
            },
            "type": "scatterpolargl"
           }
          ],
          "scatterternary": [
           {
            "marker": {
             "colorbar": {
              "outlinewidth": 0,
              "ticks": ""
             }
            },
            "type": "scatterternary"
           }
          ],
          "surface": [
           {
            "colorbar": {
             "outlinewidth": 0,
             "ticks": ""
            },
            "colorscale": [
             [
              0,
              "#0d0887"
             ],
             [
              0.1111111111111111,
              "#46039f"
             ],
             [
              0.2222222222222222,
              "#7201a8"
             ],
             [
              0.3333333333333333,
              "#9c179e"
             ],
             [
              0.4444444444444444,
              "#bd3786"
             ],
             [
              0.5555555555555556,
              "#d8576b"
             ],
             [
              0.6666666666666666,
              "#ed7953"
             ],
             [
              0.7777777777777778,
              "#fb9f3a"
             ],
             [
              0.8888888888888888,
              "#fdca26"
             ],
             [
              1,
              "#f0f921"
             ]
            ],
            "type": "surface"
           }
          ],
          "table": [
           {
            "cells": {
             "fill": {
              "color": "#EBF0F8"
             },
             "line": {
              "color": "white"
             }
            },
            "header": {
             "fill": {
              "color": "#C8D4E3"
             },
             "line": {
              "color": "white"
             }
            },
            "type": "table"
           }
          ]
         },
         "layout": {
          "annotationdefaults": {
           "arrowcolor": "#2a3f5f",
           "arrowhead": 0,
           "arrowwidth": 1
          },
          "autotypenumbers": "strict",
          "coloraxis": {
           "colorbar": {
            "outlinewidth": 0,
            "ticks": ""
           }
          },
          "colorscale": {
           "diverging": [
            [
             0,
             "#8e0152"
            ],
            [
             0.1,
             "#c51b7d"
            ],
            [
             0.2,
             "#de77ae"
            ],
            [
             0.3,
             "#f1b6da"
            ],
            [
             0.4,
             "#fde0ef"
            ],
            [
             0.5,
             "#f7f7f7"
            ],
            [
             0.6,
             "#e6f5d0"
            ],
            [
             0.7,
             "#b8e186"
            ],
            [
             0.8,
             "#7fbc41"
            ],
            [
             0.9,
             "#4d9221"
            ],
            [
             1,
             "#276419"
            ]
           ],
           "sequential": [
            [
             0,
             "#0d0887"
            ],
            [
             0.1111111111111111,
             "#46039f"
            ],
            [
             0.2222222222222222,
             "#7201a8"
            ],
            [
             0.3333333333333333,
             "#9c179e"
            ],
            [
             0.4444444444444444,
             "#bd3786"
            ],
            [
             0.5555555555555556,
             "#d8576b"
            ],
            [
             0.6666666666666666,
             "#ed7953"
            ],
            [
             0.7777777777777778,
             "#fb9f3a"
            ],
            [
             0.8888888888888888,
             "#fdca26"
            ],
            [
             1,
             "#f0f921"
            ]
           ],
           "sequentialminus": [
            [
             0,
             "#0d0887"
            ],
            [
             0.1111111111111111,
             "#46039f"
            ],
            [
             0.2222222222222222,
             "#7201a8"
            ],
            [
             0.3333333333333333,
             "#9c179e"
            ],
            [
             0.4444444444444444,
             "#bd3786"
            ],
            [
             0.5555555555555556,
             "#d8576b"
            ],
            [
             0.6666666666666666,
             "#ed7953"
            ],
            [
             0.7777777777777778,
             "#fb9f3a"
            ],
            [
             0.8888888888888888,
             "#fdca26"
            ],
            [
             1,
             "#f0f921"
            ]
           ]
          },
          "colorway": [
           "#636efa",
           "#EF553B",
           "#00cc96",
           "#ab63fa",
           "#FFA15A",
           "#19d3f3",
           "#FF6692",
           "#B6E880",
           "#FF97FF",
           "#FECB52"
          ],
          "font": {
           "color": "#2a3f5f"
          },
          "geo": {
           "bgcolor": "white",
           "lakecolor": "white",
           "landcolor": "#E5ECF6",
           "showlakes": true,
           "showland": true,
           "subunitcolor": "white"
          },
          "hoverlabel": {
           "align": "left"
          },
          "hovermode": "closest",
          "mapbox": {
           "style": "light"
          },
          "paper_bgcolor": "white",
          "plot_bgcolor": "#E5ECF6",
          "polar": {
           "angularaxis": {
            "gridcolor": "white",
            "linecolor": "white",
            "ticks": ""
           },
           "bgcolor": "#E5ECF6",
           "radialaxis": {
            "gridcolor": "white",
            "linecolor": "white",
            "ticks": ""
           }
          },
          "scene": {
           "xaxis": {
            "backgroundcolor": "#E5ECF6",
            "gridcolor": "white",
            "gridwidth": 2,
            "linecolor": "white",
            "showbackground": true,
            "ticks": "",
            "zerolinecolor": "white"
           },
           "yaxis": {
            "backgroundcolor": "#E5ECF6",
            "gridcolor": "white",
            "gridwidth": 2,
            "linecolor": "white",
            "showbackground": true,
            "ticks": "",
            "zerolinecolor": "white"
           },
           "zaxis": {
            "backgroundcolor": "#E5ECF6",
            "gridcolor": "white",
            "gridwidth": 2,
            "linecolor": "white",
            "showbackground": true,
            "ticks": "",
            "zerolinecolor": "white"
           }
          },
          "shapedefaults": {
           "line": {
            "color": "#2a3f5f"
           }
          },
          "ternary": {
           "aaxis": {
            "gridcolor": "white",
            "linecolor": "white",
            "ticks": ""
           },
           "baxis": {
            "gridcolor": "white",
            "linecolor": "white",
            "ticks": ""
           },
           "bgcolor": "#E5ECF6",
           "caxis": {
            "gridcolor": "white",
            "linecolor": "white",
            "ticks": ""
           }
          },
          "title": {
           "x": 0.05
          },
          "xaxis": {
           "automargin": true,
           "gridcolor": "white",
           "linecolor": "white",
           "ticks": "",
           "title": {
            "standoff": 15
           },
           "zerolinecolor": "white",
           "zerolinewidth": 2
          },
          "yaxis": {
           "automargin": true,
           "gridcolor": "white",
           "linecolor": "white",
           "ticks": "",
           "title": {
            "standoff": 15
           },
           "zerolinecolor": "white",
           "zerolinewidth": 2
          }
         }
        },
        "title": {
         "text": "Voltage Bias to PID Type Mapping"
        }
       }
      }
     },
     "metadata": {},
     "output_type": "display_data"
    }
   ],
   "source": [
    "import plotly.graph_objects as go\n",
    "\n",
    "# Define your labels and colors for nodes\n",
    "labels = [\n",
    "    \"positive (+)\", \"negative (-)\", \"both (+ and -)\", \"none\",  # voltage bias\n",
    "    \"PID-s\", \"PID-p\", \"PID-c\"                                   # PID types\n",
    "]\n",
    "colors = [\n",
    "    \"#D12A2A\",  # mono-c-Si\n",
    "    \"#1BC8B1\",  # multi-c-Si\n",
    "    \"#FFCC00\",  # HIT\n",
    "    \"#FF3FAF\",  # CIGS\n",
    "    \"#1F1CFF\",  # PID-s\n",
    "    \"#7979FF\",  # PID-p\n",
    "    \"#2572FF\"   # PID-c\n",
    "]\n",
    "\n",
    "# Define source and target nodes by index\n",
    "source = [\n",
    "    0, 0, 0,  # positive (+) → PID-s/p/c\n",
    "    1, 1, 1,  # negative (-) → PID-s/p/c\n",
    "    2, 2, 2,  # both (+/-) → PID-s/p/c\n",
    "    3, 3, 3   # none → PID-s/p/c\n",
    "]\n",
    "target = [\n",
    "    4, 5, 6,\n",
    "    4, 5, 6,\n",
    "    4, 5, 6,\n",
    "    4, 5, 6\n",
    "]\n",
    "value = [\n",
    "    4, 8, 5,\n",
    "    30, 16, 24,\n",
    "    5, 6, 2,\n",
    "    1, 0, 1\n",
    "]\n",
    "\n",
    "# Map link colors to the source node's color\n",
    "link_colors = [colors[s] for s in source]\n",
    "\n",
    "# Create the Sankey diagram\n",
    "fig = go.Figure(data=go.Sankey(\n",
    "    node=dict(\n",
    "        pad=20,\n",
    "        thickness=20,\n",
    "        line=dict(color=\"black\", width=0.5),\n",
    "        label=labels,\n",
    "        color=colors\n",
    "    ),\n",
    "    link=dict(\n",
    "        source=source,\n",
    "        target=target,\n",
    "        value=value,\n",
    "        color=link_colors\n",
    "    )\n",
    "))\n",
    "\n",
    "fig.update_layout(title_text=\"Voltage Bias to PID Type Mapping\", font_size=20)\n",
    "fig.show()\n"
   ]
  },
  {
   "cell_type": "code",
   "execution_count": 26,
   "id": "0f244cb3",
   "metadata": {},
   "outputs": [
    {
     "data": {
      "text/html": [
       "<script type=\"esms-options\">{\"shimMode\": true}</script><style>*[data-root-id],\n",
       "*[data-root-id] > * {\n",
       "  box-sizing: border-box;\n",
       "  font-family: var(--jp-ui-font-family);\n",
       "  font-size: var(--jp-ui-font-size1);\n",
       "  color: var(--vscode-editor-foreground, var(--jp-ui-font-color1));\n",
       "}\n",
       "\n",
       "/* Override VSCode background color */\n",
       ".cell-output-ipywidget-background:has(\n",
       "  > .cell-output-ipywidget-background > .lm-Widget > *[data-root-id]\n",
       "),\n",
       ".cell-output-ipywidget-background:has(> .lm-Widget > *[data-root-id]) {\n",
       "  background-color: transparent !important;\n",
       "}\n",
       "</style>"
      ]
     },
     "metadata": {},
     "output_type": "display_data"
    },
    {
     "data": {
      "application/javascript": "(function(root) {\n  function now() {\n    return new Date();\n  }\n\n  const force = true;\n  const py_version = '3.7.3'.replace('rc', '-rc.').replace('.dev', '-dev.');\n  const reloading = false;\n  const Bokeh = root.Bokeh;\n\n  // Set a timeout for this load but only if we are not already initializing\n  if (typeof (root._bokeh_timeout) === \"undefined\" || (force || !root._bokeh_is_initializing)) {\n    root._bokeh_timeout = Date.now() + 5000;\n    root._bokeh_failed_load = false;\n  }\n\n  function run_callbacks() {\n    try {\n      root._bokeh_onload_callbacks.forEach(function(callback) {\n        if (callback != null)\n          callback();\n      });\n    } finally {\n      delete root._bokeh_onload_callbacks;\n    }\n    console.debug(\"Bokeh: all callbacks have finished\");\n  }\n\n  function load_libs(css_urls, js_urls, js_modules, js_exports, callback) {\n    if (css_urls == null) css_urls = [];\n    if (js_urls == null) js_urls = [];\n    if (js_modules == null) js_modules = [];\n    if (js_exports == null) js_exports = {};\n\n    root._bokeh_onload_callbacks.push(callback);\n\n    if (root._bokeh_is_loading > 0) {\n      // Don't load bokeh if it is still initializing\n      console.debug(\"Bokeh: BokehJS is being loaded, scheduling callback at\", now());\n      return null;\n    } else if (js_urls.length === 0 && js_modules.length === 0 && Object.keys(js_exports).length === 0) {\n      // There is nothing to load\n      run_callbacks();\n      return null;\n    }\n\n    function on_load() {\n      root._bokeh_is_loading--;\n      if (root._bokeh_is_loading === 0) {\n        console.debug(\"Bokeh: all BokehJS libraries/stylesheets loaded\");\n        run_callbacks()\n      }\n    }\n    window._bokeh_on_load = on_load\n\n    function on_error(e) {\n      const src_el = e.srcElement\n      console.error(\"failed to load \" + (src_el.href || src_el.src));\n    }\n\n    const skip = [];\n    if (window.requirejs) {\n      window.requirejs.config({'packages': {}, 'paths': {}, 'shim': {}});\n      root._bokeh_is_loading = css_urls.length + 0;\n    } else {\n      root._bokeh_is_loading = css_urls.length + js_urls.length + js_modules.length + Object.keys(js_exports).length;\n    }\n\n    const existing_stylesheets = []\n    const links = document.getElementsByTagName('link')\n    for (let i = 0; i < links.length; i++) {\n      const link = links[i]\n      if (link.href != null) {\n        existing_stylesheets.push(link.href)\n      }\n    }\n    for (let i = 0; i < css_urls.length; i++) {\n      const url = css_urls[i];\n      const escaped = encodeURI(url)\n      if (existing_stylesheets.indexOf(escaped) !== -1) {\n        on_load()\n        continue;\n      }\n      const element = document.createElement(\"link\");\n      element.onload = on_load;\n      element.onerror = on_error;\n      element.rel = \"stylesheet\";\n      element.type = \"text/css\";\n      element.href = url;\n      console.debug(\"Bokeh: injecting link tag for BokehJS stylesheet: \", url);\n      document.body.appendChild(element);\n    }    var existing_scripts = []\n    const scripts = document.getElementsByTagName('script')\n    for (let i = 0; i < scripts.length; i++) {\n      var script = scripts[i]\n      if (script.src != null) {\n        existing_scripts.push(script.src)\n      }\n    }\n    for (let i = 0; i < js_urls.length; i++) {\n      const url = js_urls[i];\n      const escaped = encodeURI(url)\n      if (skip.indexOf(escaped) !== -1 || existing_scripts.indexOf(escaped) !== -1) {\n        if (!window.requirejs) {\n          on_load();\n        }\n        continue;\n      }\n      const element = document.createElement('script');\n      element.onload = on_load;\n      element.onerror = on_error;\n      element.async = false;\n      element.src = url;\n      console.debug(\"Bokeh: injecting script tag for BokehJS library: \", url);\n      document.head.appendChild(element);\n    }\n    for (let i = 0; i < js_modules.length; i++) {\n      const url = js_modules[i];\n      const escaped = encodeURI(url)\n      if (skip.indexOf(escaped) !== -1 || existing_scripts.indexOf(escaped) !== -1) {\n        if (!window.requirejs) {\n          on_load();\n        }\n        continue;\n      }\n      var element = document.createElement('script');\n      element.onload = on_load;\n      element.onerror = on_error;\n      element.async = false;\n      element.src = url;\n      element.type = \"module\";\n      console.debug(\"Bokeh: injecting script tag for BokehJS library: \", url);\n      document.head.appendChild(element);\n    }\n    for (const name in js_exports) {\n      const url = js_exports[name];\n      const escaped = encodeURI(url)\n      if (skip.indexOf(escaped) >= 0 || root[name] != null) {\n        if (!window.requirejs) {\n          on_load();\n        }\n        continue;\n      }\n      var element = document.createElement('script');\n      element.onerror = on_error;\n      element.async = false;\n      element.type = \"module\";\n      console.debug(\"Bokeh: injecting script tag for BokehJS library: \", url);\n      element.textContent = `\n      import ${name} from \"${url}\"\n      window.${name} = ${name}\n      window._bokeh_on_load()\n      `\n      document.head.appendChild(element);\n    }\n    if (!js_urls.length && !js_modules.length) {\n      on_load()\n    }\n  };\n\n  function inject_raw_css(css) {\n    const element = document.createElement(\"style\");\n    element.appendChild(document.createTextNode(css));\n    document.body.appendChild(element);\n  }\n\n  const js_urls = [\"https://cdn.holoviz.org/panel/1.7.4/dist/bundled/reactiveesm/es-module-shims@^1.10.0/dist/es-module-shims.min.js\", \"https://cdn.bokeh.org/bokeh/release/bokeh-3.7.3.min.js\", \"https://cdn.bokeh.org/bokeh/release/bokeh-gl-3.7.3.min.js\", \"https://cdn.bokeh.org/bokeh/release/bokeh-widgets-3.7.3.min.js\", \"https://cdn.bokeh.org/bokeh/release/bokeh-tables-3.7.3.min.js\", \"https://cdn.holoviz.org/panel/1.7.4/dist/panel.min.js\"];\n  const js_modules = [];\n  const js_exports = {};\n  const css_urls = [];\n  const inline_js = [    function(Bokeh) {\n      Bokeh.set_log_level(\"info\");\n    },\nfunction(Bokeh) {} // ensure no trailing comma for IE\n  ];\n\n  function run_inline_js() {\n    if ((root.Bokeh !== undefined) || (force === true)) {\n      for (let i = 0; i < inline_js.length; i++) {\n        try {\n          inline_js[i].call(root, root.Bokeh);\n        } catch(e) {\n          if (!reloading) {\n            throw e;\n          }\n        }\n      }\n      // Cache old bokeh versions\n      if (Bokeh != undefined && !reloading) {\n        var NewBokeh = root.Bokeh;\n        if (Bokeh.versions === undefined) {\n          Bokeh.versions = new Map();\n        }\n        if (NewBokeh.version !== Bokeh.version) {\n          Bokeh.versions.set(NewBokeh.version, NewBokeh)\n        }\n        root.Bokeh = Bokeh;\n      }\n    } else if (Date.now() < root._bokeh_timeout) {\n      setTimeout(run_inline_js, 100);\n    } else if (!root._bokeh_failed_load) {\n      console.log(\"Bokeh: BokehJS failed to load within specified timeout.\");\n      root._bokeh_failed_load = true;\n    }\n    root._bokeh_is_initializing = false\n  }\n\n  function load_or_wait() {\n    // Implement a backoff loop that tries to ensure we do not load multiple\n    // versions of Bokeh and its dependencies at the same time.\n    // In recent versions we use the root._bokeh_is_initializing flag\n    // to determine whether there is an ongoing attempt to initialize\n    // bokeh, however for backward compatibility we also try to ensure\n    // that we do not start loading a newer (Panel>=1.0 and Bokeh>3) version\n    // before older versions are fully initialized.\n    if (root._bokeh_is_initializing && Date.now() > root._bokeh_timeout) {\n      // If the timeout and bokeh was not successfully loaded we reset\n      // everything and try loading again\n      root._bokeh_timeout = Date.now() + 5000;\n      root._bokeh_is_initializing = false;\n      root._bokeh_onload_callbacks = undefined;\n      root._bokeh_is_loading = 0\n      console.log(\"Bokeh: BokehJS was loaded multiple times but one version failed to initialize.\");\n      load_or_wait();\n    } else if (root._bokeh_is_initializing || (typeof root._bokeh_is_initializing === \"undefined\" && root._bokeh_onload_callbacks !== undefined)) {\n      setTimeout(load_or_wait, 100);\n    } else {\n      root._bokeh_is_initializing = true\n      root._bokeh_onload_callbacks = []\n      const bokeh_loaded = root.Bokeh != null && (root.Bokeh.version === py_version || (root.Bokeh.versions !== undefined && root.Bokeh.versions.has(py_version)));\n      if (!reloading && !bokeh_loaded) {\n        if (root.Bokeh) {\n          root.Bokeh = undefined;\n        }\n        console.debug(\"Bokeh: BokehJS not loaded, scheduling load and callback at\", now());\n      }\n      load_libs(css_urls, js_urls, js_modules, js_exports, function() {\n        console.debug(\"Bokeh: BokehJS plotting callback run at\", now());\n        run_inline_js();\n      });\n    }\n  }\n  // Give older versions of the autoload script a head-start to ensure\n  // they initialize before we start loading newer version.\n  setTimeout(load_or_wait, 100)\n}(window));",
      "application/vnd.holoviews_load.v0+json": ""
     },
     "metadata": {},
     "output_type": "display_data"
    },
    {
     "data": {
      "application/javascript": "\nif ((window.PyViz === undefined) || (window.PyViz instanceof HTMLElement)) {\n  window.PyViz = {comms: {}, comm_status:{}, kernels:{}, receivers: {}, plot_index: []}\n}\n\n\n    function JupyterCommManager() {\n    }\n\n    JupyterCommManager.prototype.register_target = function(plot_id, comm_id, msg_handler) {\n      if (window.comm_manager || ((window.Jupyter !== undefined) && (Jupyter.notebook.kernel != null))) {\n        var comm_manager = window.comm_manager || Jupyter.notebook.kernel.comm_manager;\n        comm_manager.register_target(comm_id, function(comm) {\n          comm.on_msg(msg_handler);\n        });\n      } else if ((plot_id in window.PyViz.kernels) && (window.PyViz.kernels[plot_id])) {\n        window.PyViz.kernels[plot_id].registerCommTarget(comm_id, function(comm) {\n          comm.onMsg = msg_handler;\n        });\n      } else if (typeof google != 'undefined' && google.colab.kernel != null) {\n        google.colab.kernel.comms.registerTarget(comm_id, (comm) => {\n          var messages = comm.messages[Symbol.asyncIterator]();\n          function processIteratorResult(result) {\n            var message = result.value;\n            var content = {data: message.data, comm_id};\n            var buffers = []\n            for (var buffer of message.buffers || []) {\n              buffers.push(new DataView(buffer))\n            }\n            var metadata = message.metadata || {};\n            var msg = {content, buffers, metadata}\n            msg_handler(msg);\n            return messages.next().then(processIteratorResult);\n          }\n          return messages.next().then(processIteratorResult);\n        })\n      }\n    }\n\n    JupyterCommManager.prototype.get_client_comm = function(plot_id, comm_id, msg_handler) {\n      if (comm_id in window.PyViz.comms) {\n        return window.PyViz.comms[comm_id];\n      } else if (window.comm_manager || ((window.Jupyter !== undefined) && (Jupyter.notebook.kernel != null))) {\n        var comm_manager = window.comm_manager || Jupyter.notebook.kernel.comm_manager;\n        var comm = comm_manager.new_comm(comm_id, {}, {}, {}, comm_id);\n        if (msg_handler) {\n          comm.on_msg(msg_handler);\n        }\n      } else if ((plot_id in window.PyViz.kernels) && (window.PyViz.kernels[plot_id])) {\n        var comm = window.PyViz.kernels[plot_id].connectToComm(comm_id);\n        let retries = 0;\n        const open = () => {\n          if (comm.active) {\n            comm.open();\n          } else if (retries > 3) {\n            console.warn('Comm target never activated')\n          } else {\n            retries += 1\n            setTimeout(open, 500)\n          }\n        }\n        if (comm.active) {\n          comm.open();\n        } else {\n          setTimeout(open, 500)\n        }\n        if (msg_handler) {\n          comm.onMsg = msg_handler;\n        }\n      } else if (typeof google != 'undefined' && google.colab.kernel != null) {\n        var comm_promise = google.colab.kernel.comms.open(comm_id)\n        comm_promise.then((comm) => {\n          window.PyViz.comms[comm_id] = comm;\n          if (msg_handler) {\n            var messages = comm.messages[Symbol.asyncIterator]();\n            function processIteratorResult(result) {\n              var message = result.value;\n              var content = {data: message.data};\n              var metadata = message.metadata || {comm_id};\n              var msg = {content, metadata}\n              msg_handler(msg);\n              return messages.next().then(processIteratorResult);\n            }\n            return messages.next().then(processIteratorResult);\n          }\n        })\n        var sendClosure = (data, metadata, buffers, disposeOnDone) => {\n          return comm_promise.then((comm) => {\n            comm.send(data, metadata, buffers, disposeOnDone);\n          });\n        };\n        var comm = {\n          send: sendClosure\n        };\n      }\n      window.PyViz.comms[comm_id] = comm;\n      return comm;\n    }\n    window.PyViz.comm_manager = new JupyterCommManager();\n    \n\n\nvar JS_MIME_TYPE = 'application/javascript';\nvar HTML_MIME_TYPE = 'text/html';\nvar EXEC_MIME_TYPE = 'application/vnd.holoviews_exec.v0+json';\nvar CLASS_NAME = 'output';\n\n/**\n * Render data to the DOM node\n */\nfunction render(props, node) {\n  var div = document.createElement(\"div\");\n  var script = document.createElement(\"script\");\n  node.appendChild(div);\n  node.appendChild(script);\n}\n\n/**\n * Handle when a new output is added\n */\nfunction handle_add_output(event, handle) {\n  var output_area = handle.output_area;\n  var output = handle.output;\n  if ((output.data == undefined) || (!output.data.hasOwnProperty(EXEC_MIME_TYPE))) {\n    return\n  }\n  var id = output.metadata[EXEC_MIME_TYPE][\"id\"];\n  var toinsert = output_area.element.find(\".\" + CLASS_NAME.split(' ')[0]);\n  if (id !== undefined) {\n    var nchildren = toinsert.length;\n    var html_node = toinsert[nchildren-1].children[0];\n    html_node.innerHTML = output.data[HTML_MIME_TYPE];\n    var scripts = [];\n    var nodelist = html_node.querySelectorAll(\"script\");\n    for (var i in nodelist) {\n      if (nodelist.hasOwnProperty(i)) {\n        scripts.push(nodelist[i])\n      }\n    }\n\n    scripts.forEach( function (oldScript) {\n      var newScript = document.createElement(\"script\");\n      var attrs = [];\n      var nodemap = oldScript.attributes;\n      for (var j in nodemap) {\n        if (nodemap.hasOwnProperty(j)) {\n          attrs.push(nodemap[j])\n        }\n      }\n      attrs.forEach(function(attr) { newScript.setAttribute(attr.name, attr.value) });\n      newScript.appendChild(document.createTextNode(oldScript.innerHTML));\n      oldScript.parentNode.replaceChild(newScript, oldScript);\n    });\n    if (JS_MIME_TYPE in output.data) {\n      toinsert[nchildren-1].children[1].textContent = output.data[JS_MIME_TYPE];\n    }\n    output_area._hv_plot_id = id;\n    if ((window.Bokeh !== undefined) && (id in Bokeh.index)) {\n      window.PyViz.plot_index[id] = Bokeh.index[id];\n    } else {\n      window.PyViz.plot_index[id] = null;\n    }\n  } else if (output.metadata[EXEC_MIME_TYPE][\"server_id\"] !== undefined) {\n    var bk_div = document.createElement(\"div\");\n    bk_div.innerHTML = output.data[HTML_MIME_TYPE];\n    var script_attrs = bk_div.children[0].attributes;\n    for (var i = 0; i < script_attrs.length; i++) {\n      toinsert[toinsert.length - 1].childNodes[1].setAttribute(script_attrs[i].name, script_attrs[i].value);\n    }\n    // store reference to server id on output_area\n    output_area._bokeh_server_id = output.metadata[EXEC_MIME_TYPE][\"server_id\"];\n  }\n}\n\n/**\n * Handle when an output is cleared or removed\n */\nfunction handle_clear_output(event, handle) {\n  var id = handle.cell.output_area._hv_plot_id;\n  var server_id = handle.cell.output_area._bokeh_server_id;\n  if (((id === undefined) || !(id in PyViz.plot_index)) && (server_id !== undefined)) { return; }\n  var comm = window.PyViz.comm_manager.get_client_comm(\"hv-extension-comm\", \"hv-extension-comm\", function () {});\n  if (server_id !== null) {\n    comm.send({event_type: 'server_delete', 'id': server_id});\n    return;\n  } else if (comm !== null) {\n    comm.send({event_type: 'delete', 'id': id});\n  }\n  delete PyViz.plot_index[id];\n  if ((window.Bokeh !== undefined) & (id in window.Bokeh.index)) {\n    var doc = window.Bokeh.index[id].model.document\n    doc.clear();\n    const i = window.Bokeh.documents.indexOf(doc);\n    if (i > -1) {\n      window.Bokeh.documents.splice(i, 1);\n    }\n  }\n}\n\n/**\n * Handle kernel restart event\n */\nfunction handle_kernel_cleanup(event, handle) {\n  delete PyViz.comms[\"hv-extension-comm\"];\n  window.PyViz.plot_index = {}\n}\n\n/**\n * Handle update_display_data messages\n */\nfunction handle_update_output(event, handle) {\n  handle_clear_output(event, {cell: {output_area: handle.output_area}})\n  handle_add_output(event, handle)\n}\n\nfunction register_renderer(events, OutputArea) {\n  function append_mime(data, metadata, element) {\n    // create a DOM node to render to\n    var toinsert = this.create_output_subarea(\n    metadata,\n    CLASS_NAME,\n    EXEC_MIME_TYPE\n    );\n    this.keyboard_manager.register_events(toinsert);\n    // Render to node\n    var props = {data: data, metadata: metadata[EXEC_MIME_TYPE]};\n    render(props, toinsert[0]);\n    element.append(toinsert);\n    return toinsert\n  }\n\n  events.on('output_added.OutputArea', handle_add_output);\n  events.on('output_updated.OutputArea', handle_update_output);\n  events.on('clear_output.CodeCell', handle_clear_output);\n  events.on('delete.Cell', handle_clear_output);\n  events.on('kernel_ready.Kernel', handle_kernel_cleanup);\n\n  OutputArea.prototype.register_mime_type(EXEC_MIME_TYPE, append_mime, {\n    safe: true,\n    index: 0\n  });\n}\n\nif (window.Jupyter !== undefined) {\n  try {\n    var events = require('base/js/events');\n    var OutputArea = require('notebook/js/outputarea').OutputArea;\n    if (OutputArea.prototype.mime_types().indexOf(EXEC_MIME_TYPE) == -1) {\n      register_renderer(events, OutputArea);\n    }\n  } catch(err) {\n  }\n}\n",
      "application/vnd.holoviews_load.v0+json": ""
     },
     "metadata": {},
     "output_type": "display_data"
    },
    {
     "data": {
      "application/vnd.holoviews_exec.v0+json": "",
      "text/html": [
       "<div id='7f019026-53ad-4563-8ba1-14448fb13979'>\n",
       "  <div id=\"ea46f65b-75ef-40ba-a647-dc9730972f6c\" data-root-id=\"7f019026-53ad-4563-8ba1-14448fb13979\" style=\"display: contents;\"></div>\n",
       "</div>\n",
       "<script type=\"application/javascript\">(function(root) {\n",
       "  var docs_json = {\"1434f8d7-c16c-46fa-8655-50413e78a3dd\":{\"version\":\"3.7.3\",\"title\":\"Bokeh Application\",\"roots\":[{\"type\":\"object\",\"name\":\"panel.models.browser.BrowserInfo\",\"id\":\"7f019026-53ad-4563-8ba1-14448fb13979\"},{\"type\":\"object\",\"name\":\"panel.models.comm_manager.CommManager\",\"id\":\"0f6b86f0-eb80-4c07-b9cb-c8f33d79391b\",\"attributes\":{\"plot_id\":\"7f019026-53ad-4563-8ba1-14448fb13979\",\"comm_id\":\"c119f485d81649faab03d7dcf864e3a6\",\"client_comm_id\":\"995ff6f8a8c04ba187a89147f70ad841\"}}],\"defs\":[{\"type\":\"model\",\"name\":\"ReactiveHTML1\"},{\"type\":\"model\",\"name\":\"FlexBox1\",\"properties\":[{\"name\":\"align_content\",\"kind\":\"Any\",\"default\":\"flex-start\"},{\"name\":\"align_items\",\"kind\":\"Any\",\"default\":\"flex-start\"},{\"name\":\"flex_direction\",\"kind\":\"Any\",\"default\":\"row\"},{\"name\":\"flex_wrap\",\"kind\":\"Any\",\"default\":\"wrap\"},{\"name\":\"gap\",\"kind\":\"Any\",\"default\":\"\"},{\"name\":\"justify_content\",\"kind\":\"Any\",\"default\":\"flex-start\"}]},{\"type\":\"model\",\"name\":\"FloatPanel1\",\"properties\":[{\"name\":\"config\",\"kind\":\"Any\",\"default\":{\"type\":\"map\"}},{\"name\":\"contained\",\"kind\":\"Any\",\"default\":true},{\"name\":\"position\",\"kind\":\"Any\",\"default\":\"right-top\"},{\"name\":\"offsetx\",\"kind\":\"Any\",\"default\":null},{\"name\":\"offsety\",\"kind\":\"Any\",\"default\":null},{\"name\":\"theme\",\"kind\":\"Any\",\"default\":\"primary\"},{\"name\":\"status\",\"kind\":\"Any\",\"default\":\"normalized\"}]},{\"type\":\"model\",\"name\":\"GridStack1\",\"properties\":[{\"name\":\"ncols\",\"kind\":\"Any\",\"default\":null},{\"name\":\"nrows\",\"kind\":\"Any\",\"default\":null},{\"name\":\"allow_resize\",\"kind\":\"Any\",\"default\":true},{\"name\":\"allow_drag\",\"kind\":\"Any\",\"default\":true},{\"name\":\"state\",\"kind\":\"Any\",\"default\":[]}]},{\"type\":\"model\",\"name\":\"drag1\",\"properties\":[{\"name\":\"slider_width\",\"kind\":\"Any\",\"default\":5},{\"name\":\"slider_color\",\"kind\":\"Any\",\"default\":\"black\"},{\"name\":\"value\",\"kind\":\"Any\",\"default\":50}]},{\"type\":\"model\",\"name\":\"click1\",\"properties\":[{\"name\":\"terminal_output\",\"kind\":\"Any\",\"default\":\"\"},{\"name\":\"debug_name\",\"kind\":\"Any\",\"default\":\"\"},{\"name\":\"clears\",\"kind\":\"Any\",\"default\":0}]},{\"type\":\"model\",\"name\":\"ReactiveESM1\",\"properties\":[{\"name\":\"esm_constants\",\"kind\":\"Any\",\"default\":{\"type\":\"map\"}}]},{\"type\":\"model\",\"name\":\"JSComponent1\",\"properties\":[{\"name\":\"esm_constants\",\"kind\":\"Any\",\"default\":{\"type\":\"map\"}}]},{\"type\":\"model\",\"name\":\"ReactComponent1\",\"properties\":[{\"name\":\"use_shadow_dom\",\"kind\":\"Any\",\"default\":true},{\"name\":\"esm_constants\",\"kind\":\"Any\",\"default\":{\"type\":\"map\"}}]},{\"type\":\"model\",\"name\":\"AnyWidgetComponent1\",\"properties\":[{\"name\":\"use_shadow_dom\",\"kind\":\"Any\",\"default\":true},{\"name\":\"esm_constants\",\"kind\":\"Any\",\"default\":{\"type\":\"map\"}}]},{\"type\":\"model\",\"name\":\"FastWrapper1\",\"properties\":[{\"name\":\"object\",\"kind\":\"Any\",\"default\":null},{\"name\":\"style\",\"kind\":\"Any\",\"default\":null}]},{\"type\":\"model\",\"name\":\"NotificationArea1\",\"properties\":[{\"name\":\"js_events\",\"kind\":\"Any\",\"default\":{\"type\":\"map\"}},{\"name\":\"max_notifications\",\"kind\":\"Any\",\"default\":5},{\"name\":\"notifications\",\"kind\":\"Any\",\"default\":[]},{\"name\":\"position\",\"kind\":\"Any\",\"default\":\"bottom-right\"},{\"name\":\"_clear\",\"kind\":\"Any\",\"default\":0},{\"name\":\"types\",\"kind\":\"Any\",\"default\":[{\"type\":\"map\",\"entries\":[[\"type\",\"warning\"],[\"background\",\"#ffc107\"],[\"icon\",{\"type\":\"map\",\"entries\":[[\"className\",\"fas fa-exclamation-triangle\"],[\"tagName\",\"i\"],[\"color\",\"white\"]]}]]},{\"type\":\"map\",\"entries\":[[\"type\",\"info\"],[\"background\",\"#007bff\"],[\"icon\",{\"type\":\"map\",\"entries\":[[\"className\",\"fas fa-info-circle\"],[\"tagName\",\"i\"],[\"color\",\"white\"]]}]]}]}]},{\"type\":\"model\",\"name\":\"Notification\",\"properties\":[{\"name\":\"background\",\"kind\":\"Any\",\"default\":null},{\"name\":\"duration\",\"kind\":\"Any\",\"default\":3000},{\"name\":\"icon\",\"kind\":\"Any\",\"default\":null},{\"name\":\"message\",\"kind\":\"Any\",\"default\":\"\"},{\"name\":\"notification_type\",\"kind\":\"Any\",\"default\":null},{\"name\":\"_rendered\",\"kind\":\"Any\",\"default\":false},{\"name\":\"_destroyed\",\"kind\":\"Any\",\"default\":false}]},{\"type\":\"model\",\"name\":\"TemplateActions1\",\"properties\":[{\"name\":\"open_modal\",\"kind\":\"Any\",\"default\":0},{\"name\":\"close_modal\",\"kind\":\"Any\",\"default\":0}]},{\"type\":\"model\",\"name\":\"BootstrapTemplateActions1\",\"properties\":[{\"name\":\"open_modal\",\"kind\":\"Any\",\"default\":0},{\"name\":\"close_modal\",\"kind\":\"Any\",\"default\":0}]},{\"type\":\"model\",\"name\":\"TemplateEditor1\",\"properties\":[{\"name\":\"layout\",\"kind\":\"Any\",\"default\":[]}]},{\"type\":\"model\",\"name\":\"MaterialTemplateActions1\",\"properties\":[{\"name\":\"open_modal\",\"kind\":\"Any\",\"default\":0},{\"name\":\"close_modal\",\"kind\":\"Any\",\"default\":0}]},{\"type\":\"model\",\"name\":\"request_value1\",\"properties\":[{\"name\":\"fill\",\"kind\":\"Any\",\"default\":\"none\"},{\"name\":\"_synced\",\"kind\":\"Any\",\"default\":null},{\"name\":\"_request_sync\",\"kind\":\"Any\",\"default\":0}]},{\"type\":\"model\",\"name\":\"holoviews.plotting.bokeh.raster.HoverModel\",\"properties\":[{\"name\":\"xy\",\"kind\":\"Any\",\"default\":null},{\"name\":\"data\",\"kind\":\"Any\",\"default\":null}]}]}};\n",
       "  var render_items = [{\"docid\":\"1434f8d7-c16c-46fa-8655-50413e78a3dd\",\"roots\":{\"7f019026-53ad-4563-8ba1-14448fb13979\":\"ea46f65b-75ef-40ba-a647-dc9730972f6c\"},\"root_ids\":[\"7f019026-53ad-4563-8ba1-14448fb13979\"]}];\n",
       "  var docs = Object.values(docs_json)\n",
       "  if (!docs) {\n",
       "    return\n",
       "  }\n",
       "  const py_version = docs[0].version.replace('rc', '-rc.').replace('.dev', '-dev.')\n",
       "  async function embed_document(root) {\n",
       "    var Bokeh = get_bokeh(root)\n",
       "    await Bokeh.embed.embed_items_notebook(docs_json, render_items);\n",
       "    for (const render_item of render_items) {\n",
       "      for (const root_id of render_item.root_ids) {\n",
       "\tconst id_el = document.getElementById(root_id)\n",
       "\tif (id_el.children.length && id_el.children[0].hasAttribute('data-root-id')) {\n",
       "\t  const root_el = id_el.children[0]\n",
       "\t  root_el.id = root_el.id + '-rendered'\n",
       "\t  for (const child of root_el.children) {\n",
       "            // Ensure JupyterLab does not capture keyboard shortcuts\n",
       "            // see: https://jupyterlab.readthedocs.io/en/4.1.x/extension/notebook.html#keyboard-interaction-model\n",
       "\t    child.setAttribute('data-lm-suppress-shortcuts', 'true')\n",
       "\t  }\n",
       "\t}\n",
       "      }\n",
       "    }\n",
       "  }\n",
       "  function get_bokeh(root) {\n",
       "    if (root.Bokeh === undefined) {\n",
       "      return null\n",
       "    } else if (root.Bokeh.version !== py_version) {\n",
       "      if (root.Bokeh.versions === undefined || !root.Bokeh.versions.has(py_version)) {\n",
       "\treturn null\n",
       "      }\n",
       "      return root.Bokeh.versions.get(py_version);\n",
       "    } else if (root.Bokeh.version === py_version) {\n",
       "      return root.Bokeh\n",
       "    }\n",
       "    return null\n",
       "  }\n",
       "  function is_loaded(root) {\n",
       "    var Bokeh = get_bokeh(root)\n",
       "    return (Bokeh != null && Bokeh.Panel !== undefined)\n",
       "  }\n",
       "  if (is_loaded(root)) {\n",
       "    embed_document(root);\n",
       "  } else {\n",
       "    var attempts = 0;\n",
       "    var timer = setInterval(function(root) {\n",
       "      if (is_loaded(root)) {\n",
       "        clearInterval(timer);\n",
       "        embed_document(root);\n",
       "      } else if (document.readyState == \"complete\") {\n",
       "        attempts++;\n",
       "        if (attempts > 200) {\n",
       "          clearInterval(timer);\n",
       "\t  var Bokeh = get_bokeh(root)\n",
       "\t  if (Bokeh == null || Bokeh.Panel == null) {\n",
       "            console.warn(\"Panel: ERROR: Unable to run Panel code because Bokeh or Panel library is missing\");\n",
       "\t  } else {\n",
       "\t    console.warn(\"Panel: WARNING: Attempting to render but not all required libraries could be resolved.\")\n",
       "\t    embed_document(root)\n",
       "\t  }\n",
       "        }\n",
       "      }\n",
       "    }, 25, root)\n",
       "  }\n",
       "})(window);</script>"
      ]
     },
     "metadata": {
      "application/vnd.holoviews_exec.v0+json": {
       "id": "7f019026-53ad-4563-8ba1-14448fb13979"
      }
     },
     "output_type": "display_data"
    },
    {
     "data": {
      "text/html": [
       "\n",
       "\n",
       "\n",
       "\n",
       "<div class=\"logo-block\">\n",
       "<a href=\"https://holoviews.org\" target=\"_blank\" title=\"HoloViews 1.21.0\">\n",
       "  <img src='data:image/png;base64,iVBORw0KGgoAAAANSUhEUgAAAEAAAABACAYAAACqaXHeAAAABHNCSVQICAgIfAhkiAAAAAlwSFlz\n",
       "AAAB+wAAAfsBxc2miwAAABl0RVh0U29mdHdhcmUAd3d3Lmlua3NjYXBlLm9yZ5vuPBoAAA6zSURB\n",
       "VHic7ZtpeFRVmsf/5966taWqUlUJ2UioBBJiIBAwCZtog9IOgjqACsogKtqirT2ttt069nQ/zDzt\n",
       "tI4+CrJIREFaFgWhBXpUNhHZQoKBkIUASchWla1S+3ar7r1nPkDaCAnZKoQP/D7mnPOe9/xy76n3\n",
       "nFSAW9ziFoPFNED2LLK5wcyBDObkb8ZkxuaoSYlI6ZcOKq1eWFdedqNzGHQBk9RMEwFAASkk0Xw3\n",
       "ETacDNi2vtvc7L0ROdw0AjoSotQVkKSvHQz/wRO1lScGModBFbDMaNRN1A4tUBCS3lk7BWhQkgpD\n",
       "lG4852/+7DWr1R3uHAZVQDsbh6ZPN7CyxUrCzJMRouusj0ipRwD2uKm0Zn5d2dFwzX1TCGhnmdGo\n",
       "G62Nna+isiUqhkzuKrkQaJlPEv5mFl2fvGg2t/VnzkEV8F5ioioOEWkLG86fvbpthynjdhXYZziQ\n",
       "x1hC9J2NFyi8vCTt91Fh04KGip0AaG9zuCk2wQCVyoNU3Hjezee9bq92duzzTmxsRJoy+jEZZZYo\n",
       "GTKJ6SJngdJqAfRzpze0+jHreUtPc7gpBLQnIYK6BYp/uGhw9YK688eu7v95ysgshcg9qSLMo3JC\n",
       "4jqLKQFBgdKDPoQ+Pltb8dUyQLpeDjeVgI6EgLIQFT5tEl3rn2losHVsexbZ3EyT9wE1uGdkIPcy\n",
       "BGxn8QUq1QrA5nqW5i2tLqvrrM9NK6AdkVIvL9E9bZL/oyfMVd/jqvc8LylzRBKDJSzIExwhQzuL\n",
       "QYGQj4rHfFTc8mUdu3E7yoLtbTe9gI4EqVgVkug2i5+uXGo919ixbRog+3fTbQ8qJe4ZOYNfMoTI\n",
       "OoshUNosgO60AisX15aeI2PSIp5KiFLI9ubb1vV3Qb2ltwLakUCDAkWX7/nHKRmmGIl9VgYsUhJm\n",
       "2NXjKYADtM1ygne9QQDIXlk49FBstMKx66D1v4+XuQr7vqTe0VcBHQlRWiOCbmmSYe2SqtL6q5rJ\n",
       "zsTb7lKx3FKOYC4DoqyS/B5bvLPxvD9Qtf6saxYLQGJErmDOdOMr/zo96km1nElr8bmPOBwI9COv\n",
       "HnFPRIwmkSOv9kcAS4heRsidOkpeWBgZM+UBrTFAXNYL5Vf2ii9c1trNzpYdaoVil3WIc+wdk+gQ\n",
       "noie3ecCcxt9ITcLAPWt/laGEO/9U6PmzZkenTtsSMQ8uYywJVW+grCstAvCIaAdArAsIWkRDDs/\n",
       "KzLm2YcjY1Lv0UdW73HabE9n6V66cxSzfEmuJssTpKGVp+0vHq73FwL46eOjpMpbRAnNmJFrGJNu\n",
       "Ukf9Yrz+3rghiumCKNXXWPhLYcjxGsIpoCMsIRoFITkW8AuyM8jC1+/QLx4bozCEJIq38+1rtpR6\n",
       "V/yzb8eBlRb3fo5l783N0CWolAzJHaVNzkrTzlEp2bQ2q3TC5gn6wpnoQAmwSiGh2GitnTmVMc5O\n",
       "UyfKWUKCIsU7+fZDKwqdT6DDpvkzAX4/+AMFjk0tDp5GRXLpQ2MUmhgDp5gxQT8+Y7hyPsMi8uxF\n",
       "71H0oebujHALECjFKaW9Lm68n18wXp2kVzIcABytD5iXFzg+WVXkegpAsOOYziqo0OkK76GyquC3\n",
       "ltZAzMhhqlSNmmWTE5T6e3IN05ITFLM4GdN0vtZ3ob8Jh1NAKXFbm5PtLU/eqTSlGjkNAJjdgn/N\n",
       "aedXa0tdi7+t9G0FIF49rtMSEgAs1kDLkTPO7ebm4IUWeyh1bKomXqlgMG6kJmHcSM0clYLJ8XtR\n",
       "1GTnbV3F6I5wCGikAb402npp1h1s7LQUZZSMIfALFOuL3UUrfnS8+rez7v9qcold5tilgHbO1fjK\n",
       "9ubb17u9oshxzMiUBKXWqJNxd+fqb0tLVs4lILFnK71H0Ind7uiPgACVcFJlrb0tV6DzxqqTIhUM\n",
       "CwDf1/rrVhTa33/3pGPxJYdQ2l2cbgVcQSosdx8uqnDtbGjh9SlDVSMNWhlnilfqZk42Th2ZpLpf\n",
       "xrHec5e815zrr0dfBZSwzkZfqsv+1FS1KUknUwPARVvItfKUY+cn57yP7qv07UE3p8B2uhUwLk09\n",
       "e0SCOrK+hbdYHYLjRIl71wWzv9jpEoeOHhGRrJAzyEyNiJuUqX0g2sBN5kGK6y2Blp5M3lsB9Qh4\n",
       "y2Ja6x6+i0ucmKgwMATwhSjdUu49tKrQ/pvN5d53ml2CGwCmJipmKjgmyuaXzNeL2a0AkQ01Th5j\n",
       "2DktO3Jyk8f9vcOBQHV94OK+fPumJmvQHxJoWkaKWq9Vs+yUsbq0zGT1I4RgeH2b5wef7+c7bl8F\n",
       "eKgoHVVZa8ZPEORzR6sT1BzDUAD/d9F78e2Tzv99v8D+fLVTqAKAsbGamKey1Mt9Ann4eH3gTXTz\n",
       "idWtAJ8PQWOk7NzSeQn/OTHDuEikVF1R4z8BQCy+6D1aWRfY0tTGG2OM8rRoPaeIj5ZHzJxszElN\n",
       "VM8K8JS5WOfv8mzRnQAKoEhmt8gyPM4lU9SmBK1MCQBnW4KONT86v1hZ1PbwSXPw4JWussVjtH9Y\n",
       "NCoiL9UoH/6PSu8jFrfY2t36erQHXLIEakMi1SydmzB31h3GGXFDFNPaK8Rme9B79Ixrd0WN+1ij\n",
       "NRQ/doRmuFLBkHSTOm5GruG+pFjFdAmorG4IXH1Qua6ASniclfFtDYt+oUjKipPrCQB7QBQ2lrgP\n",
       "fFzm+9XWUtcqJ3/5vDLDpJ79XHZk3u8nGZ42qlj1+ydtbxysCezrydp6ugmipNJ7WBPB5tydY0jP\n",
       "HaVNzs3QzeE4ZpTbI+ZbnSFPbVOw9vsfnVvqWnirPyCNGD08IlqtYkh2hjZ5dErEQzoNm+6ykyOt\n",
       "Lt5/PQEuSRRKo22VkydK+vvS1XEKlhCJAnsqvcVvH7f/ZU2R67eXbMEGAMiIV5oWZWiWvz5Fv2xG\n",
       "sjqNJQRvn3Rs2lji/lNP19VjAQDgD7FHhujZB9OGqYxRkZxixgRDVlqS6uEOFaJUVu0rPFzctrnF\n",
       "JqijImVp8dEKVWyUXDk92zAuMZ6bFwpBU1HrOw6AdhQgUooChb0+ItMbWJitSo5Ws3IAOGEOtL53\n",
       "0vHZih9sC4vtofZ7Qu6523V/fmGcds1TY3V36pUsBwAbSlxnVh2xLfAD/IAIMDf7XYIkNmXfpp2l\n",
       "18rkAJAy9HKFaIr/qULkeQQKy9zf1JgDB2uaeFNGijo5QsUyacNUUTOnGO42xSnv4oOwpDi1zYkc\n",
       "efUc3I5Gk6PhyTuVKaOGyLUAYPGIoY9Pu/atL/L92+4q9wbflRJ2Trpm/jPjdBtfnqB/dIThcl8A\n",
       "KG7hbRuKnb8qsQsVvVlTrwQAQMUlf3kwJI24Z4JhPMtcfng5GcH49GsrxJpGvvHIaeem2ma+KSjQ\n",
       "lIwUdYyCY8j4dE1KzijNnIP2llF2wcXNnsoapw9XxsgYAl6k+KzUXbi2yP3KR2ecf6z3BFsBICdW\n",
       "nvnIaG3eHybqX7vbpEqUMT+9OL4Qpe8VON7dXuFd39v19FoAABRVePbGGuXTszO0P7tu6lghUonE\n",
       "llRdrhArLvmKdh9u29jcFiRRkfLUxBiFNiqSU9icoZQHo5mYBI1MBgBH6wMNb+U7Pnw337H4gi1Y\n",
       "ciWs+uks3Z9fztUvfzxTm9Ne8XXkvQLHNytOOZeiD4e0PgkAIAYCYknKUNUDSXEKzdWNpnil7r4p\n",
       "xqkjTarZMtk/K8TQ6Qve78qqvXurGwIJqcOUKfUWHsm8KGvxSP68YudXq4pcj39X49uOK2X142O0\n",
       "Tz5/u/7TVybqH0rSya6ZBwD21/gubbrgWdDgEOx9WUhfBaC2ibcEBYm7a7x+ukrBMNcEZggyR0TE\n",
       "T8zUPjikQ4VosQZbTpS4vqizBKvqmvjsqnpfzaZyx9JPiz1/bfGKdgD45XB1zoIMzYbfTdS/NClB\n",
       "Gct0USiY3YL/g0LHy/uq/Ef6uo5+n0R/vyhp17Klpge763f8rMu6YU/zrn2nml+2WtH+Z+5IAAFc\n",
       "2bUTdTDOSNa9+cQY7YLsOIXhevEkCvzph7a8laecz/Un/z4/Ae04XeL3UQb57IwU9ZDr9UuKVajv\n",
       "nxp1+1UVIo/LjztZkKH59fO3G/JemqCfmaCRqbqbd90ZZ8FfjtkfAyD0J/9+C2h1hDwsSxvGjNDc\n",
       "b4zk5NfrSwiQblLHzZhg+Jf4aPlUwpDqkQqa9nimbt1/TDH8OitGMaQnj+RJS6B1fbF7SY1TqO5v\n",
       "/v0WAADl1f7zokgS7s7VT2DZ7pegUjBM7mjtiDZbcN4j0YrHH0rXpCtY0qPX0cVL0rv5jv/ZXend\n",
       "0u/EESYBAFBU4T4Qa5TflZOhTe7pmKpaP8kCVUVw1+yhXfJWvn1P3hnXi33JsTN6PnP3hHZ8Z3/h\n",
       "aLHzmkNPuPj7Bc/F/Q38CwjTpSwQXgE4Vmwry9tpfq/ZFgqFMy4AVDtCvi8rvMvOmv0N4YwbVgEA\n",
       "sPM72/KVnzfspmH7HQGCRLG2yL1+z8XwvPcdCbsAANh+xPzstgMtxeGKt+6MK3/tacfvwhWvIwMi\n",
       "oKEBtm0H7W+UVfkc/Y1V0BhoPlDr/w1w/eu1vjIgAgDg22OtX6/eYfnEz/focrZTHAFR+PSs56/7\n",
       "q32nwpjazxgwAQCwcU/T62t3WL7r6/jVRa6/byp1rei+Z98ZUAEAhEPHPc8fKnTU9nbgtnOe8h0l\n",
       "9hcGIqmODLQAHCy2Xti6v/XNRivf43f4fFvIteu854+VHnR7q9tfBlwAAGz+pnndB9vM26UebAe8\n",
       "SLHujPOTPVW+rwY+sxskAAC2HrA8t2Vvc7ffP1r9o+vwR2dcr92InIAbKKC1FZ5tB1tf+/G8p8sv\n",
       "N/9Q5zd/XR34LYCwV5JdccMEAMDBk45DH243r/X4xGvqxFa/GNpS7n6rwOwNWwHVE26oAADYurf1\n",
       "zx/utOzt+DMKYM0p17YtZZ5VNzqfsB2HewG1WXE8PoZ7gOclbTIvynZf9JV+fqZtfgs/8F/Nu5rB\n",
       "EIBmJ+8QRMmpU7EzGRsf2FzuePqYRbzh/zE26EwdrT10f6r6o8HOYzCJB9Dpff8tbnGLG8L/A/WE\n",
       "roTBs2RqAAAAAElFTkSuQmCC' style='height:25px; border-radius:12px; display: inline-block; float: left; vertical-align: middle'></img>\n",
       "</a>\n",
       "\n",
       "\n",
       "<a href=\"https://bokeh.org\" target=\"_blank\" title=\"Bokeh 3.7.3\">\n",
       "  <img src='data:image/png;base64,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'\n",
       "       style='height:15px; border-radius:12px; display: inline-block; float: left'>\n",
       "  </img>\n",
       "</a>\n",
       "\n",
       "\n",
       "\n",
       "\n",
       "\n",
       "\n",
       "\n",
       "<span style=\"float: left; margin-left: 5px; line-height: 15px; cursor: pointer; opacity: 0.7;\"\n",
       "      onmouseover=\"this.style.opacity='1'\"\n",
       "      onmouseout=\"this.style.opacity='0.7'\"\n",
       "      title=\"Extension loaded. This cell output contains code that enables plot interactivity, it should not be removed.\">ⓘ</span>\n",
       "</div>\n",
       "\n"
      ]
     },
     "metadata": {},
     "output_type": "display_data"
    }
   ],
   "source": [
    "import pandas as pd\n",
    "import holoviews as hv\n",
    "from holoviews import opts\n",
    "\n",
    "hv.extension('bokeh')\n",
    "\n",
    "# Nodes: your module types and PID types\n",
    "nodes = [\n",
    "    (\"mono-Si\", \"module\"),\n",
    "    (\"multi-Si\", \"module\"),\n",
    "    (\"HIT\", \"module\"),\n",
    "    (\"CIGS\", \"module\"),\n",
    "    (\"PID-s\", \"pid\"),\n",
    "    (\"PID-p\", \"pid\"),\n",
    "    (\"PID-c\", \"pid\")\n",
    "]\n",
    "\n",
    "# Give each node an ID and category\n",
    "node_df = pd.DataFrame({\n",
    "    \"index\": range(len(nodes)),\n",
    "    \"label\": [n[0] for n in nodes],\n",
    "    \"group\": [n[1] for n in nodes]\n",
    "})\n",
    "\n",
    "# Chord connections: from module → PID\n",
    "links = pd.DataFrame({\n",
    "    \"source\": [\"mono-c-Si\", \"mono-c-Si\", \"mono-c-Si\",\n",
    "               \"multi-c-Si\", \"multi-c-Si\", \"multi-c-Si\",\n",
    "               \"HIT\", \"HIT\", \"HIT\",\n",
    "               \"CIGS\", \"CIGS\", \"CIGS\"],\n",
    "    \"target\": [\"PID-s\", \"PID-p\", \"PID-c\",\n",
    "               \"PID-s\", \"PID-p\", \"PID-c\",\n",
    "               \"PID-s\", \"PID-p\", \"PID-c\",\n",
    "               \"PID-s\", \"PID-p\", \"PID-c\"],\n",
    "    \"value\":  [28, 28, 20, \n",
    "               15, 2, 7, \n",
    "               4, 0, 4, \n",
    "               2, 0, 0]\n",
    "})\n"
   ]
  },
  {
   "cell_type": "code",
   "execution_count": 27,
   "id": "1f15d60b",
   "metadata": {},
   "outputs": [
    {
     "ename": "IndexError",
     "evalue": "index 7 is out of bounds for axis 0 with size 7",
     "output_type": "error",
     "traceback": [
      "\u001b[31m---------------------------------------------------------------------------\u001b[39m",
      "\u001b[31mIndexError\u001b[39m                                Traceback (most recent call last)",
      "\u001b[36mCell\u001b[39m\u001b[36m \u001b[39m\u001b[32mIn[27]\u001b[39m\u001b[32m, line 18\u001b[39m\n\u001b[32m      7\u001b[39m label_colors = {\n\u001b[32m      8\u001b[39m     \u001b[33m\"\u001b[39m\u001b[33mmono-c-Si\u001b[39m\u001b[33m\"\u001b[39m: \u001b[33m\"\u001b[39m\u001b[33m#989afb\u001b[39m\u001b[33m\"\u001b[39m,\n\u001b[32m      9\u001b[39m     \u001b[33m\"\u001b[39m\u001b[33mmulti-c-Si\u001b[39m\u001b[33m\"\u001b[39m: \u001b[33m\"\u001b[39m\u001b[33m#e9a8ff\u001b[39m\u001b[33m\"\u001b[39m,\n\u001b[32m   (...)\u001b[39m\u001b[32m     14\u001b[39m     \u001b[33m\"\u001b[39m\u001b[33mPID-c\u001b[39m\u001b[33m\"\u001b[39m: \u001b[33m\"\u001b[39m\u001b[33m#90d171\u001b[39m\u001b[33m\"\u001b[39m\n\u001b[32m     15\u001b[39m }\n\u001b[32m     17\u001b[39m \u001b[38;5;66;03m# === 4. Create and display the chord diagram ===\u001b[39;00m\n\u001b[32m---> \u001b[39m\u001b[32m18\u001b[39m chord = \u001b[43mhv\u001b[49m\u001b[43m.\u001b[49m\u001b[43mChord\u001b[49m\u001b[43m(\u001b[49m\u001b[43m(\u001b[49m\u001b[43mlinks\u001b[49m\u001b[43m,\u001b[49m\u001b[43m \u001b[49m\u001b[43mhv\u001b[49m\u001b[43m.\u001b[49m\u001b[43mDataset\u001b[49m\u001b[43m(\u001b[49m\u001b[43mnode_df\u001b[49m\u001b[43m,\u001b[49m\u001b[43m \u001b[49m\u001b[33;43m'\u001b[39;49m\u001b[33;43mindex\u001b[39;49m\u001b[33;43m'\u001b[39;49m\u001b[43m)\u001b[49m\u001b[43m)\u001b[49m\u001b[43m)\u001b[49m\n\u001b[32m     20\u001b[39m chord.opts(\n\u001b[32m     21\u001b[39m     opts.Chord(\n\u001b[32m     22\u001b[39m         edge_color=\u001b[33m\"\u001b[39m\u001b[33msource\u001b[39m\u001b[33m\"\u001b[39m,\n\u001b[32m   (...)\u001b[39m\u001b[32m     29\u001b[39m     )\n\u001b[32m     30\u001b[39m )\n",
      "\u001b[36mFile \u001b[39m\u001b[32m~/Downloads/HackingMat/.venv/lib/python3.12/site-packages/holoviews/element/graphs.py:780\u001b[39m, in \u001b[36mChord.__init__\u001b[39m\u001b[34m(self, data, kdims, vdims, compute, **params)\u001b[39m\n\u001b[32m    778\u001b[39m \u001b[38;5;28;01mif\u001b[39;00m compute:\n\u001b[32m    779\u001b[39m     \u001b[38;5;28mself\u001b[39m._nodes = nodes\n\u001b[32m--> \u001b[39m\u001b[32m780\u001b[39m     chord = \u001b[43mlayout_chords\u001b[49m\u001b[43m(\u001b[49m\u001b[38;5;28;43mself\u001b[39;49m\u001b[43m)\u001b[49m\n\u001b[32m    781\u001b[39m     \u001b[38;5;28mself\u001b[39m._nodes = chord.nodes\n\u001b[32m    782\u001b[39m     \u001b[38;5;28mself\u001b[39m._edgepaths = chord.edgepaths\n",
      "\u001b[36mFile \u001b[39m\u001b[32m~/Downloads/HackingMat/.venv/lib/python3.12/site-packages/param/parameterized.py:4626\u001b[39m, in \u001b[36mParameterizedFunction.__new__\u001b[39m\u001b[34m(class_, *args, **params)\u001b[39m\n\u001b[32m   4624\u001b[39m inst = class_.instance()\n\u001b[32m   4625\u001b[39m inst.param._set_name(class_.\u001b[34m__name__\u001b[39m)\n\u001b[32m-> \u001b[39m\u001b[32m4626\u001b[39m \u001b[38;5;28;01mreturn\u001b[39;00m \u001b[43minst\u001b[49m\u001b[43m.\u001b[49m\u001b[34;43m__call__\u001b[39;49m\u001b[43m(\u001b[49m\u001b[43m*\u001b[49m\u001b[43margs\u001b[49m\u001b[43m,\u001b[49m\u001b[43m*\u001b[49m\u001b[43m*\u001b[49m\u001b[43mparams\u001b[49m\u001b[43m)\u001b[49m\n",
      "\u001b[36mFile \u001b[39m\u001b[32m~/Downloads/HackingMat/.venv/lib/python3.12/site-packages/holoviews/core/operation.py:218\u001b[39m, in \u001b[36mOperation.__call__\u001b[39m\u001b[34m(self, element, **kwargs)\u001b[39m\n\u001b[32m    216\u001b[39m kwargs[\u001b[33m'\u001b[39m\u001b[33mlink_dataset\u001b[39m\u001b[33m'\u001b[39m] = \u001b[38;5;28mself\u001b[39m._propagate_dataset\n\u001b[32m    217\u001b[39m kwargs[\u001b[33m'\u001b[39m\u001b[33mlink_inputs\u001b[39m\u001b[33m'\u001b[39m] = \u001b[38;5;28mself\u001b[39m.p.link_inputs\n\u001b[32m--> \u001b[39m\u001b[32m218\u001b[39m \u001b[38;5;28;01mreturn\u001b[39;00m \u001b[43melement\u001b[49m\u001b[43m.\u001b[49m\u001b[43mapply\u001b[49m\u001b[43m(\u001b[49m\u001b[38;5;28;43mself\u001b[39;49m\u001b[43m,\u001b[49m\u001b[43m \u001b[49m\u001b[43m*\u001b[49m\u001b[43m*\u001b[49m\u001b[43mkwargs\u001b[49m\u001b[43m)\u001b[49m\n",
      "\u001b[36mFile \u001b[39m\u001b[32m~/Downloads/HackingMat/.venv/lib/python3.12/site-packages/holoviews/core/accessors.py:43\u001b[39m, in \u001b[36mAccessorPipelineMeta.pipelined.<locals>.pipelined_call\u001b[39m\u001b[34m(*args, **kwargs)\u001b[39m\n\u001b[32m     40\u001b[39m     inst._obj._in_method = \u001b[38;5;28;01mTrue\u001b[39;00m\n\u001b[32m     42\u001b[39m \u001b[38;5;28;01mtry\u001b[39;00m:\n\u001b[32m---> \u001b[39m\u001b[32m43\u001b[39m     result = \u001b[34;43m__call__\u001b[39;49m\u001b[43m(\u001b[49m\u001b[43m*\u001b[49m\u001b[43margs\u001b[49m\u001b[43m,\u001b[49m\u001b[43m \u001b[49m\u001b[43m*\u001b[49m\u001b[43m*\u001b[49m\u001b[43mkwargs\u001b[49m\u001b[43m)\u001b[49m\n\u001b[32m     45\u001b[39m     \u001b[38;5;28;01mif\u001b[39;00m \u001b[38;5;129;01mnot\u001b[39;00m in_method:\n\u001b[32m     46\u001b[39m         init_op = factory.instance(\n\u001b[32m     47\u001b[39m             output_type=\u001b[38;5;28mtype\u001b[39m(inst),\n\u001b[32m     48\u001b[39m             kwargs={\u001b[33m'\u001b[39m\u001b[33mmode\u001b[39m\u001b[33m'\u001b[39m: \u001b[38;5;28mgetattr\u001b[39m(inst, \u001b[33m'\u001b[39m\u001b[33mmode\u001b[39m\u001b[33m'\u001b[39m, \u001b[38;5;28;01mNone\u001b[39;00m)},\n\u001b[32m     49\u001b[39m         )\n",
      "\u001b[36mFile \u001b[39m\u001b[32m~/Downloads/HackingMat/.venv/lib/python3.12/site-packages/holoviews/core/accessors.py:200\u001b[39m, in \u001b[36mApply.__call__\u001b[39m\u001b[34m(self, apply_function, streams, link_inputs, link_dataset, dynamic, per_element, **kwargs)\u001b[39m\n\u001b[32m    198\u001b[39m \u001b[38;5;28;01mif\u001b[39;00m \u001b[38;5;28mhasattr\u001b[39m(apply_function, \u001b[33m'\u001b[39m\u001b[33mdynamic\u001b[39m\u001b[33m'\u001b[39m):\n\u001b[32m    199\u001b[39m     inner_kwargs[\u001b[33m'\u001b[39m\u001b[33mdynamic\u001b[39m\u001b[33m'\u001b[39m] = \u001b[38;5;28;01mFalse\u001b[39;00m\n\u001b[32m--> \u001b[39m\u001b[32m200\u001b[39m new_obj = \u001b[43mapply_function\u001b[49m\u001b[43m(\u001b[49m\u001b[38;5;28;43mself\u001b[39;49m\u001b[43m.\u001b[49m\u001b[43m_obj\u001b[49m\u001b[43m,\u001b[49m\u001b[43m \u001b[49m\u001b[43m*\u001b[49m\u001b[43m*\u001b[49m\u001b[43minner_kwargs\u001b[49m\u001b[43m)\u001b[49m\n\u001b[32m    201\u001b[39m \u001b[38;5;28;01mif\u001b[39;00m (link_dataset \u001b[38;5;129;01mand\u001b[39;00m \u001b[38;5;28misinstance\u001b[39m(\u001b[38;5;28mself\u001b[39m._obj, Dataset) \u001b[38;5;129;01mand\u001b[39;00m\n\u001b[32m    202\u001b[39m     \u001b[38;5;28misinstance\u001b[39m(new_obj, Dataset) \u001b[38;5;129;01mand\u001b[39;00m new_obj._dataset \u001b[38;5;129;01mis\u001b[39;00m \u001b[38;5;28;01mNone\u001b[39;00m):\n\u001b[32m    203\u001b[39m     new_obj._dataset = \u001b[38;5;28mself\u001b[39m._obj.dataset\n",
      "\u001b[36mFile \u001b[39m\u001b[32m~/Downloads/HackingMat/.venv/lib/python3.12/site-packages/holoviews/core/operation.py:212\u001b[39m, in \u001b[36mOperation.__call__\u001b[39m\u001b[34m(self, element, **kwargs)\u001b[39m\n\u001b[32m    208\u001b[39m         \u001b[38;5;28;01mreturn\u001b[39;00m element.clone([(k, \u001b[38;5;28mself\u001b[39m._apply(el, key=k))\n\u001b[32m    209\u001b[39m                               \u001b[38;5;28;01mfor\u001b[39;00m k, el \u001b[38;5;129;01min\u001b[39;00m element.items()])\n\u001b[32m    210\u001b[39m     \u001b[38;5;28;01melif\u001b[39;00m ((\u001b[38;5;28mself\u001b[39m._per_element \u001b[38;5;129;01mand\u001b[39;00m \u001b[38;5;28misinstance\u001b[39m(element, Element)) \u001b[38;5;129;01mor\u001b[39;00m\n\u001b[32m    211\u001b[39m           (\u001b[38;5;129;01mnot\u001b[39;00m \u001b[38;5;28mself\u001b[39m._per_element \u001b[38;5;129;01mand\u001b[39;00m \u001b[38;5;28misinstance\u001b[39m(element, ViewableElement))):\n\u001b[32m--> \u001b[39m\u001b[32m212\u001b[39m         \u001b[38;5;28;01mreturn\u001b[39;00m \u001b[38;5;28;43mself\u001b[39;49m\u001b[43m.\u001b[49m\u001b[43m_apply\u001b[49m\u001b[43m(\u001b[49m\u001b[43melement\u001b[49m\u001b[43m)\u001b[49m\n\u001b[32m    213\u001b[39m \u001b[38;5;28;01melif\u001b[39;00m \u001b[33m'\u001b[39m\u001b[33mstreams\u001b[39m\u001b[33m'\u001b[39m \u001b[38;5;129;01mnot\u001b[39;00m \u001b[38;5;129;01min\u001b[39;00m kwargs:\n\u001b[32m    214\u001b[39m     kwargs[\u001b[33m'\u001b[39m\u001b[33mstreams\u001b[39m\u001b[33m'\u001b[39m] = \u001b[38;5;28mself\u001b[39m.p.streams\n",
      "\u001b[36mFile \u001b[39m\u001b[32m~/Downloads/HackingMat/.venv/lib/python3.12/site-packages/holoviews/core/operation.py:141\u001b[39m, in \u001b[36mOperation._apply\u001b[39m\u001b[34m(self, element, key)\u001b[39m\n\u001b[32m    139\u001b[39m     \u001b[38;5;28;01mif\u001b[39;00m \u001b[38;5;129;01mnot\u001b[39;00m in_method:\n\u001b[32m    140\u001b[39m         element._in_method = \u001b[38;5;28;01mTrue\u001b[39;00m\n\u001b[32m--> \u001b[39m\u001b[32m141\u001b[39m ret = \u001b[38;5;28;43mself\u001b[39;49m\u001b[43m.\u001b[49m\u001b[43m_process\u001b[49m\u001b[43m(\u001b[49m\u001b[43melement\u001b[49m\u001b[43m,\u001b[49m\u001b[43m \u001b[49m\u001b[43mkey\u001b[49m\u001b[43m)\u001b[49m\n\u001b[32m    142\u001b[39m \u001b[38;5;28;01mif\u001b[39;00m \u001b[38;5;28mhasattr\u001b[39m(element, \u001b[33m'\u001b[39m\u001b[33m_in_method\u001b[39m\u001b[33m'\u001b[39m) \u001b[38;5;129;01mand\u001b[39;00m \u001b[38;5;129;01mnot\u001b[39;00m in_method:\n\u001b[32m    143\u001b[39m     element._in_method = in_method\n",
      "\u001b[36mFile \u001b[39m\u001b[32m~/Downloads/HackingMat/.venv/lib/python3.12/site-packages/holoviews/element/graphs.py:650\u001b[39m, in \u001b[36mlayout_chords._process\u001b[39m\u001b[34m(self, element, key)\u001b[39m\n\u001b[32m    648\u001b[39m max_chords = \u001b[38;5;28mself\u001b[39m.p.max_chords\n\u001b[32m    649\u001b[39m src, tgt = (element.dimension_values(i) \u001b[38;5;28;01mfor\u001b[39;00m i \u001b[38;5;129;01min\u001b[39;00m \u001b[38;5;28mrange\u001b[39m(\u001b[32m2\u001b[39m))\n\u001b[32m--> \u001b[39m\u001b[32m650\u001b[39m src_idx = \u001b[43msearch_indices\u001b[49m\u001b[43m(\u001b[49m\u001b[43msrc\u001b[49m\u001b[43m,\u001b[49m\u001b[43m \u001b[49m\u001b[43mnodes\u001b[49m\u001b[43m)\u001b[49m\n\u001b[32m    651\u001b[39m tgt_idx = search_indices(tgt, nodes)\n\u001b[32m    652\u001b[39m \u001b[38;5;28;01mif\u001b[39;00m element.vdims:\n",
      "\u001b[36mFile \u001b[39m\u001b[32m~/Downloads/HackingMat/.venv/lib/python3.12/site-packages/holoviews/core/util/__init__.py:2256\u001b[39m, in \u001b[36msearch_indices\u001b[39m\u001b[34m(values, source)\u001b[39m\n\u001b[32m   2253\u001b[39m     values = values.astype(\u001b[38;5;28mstr\u001b[39m)\n\u001b[32m   2254\u001b[39m     orig_indices = source.argsort()\n\u001b[32m-> \u001b[39m\u001b[32m2256\u001b[39m \u001b[38;5;28;01mreturn\u001b[39;00m \u001b[43morig_indices\u001b[49m\u001b[43m[\u001b[49m\u001b[43mnp\u001b[49m\u001b[43m.\u001b[49m\u001b[43msearchsorted\u001b[49m\u001b[43m(\u001b[49m\u001b[43msource\u001b[49m\u001b[43m[\u001b[49m\u001b[43morig_indices\u001b[49m\u001b[43m]\u001b[49m\u001b[43m,\u001b[49m\u001b[43m \u001b[49m\u001b[43mvalues\u001b[49m\u001b[43m)\u001b[49m\u001b[43m]\u001b[49m\n",
      "\u001b[31mIndexError\u001b[39m: index 7 is out of bounds for axis 0 with size 7"
     ]
    }
   ],
   "source": [
    "\n",
    "# Map labels to index\n",
    "label_to_index = dict(zip(node_df[\"label\"], node_df[\"index\"]))\n",
    "links[\"source\"] = links[\"source\"].map(label_to_index)\n",
    "links[\"target\"] = links[\"target\"].map(label_to_index)\n",
    "\n",
    "# === 3. Define color map by label ===\n",
    "label_colors = {\n",
    "    \"mono-c-Si\": \"#989afb\",\n",
    "    \"multi-c-Si\": \"#e9a8ff\",\n",
    "    \"HIT\": \"#f096b2\",\n",
    "    \"CIGS\": \"#ffb37c\",\n",
    "    \"PID-s\": \"#7fedad\",\n",
    "    \"PID-p\": \"#4be3d1\",\n",
    "    \"PID-c\": \"#90d171\"\n",
    "}\n",
    "\n",
    "# === 4. Create and display the chord diagram ===\n",
    "chord = hv.Chord((links, hv.Dataset(node_df, 'index')))\n",
    "\n",
    "chord.opts(\n",
    "    opts.Chord(\n",
    "        edge_color=\"source\",\n",
    "        node_color=\"label\",        # Use label for node color\n",
    "        node_cmap=label_colors,    # Dictionary maps labels to colors\n",
    "        labels=\"label\",\n",
    "        width=600,\n",
    "        height=600,\n",
    "        title=\"Module Technology ↔ PID Type\"\n",
    "    )\n",
    ")\n",
    "\n"
   ]
  },
  {
   "cell_type": "code",
   "execution_count": 2,
   "id": "17a6326c",
   "metadata": {},
   "outputs": [
    {
     "data": {
      "text/html": [
       "<script type=\"esms-options\">{\"shimMode\": true}</script><style>*[data-root-id],\n",
       "*[data-root-id] > * {\n",
       "  box-sizing: border-box;\n",
       "  font-family: var(--jp-ui-font-family);\n",
       "  font-size: var(--jp-ui-font-size1);\n",
       "  color: var(--vscode-editor-foreground, var(--jp-ui-font-color1));\n",
       "}\n",
       "\n",
       "/* Override VSCode background color */\n",
       ".cell-output-ipywidget-background:has(\n",
       "  > .cell-output-ipywidget-background > .lm-Widget > *[data-root-id]\n",
       "),\n",
       ".cell-output-ipywidget-background:has(> .lm-Widget > *[data-root-id]) {\n",
       "  background-color: transparent !important;\n",
       "}\n",
       "</style>"
      ]
     },
     "metadata": {},
     "output_type": "display_data"
    },
    {
     "data": {
      "application/javascript": "(function(root) {\n  function now() {\n    return new Date();\n  }\n\n  const force = true;\n  const py_version = '3.7.3'.replace('rc', '-rc.').replace('.dev', '-dev.');\n  const reloading = false;\n  const Bokeh = root.Bokeh;\n\n  // Set a timeout for this load but only if we are not already initializing\n  if (typeof (root._bokeh_timeout) === \"undefined\" || (force || !root._bokeh_is_initializing)) {\n    root._bokeh_timeout = Date.now() + 5000;\n    root._bokeh_failed_load = false;\n  }\n\n  function run_callbacks() {\n    try {\n      root._bokeh_onload_callbacks.forEach(function(callback) {\n        if (callback != null)\n          callback();\n      });\n    } finally {\n      delete root._bokeh_onload_callbacks;\n    }\n    console.debug(\"Bokeh: all callbacks have finished\");\n  }\n\n  function load_libs(css_urls, js_urls, js_modules, js_exports, callback) {\n    if (css_urls == null) css_urls = [];\n    if (js_urls == null) js_urls = [];\n    if (js_modules == null) js_modules = [];\n    if (js_exports == null) js_exports = {};\n\n    root._bokeh_onload_callbacks.push(callback);\n\n    if (root._bokeh_is_loading > 0) {\n      // Don't load bokeh if it is still initializing\n      console.debug(\"Bokeh: BokehJS is being loaded, scheduling callback at\", now());\n      return null;\n    } else if (js_urls.length === 0 && js_modules.length === 0 && Object.keys(js_exports).length === 0) {\n      // There is nothing to load\n      run_callbacks();\n      return null;\n    }\n\n    function on_load() {\n      root._bokeh_is_loading--;\n      if (root._bokeh_is_loading === 0) {\n        console.debug(\"Bokeh: all BokehJS libraries/stylesheets loaded\");\n        run_callbacks()\n      }\n    }\n    window._bokeh_on_load = on_load\n\n    function on_error(e) {\n      const src_el = e.srcElement\n      console.error(\"failed to load \" + (src_el.href || src_el.src));\n    }\n\n    const skip = [];\n    if (window.requirejs) {\n      window.requirejs.config({'packages': {}, 'paths': {}, 'shim': {}});\n      root._bokeh_is_loading = css_urls.length + 0;\n    } else {\n      root._bokeh_is_loading = css_urls.length + js_urls.length + js_modules.length + Object.keys(js_exports).length;\n    }\n\n    const existing_stylesheets = []\n    const links = document.getElementsByTagName('link')\n    for (let i = 0; i < links.length; i++) {\n      const link = links[i]\n      if (link.href != null) {\n        existing_stylesheets.push(link.href)\n      }\n    }\n    for (let i = 0; i < css_urls.length; i++) {\n      const url = css_urls[i];\n      const escaped = encodeURI(url)\n      if (existing_stylesheets.indexOf(escaped) !== -1) {\n        on_load()\n        continue;\n      }\n      const element = document.createElement(\"link\");\n      element.onload = on_load;\n      element.onerror = on_error;\n      element.rel = \"stylesheet\";\n      element.type = \"text/css\";\n      element.href = url;\n      console.debug(\"Bokeh: injecting link tag for BokehJS stylesheet: \", url);\n      document.body.appendChild(element);\n    }    var existing_scripts = []\n    const scripts = document.getElementsByTagName('script')\n    for (let i = 0; i < scripts.length; i++) {\n      var script = scripts[i]\n      if (script.src != null) {\n        existing_scripts.push(script.src)\n      }\n    }\n    for (let i = 0; i < js_urls.length; i++) {\n      const url = js_urls[i];\n      const escaped = encodeURI(url)\n      if (skip.indexOf(escaped) !== -1 || existing_scripts.indexOf(escaped) !== -1) {\n        if (!window.requirejs) {\n          on_load();\n        }\n        continue;\n      }\n      const element = document.createElement('script');\n      element.onload = on_load;\n      element.onerror = on_error;\n      element.async = false;\n      element.src = url;\n      console.debug(\"Bokeh: injecting script tag for BokehJS library: \", url);\n      document.head.appendChild(element);\n    }\n    for (let i = 0; i < js_modules.length; i++) {\n      const url = js_modules[i];\n      const escaped = encodeURI(url)\n      if (skip.indexOf(escaped) !== -1 || existing_scripts.indexOf(escaped) !== -1) {\n        if (!window.requirejs) {\n          on_load();\n        }\n        continue;\n      }\n      var element = document.createElement('script');\n      element.onload = on_load;\n      element.onerror = on_error;\n      element.async = false;\n      element.src = url;\n      element.type = \"module\";\n      console.debug(\"Bokeh: injecting script tag for BokehJS library: \", url);\n      document.head.appendChild(element);\n    }\n    for (const name in js_exports) {\n      const url = js_exports[name];\n      const escaped = encodeURI(url)\n      if (skip.indexOf(escaped) >= 0 || root[name] != null) {\n        if (!window.requirejs) {\n          on_load();\n        }\n        continue;\n      }\n      var element = document.createElement('script');\n      element.onerror = on_error;\n      element.async = false;\n      element.type = \"module\";\n      console.debug(\"Bokeh: injecting script tag for BokehJS library: \", url);\n      element.textContent = `\n      import ${name} from \"${url}\"\n      window.${name} = ${name}\n      window._bokeh_on_load()\n      `\n      document.head.appendChild(element);\n    }\n    if (!js_urls.length && !js_modules.length) {\n      on_load()\n    }\n  };\n\n  function inject_raw_css(css) {\n    const element = document.createElement(\"style\");\n    element.appendChild(document.createTextNode(css));\n    document.body.appendChild(element);\n  }\n\n  const js_urls = [\"https://cdn.holoviz.org/panel/1.7.4/dist/bundled/reactiveesm/es-module-shims@^1.10.0/dist/es-module-shims.min.js\", \"https://cdn.bokeh.org/bokeh/release/bokeh-3.7.3.min.js\", \"https://cdn.bokeh.org/bokeh/release/bokeh-gl-3.7.3.min.js\", \"https://cdn.bokeh.org/bokeh/release/bokeh-widgets-3.7.3.min.js\", \"https://cdn.bokeh.org/bokeh/release/bokeh-tables-3.7.3.min.js\", \"https://cdn.holoviz.org/panel/1.7.4/dist/panel.min.js\"];\n  const js_modules = [];\n  const js_exports = {};\n  const css_urls = [];\n  const inline_js = [    function(Bokeh) {\n      Bokeh.set_log_level(\"info\");\n    },\nfunction(Bokeh) {} // ensure no trailing comma for IE\n  ];\n\n  function run_inline_js() {\n    if ((root.Bokeh !== undefined) || (force === true)) {\n      for (let i = 0; i < inline_js.length; i++) {\n        try {\n          inline_js[i].call(root, root.Bokeh);\n        } catch(e) {\n          if (!reloading) {\n            throw e;\n          }\n        }\n      }\n      // Cache old bokeh versions\n      if (Bokeh != undefined && !reloading) {\n        var NewBokeh = root.Bokeh;\n        if (Bokeh.versions === undefined) {\n          Bokeh.versions = new Map();\n        }\n        if (NewBokeh.version !== Bokeh.version) {\n          Bokeh.versions.set(NewBokeh.version, NewBokeh)\n        }\n        root.Bokeh = Bokeh;\n      }\n    } else if (Date.now() < root._bokeh_timeout) {\n      setTimeout(run_inline_js, 100);\n    } else if (!root._bokeh_failed_load) {\n      console.log(\"Bokeh: BokehJS failed to load within specified timeout.\");\n      root._bokeh_failed_load = true;\n    }\n    root._bokeh_is_initializing = false\n  }\n\n  function load_or_wait() {\n    // Implement a backoff loop that tries to ensure we do not load multiple\n    // versions of Bokeh and its dependencies at the same time.\n    // In recent versions we use the root._bokeh_is_initializing flag\n    // to determine whether there is an ongoing attempt to initialize\n    // bokeh, however for backward compatibility we also try to ensure\n    // that we do not start loading a newer (Panel>=1.0 and Bokeh>3) version\n    // before older versions are fully initialized.\n    if (root._bokeh_is_initializing && Date.now() > root._bokeh_timeout) {\n      // If the timeout and bokeh was not successfully loaded we reset\n      // everything and try loading again\n      root._bokeh_timeout = Date.now() + 5000;\n      root._bokeh_is_initializing = false;\n      root._bokeh_onload_callbacks = undefined;\n      root._bokeh_is_loading = 0\n      console.log(\"Bokeh: BokehJS was loaded multiple times but one version failed to initialize.\");\n      load_or_wait();\n    } else if (root._bokeh_is_initializing || (typeof root._bokeh_is_initializing === \"undefined\" && root._bokeh_onload_callbacks !== undefined)) {\n      setTimeout(load_or_wait, 100);\n    } else {\n      root._bokeh_is_initializing = true\n      root._bokeh_onload_callbacks = []\n      const bokeh_loaded = root.Bokeh != null && (root.Bokeh.version === py_version || (root.Bokeh.versions !== undefined && root.Bokeh.versions.has(py_version)));\n      if (!reloading && !bokeh_loaded) {\n        if (root.Bokeh) {\n          root.Bokeh = undefined;\n        }\n        console.debug(\"Bokeh: BokehJS not loaded, scheduling load and callback at\", now());\n      }\n      load_libs(css_urls, js_urls, js_modules, js_exports, function() {\n        console.debug(\"Bokeh: BokehJS plotting callback run at\", now());\n        run_inline_js();\n      });\n    }\n  }\n  // Give older versions of the autoload script a head-start to ensure\n  // they initialize before we start loading newer version.\n  setTimeout(load_or_wait, 100)\n}(window));",
      "application/vnd.holoviews_load.v0+json": ""
     },
     "metadata": {},
     "output_type": "display_data"
    },
    {
     "data": {
      "application/javascript": "\nif ((window.PyViz === undefined) || (window.PyViz instanceof HTMLElement)) {\n  window.PyViz = {comms: {}, comm_status:{}, kernels:{}, receivers: {}, plot_index: []}\n}\n\n\n    function JupyterCommManager() {\n    }\n\n    JupyterCommManager.prototype.register_target = function(plot_id, comm_id, msg_handler) {\n      if (window.comm_manager || ((window.Jupyter !== undefined) && (Jupyter.notebook.kernel != null))) {\n        var comm_manager = window.comm_manager || Jupyter.notebook.kernel.comm_manager;\n        comm_manager.register_target(comm_id, function(comm) {\n          comm.on_msg(msg_handler);\n        });\n      } else if ((plot_id in window.PyViz.kernels) && (window.PyViz.kernels[plot_id])) {\n        window.PyViz.kernels[plot_id].registerCommTarget(comm_id, function(comm) {\n          comm.onMsg = msg_handler;\n        });\n      } else if (typeof google != 'undefined' && google.colab.kernel != null) {\n        google.colab.kernel.comms.registerTarget(comm_id, (comm) => {\n          var messages = comm.messages[Symbol.asyncIterator]();\n          function processIteratorResult(result) {\n            var message = result.value;\n            var content = {data: message.data, comm_id};\n            var buffers = []\n            for (var buffer of message.buffers || []) {\n              buffers.push(new DataView(buffer))\n            }\n            var metadata = message.metadata || {};\n            var msg = {content, buffers, metadata}\n            msg_handler(msg);\n            return messages.next().then(processIteratorResult);\n          }\n          return messages.next().then(processIteratorResult);\n        })\n      }\n    }\n\n    JupyterCommManager.prototype.get_client_comm = function(plot_id, comm_id, msg_handler) {\n      if (comm_id in window.PyViz.comms) {\n        return window.PyViz.comms[comm_id];\n      } else if (window.comm_manager || ((window.Jupyter !== undefined) && (Jupyter.notebook.kernel != null))) {\n        var comm_manager = window.comm_manager || Jupyter.notebook.kernel.comm_manager;\n        var comm = comm_manager.new_comm(comm_id, {}, {}, {}, comm_id);\n        if (msg_handler) {\n          comm.on_msg(msg_handler);\n        }\n      } else if ((plot_id in window.PyViz.kernels) && (window.PyViz.kernels[plot_id])) {\n        var comm = window.PyViz.kernels[plot_id].connectToComm(comm_id);\n        let retries = 0;\n        const open = () => {\n          if (comm.active) {\n            comm.open();\n          } else if (retries > 3) {\n            console.warn('Comm target never activated')\n          } else {\n            retries += 1\n            setTimeout(open, 500)\n          }\n        }\n        if (comm.active) {\n          comm.open();\n        } else {\n          setTimeout(open, 500)\n        }\n        if (msg_handler) {\n          comm.onMsg = msg_handler;\n        }\n      } else if (typeof google != 'undefined' && google.colab.kernel != null) {\n        var comm_promise = google.colab.kernel.comms.open(comm_id)\n        comm_promise.then((comm) => {\n          window.PyViz.comms[comm_id] = comm;\n          if (msg_handler) {\n            var messages = comm.messages[Symbol.asyncIterator]();\n            function processIteratorResult(result) {\n              var message = result.value;\n              var content = {data: message.data};\n              var metadata = message.metadata || {comm_id};\n              var msg = {content, metadata}\n              msg_handler(msg);\n              return messages.next().then(processIteratorResult);\n            }\n            return messages.next().then(processIteratorResult);\n          }\n        })\n        var sendClosure = (data, metadata, buffers, disposeOnDone) => {\n          return comm_promise.then((comm) => {\n            comm.send(data, metadata, buffers, disposeOnDone);\n          });\n        };\n        var comm = {\n          send: sendClosure\n        };\n      }\n      window.PyViz.comms[comm_id] = comm;\n      return comm;\n    }\n    window.PyViz.comm_manager = new JupyterCommManager();\n    \n\n\nvar JS_MIME_TYPE = 'application/javascript';\nvar HTML_MIME_TYPE = 'text/html';\nvar EXEC_MIME_TYPE = 'application/vnd.holoviews_exec.v0+json';\nvar CLASS_NAME = 'output';\n\n/**\n * Render data to the DOM node\n */\nfunction render(props, node) {\n  var div = document.createElement(\"div\");\n  var script = document.createElement(\"script\");\n  node.appendChild(div);\n  node.appendChild(script);\n}\n\n/**\n * Handle when a new output is added\n */\nfunction handle_add_output(event, handle) {\n  var output_area = handle.output_area;\n  var output = handle.output;\n  if ((output.data == undefined) || (!output.data.hasOwnProperty(EXEC_MIME_TYPE))) {\n    return\n  }\n  var id = output.metadata[EXEC_MIME_TYPE][\"id\"];\n  var toinsert = output_area.element.find(\".\" + CLASS_NAME.split(' ')[0]);\n  if (id !== undefined) {\n    var nchildren = toinsert.length;\n    var html_node = toinsert[nchildren-1].children[0];\n    html_node.innerHTML = output.data[HTML_MIME_TYPE];\n    var scripts = [];\n    var nodelist = html_node.querySelectorAll(\"script\");\n    for (var i in nodelist) {\n      if (nodelist.hasOwnProperty(i)) {\n        scripts.push(nodelist[i])\n      }\n    }\n\n    scripts.forEach( function (oldScript) {\n      var newScript = document.createElement(\"script\");\n      var attrs = [];\n      var nodemap = oldScript.attributes;\n      for (var j in nodemap) {\n        if (nodemap.hasOwnProperty(j)) {\n          attrs.push(nodemap[j])\n        }\n      }\n      attrs.forEach(function(attr) { newScript.setAttribute(attr.name, attr.value) });\n      newScript.appendChild(document.createTextNode(oldScript.innerHTML));\n      oldScript.parentNode.replaceChild(newScript, oldScript);\n    });\n    if (JS_MIME_TYPE in output.data) {\n      toinsert[nchildren-1].children[1].textContent = output.data[JS_MIME_TYPE];\n    }\n    output_area._hv_plot_id = id;\n    if ((window.Bokeh !== undefined) && (id in Bokeh.index)) {\n      window.PyViz.plot_index[id] = Bokeh.index[id];\n    } else {\n      window.PyViz.plot_index[id] = null;\n    }\n  } else if (output.metadata[EXEC_MIME_TYPE][\"server_id\"] !== undefined) {\n    var bk_div = document.createElement(\"div\");\n    bk_div.innerHTML = output.data[HTML_MIME_TYPE];\n    var script_attrs = bk_div.children[0].attributes;\n    for (var i = 0; i < script_attrs.length; i++) {\n      toinsert[toinsert.length - 1].childNodes[1].setAttribute(script_attrs[i].name, script_attrs[i].value);\n    }\n    // store reference to server id on output_area\n    output_area._bokeh_server_id = output.metadata[EXEC_MIME_TYPE][\"server_id\"];\n  }\n}\n\n/**\n * Handle when an output is cleared or removed\n */\nfunction handle_clear_output(event, handle) {\n  var id = handle.cell.output_area._hv_plot_id;\n  var server_id = handle.cell.output_area._bokeh_server_id;\n  if (((id === undefined) || !(id in PyViz.plot_index)) && (server_id !== undefined)) { return; }\n  var comm = window.PyViz.comm_manager.get_client_comm(\"hv-extension-comm\", \"hv-extension-comm\", function () {});\n  if (server_id !== null) {\n    comm.send({event_type: 'server_delete', 'id': server_id});\n    return;\n  } else if (comm !== null) {\n    comm.send({event_type: 'delete', 'id': id});\n  }\n  delete PyViz.plot_index[id];\n  if ((window.Bokeh !== undefined) & (id in window.Bokeh.index)) {\n    var doc = window.Bokeh.index[id].model.document\n    doc.clear();\n    const i = window.Bokeh.documents.indexOf(doc);\n    if (i > -1) {\n      window.Bokeh.documents.splice(i, 1);\n    }\n  }\n}\n\n/**\n * Handle kernel restart event\n */\nfunction handle_kernel_cleanup(event, handle) {\n  delete PyViz.comms[\"hv-extension-comm\"];\n  window.PyViz.plot_index = {}\n}\n\n/**\n * Handle update_display_data messages\n */\nfunction handle_update_output(event, handle) {\n  handle_clear_output(event, {cell: {output_area: handle.output_area}})\n  handle_add_output(event, handle)\n}\n\nfunction register_renderer(events, OutputArea) {\n  function append_mime(data, metadata, element) {\n    // create a DOM node to render to\n    var toinsert = this.create_output_subarea(\n    metadata,\n    CLASS_NAME,\n    EXEC_MIME_TYPE\n    );\n    this.keyboard_manager.register_events(toinsert);\n    // Render to node\n    var props = {data: data, metadata: metadata[EXEC_MIME_TYPE]};\n    render(props, toinsert[0]);\n    element.append(toinsert);\n    return toinsert\n  }\n\n  events.on('output_added.OutputArea', handle_add_output);\n  events.on('output_updated.OutputArea', handle_update_output);\n  events.on('clear_output.CodeCell', handle_clear_output);\n  events.on('delete.Cell', handle_clear_output);\n  events.on('kernel_ready.Kernel', handle_kernel_cleanup);\n\n  OutputArea.prototype.register_mime_type(EXEC_MIME_TYPE, append_mime, {\n    safe: true,\n    index: 0\n  });\n}\n\nif (window.Jupyter !== undefined) {\n  try {\n    var events = require('base/js/events');\n    var OutputArea = require('notebook/js/outputarea').OutputArea;\n    if (OutputArea.prototype.mime_types().indexOf(EXEC_MIME_TYPE) == -1) {\n      register_renderer(events, OutputArea);\n    }\n  } catch(err) {\n  }\n}\n",
      "application/vnd.holoviews_load.v0+json": ""
     },
     "metadata": {},
     "output_type": "display_data"
    },
    {
     "data": {
      "application/vnd.holoviews_exec.v0+json": "",
      "text/html": [
       "<div id='b34a8f76-5b4e-4683-b3fc-3f2d3c7bb5e0'>\n",
       "  <div id=\"aeff0ccc-1f8d-44db-89b5-2e2f865c616f\" data-root-id=\"b34a8f76-5b4e-4683-b3fc-3f2d3c7bb5e0\" style=\"display: contents;\"></div>\n",
       "</div>\n",
       "<script type=\"application/javascript\">(function(root) {\n",
       "  var docs_json = {\"946c5861-d364-4cc3-aa5c-c91d06e86d38\":{\"version\":\"3.7.3\",\"title\":\"Bokeh Application\",\"roots\":[{\"type\":\"object\",\"name\":\"panel.models.browser.BrowserInfo\",\"id\":\"b34a8f76-5b4e-4683-b3fc-3f2d3c7bb5e0\"},{\"type\":\"object\",\"name\":\"panel.models.comm_manager.CommManager\",\"id\":\"57abfec4-90a9-4a3a-b477-7cb98963f541\",\"attributes\":{\"plot_id\":\"b34a8f76-5b4e-4683-b3fc-3f2d3c7bb5e0\",\"comm_id\":\"c8ab2398320744b298322938b4127299\",\"client_comm_id\":\"1624ca556f0644ae914734f90a6e56b8\"}}],\"defs\":[{\"type\":\"model\",\"name\":\"ReactiveHTML1\"},{\"type\":\"model\",\"name\":\"FlexBox1\",\"properties\":[{\"name\":\"align_content\",\"kind\":\"Any\",\"default\":\"flex-start\"},{\"name\":\"align_items\",\"kind\":\"Any\",\"default\":\"flex-start\"},{\"name\":\"flex_direction\",\"kind\":\"Any\",\"default\":\"row\"},{\"name\":\"flex_wrap\",\"kind\":\"Any\",\"default\":\"wrap\"},{\"name\":\"gap\",\"kind\":\"Any\",\"default\":\"\"},{\"name\":\"justify_content\",\"kind\":\"Any\",\"default\":\"flex-start\"}]},{\"type\":\"model\",\"name\":\"FloatPanel1\",\"properties\":[{\"name\":\"config\",\"kind\":\"Any\",\"default\":{\"type\":\"map\"}},{\"name\":\"contained\",\"kind\":\"Any\",\"default\":true},{\"name\":\"position\",\"kind\":\"Any\",\"default\":\"right-top\"},{\"name\":\"offsetx\",\"kind\":\"Any\",\"default\":null},{\"name\":\"offsety\",\"kind\":\"Any\",\"default\":null},{\"name\":\"theme\",\"kind\":\"Any\",\"default\":\"primary\"},{\"name\":\"status\",\"kind\":\"Any\",\"default\":\"normalized\"}]},{\"type\":\"model\",\"name\":\"GridStack1\",\"properties\":[{\"name\":\"ncols\",\"kind\":\"Any\",\"default\":null},{\"name\":\"nrows\",\"kind\":\"Any\",\"default\":null},{\"name\":\"allow_resize\",\"kind\":\"Any\",\"default\":true},{\"name\":\"allow_drag\",\"kind\":\"Any\",\"default\":true},{\"name\":\"state\",\"kind\":\"Any\",\"default\":[]}]},{\"type\":\"model\",\"name\":\"drag1\",\"properties\":[{\"name\":\"slider_width\",\"kind\":\"Any\",\"default\":5},{\"name\":\"slider_color\",\"kind\":\"Any\",\"default\":\"black\"},{\"name\":\"value\",\"kind\":\"Any\",\"default\":50}]},{\"type\":\"model\",\"name\":\"click1\",\"properties\":[{\"name\":\"terminal_output\",\"kind\":\"Any\",\"default\":\"\"},{\"name\":\"debug_name\",\"kind\":\"Any\",\"default\":\"\"},{\"name\":\"clears\",\"kind\":\"Any\",\"default\":0}]},{\"type\":\"model\",\"name\":\"ReactiveESM1\",\"properties\":[{\"name\":\"esm_constants\",\"kind\":\"Any\",\"default\":{\"type\":\"map\"}}]},{\"type\":\"model\",\"name\":\"JSComponent1\",\"properties\":[{\"name\":\"esm_constants\",\"kind\":\"Any\",\"default\":{\"type\":\"map\"}}]},{\"type\":\"model\",\"name\":\"ReactComponent1\",\"properties\":[{\"name\":\"use_shadow_dom\",\"kind\":\"Any\",\"default\":true},{\"name\":\"esm_constants\",\"kind\":\"Any\",\"default\":{\"type\":\"map\"}}]},{\"type\":\"model\",\"name\":\"AnyWidgetComponent1\",\"properties\":[{\"name\":\"use_shadow_dom\",\"kind\":\"Any\",\"default\":true},{\"name\":\"esm_constants\",\"kind\":\"Any\",\"default\":{\"type\":\"map\"}}]},{\"type\":\"model\",\"name\":\"FastWrapper1\",\"properties\":[{\"name\":\"object\",\"kind\":\"Any\",\"default\":null},{\"name\":\"style\",\"kind\":\"Any\",\"default\":null}]},{\"type\":\"model\",\"name\":\"NotificationArea1\",\"properties\":[{\"name\":\"js_events\",\"kind\":\"Any\",\"default\":{\"type\":\"map\"}},{\"name\":\"max_notifications\",\"kind\":\"Any\",\"default\":5},{\"name\":\"notifications\",\"kind\":\"Any\",\"default\":[]},{\"name\":\"position\",\"kind\":\"Any\",\"default\":\"bottom-right\"},{\"name\":\"_clear\",\"kind\":\"Any\",\"default\":0},{\"name\":\"types\",\"kind\":\"Any\",\"default\":[{\"type\":\"map\",\"entries\":[[\"type\",\"warning\"],[\"background\",\"#ffc107\"],[\"icon\",{\"type\":\"map\",\"entries\":[[\"className\",\"fas fa-exclamation-triangle\"],[\"tagName\",\"i\"],[\"color\",\"white\"]]}]]},{\"type\":\"map\",\"entries\":[[\"type\",\"info\"],[\"background\",\"#007bff\"],[\"icon\",{\"type\":\"map\",\"entries\":[[\"className\",\"fas fa-info-circle\"],[\"tagName\",\"i\"],[\"color\",\"white\"]]}]]}]}]},{\"type\":\"model\",\"name\":\"Notification\",\"properties\":[{\"name\":\"background\",\"kind\":\"Any\",\"default\":null},{\"name\":\"duration\",\"kind\":\"Any\",\"default\":3000},{\"name\":\"icon\",\"kind\":\"Any\",\"default\":null},{\"name\":\"message\",\"kind\":\"Any\",\"default\":\"\"},{\"name\":\"notification_type\",\"kind\":\"Any\",\"default\":null},{\"name\":\"_rendered\",\"kind\":\"Any\",\"default\":false},{\"name\":\"_destroyed\",\"kind\":\"Any\",\"default\":false}]},{\"type\":\"model\",\"name\":\"TemplateActions1\",\"properties\":[{\"name\":\"open_modal\",\"kind\":\"Any\",\"default\":0},{\"name\":\"close_modal\",\"kind\":\"Any\",\"default\":0}]},{\"type\":\"model\",\"name\":\"BootstrapTemplateActions1\",\"properties\":[{\"name\":\"open_modal\",\"kind\":\"Any\",\"default\":0},{\"name\":\"close_modal\",\"kind\":\"Any\",\"default\":0}]},{\"type\":\"model\",\"name\":\"TemplateEditor1\",\"properties\":[{\"name\":\"layout\",\"kind\":\"Any\",\"default\":[]}]},{\"type\":\"model\",\"name\":\"MaterialTemplateActions1\",\"properties\":[{\"name\":\"open_modal\",\"kind\":\"Any\",\"default\":0},{\"name\":\"close_modal\",\"kind\":\"Any\",\"default\":0}]},{\"type\":\"model\",\"name\":\"request_value1\",\"properties\":[{\"name\":\"fill\",\"kind\":\"Any\",\"default\":\"none\"},{\"name\":\"_synced\",\"kind\":\"Any\",\"default\":null},{\"name\":\"_request_sync\",\"kind\":\"Any\",\"default\":0}]},{\"type\":\"model\",\"name\":\"holoviews.plotting.bokeh.raster.HoverModel\",\"properties\":[{\"name\":\"xy\",\"kind\":\"Any\",\"default\":null},{\"name\":\"data\",\"kind\":\"Any\",\"default\":null}]}]}};\n",
       "  var render_items = [{\"docid\":\"946c5861-d364-4cc3-aa5c-c91d06e86d38\",\"roots\":{\"b34a8f76-5b4e-4683-b3fc-3f2d3c7bb5e0\":\"aeff0ccc-1f8d-44db-89b5-2e2f865c616f\"},\"root_ids\":[\"b34a8f76-5b4e-4683-b3fc-3f2d3c7bb5e0\"]}];\n",
       "  var docs = Object.values(docs_json)\n",
       "  if (!docs) {\n",
       "    return\n",
       "  }\n",
       "  const py_version = docs[0].version.replace('rc', '-rc.').replace('.dev', '-dev.')\n",
       "  async function embed_document(root) {\n",
       "    var Bokeh = get_bokeh(root)\n",
       "    await Bokeh.embed.embed_items_notebook(docs_json, render_items);\n",
       "    for (const render_item of render_items) {\n",
       "      for (const root_id of render_item.root_ids) {\n",
       "\tconst id_el = document.getElementById(root_id)\n",
       "\tif (id_el.children.length && id_el.children[0].hasAttribute('data-root-id')) {\n",
       "\t  const root_el = id_el.children[0]\n",
       "\t  root_el.id = root_el.id + '-rendered'\n",
       "\t  for (const child of root_el.children) {\n",
       "            // Ensure JupyterLab does not capture keyboard shortcuts\n",
       "            // see: https://jupyterlab.readthedocs.io/en/4.1.x/extension/notebook.html#keyboard-interaction-model\n",
       "\t    child.setAttribute('data-lm-suppress-shortcuts', 'true')\n",
       "\t  }\n",
       "\t}\n",
       "      }\n",
       "    }\n",
       "  }\n",
       "  function get_bokeh(root) {\n",
       "    if (root.Bokeh === undefined) {\n",
       "      return null\n",
       "    } else if (root.Bokeh.version !== py_version) {\n",
       "      if (root.Bokeh.versions === undefined || !root.Bokeh.versions.has(py_version)) {\n",
       "\treturn null\n",
       "      }\n",
       "      return root.Bokeh.versions.get(py_version);\n",
       "    } else if (root.Bokeh.version === py_version) {\n",
       "      return root.Bokeh\n",
       "    }\n",
       "    return null\n",
       "  }\n",
       "  function is_loaded(root) {\n",
       "    var Bokeh = get_bokeh(root)\n",
       "    return (Bokeh != null && Bokeh.Panel !== undefined)\n",
       "  }\n",
       "  if (is_loaded(root)) {\n",
       "    embed_document(root);\n",
       "  } else {\n",
       "    var attempts = 0;\n",
       "    var timer = setInterval(function(root) {\n",
       "      if (is_loaded(root)) {\n",
       "        clearInterval(timer);\n",
       "        embed_document(root);\n",
       "      } else if (document.readyState == \"complete\") {\n",
       "        attempts++;\n",
       "        if (attempts > 200) {\n",
       "          clearInterval(timer);\n",
       "\t  var Bokeh = get_bokeh(root)\n",
       "\t  if (Bokeh == null || Bokeh.Panel == null) {\n",
       "            console.warn(\"Panel: ERROR: Unable to run Panel code because Bokeh or Panel library is missing\");\n",
       "\t  } else {\n",
       "\t    console.warn(\"Panel: WARNING: Attempting to render but not all required libraries could be resolved.\")\n",
       "\t    embed_document(root)\n",
       "\t  }\n",
       "        }\n",
       "      }\n",
       "    }, 25, root)\n",
       "  }\n",
       "})(window);</script>"
      ]
     },
     "metadata": {
      "application/vnd.holoviews_exec.v0+json": {
       "id": "b34a8f76-5b4e-4683-b3fc-3f2d3c7bb5e0"
      }
     },
     "output_type": "display_data"
    },
    {
     "data": {
      "text/html": [
       "\n",
       "\n",
       "\n",
       "\n",
       "<div class=\"logo-block\">\n",
       "<a href=\"https://holoviews.org\" target=\"_blank\" title=\"HoloViews 1.21.0\">\n",
       "  <img src='data:image/png;base64,iVBORw0KGgoAAAANSUhEUgAAAEAAAABACAYAAACqaXHeAAAABHNCSVQICAgIfAhkiAAAAAlwSFlz\n",
       "AAAB+wAAAfsBxc2miwAAABl0RVh0U29mdHdhcmUAd3d3Lmlua3NjYXBlLm9yZ5vuPBoAAA6zSURB\n",
       "VHic7ZtpeFRVmsf/5966taWqUlUJ2UioBBJiIBAwCZtog9IOgjqACsogKtqirT2ttt069nQ/zDzt\n",
       "tI4+CrJIREFaFgWhBXpUNhHZQoKBkIUASchWla1S+3ar7r1nPkDaCAnZKoQP/D7mnPOe9/xy76n3\n",
       "nFSAW9ziFoPFNED2LLK5wcyBDObkb8ZkxuaoSYlI6ZcOKq1eWFdedqNzGHQBk9RMEwFAASkk0Xw3\n",
       "ETacDNi2vtvc7L0ROdw0AjoSotQVkKSvHQz/wRO1lScGModBFbDMaNRN1A4tUBCS3lk7BWhQkgpD\n",
       "lG4852/+7DWr1R3uHAZVQDsbh6ZPN7CyxUrCzJMRouusj0ipRwD2uKm0Zn5d2dFwzX1TCGhnmdGo\n",
       "G62Nna+isiUqhkzuKrkQaJlPEv5mFl2fvGg2t/VnzkEV8F5ioioOEWkLG86fvbpthynjdhXYZziQ\n",
       "x1hC9J2NFyi8vCTt91Fh04KGip0AaG9zuCk2wQCVyoNU3Hjezee9bq92duzzTmxsRJoy+jEZZZYo\n",
       "GTKJ6SJngdJqAfRzpze0+jHreUtPc7gpBLQnIYK6BYp/uGhw9YK688eu7v95ysgshcg9qSLMo3JC\n",
       "4jqLKQFBgdKDPoQ+Pltb8dUyQLpeDjeVgI6EgLIQFT5tEl3rn2losHVsexbZ3EyT9wE1uGdkIPcy\n",
       "BGxn8QUq1QrA5nqW5i2tLqvrrM9NK6AdkVIvL9E9bZL/oyfMVd/jqvc8LylzRBKDJSzIExwhQzuL\n",
       "QYGQj4rHfFTc8mUdu3E7yoLtbTe9gI4EqVgVkug2i5+uXGo919ixbRog+3fTbQ8qJe4ZOYNfMoTI\n",
       "OoshUNosgO60AisX15aeI2PSIp5KiFLI9ubb1vV3Qb2ltwLakUCDAkWX7/nHKRmmGIl9VgYsUhJm\n",
       "2NXjKYADtM1ygne9QQDIXlk49FBstMKx66D1v4+XuQr7vqTe0VcBHQlRWiOCbmmSYe2SqtL6q5rJ\n",
       "zsTb7lKx3FKOYC4DoqyS/B5bvLPxvD9Qtf6saxYLQGJErmDOdOMr/zo96km1nElr8bmPOBwI9COv\n",
       "HnFPRIwmkSOv9kcAS4heRsidOkpeWBgZM+UBrTFAXNYL5Vf2ii9c1trNzpYdaoVil3WIc+wdk+gQ\n",
       "noie3ecCcxt9ITcLAPWt/laGEO/9U6PmzZkenTtsSMQ8uYywJVW+grCstAvCIaAdArAsIWkRDDs/\n",
       "KzLm2YcjY1Lv0UdW73HabE9n6V66cxSzfEmuJssTpKGVp+0vHq73FwL46eOjpMpbRAnNmJFrGJNu\n",
       "Ukf9Yrz+3rghiumCKNXXWPhLYcjxGsIpoCMsIRoFITkW8AuyM8jC1+/QLx4bozCEJIq38+1rtpR6\n",
       "V/yzb8eBlRb3fo5l783N0CWolAzJHaVNzkrTzlEp2bQ2q3TC5gn6wpnoQAmwSiGh2GitnTmVMc5O\n",
       "UyfKWUKCIsU7+fZDKwqdT6DDpvkzAX4/+AMFjk0tDp5GRXLpQ2MUmhgDp5gxQT8+Y7hyPsMi8uxF\n",
       "71H0oebujHALECjFKaW9Lm68n18wXp2kVzIcABytD5iXFzg+WVXkegpAsOOYziqo0OkK76GyquC3\n",
       "ltZAzMhhqlSNmmWTE5T6e3IN05ITFLM4GdN0vtZ3ob8Jh1NAKXFbm5PtLU/eqTSlGjkNAJjdgn/N\n",
       "aedXa0tdi7+t9G0FIF49rtMSEgAs1kDLkTPO7ebm4IUWeyh1bKomXqlgMG6kJmHcSM0clYLJ8XtR\n",
       "1GTnbV3F6I5wCGikAb402npp1h1s7LQUZZSMIfALFOuL3UUrfnS8+rez7v9qcold5tilgHbO1fjK\n",
       "9ubb17u9oshxzMiUBKXWqJNxd+fqb0tLVs4lILFnK71H0Ind7uiPgACVcFJlrb0tV6DzxqqTIhUM\n",
       "CwDf1/rrVhTa33/3pGPxJYdQ2l2cbgVcQSosdx8uqnDtbGjh9SlDVSMNWhlnilfqZk42Th2ZpLpf\n",
       "xrHec5e815zrr0dfBZSwzkZfqsv+1FS1KUknUwPARVvItfKUY+cn57yP7qv07UE3p8B2uhUwLk09\n",
       "e0SCOrK+hbdYHYLjRIl71wWzv9jpEoeOHhGRrJAzyEyNiJuUqX0g2sBN5kGK6y2Blp5M3lsB9Qh4\n",
       "y2Ja6x6+i0ucmKgwMATwhSjdUu49tKrQ/pvN5d53ml2CGwCmJipmKjgmyuaXzNeL2a0AkQ01Th5j\n",
       "2DktO3Jyk8f9vcOBQHV94OK+fPumJmvQHxJoWkaKWq9Vs+yUsbq0zGT1I4RgeH2b5wef7+c7bl8F\n",
       "eKgoHVVZa8ZPEORzR6sT1BzDUAD/d9F78e2Tzv99v8D+fLVTqAKAsbGamKey1Mt9Ann4eH3gTXTz\n",
       "idWtAJ8PQWOk7NzSeQn/OTHDuEikVF1R4z8BQCy+6D1aWRfY0tTGG2OM8rRoPaeIj5ZHzJxszElN\n",
       "VM8K8JS5WOfv8mzRnQAKoEhmt8gyPM4lU9SmBK1MCQBnW4KONT86v1hZ1PbwSXPw4JWussVjtH9Y\n",
       "NCoiL9UoH/6PSu8jFrfY2t36erQHXLIEakMi1SydmzB31h3GGXFDFNPaK8Rme9B79Ixrd0WN+1ij\n",
       "NRQ/doRmuFLBkHSTOm5GruG+pFjFdAmorG4IXH1Qua6ASniclfFtDYt+oUjKipPrCQB7QBQ2lrgP\n",
       "fFzm+9XWUtcqJ3/5vDLDpJ79XHZk3u8nGZ42qlj1+ydtbxysCezrydp6ugmipNJ7WBPB5tydY0jP\n",
       "HaVNzs3QzeE4ZpTbI+ZbnSFPbVOw9vsfnVvqWnirPyCNGD08IlqtYkh2hjZ5dErEQzoNm+6ykyOt\n",
       "Lt5/PQEuSRRKo22VkydK+vvS1XEKlhCJAnsqvcVvH7f/ZU2R67eXbMEGAMiIV5oWZWiWvz5Fv2xG\n",
       "sjqNJQRvn3Rs2lji/lNP19VjAQDgD7FHhujZB9OGqYxRkZxixgRDVlqS6uEOFaJUVu0rPFzctrnF\n",
       "JqijImVp8dEKVWyUXDk92zAuMZ6bFwpBU1HrOw6AdhQgUooChb0+ItMbWJitSo5Ws3IAOGEOtL53\n",
       "0vHZih9sC4vtofZ7Qu6523V/fmGcds1TY3V36pUsBwAbSlxnVh2xLfAD/IAIMDf7XYIkNmXfpp2l\n",
       "18rkAJAy9HKFaIr/qULkeQQKy9zf1JgDB2uaeFNGijo5QsUyacNUUTOnGO42xSnv4oOwpDi1zYkc\n",
       "efUc3I5Gk6PhyTuVKaOGyLUAYPGIoY9Pu/atL/L92+4q9wbflRJ2Trpm/jPjdBtfnqB/dIThcl8A\n",
       "KG7hbRuKnb8qsQsVvVlTrwQAQMUlf3kwJI24Z4JhPMtcfng5GcH49GsrxJpGvvHIaeem2ma+KSjQ\n",
       "lIwUdYyCY8j4dE1KzijNnIP2llF2wcXNnsoapw9XxsgYAl6k+KzUXbi2yP3KR2ecf6z3BFsBICdW\n",
       "nvnIaG3eHybqX7vbpEqUMT+9OL4Qpe8VON7dXuFd39v19FoAABRVePbGGuXTszO0P7tu6lghUonE\n",
       "llRdrhArLvmKdh9u29jcFiRRkfLUxBiFNiqSU9icoZQHo5mYBI1MBgBH6wMNb+U7Pnw337H4gi1Y\n",
       "ciWs+uks3Z9fztUvfzxTm9Ne8XXkvQLHNytOOZeiD4e0PgkAIAYCYknKUNUDSXEKzdWNpnil7r4p\n",
       "xqkjTarZMtk/K8TQ6Qve78qqvXurGwIJqcOUKfUWHsm8KGvxSP68YudXq4pcj39X49uOK2X142O0\n",
       "Tz5/u/7TVybqH0rSya6ZBwD21/gubbrgWdDgEOx9WUhfBaC2ibcEBYm7a7x+ukrBMNcEZggyR0TE\n",
       "T8zUPjikQ4VosQZbTpS4vqizBKvqmvjsqnpfzaZyx9JPiz1/bfGKdgD45XB1zoIMzYbfTdS/NClB\n",
       "Gct0USiY3YL/g0LHy/uq/Ef6uo5+n0R/vyhp17Klpge763f8rMu6YU/zrn2nml+2WtH+Z+5IAAFc\n",
       "2bUTdTDOSNa9+cQY7YLsOIXhevEkCvzph7a8laecz/Un/z4/Ae04XeL3UQb57IwU9ZDr9UuKVajv\n",
       "nxp1+1UVIo/LjztZkKH59fO3G/JemqCfmaCRqbqbd90ZZ8FfjtkfAyD0J/9+C2h1hDwsSxvGjNDc\n",
       "b4zk5NfrSwiQblLHzZhg+Jf4aPlUwpDqkQqa9nimbt1/TDH8OitGMaQnj+RJS6B1fbF7SY1TqO5v\n",
       "/v0WAADl1f7zokgS7s7VT2DZ7pegUjBM7mjtiDZbcN4j0YrHH0rXpCtY0qPX0cVL0rv5jv/ZXend\n",
       "0u/EESYBAFBU4T4Qa5TflZOhTe7pmKpaP8kCVUVw1+yhXfJWvn1P3hnXi33JsTN6PnP3hHZ8Z3/h\n",
       "aLHzmkNPuPj7Bc/F/Q38CwjTpSwQXgE4Vmwry9tpfq/ZFgqFMy4AVDtCvi8rvMvOmv0N4YwbVgEA\n",
       "sPM72/KVnzfspmH7HQGCRLG2yL1+z8XwvPcdCbsAANh+xPzstgMtxeGKt+6MK3/tacfvwhWvIwMi\n",
       "oKEBtm0H7W+UVfkc/Y1V0BhoPlDr/w1w/eu1vjIgAgDg22OtX6/eYfnEz/focrZTHAFR+PSs56/7\n",
       "q32nwpjazxgwAQCwcU/T62t3WL7r6/jVRa6/byp1rei+Z98ZUAEAhEPHPc8fKnTU9nbgtnOe8h0l\n",
       "9hcGIqmODLQAHCy2Xti6v/XNRivf43f4fFvIteu854+VHnR7q9tfBlwAAGz+pnndB9vM26UebAe8\n",
       "SLHujPOTPVW+rwY+sxskAAC2HrA8t2Vvc7ffP1r9o+vwR2dcr92InIAbKKC1FZ5tB1tf+/G8p8sv\n",
       "N/9Q5zd/XR34LYCwV5JdccMEAMDBk45DH243r/X4xGvqxFa/GNpS7n6rwOwNWwHVE26oAADYurf1\n",
       "zx/utOzt+DMKYM0p17YtZZ5VNzqfsB2HewG1WXE8PoZ7gOclbTIvynZf9JV+fqZtfgs/8F/Nu5rB\n",
       "EIBmJ+8QRMmpU7EzGRsf2FzuePqYRbzh/zE26EwdrT10f6r6o8HOYzCJB9Dpff8tbnGLG8L/A/WE\n",
       "roTBs2RqAAAAAElFTkSuQmCC' style='height:25px; border-radius:12px; display: inline-block; float: left; vertical-align: middle'></img>\n",
       "</a>\n",
       "\n",
       "\n",
       "<a href=\"https://bokeh.org\" target=\"_blank\" title=\"Bokeh 3.7.3\">\n",
       "  <img src='data:image/png;base64,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'\n",
       "       style='height:15px; border-radius:12px; display: inline-block; float: left'>\n",
       "  </img>\n",
       "</a>\n",
       "\n",
       "\n",
       "\n",
       "\n",
       "\n",
       "\n",
       "\n",
       "<span style=\"float: left; margin-left: 5px; line-height: 15px; cursor: pointer; opacity: 0.7;\"\n",
       "      onmouseover=\"this.style.opacity='1'\"\n",
       "      onmouseout=\"this.style.opacity='0.7'\"\n",
       "      title=\"Extension loaded. This cell output contains code that enables plot interactivity, it should not be removed.\">ⓘ</span>\n",
       "</div>\n",
       "\n"
      ]
     },
     "metadata": {},
     "output_type": "display_data"
    },
    {
     "data": {},
     "metadata": {},
     "output_type": "display_data"
    },
    {
     "data": {
      "application/vnd.holoviews_exec.v0+json": "",
      "text/html": [
       "<div id='757ead3f-0580-44c4-89e7-c6db6389111b'>\n",
       "  <div id=\"bbaea3e5-77ec-4e48-8197-cfc737a6f6f4\" data-root-id=\"757ead3f-0580-44c4-89e7-c6db6389111b\" style=\"display: contents;\"></div>\n",
       "</div>\n",
       "<script type=\"application/javascript\">(function(root) {\n",
       "  var docs_json = {\"276d587b-d612-469d-b061-8ffc98191d31\":{\"version\":\"3.7.3\",\"title\":\"Bokeh Application\",\"roots\":[{\"type\":\"object\",\"name\":\"Row\",\"id\":\"757ead3f-0580-44c4-89e7-c6db6389111b\",\"attributes\":{\"name\":\"Row00346\",\"tags\":[\"embedded\"],\"stylesheets\":[\"\\n:host(.pn-loading):before, .pn-loading:before {\\n  background-color: #c3c3c3;\\n  mask-size: auto calc(min(50%, 400px));\\n  -webkit-mask-size: auto calc(min(50%, 400px));\\n}\",{\"type\":\"object\",\"name\":\"ImportedStyleSheet\",\"id\":\"1a0db616-f842-4446-b0e3-ece4fc929f22\",\"attributes\":{\"url\":\"https://cdn.holoviz.org/panel/1.7.4/dist/css/loading.css\"}},{\"type\":\"object\",\"name\":\"ImportedStyleSheet\",\"id\":\"d92fdc83-b3fc-45b5-b76e-90ffb9158ab9\",\"attributes\":{\"url\":\"https://cdn.holoviz.org/panel/1.7.4/dist/css/listpanel.css\"}},{\"type\":\"object\",\"name\":\"ImportedStyleSheet\",\"id\":\"845cddf5-1007-440e-811f-a74b56c9a30a\",\"attributes\":{\"url\":\"https://cdn.holoviz.org/panel/1.7.4/dist/bundled/theme/default.css\"}},{\"type\":\"object\",\"name\":\"ImportedStyleSheet\",\"id\":\"c2343c2f-72cc-42b0-ba2f-8469147f9c28\",\"attributes\":{\"url\":\"https://cdn.holoviz.org/panel/1.7.4/dist/bundled/theme/native.css\"}}],\"min_width\":600,\"margin\":0,\"sizing_mode\":\"stretch_width\",\"align\":\"start\",\"children\":[{\"type\":\"object\",\"name\":\"Spacer\",\"id\":\"c4b76781-6fbd-4d69-846a-b220f4701da0\",\"attributes\":{\"name\":\"HSpacer00350\",\"stylesheets\":[\"\\n:host(.pn-loading):before, .pn-loading:before {\\n  background-color: #c3c3c3;\\n  mask-size: auto calc(min(50%, 400px));\\n  -webkit-mask-size: auto calc(min(50%, 400px));\\n}\",{\"id\":\"1a0db616-f842-4446-b0e3-ece4fc929f22\"},{\"id\":\"845cddf5-1007-440e-811f-a74b56c9a30a\"},{\"id\":\"c2343c2f-72cc-42b0-ba2f-8469147f9c28\"}],\"min_width\":0,\"margin\":0,\"sizing_mode\":\"stretch_width\",\"align\":\"start\"}},{\"type\":\"object\",\"name\":\"Figure\",\"id\":\"5d757e92-e25a-4880-a05f-b42c44e470e7\",\"attributes\":{\"margin\":[5,10],\"sizing_mode\":\"fixed\",\"align\":\"start\",\"x_range\":{\"type\":\"object\",\"name\":\"Range1d\",\"id\":\"35459d20-09d2-4593-a653-bf892287cf50\",\"attributes\":{\"name\":\"x\",\"tags\":[[[\"x\",null]],[]],\"start\":-1.4,\"end\":1.4,\"reset_start\":-1.4,\"reset_end\":1.4}},\"y_range\":{\"type\":\"object\",\"name\":\"Range1d\",\"id\":\"6cdc5fbd-d6d8-4564-b224-2d3c8ffdc1c8\",\"attributes\":{\"name\":\"y\",\"tags\":[[[\"y\",null]],{\"type\":\"map\",\"entries\":[[\"invert_yaxis\",false],[\"autorange\",false]]}],\"start\":-1.4,\"end\":1.4,\"reset_start\":-1.4,\"reset_end\":1.4}},\"x_scale\":{\"type\":\"object\",\"name\":\"LinearScale\",\"id\":\"9ca318a1-cda6-4f89-a775-e1f9195856e0\"},\"y_scale\":{\"type\":\"object\",\"name\":\"LinearScale\",\"id\":\"674727de-620b-4c40-9f2b-b8d2db2c51f9\"},\"title\":{\"type\":\"object\",\"name\":\"Title\",\"id\":\"b82d651f-0c73-4fb2-9543-cc2c0a51b875\",\"attributes\":{\"text\":\"Voltage Bias \\u2194 PID Type\",\"text_color\":\"black\",\"text_font_size\":\"12pt\"}},\"outline_line_alpha\":0,\"renderers\":[{\"type\":\"object\",\"name\":\"GlyphRenderer\",\"id\":\"ff46cfe9-6dc7-4573-864b-a7286aa701bb\",\"attributes\":{\"data_source\":{\"type\":\"object\",\"name\":\"ColumnDataSource\",\"id\":\"373ebc7f-d701-43c6-a577-e0a22ce6c639\",\"attributes\":{\"selected\":{\"type\":\"object\",\"name\":\"Selection\",\"id\":\"66677b39-11b7-4fc8-b2d5-0237e5a6f3a4\",\"attributes\":{\"indices\":[],\"line_indices\":[]}},\"selection_policy\":{\"type\":\"object\",\"name\":\"UnionRenderers\",\"id\":\"864015ea-3f47-4987-ad65-67ac577413ee\"},\"data\":{\"type\":\"map\",\"entries\":[[\"index\",{\"type\":\"ndarray\",\"array\":{\"type\":\"bytes\",\"data\":\"AAAAAAEAAAACAAAAAwAAAAQAAAAFAAAABgAAAA==\"},\"shape\":[7],\"dtype\":\"int32\",\"order\":\"little\"}],[\"index_hover\",[\"0\",\"1\",\"2\",\"3\",\"4\",\"5\",\"6\"]],[\"label\",[\"positive (+)\",\"negative (-)\",\"both (+ and -)\",\"none\",\"PID-s\",\"PID-p\",\"PID-c\"]],[\"group\",[\"voltage bias\",\"voltage bias\",\"voltage bias\",\"voltage bias\",\"pid\",\"pid\",\"pid\"]],[\"arc_xs\",[{\"type\":\"ndarray\",\"array\":{\"type\":\"bytes\",\"data\":\"AAAAAAAA8D9g3uK54/zvPwW7V4KP8+8/qkKlKQXk7z+MSzK1R87vP3V7715bsu8/s/KElEWQ7z/cJET2DGjvP/oT3lW5Oe8/GC7etFMF7z/5GOpC5sruP/7Cxlt8iu4/4hsjhSJE7j8S4yhs5vftP+kE1OLWpe0/CQsR3QNO7T80L6NtfvDsPxKr0sJYjew/+enjIqYk7D+rTFjoerbrPw==\"},\"shape\":[20],\"dtype\":\"float64\",\"order\":\"little\"},{\"type\":\"ndarray\",\"array\":{\"type\":\"bytes\",\"data\":\"q0xY6Hq26z9G8d9RELnpP7EGk5fyZuc/qKYFBMbH5D8C/eOdLOThP+azpnVTi90/oafeWAXt1j8Tjg/dOQPQP7sM7xdpycE/ZZbAymiOmj+nwWYzemG2vzAyZFtujsm/2E4+bfzL07/BXp3ukY/av2cZ9/zYfeC/ZmBlaZt9479HKEAtMD3mv+CMXYyKs+i/ynBA6o7Y6r8KZJ58LaXsvw==\"},\"shape\":[20],\"dtype\":\"float64\",\"order\":\"little\"},{\"type\":\"ndarray\",\"array\":{\"type\":\"bytes\",\"data\":\"CmSefC2l7L8zL6NtfvDsv5N9xiKFOO2/qGvUazl97b9HNUd5k77tv2mGKt2L/O2/XLTzixs37r/Uxk7dO27uv5o54Izmoe6/pmD7uhXS7r8VWk3tw/7uv3Z6fA/sJ++/UiG8c4lN778f5VTTl2/vvygHIU8Tju+/PSH9b/io779kAC0nRMDvvwyhtM7z0++/qkKlKQXk77/3iV5kdvDvvw==\"},\"shape\":[20],\"dtype\":\"float64\",\"order\":\"little\"},{\"type\":\"ndarray\",\"array\":{\"type\":\"bytes\",\"data\":\"94leZHbw77862iD0DfLvvwW7V4KP8++/OpT5Dfv0778o9wuWUPbvvz+foxmQ9++/r3Lkl7n4778BgwEQzfnvv6ENPYHK+u+/Znzo6rH7778FZmRMg/zvv4OOIKU+/e+/leeb9OP977/6kGQ6c/7vv83YF3bs/u+/wjtip0//779mZf/NnP/vv0kwuunT/++/J6Zs+vT/778AAAAAAADwvw==\"},\"shape\":[20],\"dtype\":\"float64\",\"order\":\"little\"},{\"type\":\"ndarray\",\"array\":{\"type\":\"bytes\",\"data\":\"AAAAAAAA8L8aiynUyO7vv/mRodY1u++/6gpshX5l77+FP+Aa/+3uv7PKbCo4Ve6/E5g/Fs6b7b9Qv2ZeiMLsv2SKKMpQyuu/V515bDK06r9v5Z+EWIHpv4CBNzwNM+i/ZxT0Q7jK5r9EvZxQ3Unlvzcg43kasuO/rVnWfCYF4r9IQtHjzkTgv3jkvyvs5dy/CrFlnyIj2b/+wpsQTUXVvw==\"},\"shape\":[20],\"dtype\":\"float64\",\"order\":\"little\"},{\"type\":\"ndarray\",\"array\":{\"type\":\"bytes\",\"data\":\"/sKbEE1F1b8g4866rE/Sv/EZS6btnc6/xDc0V/mJyL9XZEVkKmfCvwuXgU5vcri/hPGt4HoPqL+wwkYtK49aP23K0fXst6k/PQl4k+dFuT+JkukiRtDCP12gDhI18sg/vRgDRQoFzz+EHdNGjILSP6uHyw1fd9U/Y8CFVzNf2D9htrjhRjjbPyj1RFjgAN4/xjQtMKhb4D8QSMpO+azhPw==\"},\"shape\":[20],\"dtype\":\"float64\",\"order\":\"little\"},{\"type\":\"ndarray\",\"array\":{\"type\":\"bytes\",\"data\":\"EEjKTvms4T9hfL9X9wjjP3RGe1TZV+Q/lsUdoriY5T9nFPRDuMrmP9pRqnsF7ec/VZ5vWtj+6D8rF6hKdP/pP/r7zZEo7uo/ZYooylDK6z9hvQRUVZPsP831Ib6rSO0/OqEKJdfp7T/UNBeJaHbuP4Q/4Br/7e4/RO3qfUhQ7z+NEGIBAZ3vPwyhtM7z0+8/OpT5Dfv07z8AAAAAAADwPw==\"},\"shape\":[20],\"dtype\":\"float64\",\"order\":\"little\"}]],[\"arc_ys\",[{\"type\":\"ndarray\",\"array\":{\"type\":\"bytes\",\"data\":\"AAAAAAAAAABbD1adNDecP9jSRoJ2NKw/9PUghOsjtT8q8XWvfym8PxffaCfNlME/xFgtf28RxT+0NzRX+YnIP7sTfvO9/cs/Pch0hRFszz9e5aimJGrRP/btp93dGtM/qM9QSODH1D94WBOA2HDWP6NubOdzFdg/6Jb1uWC12T+/RUocTlDbP3fkvyvs5dw/7XvtDex13j/////////fPw==\"},\"shape\":[20],\"dtype\":\"float64\",\"order\":\"little\"},{\"type\":\"ndarray\",\"array\":{\"type\":\"bytes\",\"data\":\"////////3z9ffL9X9wjjP1VHcBlB0+U/59pvR61V6D/ESjWH+IfqP8QFtFbnYuw/lbr13F3g7T+koYAHdPvuP25aTrKFsO8/g44gpT797z/Uu7g+ouDvP4m2srQOW+8/1cZO3Ttu7j/v1iiHNR3tP4mRfXFRbOs/b2YEBiFh6T8dwF4DXwLnP3ZGe1TZV+Q/9tLjXVdq4T/Pgygr+obcPw==\"},\"shape\":[20],\"dtype\":\"float64\",\"order\":\"little\"},{\"type\":\"ndarray\",\"array\":{\"type\":\"bytes\",\"data\":\"z4MoK/qG3D/DRUocTlDbP7aLBSKHFto/+ktR6MjZ2D+LIXVxN5rXP1dR8RH3V9Y/pHZdbCwT1T/bTj5t/MvTP4kd00aMgtI/WSPbbAE30T9ARacgA9PPPy/bXTZlNM0/5vUJWHWSyj+E/HsjgO3HP3IEb47SRcU/RwfJ3bmbwj/EMaQ5B9+/PyI5xyj7gro/7vUghOsjtT/aZB096YSvPw==\"},\"shape\":[20],\"dtype\":\"float64\",\"order\":\"little\"},{\"type\":\"ndarray\",\"array\":{\"type\":\"bytes\",\"data\":\"2mQdPemErz+tGMYoutytP+zSRoJ2NKw/7u3hbR+Mqj8fJ+cPtuOoP+DUsow7O6c/YRytCLGSpT+6KUmoF+qjP69lBJBwQaI/dqtl5LyYoD9rAfmT+9+dP/aVwMpojpo/Ww1ftsM8lz/y+B2gDuuTP3PyUdFLmZA/dw6yJvuOij8qRzJfTOuDP8oJ+r0fj3o/QcXQ4yiPaj8HXBQzJqahPA==\"},\"shape\":[20],\"dtype\":\"float64\",\"order\":\"little\"},{\"type\":\"ndarray\",\"array\":{\"type\":\"bytes\",\"data\":\"B1wUMyamoTzvQ4xNgZawv0xrc7+UjcC/ipkLVhm+yL8dXjtQ/2nQv8os1bxIY9S/fTcAX6JG2L/y9FQ/3Q/cv5caK4Hmut+/qAdY4uWh4b9oWgSzX1Pjv6RndkoO8OS/+mwqoDV25r9iLQHpMeTnv8tK71p5OOm/m8+x1J1x6r9dA8BnTo7rvxKr0sJYjey/kqN6e6pt7b9YNWQ1Ui7uvw==\"},\"shape\":[20],\"dtype\":\"float64\",\"order\":\"little\"},{\"type\":\"ndarray\",\"array\":{\"type\":\"bytes\",\"data\":\"WDVkNVIu7r+FTmRwiqnuvwi7HiQzEu+/2yRE9gxo77+gaRfv46rvv8Oy4piP2u+/Lj91GPP2778rC5s+/f/vv8LDg5Ko9e+/grkSVfvX77+M0RV9B6fvv1u/ZazqYu+/dxz2Hc4L77+bOeCM5qHuv+LEdxR0Je6/UZd8CcKW7b8gJ4HMJvbsvxg5oZUDROy/bXeoOcSA67+9jczo3qzqvw==\"},\"shape\":[20],\"dtype\":\"float64\",\"order\":\"little\"},{\"type\":\"ndarray\",\"array\":{\"type\":\"bytes\",\"data\":\"vY3M6N6s6r9E8d9RELnpv+KMXYyKs+i/0YsStQGd57/5bCqgNXbmvzvaEVXxP+W/qMyiggr747/USvrrYKjivyYbXc7dSOG/lhorgea637/P9nEYN87cv9atjwKxzdm/OfE9iWW71r+l+GgzcpnTvyReO1D/adC/q/V59Xxeyr/odhUu0tbDvys5xyj7grq/QO7hbR+Mqr8HXBQzJqaxvA==\"},\"shape\":[20],\"dtype\":\"float64\",\"order\":\"little\"}]],[\"node_color\",{\"type\":\"ndarray\",\"array\":{\"type\":\"bytes\",\"data\":\"AAAAAAEAAAACAAAAAwAAAAQAAAAFAAAABgAAAA==\"},\"shape\":[7],\"dtype\":\"int32\",\"order\":\"little\"}]]}}},\"view\":{\"type\":\"object\",\"name\":\"CDSView\",\"id\":\"0d59685d-59dc-4ba9-96df-c98ea1bb97e6\",\"attributes\":{\"filter\":{\"type\":\"object\",\"name\":\"AllIndices\",\"id\":\"123a7204-cdf9-4758-9d89-14fac7a7235c\"}}},\"glyph\":{\"type\":\"object\",\"name\":\"MultiLine\",\"id\":\"ec3b19ed-e6d3-4a18-9f2c-c067559d2e3f\",\"attributes\":{\"xs\":{\"type\":\"field\",\"field\":\"arc_xs\"},\"ys\":{\"type\":\"field\",\"field\":\"arc_ys\"},\"line_color\":{\"type\":\"field\",\"field\":\"node_color\",\"transform\":{\"type\":\"object\",\"name\":\"LinearColorMapper\",\"id\":\"68f7ab32-dd3f-471c-bf65-86fbfce981fe\",\"attributes\":{\"palette\":[\"#3333D8\",\"#C021EC\",\"#DB1C5F\",\"#FFB43B\",\"#16820E\",\"#16CCBD\",\"#2895E9\"],\"low\":0.0,\"high\":6.0}}},\"line_width\":{\"type\":\"value\",\"value\":10}}},\"selection_glyph\":{\"type\":\"object\",\"name\":\"MultiLine\",\"id\":\"769e9114-e1e8-4240-a0f1-a26cc9903ffb\",\"attributes\":{\"xs\":{\"type\":\"field\",\"field\":\"arc_xs\"},\"ys\":{\"type\":\"field\",\"field\":\"arc_ys\"},\"line_color\":{\"type\":\"field\",\"field\":\"node_color\",\"transform\":{\"id\":\"68f7ab32-dd3f-471c-bf65-86fbfce981fe\"}},\"line_width\":{\"type\":\"value\",\"value\":10}}},\"nonselection_glyph\":{\"type\":\"object\",\"name\":\"MultiLine\",\"id\":\"4e8d44a6-40e0-4bb4-a037-e07b1c8431d7\",\"attributes\":{\"xs\":{\"type\":\"field\",\"field\":\"arc_xs\"},\"ys\":{\"type\":\"field\",\"field\":\"arc_ys\"},\"line_color\":{\"type\":\"field\",\"field\":\"node_color\",\"transform\":{\"id\":\"68f7ab32-dd3f-471c-bf65-86fbfce981fe\"}},\"line_alpha\":{\"type\":\"value\",\"value\":0.2},\"line_width\":{\"type\":\"value\",\"value\":10}}},\"hover_glyph\":{\"type\":\"object\",\"name\":\"MultiLine\",\"id\":\"6d720df4-669f-4310-8463-ba7f48ff765a\",\"attributes\":{\"xs\":{\"type\":\"field\",\"field\":\"arc_xs\"},\"ys\":{\"type\":\"field\",\"field\":\"arc_ys\"},\"line_color\":{\"type\":\"value\",\"value\":\"limegreen\"},\"line_width\":{\"type\":\"value\",\"value\":10}}},\"muted_glyph\":{\"type\":\"object\",\"name\":\"MultiLine\",\"id\":\"cbe4887a-e27c-4a2f-b7ab-3de36fcd213c\",\"attributes\":{\"xs\":{\"type\":\"field\",\"field\":\"arc_xs\"},\"ys\":{\"type\":\"field\",\"field\":\"arc_ys\"},\"line_color\":{\"type\":\"field\",\"field\":\"node_color\",\"transform\":{\"id\":\"68f7ab32-dd3f-471c-bf65-86fbfce981fe\"}},\"line_alpha\":{\"type\":\"value\",\"value\":0.2},\"line_width\":{\"type\":\"value\",\"value\":10}}}}},{\"type\":\"object\",\"name\":\"GraphRenderer\",\"id\":\"570a0af9-a355-4ea4-85d1-ebd515c875e3\",\"attributes\":{\"layout_provider\":{\"type\":\"object\",\"name\":\"StaticLayoutProvider\",\"id\":\"74167a25-6c2c-4d86-bee3-c7b8848f64a2\",\"attributes\":{\"graph_layout\":{\"type\":\"map\",\"entries\":[[0,[0.9659258262890683,0.25881904510252074]],[1,[-0.030795058556170204,0.9995257197133659]],[2,[-0.9659258262890683,0.2588190451025206]],[3,[-0.9995257197133659,0.030795058556170388]],[4,[-0.8161969123562218,-0.577773831408251]],[5,[0.12288829066471359,-0.9924205096719358]],[6,[0.8810121942857843,-0.4730935568360106]]]}}},\"node_renderer\":{\"type\":\"object\",\"name\":\"GlyphRenderer\",\"id\":\"2faec7d2-dd1e-4af2-8951-6f6bffb67fad\",\"attributes\":{\"data_source\":{\"id\":\"373ebc7f-d701-43c6-a577-e0a22ce6c639\"},\"view\":{\"id\":\"0d59685d-59dc-4ba9-96df-c98ea1bb97e6\"},\"glyph\":{\"type\":\"object\",\"name\":\"Scatter\",\"id\":\"9a56330f-c275-495b-92ea-d431c10e99d1\",\"attributes\":{\"size\":{\"type\":\"value\",\"value\":10},\"fill_color\":{\"type\":\"field\",\"field\":\"node_color\",\"transform\":{\"id\":\"68f7ab32-dd3f-471c-bf65-86fbfce981fe\"}},\"hatch_color\":{\"type\":\"field\",\"field\":\"node_color\",\"transform\":{\"id\":\"68f7ab32-dd3f-471c-bf65-86fbfce981fe\"}}}},\"selection_glyph\":{\"type\":\"object\",\"name\":\"Scatter\",\"id\":\"ef9fd930-0206-4b2b-981f-7516d78d807c\",\"attributes\":{\"size\":{\"type\":\"value\",\"value\":10},\"fill_color\":{\"type\":\"field\",\"field\":\"node_color\",\"transform\":{\"id\":\"68f7ab32-dd3f-471c-bf65-86fbfce981fe\"}},\"hatch_color\":{\"type\":\"field\",\"field\":\"node_color\",\"transform\":{\"id\":\"68f7ab32-dd3f-471c-bf65-86fbfce981fe\"}}}},\"nonselection_glyph\":{\"type\":\"object\",\"name\":\"Scatter\",\"id\":\"2bbb4968-43d9-43b5-bb39-ae69b047da2d\",\"attributes\":{\"size\":{\"type\":\"value\",\"value\":10},\"line_alpha\":{\"type\":\"value\",\"value\":0.2},\"fill_color\":{\"type\":\"field\",\"field\":\"node_color\",\"transform\":{\"id\":\"68f7ab32-dd3f-471c-bf65-86fbfce981fe\"}},\"fill_alpha\":{\"type\":\"value\",\"value\":0.2},\"hatch_color\":{\"type\":\"field\",\"field\":\"node_color\",\"transform\":{\"id\":\"68f7ab32-dd3f-471c-bf65-86fbfce981fe\"}},\"hatch_alpha\":{\"type\":\"value\",\"value\":0.2}}},\"hover_glyph\":{\"type\":\"object\",\"name\":\"Scatter\",\"id\":\"de26e947-c8ba-4e0c-ab07-dd8b7a6f0828\",\"attributes\":{\"size\":{\"type\":\"value\",\"value\":10},\"fill_color\":{\"type\":\"value\",\"value\":\"limegreen\"},\"hatch_color\":{\"type\":\"field\",\"field\":\"node_color\",\"transform\":{\"id\":\"68f7ab32-dd3f-471c-bf65-86fbfce981fe\"}}}},\"muted_glyph\":{\"type\":\"object\",\"name\":\"Scatter\",\"id\":\"767a323b-a73c-4e3b-98bc-19c1c5dd857e\",\"attributes\":{\"size\":{\"type\":\"value\",\"value\":10},\"line_alpha\":{\"type\":\"value\",\"value\":0.2},\"fill_color\":{\"type\":\"field\",\"field\":\"node_color\",\"transform\":{\"id\":\"68f7ab32-dd3f-471c-bf65-86fbfce981fe\"}},\"fill_alpha\":{\"type\":\"value\",\"value\":0.2},\"hatch_color\":{\"type\":\"field\",\"field\":\"node_color\",\"transform\":{\"id\":\"68f7ab32-dd3f-471c-bf65-86fbfce981fe\"}},\"hatch_alpha\":{\"type\":\"value\",\"value\":0.2}}}}},\"edge_renderer\":{\"type\":\"object\",\"name\":\"GlyphRenderer\",\"id\":\"8121fd37-685f-43c8-9e1e-9a65d7ab2a3f\",\"attributes\":{\"data_source\":{\"type\":\"object\",\"name\":\"ColumnDataSource\",\"id\":\"a0761c04-7aa4-4f61-97ac-36a905f807f0\",\"attributes\":{\"selected\":{\"type\":\"object\",\"name\":\"Selection\",\"id\":\"a1e95436-1c52-4010-a369-4ad52bd820ff\",\"attributes\":{\"indices\":[],\"line_indices\":[]}},\"selection_policy\":{\"type\":\"object\",\"name\":\"UnionRenderers\",\"id\":\"89a9d004-6a48-43dd-b0c5-46a10c2cb0f2\"},\"data\":{\"type\":\"map\",\"entries\":[[\"start\",{\"type\":\"ndarray\",\"array\":{\"type\":\"bytes\",\"data\":\"AAAAAAAAAAAAAAAAAQAAAAEAAAABAAAAAgAAAAIAAAACAAAAAwAAAAMAAAADAAAA\"},\"shape\":[12],\"dtype\":\"int32\",\"order\":\"little\"}],[\"end\",{\"type\":\"ndarray\",\"array\":{\"type\":\"bytes\",\"data\":\"BAAAAAUAAAAGAAAABAAAAAUAAAAGAAAABAAAAAUAAAAGAAAABAAAAAUAAAAGAAAA\"},\"shape\":[12],\"dtype\":\"int32\",\"order\":\"little\"}],[\"xs\",[{\"type\":\"ndarray\",\"array\":{\"type\":\"bytes\",\"data\":\"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\"},\"shape\":[203],\"dtype\":\"float64\",\"order\":\"little\"},{\"type\":\"ndarray\",\"array\":{\"type\":\"bytes\",\"data\":\"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\"},\"shape\":[407],\"dtype\":\"float64\",\"order\":\"little\"},{\"type\":\"ndarray\",\"array\":{\"type\":\"bytes\",\"data\":\"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\"},\"shape\":[254],\"dtype\":\"float64\",\"order\":\"little\"},{\"type\":\"ndarray\",\"array\":{\"type\":\"bytes\",\"data\":\"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\"},\"shape\":[1529],\"dtype\":\"float64\",\"order\":\"little\"},{\"type\":\"ndarray\",\"array\":{\"type\":\"bytes\",\"data\":\"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\"},\"shape\":[815],\"dtype\":\"float64\",\"order\":\"little\"},{\"type\":\"ndarray\",\"array\":{\"type\":\"bytes\",\"data\":\"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\"},\"shape\":[1223],\"dtype\":\"float64\",\"order\":\"little\"},{\"type\":\"ndarray\",\"array\":{\"type\":\"bytes\",\"data\":\"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\"},\"shape\":[254],\"dtype\":\"float64\",\"order\":\"little\"},{\"type\":\"ndarray\",\"array\":{\"type\":\"bytes\",\"data\":\"D6c1NDEr77+3vhRi3zfuvzzL1ueLRu2/Y2DNT2FX7L/pEUokimrrv5Jznu8wgOq/IBkcPICY6b9WlhSUorPov/J+2YHC0ee/uGa8jwrz5r9q4Q5IpRfmv8uCIjW9P+W/mt5I4Xxr5L+eiNPWDpvjv5QUFKCdzuK/PhZcx1MG4r9eIf3WW0Lhv7jJSFngguC/FUYhsReQ3782gky+ESTev1Jvtu4Dwty/7TQCV0Nq27+O+tILJR3av7XnyyH+2ti/5yOQrSOk17+m1sLD6njWv3knB3moWdW/4D0A4rFG1L9iQVETXEDTv35ZnSH8RtK/vq2HIeda0b+fZbMncnzQv1BRh5HkV8+/uTy3MnnTzb+B3DxcTGzMv7B/XjcII8u/SHVi7Vb4yb9WDI+n4uzIv9yTKo9VAci/6Fp7zVk2x797sMeLmYzGv57jVfO+BMa/WkNsLXSfxb+0HlFjY13Fv7bESr42P8W/ZoSfZ5hFxb/KrJWIMnHFv+qMc0qvwsW/zXN/1rg6xr98sP9V+dnGvwAAAAAAAPh/Fb9IR93o7r9AJFnZu/ftv4ciM47oCO2/G9Rx1Ysc7L8gU7AezjLrv8e5idnXS+q/NiKZddFn6b+gpnli44bovylhxg82qee/AGwa7fHO5r9O4RBqP/jlv0DbRPZGJeW/AnRRATFW5L/CxdH6JYvjv6XqYFJOxOK/3PyZd9IB4r+OFhja2kPhv+lRdumPiuC/LpKfKjSs37+KLH+aQ03evzqnwQGf+Ny/mDadP5eu27/6DkgzfW/av7Nk+LuhO9m/HWzkuFUT2L+OWUIJ6vbWv19hSIyv5tW/47csIffi1L9ykSWnEezTv2Miaf1PAtO/EJ8tAwMm0r/LO6mXe1fRv+wsEpoKl9C/lE090wHKz798uwnLXoPOvzoM9tnNWs2/eqhuvvBQzL/s+N82aWbLvzxmtgHZm8q/Glle3eHxyb8xOkSIJWnJvy9y1MBFAsm/wml7ReS9yL+YiaXUopzIv146vywjn8i/w+Q0DAfGyL9z8XIx8BHJvxzJ5VqAg8m/a9T5Rlkbyr8PfBu0HNrKvwAAAAAAAPh/3rNzTLqd7r/4UJQBDq/tv7TSvQn/wuy/l6UGrrPZ678iNoU3UvPqv9fwT+8AEOq/OkJ9HuYv6b/TliMOKFPovx5bWQfteee/n/s0U1uk5r/c5Mw6mdLlv1eDNwfNBOW/lEOLAR075L8Xkt5yr3Xjv2DbR6SqtOK/84vd3jT44b9TELZrdEDhvwPV55OPjeC/D40SQVm/37/GomG1423evy3E6RYLJ92/UcrX9xvr2782jljqYrrav+HomIAsldm/V7PFTMV72L+gxgvheW7Xv8H7l8+Wbda/wiuXqmh51b+oLzYEPJLUv3jgoW5duNO/OxcHfBns0r/0rJK+vC3Sv6t6cciTfdG/ZlnQK+vb0L8rItx6D0nQvwRcg4+ais+/2qtbSeKhzr/s5ZpHj9jNv0S8mq46L82/7OC0on2mzL/0BUNI8T7Mv2XdnsMu+cu/ThkiOc/Vy7+6aybNa9XLv7SGBaSd+Mu/TRwZ4v0/zL+N3rqrJazMv4J/RCWuPc2/OLEPczD1zb+8JXa5RdPOvwAAAAAAAPh/APBord1J7r854zCS6l3tv/nECEvjdOy/G1dG7+uO679tWz+WKKzqv8iTSVe9zOm/BMK6Sc7w6L/5p+iEfxjov3YHKSD1Q+e/V6LRMlNz5r9uOjjUvablv5aRshtZ3uS/ommWIEka5L9phDn6sVrjv8Cj8b+3n+K/f4kUiX7p4b959/dsKjjhv4ev8YLfi+C/+OauxIPJ379jCv5E64Xev/dMfLU9Td2/YjLVRMMf3L9SPrQhxP3av2/0xHqI59m/Ztiyfljd2L/lbSlcfN/Xv5g41EE87ta/KrxeXuAJ1r9IfHTgsDLVv5z8wPb1aNS/1sDvz/es07+fTKya/v7Sv6QjooVSX9K/ksl8vzvO0b8Uwud2AkzRv9iQjtru2NC/ibkcGUl10L/Tvz1hWSHQv8FOOsPPus+/wufMkXlTz7//UYqLQA3Pv86UyQ216M6/ibfhdWfmzr+IwSkh6AbPvyS6+GzHSs+/tqiltpWyz79LysOtcR/Qv4zCelwgeNC/zkAjFp/j0L+6yGgJNmLRvwAAAAAAAPh/iUBpUF/t7b8DMcGraATtv8fVlJirHuy/K8nS8Uk8679/pWmSZV3qvxoFSFUggum/UYJcFZyq6L99t5Wt+tbnv+s+4vhdB+e/9LIw0uc75r/rrW8UunTlvybKjZr2seS/+6F5P7/z47++zyHeNTrjv8LtdFF8heK/XpZhdLTV4b/jY9YhACvhv6jwwTSBheC/Ba4lELPK37+PYm/tVZXev5MzPrcua92/v1VvI4FM3L+8/d/nkDnbvzBgbbqhMtq/x7H0UPc32b8pJ1Nh1UnYvwL1ZaF/aNe/+U8KxzmU1r+4bB2IR83Vv+l/fJrsE9W/Nr4EtGxo1L9GXJOKC8vTv8SOBdQMPNO/Woo4RrS70r+ygwmXRUrSv3SvVXwE6NG/SkL6qzSV0b/ccNTbGVLRv9ZvwcH3HtG/4HOeExL80L+ksUiHrOnQv8pdndIK6NC//qx5q3D30L/n07rHIRjRvzAHPt1hStG/gnvgoXSO0b+GZX/LneTRv+f59w8hTdK/S20nJULI0r9g9OrARFbTvwAAAAAAAPh/dzd0kVmI7b+cvWfRoaLsv8God4hwwOu/YJAdS+Xh6r/tC9OtHwfqv+GyEUU/MOm/tRxTpWNd6L/k4BBjrI7nv9+WxBI5xOa/IdbnSCn+5b8lNvSZnDzlv2BOY5qyf+S/S7au3orH479fBVD7RBTjvxPTwIQAZuK/4LZ6D9284b87SPcv+hjhv54esHp3euC/AaM9COnC37+58HnBIZzev09VCErYgN2/uP/byktx3L/iHuhsu23bv7vhH1lmdtq/Nnd2uIuL2b9BDt+zaq3Yv83VTHRC3Ne/yPyyIlIY178msgTo2GHWv9QkNe0VudW/xIM3W0ge1b/k/f5ar5HUvyXCfhWKE9S/eP+psxek07/L5HNel0PTvxKhzz5I8tK/OGOwfWmw0r8wWglEOn7Sv+q0zbr5W9K/VqLwCudJ0r9iUWVdQUjSvwLxHttHV9K/IrAQrTl30r+0vS38VajSv6hIafHb6tK/73+2tQo/0793kghyIaXTvzGvUk9fHdS/DwWIdgOo1L/+wpsQTUXVvw==\"},\"shape\":[305],\"dtype\":\"float64\",\"order\":\"little\"},{\"type\":\"ndarray\",\"array\":{\"type\":\"bytes\",\"data\":\"KBbFOuka7b+B0ZtGyDPsvy1l+AHJRuu/PZMfYDxU6r+1HVZUc1zpv6jG4NG+X+i/HVAEzG9e578kfAU211jmv8YMKQNGT+W/DcSzJg1C5L8JZOqTfTHjv8WuET7oHeK/TGZuGJ4H4b9WmYos4N3fv9xHtlVeqN2/P1zpklhv27+XWq3KcDPZv/3Gi+NI9da/iSUOxIK11L9S+r1SwHTSv3HJJHajM9C/+y2YKZzly78jznoqxGXHv397BLwC6cK/iXyQVjfhvL9HPbKKpfuzv0iTKF2vR6a/GI/l4qrigr8g5jlHZ2GZP5BQjoNc760/6klnWSB/tz8wzoh+KOy/P1DSgosfHsQ/dN5bRG42yD9Qg7ycvD3MP1jcyGNjGdA/OTvkeyQK0j8w2iawf/DTPyI1BxrTy9U/+sf70nyb1z+gDnv02l7ZP/6E+5dLFds/+qbz1iy+3D968NnK3FjeP2ndJI255N8/2HSlm5Cw4D+bSGHxuGbhP/IngdSEFOI/0FDAUaO54j8qAdp1w1XjPwAAAAAAAPh/CmSefC2l7L9zSFdoyMHrvy9b5AvG2Oq/HFXaNnXq6b8R7824JPfov+zhU2Ej/+e/h+YAAMAC57/CtWlkSQLmv3QII14O/uS/e5fBvF3247+yG9pPhuviv/FNAefW3eG/GufLUZ7N4L8RQJ2/VnbfvyNjPMGZTd2/LqmeR6Mh27/fg+3xEPPYv/VkUl+Awta/Ir72Lo+Q1L8iAQQA213Sv6ufo3EBK9C/5Bb+RUDxy79jbH9mqY7HvzgjHoN5L8O/rz1atNepvb9mhf5TdwC1v9rIncOQyqi/uAyJ0wrWjr/g8NMVnXKSP0BcewL2/Kk/Pi1DXENItT/Mst/ZiXe9P+27tv7rxMI/yVojpVu+xj+I0uKh2KbKP7s/orYnfc4/fV+H0gYg0T9qtmqXJ/fSP+2y0YpYw9Q/TOOSDfyD1j/V1YSAdDjYP84YfkQk4Nk/gDpVum162z8yyeBCswbdPy5T9z5XhN4/vmZvD7zy3z8WyY8KoqjgP98xb9ioT+E/3jTBoSPu4T84GfGWw4PiPw==\"},\"shape\":[101],\"dtype\":\"float64\",\"order\":\"little\"},{\"type\":\"ndarray\",\"array\":{\"type\":\"bytes\",\"data\":\"AAAAAAAA8L+IOrukVwrvv6FSmaLrHu6/S0ia+bs97b+DG76pyGbsv0vMBLMRmuu/oFpuFZfX6r+JxvrQWB/qvwAQquVWcem/BDd8U5HN6L+ZO3EaCDTov78diTq7pOe/c93Ds6of57+5eiGG1qTmv431obE+NOa/8k1FNuPN5b/lgwsUxHHlv2eX9ErhH+W/eogA2zrY5L8dVy/E0Jrkv00DgQajZ+S/D431obE+5L9h9IyW/B/kv0E5R+SDC+S/slski0cB5L+yWySLRwHkv0E5R+SDC+S/YfSMlvwf5L8QjfWhsT7kv04DgQajZ+S/HFcvxNCa5L96iADbOtjkv2eX9ErhH+W/5IMLFMRx5b/xTUU2483lv431obE+NOa/uHohhtak5r903cOzqh/nv78diTq7pOe/mjtxGgg06L8EN3xTkc3ov/4PquVWcem/iMb60Fgf6r+gWm4Vl9fqv0jMBLMRmuu/gRu+qchm7L9KSJr5uz3tv6FSmaLrHu6/iTq7pFcK778AAAAAAADwvw==\"},\"shape\":[50],\"dtype\":\"float64\",\"order\":\"little\"},{\"type\":\"ndarray\",\"array\":{\"type\":\"bytes\",\"data\":\"\"},\"shape\":[0],\"dtype\":\"float64\",\"order\":\"little\"},{\"type\":\"ndarray\",\"array\":{\"type\":\"bytes\",\"data\":\"94leZHbw77/wGee/Y/Puv7l62aH88O2/pOcX9JPp7L/5m4SgfN3rvwrTAZEJzeq/KMhxr4246b+jtrblW6Dov8XZsh3HhOe/4WxIQSJm5r9Gq1k6wETlv0HQyPLzIOS/JBd4VBD74r8+u0lJaNPhv9v3H7tOquC/nhC6Jy0A37/FT8Z6Jarcv9EjKUMsU9q/YwOnVOf7178SZQSD/KTVv4S/BaIRT9O/UYlvhcz60L87cgwCplHNvwSLHNGVs8i/OEqYH7QcxL84OhEqmRy/v+Hh7LFVE7a/jMuqS2pAqr/QgXJTOxeRv4hOrscX5ZE/6LfivuM0qj8n3qKkHZu1P6s/bvKx+L0/CdPgvEsYwz9um8V1GyDHP8KLXHx8Ess/1rYcKSPuzj+0lz7q4VjRPxyEemsJLtM/Bap9ROL11D/UkoOhxq/WP+nHx64QW9g/pNKFmBr32T9oPPmKPoPbP5WOXbLW/tw/kVLuOj1p3j+7EedQzMHfP7qqQRDvg+A/kVP/amYd4T8QSMpO+azhPw==\"},\"shape\":[50],\"dtype\":\"float64\",\"order\":\"little\"}]],[\"ys\",[{\"type\":\"ndarray\",\"array\":{\"type\":\"bytes\",\"data\":\"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\"},\"shape\":[203],\"dtype\":\"float64\",\"order\":\"little\"},{\"type\":\"ndarray\",\"array\":{\"type\":\"bytes\",\"data\":\"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\"},\"shape\":[407],\"dtype\":\"float64\",\"order\":\"little\"},{\"type\":\"ndarray\",\"array\":{\"type\":\"bytes\",\"data\":\"0KJtDxW1wD97f8taKzLAP5iFiCO7Xr8/1qblP49Zvj/4L+ThClW9P07uueBlUbw/Iq+cE9hOuz/FP8JRmU26P35tYHLhTbk/nQWtTOhPuD9u1d235VO3Pz+qKIsRWrY/W1HDnaNitT8SmOPG0220P6xLv93Ze7M/eDmMue2Msj/DLoAxR6GxP9n40BweubA/DMpopVSprz8zgcBUR+itP7uxFPaDL6w/PfbQN3p/qj9b6WDImdioP6QlMFZSO6c/tkWqjxOopT8o5DojTR+kP5qbTb9uoaI/nQZOEuguoT+ef0+VUZCfP5DDjC1B25w/SA4rSn4/mj/vlAFI6L2XP8CM54NeV5U/6iq0WsAMkz+jpD4p7d6QP0BevJiInY0/F//TQUq6iT85lnIH3hWGPwyORqMCsoI/96H8ne0gfz/GkpCI8mV5P1nDpXmRNnQ/9xAyyY8sbz/zbY55JhFnP0ZHGuvhIWA/5IweCXrLVD9gVJyyyo5HP3nm2lDuFTU/vuW4dCg7FT8HXBQzJqaxvAAAAAAAAPh/LLQpvKYXuT/CLAZbvlG4P54UDyRzibc/BleFn/y+tj8636lVkvK1P4iYvc5rJLU/MW4Bk8BUtD+BS7YqyIOzP7cbHR66sbI/Hcp29c3esT/4QQQ5OwuxP5FuBnE5N7A/VXZ8SwDGrj8gJtm+jR2tPwXDpEyKdas/lSNhBWXOqT9ZHpD5jCioP+GJszlxhKY/ujxN1oDipD9sDd/fKkOjP4fS6mbepqE/mWLyewoOoD9YKO9ePPKcP5Z7+CMR0Zk/CmwEaHG5lj/KphZMO6yTP/TYMvFMqpA/NF+58Ahpiz+wry8FgJeFPxn7n8N2w38/CkZDke6SdD/g6K/uv0FjP2BTNGHI8zC/HGXfxdzzZr8uny4bvZt1v6dWwSowcX+/WJLMhmd7hL9uqtOfkBSJv2KZbh5Xgo2/fgJLYH/hkL+LSSGiZeqSv7x0tjMA25S/+tYG9HCylr8oww7C2W+Yvy6MynxcEpq/+YQ2AxuZm79rAE80NwOdv2pREO/ST56/4cp2EhB+n7/aX78+iEagvwAAAAAAAPh/i3oZbUK+sD9/sa9PeziwP/j5opluW68/nqmOHVs8rj+NYbN/KhStP2QRohRL46s/wKjrMCuqqj9GFyEpOWmpP4tM01HjIKg/MDiT/5fRpj/VyfGGxXulPxbxfzzaH6Q/kp3OdES+oj/rvm6EclehP2+J4n+l158/Oj3O96b3nD9jeMIZxg+aPzIa4Y7fIJc/4AFMANArlD+pDiUXdDGRP5Y/HPlQZYw/AClSs5Nghj8QmC+vaVaAP2KW8H0YkXQ/igPA09LiYD8ghljKOXZNv3xIEo4NmG+/1LvSmuLie79DLRAI9PeDv7BBNUHS94m/tNyUplLvj7/0n/XyXe6Sv2JWelYq35W/bLK21DHJmL/S1IjEl6ubv1feznx/hZ6/43czKgaroL/vlBfRMA6iv7LWgl7Ra6O/i03kfXnDpL/gCavauhSmvxMcRiAnX6e/hJQk+k+iqL+Tg7UTx92pv6T5ZxgeEau/Gwers+Y7rL9XvO2Qsl2tv7wpn1sTdq6/ql8uv5qEr79CN4UzbUSwvwAAAAAAAPh/7WpZPY7AoD8xsgfOizWgP1DM8xC8Np8/P+DOz+TknT/Hcg/PbHacP4NWJAUv7Jo/DF58aAZHmT//W4bvzYeXP/MisZBgr5U/hYVrQpm+kz9NViT7UraRP8vPlGLRLo8/0hmZtmrFij/tLzPfJzKGP0G3QMm+doE/HKo+w8opeT/7ubJURjluP1RGM4bKJVM/mLau9WsxV79f1tTYWaFwvxte8xYesnu/Pv0F7519g7+HsDGqozyJv78jH1BqFI+/1lj4+Z2Bkr+KWmRUsYOVv2LE5ECUj5i/x8MKyWukm78fhmf2XMGev2YcRmnG8qC/mQSFMxCIor9hErleHiCkv2rcqm+DuqW/bfki69FWp78YAOpVnPSovx+HyDR1k6q/NiWHDO8yrL8Rce5hnNKtv2EBx7kPcq+/bLZszG2IsL8WJfdBSVexvwcY539jJbK/mNqgyIXysr8juIheeb6zvwH8AoQHibS/jfFze/lRtb8e5D+HGBm2vxAfy+kt3ra/uu155QKht794m7C8YGG4vwAAAAAAAPh/AAAAAAAAAADkY/7qTaEUv3Thc4whfTS/5oqm0xPkRr+V3F7PyDRUv9jMS3D0WV+/rBKTFP5pZr+T+jyrp0puv9bSNFUXpHO/v40vYOWteL/NsbHNWT9+v2MhbzqIKoK/OCJsltJ1hb9EXWHm2f+Iv3JU4BXsxoy/zUQ9iKtkkL9Uv+BgtIKSv79ao4q3vJS/+9dN+9sRl78A+KioSIGZv7d7fYgkCpy/GiSUkJarnr8K2VrbYrKgv01zVXhsGqK/UEEemnuNo7+Io5m7Iwulv276q1f4kqa/fqY56YwkqL8wCCfrdL+pv/p/WNhDY6u/VG6yK40Prb+9Mxlg5MOuv1SYOHjuP7C/yGLPK4Uhsb92KUMIgAayv5ocBsuo7rK/c2yKMcnZs787SUL5qse0vy/jn98XuLW/imoVotmqtr+LDxX+uZ+3v2wCEbGClri/bHN7eP2Oub/EksYR9Ii6v7CQZDowhLu/cp3Hr3uAvL9B6WEvoH29v1ukpXZne76//f4EQ5t5v7+xFPmoAjzAvw==\"},\"shape\":[254],\"dtype\":\"float64\",\"order\":\"little\"},{\"type\":\"ndarray\",\"array\":{\"type\":\"bytes\",\"data\":\"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\"},\"shape\":[1529],\"dtype\":\"float64\",\"order\":\"little\"},{\"type\":\"ndarray\",\"array\":{\"type\":\"bytes\",\"data\":\"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\"},\"shape\":[815],\"dtype\":\"float64\",\"order\":\"little\"},{\"type\":\"ndarray\",\"array\":{\"type\":\"bytes\",\"data\":\"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\"},\"shape\":[1223],\"dtype\":\"float64\",\"order\":\"little\"},{\"type\":\"ndarray\",\"array\":{\"type\":\"bytes\",\"data\":\"2mQdPemErz8EjsY+JYGuP4Vb3O5ZZK0/NUzxjkIvrD/j3pdgmuKqP2CSYqUcf6k/g+XjnoQFqD8gV66OjXamPwVmVLby0qQ/CZFoV28boz//Vn2zvlChP25tShg4554/DV7lRYUJmz+KffBy2wmXP3fJkCKx6ZI/G3/Wr/lUjT/CukksapuEP5mCioFBU3c/5G+YnFMUVD+IjwvUrltrv/6YsrLUX4C/ExYyf0MVir/irxuKJfqRv289vDX//Ja/BbZVP7gRnL/9jeERbZugv9O47y93NaO/t9xCOD/Wpb/SekjpCX2ov1IUbgEcKau/YSohP7rZrb8an2ewFEewv3fochLXorG/4jHppMb/sr/uOwHHhV20vzLH8de2u7W/R5TxNvwZt7/CYzdD+He4vzr2+VtN1bm/RAxw4J0xu794ZtAvjIy8v23FUam65b2/uOkqrMs8v7/3ScnLsEjAv1TCX2WP8cC/Pj500tKYwb8AHqJCTD7Cv+fBhOXM4cK/O4q36iWDw79J19WBKCLEvwAAAAAAAPh/FSNTx15GuD/y4+FCCYO3PwFhG3DAtbY/OFcSyuLetT+Lg9nLzv60P+6ig/DiFbQ/VXIjs30ksz+9rsuO/SqyPxAVj/7AKbE/SmKAfSYhsD+/pmQNGSOuP4dKbyqj9qs/2SlGSKi9qT+lvg5d5XinP8yC7l4XKaU/QPAKRPvOoj/ggIkCTmugP0JdHyGZ/Zs/1OaFyGcUlz9KkpHngRySP/KmGtXCLoo/azyIewANgD/IMgdswlpnP3QCi8/jxGG/wAcfsZCPfb9elW66CSqJv7IGdaCEypG/MwK2iekCl79VSa+suTycvyL0io49u6C/lHVP91lXo78cr38a9fGlv8km9gFSiqi/tmKNt7Mfq7/06B9FXbGtv8wfRNpIH7C/YHbQB0pjsb89OyKwU6Syv3CxJlgH4rO/ABzLhAYctb/9vfy68lG2v3DaqH9tg7e/YrS8VxiwuL/fjiXIlNe5v/Ks0FWE+bq/p1GrhYgVvL8HwKLcQiu9vx47pN9UOr6/9wWdE2BCv7/OMb3+giHAvwAAAAAAAPh/0cAU965hwD9Z1o1ozL6/P6qJj3jasr4/4Jw1WuefvT80EYdJUoa8P/DnioJ6Zrs/VCJIQb9Auj+owcXBfxW5PyfHCkAb5bc/GjQe+PCvtj/ACQcmYHa1P2BJzAXIOLQ/O/R004f3sj+YCwjL/rKxP7OQjCiMa7A/rAkTUB5Drj980gsLzqqrP2N+EfrlDqk/5w8ylSRwpj+MiXtUSM+jP9rt+68PLaE/sX6CP3IUnT8bAbM3Bs+XP/VnpThYi5I/m3DrZMqVij9y7n8qVB6APyhOAYkezWY/gFhtToWhYr+4CLatWeN9vxytRgehJYm/GiNTAqKgkb/X4mD3zaCWv6uQsHLXkZu/yBMTwiA5oL870dKdR6CivyZ+idSh/aS/CBgp7nBQp79ZnKNy9pepv5QI6+lz06u/Llrx2yoCrr9SR1RorhGwv7pRAaglG7G/CMv48Bsdsr/8sTMHMhezv1AFq64ICbS/xMNXq0DytL8T7DLBetK1v/t8NbRXqba/OHVYSHh2t7+I05RBfTm4vwAAAAAAAPh/w6WNZoObxD8IHK61wfjDP0x/+DGaU8M/vozxzDyswj+NAR542QLCP+WaAiWgV8E/+xUkxcCqwD/7Xw6U1vi/PzFMYUqfmb4/AGtKkDs4vT/BNtNIC9W7P9YpBVducLo/ob7pncQKuT+Bb4oAbqS3P8+28GHKPbY/8w4mpTnXtD9E8jOtG3GzPybbI13QC7I/9kP/l7ensD8tTp+BYoquP8r9PHU6yas/f4vq0LYMqT8U7Lpal1WmPz0UwdibpKM/u/gPEYT6oD+fHHWTH7CcP3aTp5H9e5c/bD/dqCFakj8DFHjKFpiKP3O506V0poA/qAhl8G+Jaz8A+FvToIlVv+ht3Qp5Ini/xZKkLL46hb9rP8H3uSqOv/R0PGcYb5O/rt8/zBGpl79c9sSeycGbv4bPpVLAt5+/0kDeLbvEob+kkfEWtpqjv3bleR4RXaW/i0dkfgwLp78iw51w6KOov31jEy/lJqq/4DOy80KTq7+KP2f4Qeisv72RH3ciJa6/uzXIqSRJr79iGydlxCmwvwAAAAAAAPh/XRyyY3jPyD/RPC0dbAzIP0QY9QFFSMc/LwXMSTODxj8JWnQsZ73FP0xtsOEQ98Q/bpVCoWAwxD/uKO2ihmnDPz5+ch6zosI/2uuUSxbcwT86yBZi4BXBP9hpuplBUMA/VU6EVNQWvz9dreCWFI+9P7GdDmqkCbw/ScySPeSGuj8Q5vGANAe5P/yXsKP1irc//o5TFYgStj8HeF9FTJ60PwcAWaOiLrM/8tPEnuvDsT++oCenh16wP6UmDFiu/a0/TrHJOXVKqz9ZO5HSJKSoP6sebAF+C6Y/IrVjpUGBoz+lWIGdMAahPynGnJEXNp0/sVyoDCiBmD+bKDhqFO+TP3C7vdC8Ao8/kF9eig9zhj9YSu/6SGR8P1jPu5j8C2k/kM9k9c91Rb9Ua+Xt2DNxv2K9AYlXA3+/dmDba5cLhr9/09zwqzSMvxzor+vy/JC/inef0SCsk79BZCrsXSaWv3r6PX0oapi/dYbHxv51mr9oVLQKX0icv4uw8YrH352/GedsibY6n78mogkk1Sugvw==\"},\"shape\":[254],\"dtype\":\"float64\",\"order\":\"little\"},{\"type\":\"ndarray\",\"array\":{\"type\":\"bytes\",\"data\":\"QgSWTFv8zD/WY2iUOgXMPyM9iMLT5so//fWgvymiyT829F10PzjIP5+daskXqsY/Clhyp7X4xD9RiSD3GyXDPzyXIKFNMME/Ss87HJs2vj+4wIdNPc65P2jOe6eHKbU//8Nu+39KsD9P2m41WGamP/lVslpHlpc/AC1CKcDtWD+GtiFYekGVv6YDCjhSaaa/OOj5vyJHsb82VZCwxYW3vxt9cRyM7r2/JkojGbg/wr+OZ1wQNpvFv/awOAu9CMm/jMAMIUqHzL88mJY07QrQv3VNd3212dG/Cc3Sdnyv078OZFOswIvVv5pfo6kAbte/wgxt+rpV2b+iuFoqbkLbv0ywFsWYM92/2EBLVrko37+uW9E0p5Dgv3ewY0VrjuG/VMWxImiN4r/QwJASXY3jv3XJ1VoJjuS/zgVWQSyP5b9onOYLhZDmv86zXADTkee/inKNZNWS6L8q/01+S5PpvzWAc5P0kuq/OxzT6Y+R67/F+UHH3I7sv18/lXGaiu2/kxOiLoiE7r/unD1EZXzvvwAAAAAAAPh/jQaTwX2Q0D8PCxcnwgTQP7nhdnENy84/V0NYb59mzT9VDirKQt3LPyAWRAQAMMo/Gi7+n99fyD+uKbAf6m3GPzzcsQUoW8Q/Lhlb1KEowj/RZwccwK6/P6T/BmrW0Lo/n6Bkl5e5tT+a8c+oFGuwP5wy8UW9zqU/avo4KhrClD/w+O53U+xmvwCMAy0vOZu/hriM/kckqr/MPCAz2oCzv8PdHmJdGLq/MkzJQ05rwL/v4mVPw9zDv7dfjVGFX8e/Iu/nx4vyyr/HvR0wzpTOvx986wOiItG/leVdZnIB07+QMTr+U+bUv1x2VIrC0Na/RMqAyTnA2L+cQ5N6NbTav6r4X1wxrNy/wf+6Lamn3r+UN7xWDFPgv5YuNs19U+G/EHC12eZU4r8nB6RbBVfjvwH/azKXWeS/xGJ3PVpc5b+YPTBcDF/mv6KaAG5rYee/CoVSUjVj6L/0B5DoJ2Tpv4kuIxABZOq/8AN2qH5i679Mk/KQXl/sv8jnAqleWu2/hgwR0DxT7r+wDIfltknvvwAAAAAAAPh//7/7YRWe0j+XbpUbVgLSP4evy0o/U9E/AE6Q2leR0D9TKqprTXrPP2agF49lrs0/kpRM9QXAyz8znSx0PLDJP5pQm+EWgMc/KUV8E6MwxT80EbPf7sLCPxZLIxwIOMA/UxJhPfkhuz+Sw3x6tJ21PyitwTa7yq8/KvColyD2oz/Upfa8QQePP/A1x6v3N4O/RxtXHxO1ob+J5mPWN++uv+7qRFwaPLa/8EcdN+klvb/G7vlndhnCv4+/gL2EsMW/+X8/xhFXyb+mmVKsDwzNvx4760w4Z9C/tL9zXJNO0r9oD9EZkjvUvwpfEZqtLda/buNC8l4k2L9r0XM3Hx/av9Bdsn5nHdy/dL0M3bAe3r+UksgzOhHgv9/kppkVFOG/BnCoKqcX4r9zTlRxqxvjv46aMfjeH+S/wW7HSf4j5b925ZzwxSfmvxkZOXfyKue/ESQjaEAt6L/GIOJNbC7pv6Qp/bIyLuq/F1n7IVAs67+EyWMlgSjsv1iVvUeCIu2/+taPExAa7r/XqGET5w7vvwAAAAAAAPh/iiQ2vl6m1D/vpjHvx/rTP7hJOuUGPNM/gCgwEaVq0j/aXvPjK4fRP14IZM4kktA/SoHEgjIYzz+PRpxbJevMP7aXDwk1nso/76vebHQyyD9puslo9qjFP1f6kN7NAsM/4qL0rw1BwD+G1ml9kcm6PzoVJNkj3rQ/qeAwbfCDrT83rI6yaO6gP+BPE0vg/38/kBKmDhSGkr/q0JD4XdamvwwIqyHaWrK/GvVQsGBuub+Y4FxyzlHAv/1+sn00/MO/jx5pmE+1x78YiMDgDHzLv2qE+HRZT8+/Lm6oORGX0b9erAR9qovTvy3hsBPvhNW/APHMjFWC179HwHh3VIPZv2Qz1GJih9u/xC7/3fWN3b/Klhl4hZbfv/CnIeBD0OC/Oh/OornV4b90I6JLX9viv9SmLSLw4OO/jJsAbifm5L/U86p2wOrlv9yhvIN27ua/3JfF3ATx578GyFXJJvLov4wk/ZCX8em/qZ9LexLv6r+KK9HPUurrv2e6HdYT4+y/dT7B1RDZ7b/lqUsWBczuvwAAAAAAAPh/w1oJkMWo1j9hiADgh+3VP9ydjT5SH9U/2cPpfbA+1D/7Ik5wLkzTP+Xj8+dXSNI/Pi8Ut7gz0T+sLeiv3A7QP5kPUkmftM0/kMwfzzotyz+J46uVo4jIP8ilaEHxx8U/k2TIdjvswj974nq0M+2/Pwk6dCBI0Lk/c3JheuODsz9qXE4WahSqP8A/qG6wlZk/IHNRzAISWr/OwRiC4HKdv9oa4LZp66y/LzoK8w6xtb8eFHAelwy9v158XgoPQ8K/tCKGRroNxr/JqzyfNeXJv1PGD3BpyM2/iJBGCh/b0L9aNSH0zdbSv/qoXqO11tS/wsLFRUra1r8UWh0JAOHYv0hGLBtL6tq/uV65qZ/13L/CeovicQLfv9+4tPkaiOC/iA0NBTCP4b8FJzIqMpbivwdxB4DbnOO/OldwHeai5L9ORVAZDKjlv/CmiooHrOa/zOcCiJKu57+Sc5woZ6/ov+21OoM/rum/kBrBrtWq6r8kDRPC46Trv1r5E9QjnOy/3kqn+0+Q7b9ebbBPIoHuvwAAAAAAAPh/00eUPrek2D/rU6HLB9rXP3tMvp2X/NY/fTI0w/QM1j/nBkxKrQvVP6/KTkFP+dM/0X6FtmjW0j9EJDm4h6PRP/27slQ6YdA/7o12NB0gzj9QjDcuJWHLPxJ1OrOohsg/JEoR4MORxT95DU7RkoPCP/KBBUdjur4/Os2C5ng/uD+WADi6npixP+I/kvYZkKU/XHnRFt9/jj/0boav4mqKv5Sm5+uGG6W/ON0KRAHvsb/D5xGH3W65v4x38gKQhcC/rPevQ8hgxL9Lci9p+0fIv3fl3lYNOsy/picW+PAa0L/p1kKMLh3Sv45/rFkxI9S/mCAKUmss1r8auRJnTjjYvxFIfYpMRtq/jMwArtdV3L+QRVTDYWbevxJZF16uO+C/qYgjRR1E4b8SMaqPNkziv9DRhjazU+O/ZOqUMkxa5L9Y+q98ul/lvy2Bsw23Y+a/Zv563vpl57+I8eHnPmbovxfawyI8ZOm/mDf8h6tf6r+OiWYQRljrv35P3rTETey/6gg/buA/7b9YNWQ1Ui7uvw==\"},\"shape\":[305],\"dtype\":\"float64\",\"order\":\"little\"},{\"type\":\"ndarray\",\"array\":{\"type\":\"bytes\",\"data\":\"ucIUCKOZ2j/CkLxiG8HZPxl5TIjF2Ng/geh6JSPh1z+1S/7mtdrWP3oPjXn/xdU/jqDdiYGj1D+4a6bEvXPTP7PdndY1N9I/QWN6bGvu0D9K0uRlwDPPPzu4eK0rdMw/2VEdCRyfyT+ueD/SlLXGPy4GTGKZuMM/59OvEi2pwD+edq95phC7P+QrYXQerrQ/O/WckJFZrD8gV0ShsDqeP2AOVujouWo/lAkMoBzvl79on0zlIMipv4SEzeUF4bO/zu2ezqDwur9DbCA9bQjBv9DI7BrWn8S/GrNHp4c9yL+VUcSIfuDLv8HK9WW3h8+/jKK3cheZ0b+R8+HWcG/Tv6prwzJmRtW/Gp6l2XUd178cHtIeHvTYv+5+klXdydq/1lMw0TGe3L8OMPXkmXDev2pTFfJJIOC/tCUNEc8G4b+G2AZ5m+vhv381p1NuzuK/PgaTygav479hFG8HJI3kv4gp4DOFaOW/Vg+LeelA5r9njxQCEBbnv1xzIfe35+e/1IRWgqC16L9ujVjNiH/pvwAAAAAAAPh/z4MoK/qG3D/fZ3PxJ5/bP7mSwTEqp9o/ys0W1Ief2T9z4nbAx4jYPyGa5d5wY9c/OL5mFwow1j8nGP5RGu/UP05xr3YoodM/GJN+bbtG0j/tRm8eWuDQP2usCuMW3c4/sRSJnazjyz+CWWE8g9XIP6kNm4+os8U/+MM9Zyp/wj9wHqImLXK+P34Eucf1xLc/v1/PUcr4sD+Tq+jJjB+kPxhiuAktYIg/6FxlZXFBkL8AXlvVh4amv4TVtnKVirK/GqVlUTXkub8QfFXzA6fAv3jUO8n4YsS/AEleWuskyL/QRrXWzevLvxk7OW6Sts+/hElxqBXC0b/s3VRXxanTv1aRw1vRkdW/X5q5zbJ517+cLzPF4mDZv6KHLFraRtu/EtmhpBIr3b98Wo+8BA3fvz6h+NwUduC/0+NhWv1j4b9MkIFi+E/iv/PBVYHCOeO/FZTcQhgh5L/9IRQztgXlv/aG+t1Y5+W/T96Nz7zF5r9SQ8yTnqDnv0vRs7a6d+i/hqNCxM1K6b9R1XZIlBnqvw==\"},\"shape\":[101],\"dtype\":\"float64\",\"order\":\"little\"},{\"type\":\"ndarray\",\"array\":{\"type\":\"bytes\",\"data\":\"B1wUMyamoTxhUf5DqR6hPNUxiYnRnKA8aP20A58goDwvaANlI1SfPMOr3itTcp48ksX7W82bnTyatVr1kdCcPNl7+/egEJw8URjeY/pbmzz+igI5nrKaPObTaHeMFJo8CPMQH8WBmTxj6PovSPqYPPWzJqoVfpg8wVWUjS0NmDzEzUPaj6eXPP8bNZA8TZc8c0BorzP+ljwgO903dbqWPAQMlCkBgpY8IrOMhNdUljx6MMdI+DKWPAiEQ3ZjHJY80K0BDRkRljzQrQENGRGWPAiEQ3ZjHJY8ejDHSPgyljwks4yE11SWPAUMlCkBgpY8IDvdN3W6ljxzQGivM/6WPP4bNZA8TZc8ws1D2o+nlzzAVZSNLQ2YPPSzJqoVfpg8Yuj6L0j6mDwI8xAfxYGZPOfTaHeMFJo8/ooCOZ6ymjxOGN5j+lubPNd7+/egEJw8mLVa9ZHQnDySxftbzZudPMKr3itTcp48LmgDZSNUnzxo/bQDnyCgPNYxiYnRnKA8YFH+Q6keoTwHXBQzJqahPA==\"},\"shape\":[50],\"dtype\":\"float64\",\"order\":\"little\"},{\"type\":\"ndarray\",\"array\":{\"type\":\"bytes\",\"data\":\"\"},\"shape\":[0],\"dtype\":\"float64\",\"order\":\"little\"},{\"type\":\"ndarray\",\"array\":{\"type\":\"bytes\",\"data\":\"2mQdPemErz8NT19ZJEquPxvHaCDYiaw/+WaKfgJHqj+dyBRgoYSnP/uFWLGyRaQ/BzmmXjSNoD9595yoSLyYPy+gh/oB7o4/ar+ITzZCdT9E1ZrrVsR2v4irdRbth5G/3H4ppvwtnr+ofbBIpM6lv4x2vX/q56y/Coj1hekvsr8uWHQAsBm2v7DeMrnJL7q/ls4Iurdwvr917WaGfW3Bv1XbrF2KtsO/cArC58ISxr9IVJKpZ4HIv2CSCSi5Acu/PJ4T6PeSzb+tKE43MhrQv5/CR6CfctG/uIlscWTS0r+3ajLtIDnUv1xSD1Z1ptW/ai157gEa17+k6OX4ZpPYv8hwy7dEEtq/mrKfbTuW27/Ymthc6x7dv0UW7Mf0q96/0gio+Hse4L/aPL2Nyujgv5ydcES2tOG/dyH9PQ+C4r/Ovp2bpVDjvwFsjX5JIOS/bx8HCMvw5L96z0VZ+sHlv4FyhJOnk+a/6P7916Jl578Oa+1HvDfov1OtjQTECem/F7wZL4rb6b+9jczo3qzqvw==\"},\"shape\":[50],\"dtype\":\"float64\",\"order\":\"little\"}]],[\"edge_color\",{\"type\":\"ndarray\",\"array\":{\"type\":\"bytes\",\"data\":\"AAAAAAAAAAAAAAAAAQAAAAEAAAABAAAAAgAAAAIAAAACAAAAAwAAAAMAAAADAAAA\"},\"shape\":[12],\"dtype\":\"int32\",\"order\":\"little\"}]]}}},\"view\":{\"type\":\"object\",\"name\":\"CDSView\",\"id\":\"726472f7-1078-4d57-88c9-a6ab86c7744c\",\"attributes\":{\"filter\":{\"type\":\"object\",\"name\":\"AllIndices\",\"id\":\"9582c720-23c8-4ad1-8aeb-ead91df446c8\"}}},\"glyph\":{\"type\":\"object\",\"name\":\"MultiLine\",\"id\":\"ec6ba33e-e1e1-4c8e-a6cb-6bfb9a8c8b91\",\"attributes\":{\"xs\":{\"type\":\"field\",\"field\":\"xs\"},\"ys\":{\"type\":\"field\",\"field\":\"ys\"},\"line_color\":{\"type\":\"field\",\"field\":\"edge_color\",\"transform\":{\"type\":\"object\",\"name\":\"LinearColorMapper\",\"id\":\"32b1ba8a-920e-48ea-86c9-3702311438d8\",\"attributes\":{\"palette\":[\"#3333D8\",\"#C021EC\",\"#DB1C5F\",\"#FFB43B\",\"#16820E\",\"#16CCBD\",\"#2895E9\"],\"low\":0,\"high\":6}}}}},\"selection_glyph\":{\"type\":\"object\",\"name\":\"MultiLine\",\"id\":\"6004d686-a748-4bf6-b5ca-4ffdef5342cd\",\"attributes\":{\"xs\":{\"type\":\"field\",\"field\":\"xs\"},\"ys\":{\"type\":\"field\",\"field\":\"ys\"},\"line_color\":{\"type\":\"field\",\"field\":\"edge_color\",\"transform\":{\"id\":\"32b1ba8a-920e-48ea-86c9-3702311438d8\"}}}},\"nonselection_glyph\":{\"type\":\"object\",\"name\":\"MultiLine\",\"id\":\"46f8407d-1572-4e3d-840f-fd65d043f2ac\",\"attributes\":{\"xs\":{\"type\":\"field\",\"field\":\"xs\"},\"ys\":{\"type\":\"field\",\"field\":\"ys\"},\"line_color\":{\"type\":\"field\",\"field\":\"edge_color\",\"transform\":{\"id\":\"32b1ba8a-920e-48ea-86c9-3702311438d8\"}},\"line_alpha\":{\"type\":\"value\",\"value\":0.1}}},\"hover_glyph\":{\"type\":\"object\",\"name\":\"MultiLine\",\"id\":\"5a7933f0-6512-47db-b263-1e76911fcfd8\",\"attributes\":{\"xs\":{\"type\":\"field\",\"field\":\"xs\"},\"ys\":{\"type\":\"field\",\"field\":\"ys\"},\"line_color\":{\"type\":\"value\",\"value\":\"limegreen\"}}},\"muted_glyph\":{\"type\":\"object\",\"name\":\"MultiLine\",\"id\":\"51da38e8-6d2d-462e-8f89-487dfe137d6b\",\"attributes\":{\"xs\":{\"type\":\"field\",\"field\":\"xs\"},\"ys\":{\"type\":\"field\",\"field\":\"ys\"},\"line_color\":{\"type\":\"field\",\"field\":\"edge_color\",\"transform\":{\"id\":\"32b1ba8a-920e-48ea-86c9-3702311438d8\"}},\"line_alpha\":{\"type\":\"value\",\"value\":0.2}}}}},\"selection_policy\":{\"type\":\"object\",\"name\":\"NodesAndLinkedEdges\",\"id\":\"be7f9cdc-776c-4b5c-bb48-0144130c7cfa\"},\"inspection_policy\":{\"type\":\"object\",\"name\":\"NodesAndLinkedEdges\",\"id\":\"0362c1e2-aa17-4a32-9af9-181947c5433c\"}}},{\"type\":\"object\",\"name\":\"GlyphRenderer\",\"id\":\"39269073-ef4d-467e-8477-b4ccf468eb21\",\"attributes\":{\"data_source\":{\"type\":\"object\",\"name\":\"ColumnDataSource\",\"id\":\"144038b4-bfbe-4ca7-9409-4476dc24c8ea\",\"attributes\":{\"selected\":{\"type\":\"object\",\"name\":\"Selection\",\"id\":\"ac541041-d629-4027-b568-f55347f8a2be\",\"attributes\":{\"indices\":[],\"line_indices\":[]}},\"selection_policy\":{\"type\":\"object\",\"name\":\"UnionRenderers\",\"id\":\"e24dfbe3-bffb-4ffe-96ba-3d4411db73d1\"},\"data\":{\"type\":\"map\",\"entries\":[[\"x\",{\"type\":\"ndarray\",\"array\":{\"type\":\"bytes\",\"data\":\"uMqf+EA68D+5KLE7MI6gv7jKn/hAOvC/JwV5ncLK8L/3Yb5vmWzrv9tEeMgkhMA/2qQ9Tx2a7T8=\"},\"shape\":[7],\"dtype\":\"float64\",\"order\":\"little\"}],[\"y\",{\"type\":\"ndarray\",\"array\":{\"type\":\"bytes\",\"data\":\"5MZAC4Rk0T8nBXmdwsrwP+HGQAuEZNE/1SixOzCOoD/l3vyFx2njv/0Qqb4zrPC/GF2SG7nK378=\"},\"shape\":[7],\"dtype\":\"float64\",\"order\":\"little\"}],[\"text\",[\"positive (+)\",\"negative (-)\",\"both (+ and -)\",\"none\",\"PID-s\",\"PID-p\",\"PID-c\"]],[\"angle\",{\"type\":\"ndarray\",\"array\":{\"type\":\"bytes\",\"data\":\"ZXMtOFLB0D8EOPpkI6D5P6x+Pg3RCQdAoifpS+fiCEDdvyetajQEwGkBbBFbKfe/JLuCLQSK378=\"},\"shape\":[7],\"dtype\":\"float64\",\"order\":\"little\"}]]}}},\"view\":{\"type\":\"object\",\"name\":\"CDSView\",\"id\":\"4757605b-0964-417a-86b3-0f3ab37b2df1\",\"attributes\":{\"filter\":{\"type\":\"object\",\"name\":\"AllIndices\",\"id\":\"52668c6b-ee8b-4445-9b7c-0219268686ae\"}}},\"glyph\":{\"type\":\"object\",\"name\":\"Text\",\"id\":\"57be00fb-e423-46ad-94c9-3b78ec510318\",\"attributes\":{\"x\":{\"type\":\"field\",\"field\":\"x\"},\"y\":{\"type\":\"field\",\"field\":\"y\"},\"text\":{\"type\":\"field\",\"field\":\"text\"},\"angle\":{\"type\":\"field\",\"field\":\"angle\"},\"text_color\":{\"type\":\"value\",\"value\":\"black\"},\"text_font_size\":{\"type\":\"value\",\"value\":\"8pt\"},\"text_baseline\":{\"type\":\"value\",\"value\":\"middle\"}}},\"selection_glyph\":{\"type\":\"object\",\"name\":\"Text\",\"id\":\"e314724f-e7d0-4cf3-9eb4-4f4669fe768f\",\"attributes\":{\"x\":{\"type\":\"field\",\"field\":\"x\"},\"y\":{\"type\":\"field\",\"field\":\"y\"},\"text\":{\"type\":\"field\",\"field\":\"text\"},\"angle\":{\"type\":\"field\",\"field\":\"angle\"},\"x_offset\":{\"type\":\"value\",\"value\":0},\"y_offset\":{\"type\":\"value\",\"value\":0},\"outline_shape\":{\"type\":\"value\",\"value\":\"box\"},\"text_color\":{\"type\":\"value\",\"value\":\"black\"},\"text_outline_color\":{\"type\":\"value\",\"value\":null},\"text_alpha\":{\"type\":\"value\",\"value\":1.0},\"text_font_size\":{\"type\":\"value\",\"value\":\"8pt\"},\"text_font_style\":{\"type\":\"value\",\"value\":\"normal\"},\"text_align\":{\"type\":\"value\",\"value\":\"left\"},\"text_baseline\":{\"type\":\"value\",\"value\":\"middle\"},\"text_line_height\":{\"type\":\"value\",\"value\":1.2},\"background_fill_color\":{\"type\":\"value\",\"value\":null},\"background_fill_alpha\":{\"type\":\"value\",\"value\":1.0},\"background_hatch_color\":{\"type\":\"value\",\"value\":null},\"background_hatch_alpha\":{\"type\":\"value\",\"value\":1.0},\"background_hatch_scale\":{\"type\":\"value\",\"value\":12.0},\"background_hatch_pattern\":{\"type\":\"value\",\"value\":null},\"background_hatch_weight\":{\"type\":\"value\",\"value\":1.0},\"border_line_color\":{\"type\":\"value\",\"value\":null},\"border_line_alpha\":{\"type\":\"value\",\"value\":1.0},\"border_line_width\":{\"type\":\"value\",\"value\":1},\"border_line_join\":{\"type\":\"value\",\"value\":\"bevel\"},\"border_line_cap\":{\"type\":\"value\",\"value\":\"butt\"},\"border_line_dash\":{\"type\":\"value\",\"value\":[]},\"border_line_dash_offset\":{\"type\":\"value\",\"value\":0}}},\"nonselection_glyph\":{\"type\":\"object\",\"name\":\"Text\",\"id\":\"386fe0ef-854e-4012-8d43-6d786491308a\",\"attributes\":{\"x\":{\"type\":\"field\",\"field\":\"x\"},\"y\":{\"type\":\"field\",\"field\":\"y\"},\"text\":{\"type\":\"field\",\"field\":\"text\"},\"angle\":{\"type\":\"field\",\"field\":\"angle\"},\"text_color\":{\"type\":\"value\",\"value\":\"black\"},\"text_alpha\":{\"type\":\"value\",\"value\":0.1},\"text_font_size\":{\"type\":\"value\",\"value\":\"8pt\"},\"text_baseline\":{\"type\":\"value\",\"value\":\"middle\"}}},\"muted_glyph\":{\"type\":\"object\",\"name\":\"Text\",\"id\":\"fbe52fc4-7586-4c69-b336-d322bc1f5525\",\"attributes\":{\"x\":{\"type\":\"field\",\"field\":\"x\"},\"y\":{\"type\":\"field\",\"field\":\"y\"},\"text\":{\"type\":\"field\",\"field\":\"text\"},\"angle\":{\"type\":\"field\",\"field\":\"angle\"},\"text_color\":{\"type\":\"value\",\"value\":\"black\"},\"text_alpha\":{\"type\":\"value\",\"value\":0.2},\"text_font_size\":{\"type\":\"value\",\"value\":\"8pt\"},\"text_baseline\":{\"type\":\"value\",\"value\":\"middle\"}}}}}],\"toolbar\":{\"type\":\"object\",\"name\":\"Toolbar\",\"id\":\"c51fc6d0-4b34-4a26-9ed3-c2f2300d5a39\",\"attributes\":{\"tools\":[{\"type\":\"object\",\"name\":\"WheelZoomTool\",\"id\":\"f5559b1a-a126-4a2b-a3b2-07ae022b2eed\",\"attributes\":{\"tags\":[\"hv_created\"],\"renderers\":\"auto\",\"zoom_together\":\"none\"}},{\"type\":\"object\",\"name\":\"HoverTool\",\"id\":\"0fd1c32f-b3fb-457d-a80e-a739f9f6f652\",\"attributes\":{\"tags\":[\"hv_created\"],\"renderers\":[{\"id\":\"ff46cfe9-6dc7-4573-864b-a7286aa701bb\"},{\"id\":\"39269073-ef4d-467e-8477-b4ccf468eb21\"},{\"id\":\"570a0af9-a355-4ea4-85d1-ebd515c875e3\"}],\"tooltips\":[[\"index\",\"@{index_hover}\"],[\"label\",\"@{label}\"],[\"group\",\"@{group}\"]]}},{\"type\":\"object\",\"name\":\"SaveTool\",\"id\":\"f105690a-87e1-429a-901b-9efdd2bec8bc\"},{\"type\":\"object\",\"name\":\"PanTool\",\"id\":\"89789024-a3e1-40c3-a197-8249e62ba8c2\"},{\"type\":\"object\",\"name\":\"BoxZoomTool\",\"id\":\"ff282a8c-b29c-4395-b8e3-766c5135647e\",\"attributes\":{\"dimensions\":\"both\",\"overlay\":{\"type\":\"object\",\"name\":\"BoxAnnotation\",\"id\":\"605ef06b-a7f9-43fc-804e-3e7744223405\",\"attributes\":{\"syncable\":false,\"line_color\":\"black\",\"line_alpha\":1.0,\"line_width\":2,\"line_dash\":[4,4],\"fill_color\":\"lightgrey\",\"fill_alpha\":0.5,\"level\":\"overlay\",\"visible\":false,\"left\":{\"type\":\"number\",\"value\":\"nan\"},\"right\":{\"type\":\"number\",\"value\":\"nan\"},\"top\":{\"type\":\"number\",\"value\":\"nan\"},\"bottom\":{\"type\":\"number\",\"value\":\"nan\"},\"left_units\":\"canvas\",\"right_units\":\"canvas\",\"top_units\":\"canvas\",\"bottom_units\":\"canvas\",\"handles\":{\"type\":\"object\",\"name\":\"BoxInteractionHandles\",\"id\":\"18bb907f-bcfd-4d68-aa32-72b9602c7b23\",\"attributes\":{\"all\":{\"type\":\"object\",\"name\":\"AreaVisuals\",\"id\":\"631418a8-8c0a-440d-8fb3-56e814c9f6dc\",\"attributes\":{\"fill_color\":\"white\",\"hover_fill_color\":\"lightgray\"}}}}}}}},{\"type\":\"object\",\"name\":\"ResetTool\",\"id\":\"b4186dcb-7e2c-4e44-8076-9affdf25d91d\"},{\"type\":\"object\",\"name\":\"TapTool\",\"id\":\"3bb140d0-ae84-4a2d-ac9c-a08d30ec6007\",\"attributes\":{\"renderers\":\"auto\"}}],\"active_drag\":{\"id\":\"89789024-a3e1-40c3-a197-8249e62ba8c2\"},\"active_scroll\":{\"id\":\"f5559b1a-a126-4a2b-a3b2-07ae022b2eed\"}}},\"left\":[{\"type\":\"object\",\"name\":\"LinearAxis\",\"id\":\"b3c80c91-41a3-40e9-93da-058082709842\",\"attributes\":{\"visible\":false,\"ticker\":{\"type\":\"object\",\"name\":\"BasicTicker\",\"id\":\"83fdbc2d-2d87-482a-b680-42e6d0fa4ebb\",\"attributes\":{\"mantissas\":[1,2,5]}},\"formatter\":{\"type\":\"object\",\"name\":\"BasicTickFormatter\",\"id\":\"09fe6cb1-5783-45eb-943a-0c64929d340e\"},\"axis_label\":\"y\",\"major_label_policy\":{\"type\":\"object\",\"name\":\"AllLabels\",\"id\":\"1f51802a-617c-487e-8692-1d77203050c2\"}}}],\"below\":[{\"type\":\"object\",\"name\":\"LinearAxis\",\"id\":\"d32eb491-b460-4347-a864-58f85c77efcd\",\"attributes\":{\"visible\":false,\"ticker\":{\"type\":\"object\",\"name\":\"BasicTicker\",\"id\":\"76b84c7c-1e9b-4da2-972d-562bbcc9cd3b\",\"attributes\":{\"mantissas\":[1,2,5]}},\"formatter\":{\"type\":\"object\",\"name\":\"BasicTickFormatter\",\"id\":\"0ce55618-cf99-46e0-a3f2-dbbc67b4f4ac\"},\"axis_label\":\"x\",\"major_label_policy\":{\"type\":\"object\",\"name\":\"AllLabels\",\"id\":\"460fbd2d-ab7c-40e4-969d-4607296594ce\"}}}],\"center\":[{\"type\":\"object\",\"name\":\"Grid\",\"id\":\"056bbb2e-cb47-49c3-a27c-e162002cca4c\",\"attributes\":{\"axis\":{\"id\":\"d32eb491-b460-4347-a864-58f85c77efcd\"},\"grid_line_color\":null}},{\"type\":\"object\",\"name\":\"Grid\",\"id\":\"e66d5f1f-b017-4d58-a9b3-326a170ecc3e\",\"attributes\":{\"dimension\":1,\"axis\":{\"id\":\"b3c80c91-41a3-40e9-93da-058082709842\"},\"grid_line_color\":null}}],\"min_border_top\":10,\"min_border_bottom\":10,\"min_border_left\":10,\"min_border_right\":10,\"output_backend\":\"webgl\"}},{\"type\":\"object\",\"name\":\"Spacer\",\"id\":\"6b03f546-1090-4e1a-bb4e-a988dc0c9289\",\"attributes\":{\"name\":\"HSpacer00351\",\"stylesheets\":[\"\\n:host(.pn-loading):before, .pn-loading:before {\\n  background-color: #c3c3c3;\\n  mask-size: auto calc(min(50%, 400px));\\n  -webkit-mask-size: auto calc(min(50%, 400px));\\n}\",{\"id\":\"1a0db616-f842-4446-b0e3-ece4fc929f22\"},{\"id\":\"845cddf5-1007-440e-811f-a74b56c9a30a\"},{\"id\":\"c2343c2f-72cc-42b0-ba2f-8469147f9c28\"}],\"min_width\":0,\"margin\":0,\"sizing_mode\":\"stretch_width\",\"align\":\"start\"}}]}}],\"defs\":[{\"type\":\"model\",\"name\":\"ReactiveHTML1\"},{\"type\":\"model\",\"name\":\"FlexBox1\",\"properties\":[{\"name\":\"align_content\",\"kind\":\"Any\",\"default\":\"flex-start\"},{\"name\":\"align_items\",\"kind\":\"Any\",\"default\":\"flex-start\"},{\"name\":\"flex_direction\",\"kind\":\"Any\",\"default\":\"row\"},{\"name\":\"flex_wrap\",\"kind\":\"Any\",\"default\":\"wrap\"},{\"name\":\"gap\",\"kind\":\"Any\",\"default\":\"\"},{\"name\":\"justify_content\",\"kind\":\"Any\",\"default\":\"flex-start\"}]},{\"type\":\"model\",\"name\":\"FloatPanel1\",\"properties\":[{\"name\":\"config\",\"kind\":\"Any\",\"default\":{\"type\":\"map\"}},{\"name\":\"contained\",\"kind\":\"Any\",\"default\":true},{\"name\":\"position\",\"kind\":\"Any\",\"default\":\"right-top\"},{\"name\":\"offsetx\",\"kind\":\"Any\",\"default\":null},{\"name\":\"offsety\",\"kind\":\"Any\",\"default\":null},{\"name\":\"theme\",\"kind\":\"Any\",\"default\":\"primary\"},{\"name\":\"status\",\"kind\":\"Any\",\"default\":\"normalized\"}]},{\"type\":\"model\",\"name\":\"GridStack1\",\"properties\":[{\"name\":\"ncols\",\"kind\":\"Any\",\"default\":null},{\"name\":\"nrows\",\"kind\":\"Any\",\"default\":null},{\"name\":\"allow_resize\",\"kind\":\"Any\",\"default\":true},{\"name\":\"allow_drag\",\"kind\":\"Any\",\"default\":true},{\"name\":\"state\",\"kind\":\"Any\",\"default\":[]}]},{\"type\":\"model\",\"name\":\"drag1\",\"properties\":[{\"name\":\"slider_width\",\"kind\":\"Any\",\"default\":5},{\"name\":\"slider_color\",\"kind\":\"Any\",\"default\":\"black\"},{\"name\":\"value\",\"kind\":\"Any\",\"default\":50}]},{\"type\":\"model\",\"name\":\"click1\",\"properties\":[{\"name\":\"terminal_output\",\"kind\":\"Any\",\"default\":\"\"},{\"name\":\"debug_name\",\"kind\":\"Any\",\"default\":\"\"},{\"name\":\"clears\",\"kind\":\"Any\",\"default\":0}]},{\"type\":\"model\",\"name\":\"ReactiveESM1\",\"properties\":[{\"name\":\"esm_constants\",\"kind\":\"Any\",\"default\":{\"type\":\"map\"}}]},{\"type\":\"model\",\"name\":\"JSComponent1\",\"properties\":[{\"name\":\"esm_constants\",\"kind\":\"Any\",\"default\":{\"type\":\"map\"}}]},{\"type\":\"model\",\"name\":\"ReactComponent1\",\"properties\":[{\"name\":\"use_shadow_dom\",\"kind\":\"Any\",\"default\":true},{\"name\":\"esm_constants\",\"kind\":\"Any\",\"default\":{\"type\":\"map\"}}]},{\"type\":\"model\",\"name\":\"AnyWidgetComponent1\",\"properties\":[{\"name\":\"use_shadow_dom\",\"kind\":\"Any\",\"default\":true},{\"name\":\"esm_constants\",\"kind\":\"Any\",\"default\":{\"type\":\"map\"}}]},{\"type\":\"model\",\"name\":\"FastWrapper1\",\"properties\":[{\"name\":\"object\",\"kind\":\"Any\",\"default\":null},{\"name\":\"style\",\"kind\":\"Any\",\"default\":null}]},{\"type\":\"model\",\"name\":\"NotificationArea1\",\"properties\":[{\"name\":\"js_events\",\"kind\":\"Any\",\"default\":{\"type\":\"map\"}},{\"name\":\"max_notifications\",\"kind\":\"Any\",\"default\":5},{\"name\":\"notifications\",\"kind\":\"Any\",\"default\":[]},{\"name\":\"position\",\"kind\":\"Any\",\"default\":\"bottom-right\"},{\"name\":\"_clear\",\"kind\":\"Any\",\"default\":0},{\"name\":\"types\",\"kind\":\"Any\",\"default\":[{\"type\":\"map\",\"entries\":[[\"type\",\"warning\"],[\"background\",\"#ffc107\"],[\"icon\",{\"type\":\"map\",\"entries\":[[\"className\",\"fas fa-exclamation-triangle\"],[\"tagName\",\"i\"],[\"color\",\"white\"]]}]]},{\"type\":\"map\",\"entries\":[[\"type\",\"info\"],[\"background\",\"#007bff\"],[\"icon\",{\"type\":\"map\",\"entries\":[[\"className\",\"fas fa-info-circle\"],[\"tagName\",\"i\"],[\"color\",\"white\"]]}]]}]}]},{\"type\":\"model\",\"name\":\"Notification\",\"properties\":[{\"name\":\"background\",\"kind\":\"Any\",\"default\":null},{\"name\":\"duration\",\"kind\":\"Any\",\"default\":3000},{\"name\":\"icon\",\"kind\":\"Any\",\"default\":null},{\"name\":\"message\",\"kind\":\"Any\",\"default\":\"\"},{\"name\":\"notification_type\",\"kind\":\"Any\",\"default\":null},{\"name\":\"_rendered\",\"kind\":\"Any\",\"default\":false},{\"name\":\"_destroyed\",\"kind\":\"Any\",\"default\":false}]},{\"type\":\"model\",\"name\":\"TemplateActions1\",\"properties\":[{\"name\":\"open_modal\",\"kind\":\"Any\",\"default\":0},{\"name\":\"close_modal\",\"kind\":\"Any\",\"default\":0}]},{\"type\":\"model\",\"name\":\"BootstrapTemplateActions1\",\"properties\":[{\"name\":\"open_modal\",\"kind\":\"Any\",\"default\":0},{\"name\":\"close_modal\",\"kind\":\"Any\",\"default\":0}]},{\"type\":\"model\",\"name\":\"TemplateEditor1\",\"properties\":[{\"name\":\"layout\",\"kind\":\"Any\",\"default\":[]}]},{\"type\":\"model\",\"name\":\"MaterialTemplateActions1\",\"properties\":[{\"name\":\"open_modal\",\"kind\":\"Any\",\"default\":0},{\"name\":\"close_modal\",\"kind\":\"Any\",\"default\":0}]},{\"type\":\"model\",\"name\":\"request_value1\",\"properties\":[{\"name\":\"fill\",\"kind\":\"Any\",\"default\":\"none\"},{\"name\":\"_synced\",\"kind\":\"Any\",\"default\":null},{\"name\":\"_request_sync\",\"kind\":\"Any\",\"default\":0}]},{\"type\":\"model\",\"name\":\"holoviews.plotting.bokeh.raster.HoverModel\",\"properties\":[{\"name\":\"xy\",\"kind\":\"Any\",\"default\":null},{\"name\":\"data\",\"kind\":\"Any\",\"default\":null}]}]}};\n",
       "  var render_items = [{\"docid\":\"276d587b-d612-469d-b061-8ffc98191d31\",\"roots\":{\"757ead3f-0580-44c4-89e7-c6db6389111b\":\"bbaea3e5-77ec-4e48-8197-cfc737a6f6f4\"},\"root_ids\":[\"757ead3f-0580-44c4-89e7-c6db6389111b\"]}];\n",
       "  var docs = Object.values(docs_json)\n",
       "  if (!docs) {\n",
       "    return\n",
       "  }\n",
       "  const py_version = docs[0].version.replace('rc', '-rc.').replace('.dev', '-dev.')\n",
       "  async function embed_document(root) {\n",
       "    var Bokeh = get_bokeh(root)\n",
       "    await Bokeh.embed.embed_items_notebook(docs_json, render_items);\n",
       "    for (const render_item of render_items) {\n",
       "      for (const root_id of render_item.root_ids) {\n",
       "\tconst id_el = document.getElementById(root_id)\n",
       "\tif (id_el.children.length && id_el.children[0].hasAttribute('data-root-id')) {\n",
       "\t  const root_el = id_el.children[0]\n",
       "\t  root_el.id = root_el.id + '-rendered'\n",
       "\t  for (const child of root_el.children) {\n",
       "            // Ensure JupyterLab does not capture keyboard shortcuts\n",
       "            // see: https://jupyterlab.readthedocs.io/en/4.1.x/extension/notebook.html#keyboard-interaction-model\n",
       "\t    child.setAttribute('data-lm-suppress-shortcuts', 'true')\n",
       "\t  }\n",
       "\t}\n",
       "      }\n",
       "    }\n",
       "  }\n",
       "  function get_bokeh(root) {\n",
       "    if (root.Bokeh === undefined) {\n",
       "      return null\n",
       "    } else if (root.Bokeh.version !== py_version) {\n",
       "      if (root.Bokeh.versions === undefined || !root.Bokeh.versions.has(py_version)) {\n",
       "\treturn null\n",
       "      }\n",
       "      return root.Bokeh.versions.get(py_version);\n",
       "    } else if (root.Bokeh.version === py_version) {\n",
       "      return root.Bokeh\n",
       "    }\n",
       "    return null\n",
       "  }\n",
       "  function is_loaded(root) {\n",
       "    var Bokeh = get_bokeh(root)\n",
       "    return (Bokeh != null && Bokeh.Panel !== undefined)\n",
       "  }\n",
       "  if (is_loaded(root)) {\n",
       "    embed_document(root);\n",
       "  } else {\n",
       "    var attempts = 0;\n",
       "    var timer = setInterval(function(root) {\n",
       "      if (is_loaded(root)) {\n",
       "        clearInterval(timer);\n",
       "        embed_document(root);\n",
       "      } else if (document.readyState == \"complete\") {\n",
       "        attempts++;\n",
       "        if (attempts > 200) {\n",
       "          clearInterval(timer);\n",
       "\t  var Bokeh = get_bokeh(root)\n",
       "\t  if (Bokeh == null || Bokeh.Panel == null) {\n",
       "            console.warn(\"Panel: ERROR: Unable to run Panel code because Bokeh or Panel library is missing\");\n",
       "\t  } else {\n",
       "\t    console.warn(\"Panel: WARNING: Attempting to render but not all required libraries could be resolved.\")\n",
       "\t    embed_document(root)\n",
       "\t  }\n",
       "        }\n",
       "      }\n",
       "    }, 25, root)\n",
       "  }\n",
       "})(window);</script>"
      ],
      "text/plain": [
       ":Chord   [source,target]   (value)"
      ]
     },
     "execution_count": 2,
     "metadata": {
      "application/vnd.holoviews_exec.v0+json": {
       "id": "757ead3f-0580-44c4-89e7-c6db6389111b"
      }
     },
     "output_type": "execute_result"
    }
   ],
   "source": [
    "import pandas as pd\n",
    "import holoviews as hv\n",
    "from holoviews import opts\n",
    "\n",
    "hv.extension('bokeh')\n",
    "\n",
    "# === 1. Define nodes (labels + group type)\n",
    "nodes = [\n",
    "    (\"positive (+)\", \"voltage bias\"),\n",
    "    (\"negative (-)\", \"voltage bias\"),\n",
    "    (\"both (+ and -)\", \"voltage bias\"),\n",
    "    (\"none\", \"voltage bias\"),\n",
    "    (\"PID-s\", \"pid\"),\n",
    "    (\"PID-p\", \"pid\"),\n",
    "    (\"PID-c\", \"pid\")\n",
    "]\n",
    "\n",
    "# Create node DataFrame\n",
    "node_df = pd.DataFrame({\n",
    "    \"index\": range(len(nodes)),\n",
    "    \"label\": [n[0] for n in nodes],\n",
    "    \"group\": [n[1] for n in nodes]\n",
    "})\n",
    "\n",
    "# === 2. Define links\n",
    "links = pd.DataFrame({\n",
    "    \"source\": [\n",
    "        \"positive (+)\", \"positive (+)\", \"positive (+)\",\n",
    "        \"negative (-)\", \"negative (-)\", \"negative (-)\",\n",
    "        \"both (+ and -)\", \"both (+ and -)\", \"both (+ and -)\",\n",
    "        \"none\", \"none\", \"none\"\n",
    "    ],\n",
    "    \"target\": [\n",
    "        \"PID-s\", \"PID-p\", \"PID-c\",\n",
    "        \"PID-s\", \"PID-p\", \"PID-c\",\n",
    "        \"PID-s\", \"PID-p\", \"PID-c\",\n",
    "        \"PID-s\", \"PID-p\", \"PID-c\"\n",
    "    ],\n",
    "    \"value\":  [\n",
    "        4, 8, 5,\n",
    "        30, 16, 24,\n",
    "        5, 6, 2,\n",
    "        1, 0, 1\n",
    "    ]\n",
    "})\n",
    "\n",
    "# Map labels to index\n",
    "label_to_index = dict(zip(node_df[\"label\"], node_df[\"index\"]))\n",
    "links[\"source\"] = links[\"source\"].map(label_to_index)\n",
    "links[\"target\"] = links[\"target\"].map(label_to_index)\n",
    "\n",
    "# === 3. Define color list (ordered by node index!)\n",
    "colors = [\n",
    "    \"#3333D8\",  # mono-c-Si\n",
    "    \"#C021EC\",  # multi-c-Si\n",
    "    \"#DB1C5F\",  # HIT\n",
    "    \"#FFB43B\",  # CIGS\n",
    "    \"#16820E\",  # PID-s\n",
    "    \"#16CCBD\",  # PID-p\n",
    "    \"#2895E9\"   # PID-c\n",
    "]\n",
    "\n",
    "# === 4. Create chord diagram\n",
    "chord = hv.Chord((links, hv.Dataset(node_df, 'index')))\n",
    "\n",
    "chord.opts(\n",
    "    opts.Chord(\n",
    "        edge_color=\"source\",\n",
    "        node_color=\"index\",      # Now matching colors by index\n",
    "        cmap=colors,             # Order matters: index 0–6\n",
    "        node_size=10,            # Adjust node size\n",
    "        labels=\"label\",\n",
    "        width=600,\n",
    "        height=600,\n",
    "        title=\"Voltage Bias ↔ PID Type\"\n",
    "    )\n",
    ")\n"
   ]
  },
  {
   "cell_type": "code",
   "execution_count": null,
   "id": "a5295f34",
   "metadata": {},
   "outputs": [],
   "source": []
  }
 ],
 "metadata": {
  "kernelspec": {
   "display_name": ".venv",
   "language": "python",
   "name": "python3"
  },
  "language_info": {
   "codemirror_mode": {
    "name": "ipython",
    "version": 3
   },
   "file_extension": ".py",
   "mimetype": "text/x-python",
   "name": "python",
   "nbconvert_exporter": "python",
   "pygments_lexer": "ipython3",
   "version": "3.12.3"
  }
 },
 "nbformat": 4,
 "nbformat_minor": 5
}
